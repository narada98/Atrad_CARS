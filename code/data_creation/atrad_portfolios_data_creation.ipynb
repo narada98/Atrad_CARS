{
 "cells": [
  {
   "cell_type": "code",
   "execution_count": 11,
   "metadata": {},
   "outputs": [],
   "source": [
    "import pandas as pd\n",
    "import numpy as np\n",
    "import time\n",
    "import datetime\n",
    "import tensorflow as tf\n",
    "\n",
    "from sklearn.preprocessing import MinMaxScaler"
   ]
  },
  {
   "cell_type": "markdown",
   "metadata": {},
   "source": [
    "# Utils"
   ]
  },
  {
   "cell_type": "code",
   "execution_count": 12,
   "metadata": {},
   "outputs": [],
   "source": [
    "def split_symbol(symbol):\n",
    "    return symbol.split('.')[0]"
   ]
  },
  {
   "cell_type": "code",
   "execution_count": 13,
   "metadata": {},
   "outputs": [],
   "source": [
    "def mapper(symb, mapper):\n",
    "    try:\n",
    "        return mapper.get(symb)\n",
    "    except:\n",
    "        return 'Empty'"
   ]
  },
  {
   "cell_type": "code",
   "execution_count": 14,
   "metadata": {},
   "outputs": [],
   "source": [
    "def infer_rating(df, qnt_col = 'SHARESQTY', price_col= 'SHAREPRICE', rating_col = 'RATING'):\n",
    "\n",
    "    order_prices = df[qnt_col] * df[price_col]\n",
    "    scaler = MinMaxScaler(feature_range=(1,5))\n",
    "    scaled_price = scaler.fit_transform(order_prices.values.reshape(-1, 1))\n",
    "    df[rating_col] = np.clip(scaled_price, 1, 5)\n",
    "    return df"
   ]
  },
  {
   "cell_type": "code",
   "execution_count": 15,
   "metadata": {},
   "outputs": [],
   "source": [
    "def get_max_values(df, col_name = 'RATING', round_method = 'round'):\n",
    "    max_rating_row = df.loc[df[col_name].idxmax()]\n",
    "    if round_method == 'round':\n",
    "        max_rating_row[col_name] = max_rating_row[col_name].round(0)\n",
    "        \n",
    "    elif round_method == 'ceil':\n",
    "        max_rating_row[col_name] = np.ceil(max_rating_row[col_name].array)\n",
    "    \n",
    "    return max_rating_row"
   ]
  },
  {
   "cell_type": "code",
   "execution_count": 16,
   "metadata": {},
   "outputs": [],
   "source": [
    "def to_timestamp(date):\n",
    "    return datetime.datetime.timestamp(date)"
   ]
  },
  {
   "cell_type": "markdown",
   "metadata": {},
   "source": [
    "# Preprocessing"
   ]
  },
  {
   "cell_type": "code",
   "execution_count": 17,
   "metadata": {},
   "outputs": [],
   "source": [
    "portfolios = pd.read_excel(\n",
    "    \"../../data/PORTFOLIODETAILS_0403.xlsx\",\n",
    "    sheet_name = ['Sheet 1','Sheet 2'])\n",
    "# portfolios.shape"
   ]
  },
  {
   "cell_type": "code",
   "execution_count": 18,
   "metadata": {},
   "outputs": [
    {
     "data": {
      "text/plain": [
       "(282, 4)"
      ]
     },
     "execution_count": 18,
     "metadata": {},
     "output_type": "execute_result"
    }
   ],
   "source": [
    "stock_info = pd.read_excel('../../data/stock_data.xlsx')\n",
    "stock_info = stock_info.drop(['Unnamed: 0'],axis = 1)\n",
    "stock_info.shape"
   ]
  },
  {
   "cell_type": "code",
   "execution_count": 19,
   "metadata": {},
   "outputs": [],
   "source": [
    "stock_info = stock_info.dropna()"
   ]
  },
  {
   "cell_type": "code",
   "execution_count": 20,
   "metadata": {},
   "outputs": [
    {
     "data": {
      "text/html": [
       "<div>\n",
       "<style scoped>\n",
       "    .dataframe tbody tr th:only-of-type {\n",
       "        vertical-align: middle;\n",
       "    }\n",
       "\n",
       "    .dataframe tbody tr th {\n",
       "        vertical-align: top;\n",
       "    }\n",
       "\n",
       "    .dataframe thead th {\n",
       "        text-align: right;\n",
       "    }\n",
       "</style>\n",
       "<table border=\"1\" class=\"dataframe\">\n",
       "  <thead>\n",
       "    <tr style=\"text-align: right;\">\n",
       "      <th></th>\n",
       "      <th>symbol</th>\n",
       "      <th>name</th>\n",
       "      <th>buisnesssummary</th>\n",
       "      <th>gics_code</th>\n",
       "    </tr>\n",
       "  </thead>\n",
       "  <tbody>\n",
       "    <tr>\n",
       "      <th>0</th>\n",
       "      <td>HBS</td>\n",
       "      <td>hSenid Business Solutions PLC</td>\n",
       "      <td>An indigenous multinational catering towards m...</td>\n",
       "      <td>45103010 - Application Software</td>\n",
       "    </tr>\n",
       "    <tr>\n",
       "      <th>1</th>\n",
       "      <td>TYRE</td>\n",
       "      <td>KELANI TYRES PLC</td>\n",
       "      <td>Manufacturing tyres and tubes and marketing lo...</td>\n",
       "      <td>Automobiles &amp; Components</td>\n",
       "    </tr>\n",
       "    <tr>\n",
       "      <th>2</th>\n",
       "      <td>ABL</td>\n",
       "      <td>AMANA BANK PLC</td>\n",
       "      <td>unknown</td>\n",
       "      <td>Banks</td>\n",
       "    </tr>\n",
       "    <tr>\n",
       "      <th>3</th>\n",
       "      <td>DFCC</td>\n",
       "      <td>DFCC BANK PLC</td>\n",
       "      <td>The principal activities of DFCC Bank include ...</td>\n",
       "      <td>Banks</td>\n",
       "    </tr>\n",
       "    <tr>\n",
       "      <th>4</th>\n",
       "      <td>COMB</td>\n",
       "      <td>COMMERCIAL BANK OF CEYLON PLC</td>\n",
       "      <td>Commercial Banking</td>\n",
       "      <td>Banks</td>\n",
       "    </tr>\n",
       "  </tbody>\n",
       "</table>\n",
       "</div>"
      ],
      "text/plain": [
       "  symbol                           name  \\\n",
       "0    HBS  hSenid Business Solutions PLC   \n",
       "1   TYRE               KELANI TYRES PLC   \n",
       "2    ABL                 AMANA BANK PLC   \n",
       "3   DFCC                  DFCC BANK PLC   \n",
       "4   COMB  COMMERCIAL BANK OF CEYLON PLC   \n",
       "\n",
       "                                     buisnesssummary  \\\n",
       "0  An indigenous multinational catering towards m...   \n",
       "1  Manufacturing tyres and tubes and marketing lo...   \n",
       "2                                            unknown   \n",
       "3  The principal activities of DFCC Bank include ...   \n",
       "4                                 Commercial Banking   \n",
       "\n",
       "                         gics_code  \n",
       "0  45103010 - Application Software  \n",
       "1         Automobiles & Components  \n",
       "2                            Banks  \n",
       "3                            Banks  \n",
       "4                            Banks  "
      ]
     },
     "execution_count": 20,
     "metadata": {},
     "output_type": "execute_result"
    }
   ],
   "source": [
    "stock_info.head()"
   ]
  },
  {
   "cell_type": "code",
   "execution_count": 21,
   "metadata": {},
   "outputs": [
    {
     "data": {
      "text/plain": [
       "280"
      ]
     },
     "execution_count": 21,
     "metadata": {},
     "output_type": "execute_result"
    }
   ],
   "source": [
    "unique_symbols = set(stock_info.symbol.unique())\n",
    "len(unique_symbols)"
   ]
  },
  {
   "cell_type": "code",
   "execution_count": 22,
   "metadata": {},
   "outputs": [],
   "source": [
    "portfolios_df = pd.concat([portfolios['Sheet 1'],portfolios['Sheet 2']], ignore_index= True)\n",
    "portfolios_df = portfolios_df.loc[portfolios_df.TRAN_TYPE == 'B']"
   ]
  },
  {
   "cell_type": "code",
   "execution_count": null,
   "metadata": {},
   "outputs": [],
   "source": []
  },
  {
   "cell_type": "code",
   "execution_count": 23,
   "metadata": {},
   "outputs": [
    {
     "data": {
      "text/plain": [
       "(38215, 8)"
      ]
     },
     "execution_count": 23,
     "metadata": {},
     "output_type": "execute_result"
    }
   ],
   "source": [
    "portfolios_df.shape"
   ]
  },
  {
   "cell_type": "code",
   "execution_count": 24,
   "metadata": {},
   "outputs": [
    {
     "data": {
      "text/html": [
       "<div>\n",
       "<style scoped>\n",
       "    .dataframe tbody tr th:only-of-type {\n",
       "        vertical-align: middle;\n",
       "    }\n",
       "\n",
       "    .dataframe tbody tr th {\n",
       "        vertical-align: top;\n",
       "    }\n",
       "\n",
       "    .dataframe thead th {\n",
       "        text-align: right;\n",
       "    }\n",
       "</style>\n",
       "<table border=\"1\" class=\"dataframe\">\n",
       "  <thead>\n",
       "    <tr style=\"text-align: right;\">\n",
       "      <th></th>\n",
       "      <th>CDSACCNO</th>\n",
       "      <th>STOCKCODE</th>\n",
       "      <th>REFERANCE</th>\n",
       "      <th>TRAN_TYPE</th>\n",
       "      <th>SHARESQTY</th>\n",
       "      <th>SHAREPRICE</th>\n",
       "      <th>TRADE_DATE</th>\n",
       "      <th>TRADE_TIME</th>\n",
       "    </tr>\n",
       "  </thead>\n",
       "  <tbody>\n",
       "    <tr>\n",
       "      <th>0</th>\n",
       "      <td>RPS-40657-LI/00</td>\n",
       "      <td>LOFC.N0000</td>\n",
       "      <td>2022004016</td>\n",
       "      <td>B</td>\n",
       "      <td>200</td>\n",
       "      <td>29.1</td>\n",
       "      <td>2022-01-10</td>\n",
       "      <td>1/10/2022 10:55:08.000000 AM</td>\n",
       "    </tr>\n",
       "    <tr>\n",
       "      <th>1</th>\n",
       "      <td>RPS-696600287-VN/00</td>\n",
       "      <td>LALU.N0000</td>\n",
       "      <td>2022004017</td>\n",
       "      <td>B</td>\n",
       "      <td>1000</td>\n",
       "      <td>37.4</td>\n",
       "      <td>2022-01-10</td>\n",
       "      <td>1/10/2022 10:55:09.000000 AM</td>\n",
       "    </tr>\n",
       "    <tr>\n",
       "      <th>5</th>\n",
       "      <td>RPS-40657-LI/00</td>\n",
       "      <td>LOFC.N0000</td>\n",
       "      <td>2022004021</td>\n",
       "      <td>B</td>\n",
       "      <td>1801</td>\n",
       "      <td>29.3</td>\n",
       "      <td>2022-01-10</td>\n",
       "      <td>1/10/2022 10:56:53.000000 AM</td>\n",
       "    </tr>\n",
       "    <tr>\n",
       "      <th>6</th>\n",
       "      <td>RPS-732590072-VN/00</td>\n",
       "      <td>LALU.N0000</td>\n",
       "      <td>2022004022</td>\n",
       "      <td>B</td>\n",
       "      <td>5000</td>\n",
       "      <td>38.0</td>\n",
       "      <td>2022-01-10</td>\n",
       "      <td>1/10/2022 10:56:57.000000 AM</td>\n",
       "    </tr>\n",
       "    <tr>\n",
       "      <th>9</th>\n",
       "      <td>RPS-743172922-VN/00</td>\n",
       "      <td>EXPO.N0000</td>\n",
       "      <td>2022004025</td>\n",
       "      <td>B</td>\n",
       "      <td>21</td>\n",
       "      <td>394.0</td>\n",
       "      <td>2022-01-10</td>\n",
       "      <td>1/10/2022 11:38:11.000000 AM</td>\n",
       "    </tr>\n",
       "  </tbody>\n",
       "</table>\n",
       "</div>"
      ],
      "text/plain": [
       "              CDSACCNO   STOCKCODE   REFERANCE TRAN_TYPE  SHARESQTY  \\\n",
       "0      RPS-40657-LI/00  LOFC.N0000  2022004016         B        200   \n",
       "1  RPS-696600287-VN/00  LALU.N0000  2022004017         B       1000   \n",
       "5      RPS-40657-LI/00  LOFC.N0000  2022004021         B       1801   \n",
       "6  RPS-732590072-VN/00  LALU.N0000  2022004022         B       5000   \n",
       "9  RPS-743172922-VN/00  EXPO.N0000  2022004025         B         21   \n",
       "\n",
       "   SHAREPRICE TRADE_DATE                    TRADE_TIME  \n",
       "0        29.1 2022-01-10  1/10/2022 10:55:08.000000 AM  \n",
       "1        37.4 2022-01-10  1/10/2022 10:55:09.000000 AM  \n",
       "5        29.3 2022-01-10  1/10/2022 10:56:53.000000 AM  \n",
       "6        38.0 2022-01-10  1/10/2022 10:56:57.000000 AM  \n",
       "9       394.0 2022-01-10  1/10/2022 11:38:11.000000 AM  "
      ]
     },
     "execution_count": 24,
     "metadata": {},
     "output_type": "execute_result"
    }
   ],
   "source": [
    "portfolios_df.head()"
   ]
  },
  {
   "cell_type": "code",
   "execution_count": 25,
   "metadata": {},
   "outputs": [
    {
     "data": {
      "text/html": [
       "<div>\n",
       "<style scoped>\n",
       "    .dataframe tbody tr th:only-of-type {\n",
       "        vertical-align: middle;\n",
       "    }\n",
       "\n",
       "    .dataframe tbody tr th {\n",
       "        vertical-align: top;\n",
       "    }\n",
       "\n",
       "    .dataframe thead th {\n",
       "        text-align: right;\n",
       "    }\n",
       "</style>\n",
       "<table border=\"1\" class=\"dataframe\">\n",
       "  <thead>\n",
       "    <tr style=\"text-align: right;\">\n",
       "      <th></th>\n",
       "      <th>CDSACCNO</th>\n",
       "      <th>STOCKCODE</th>\n",
       "      <th>REFERANCE</th>\n",
       "      <th>TRAN_TYPE</th>\n",
       "      <th>SHARESQTY</th>\n",
       "      <th>SHAREPRICE</th>\n",
       "      <th>TRADE_DATE</th>\n",
       "      <th>TRADE_TIME</th>\n",
       "      <th>UNIX_TS</th>\n",
       "    </tr>\n",
       "  </thead>\n",
       "  <tbody>\n",
       "    <tr>\n",
       "      <th>0</th>\n",
       "      <td>RPS-40657-LI/00</td>\n",
       "      <td>LOFC.N0000</td>\n",
       "      <td>2022004016</td>\n",
       "      <td>B</td>\n",
       "      <td>200</td>\n",
       "      <td>29.1</td>\n",
       "      <td>2022-01-10</td>\n",
       "      <td>1/10/2022 10:55:08.000000 AM</td>\n",
       "      <td>1.641753e+09</td>\n",
       "    </tr>\n",
       "    <tr>\n",
       "      <th>1</th>\n",
       "      <td>RPS-696600287-VN/00</td>\n",
       "      <td>LALU.N0000</td>\n",
       "      <td>2022004017</td>\n",
       "      <td>B</td>\n",
       "      <td>1000</td>\n",
       "      <td>37.4</td>\n",
       "      <td>2022-01-10</td>\n",
       "      <td>1/10/2022 10:55:09.000000 AM</td>\n",
       "      <td>1.641753e+09</td>\n",
       "    </tr>\n",
       "    <tr>\n",
       "      <th>5</th>\n",
       "      <td>RPS-40657-LI/00</td>\n",
       "      <td>LOFC.N0000</td>\n",
       "      <td>2022004021</td>\n",
       "      <td>B</td>\n",
       "      <td>1801</td>\n",
       "      <td>29.3</td>\n",
       "      <td>2022-01-10</td>\n",
       "      <td>1/10/2022 10:56:53.000000 AM</td>\n",
       "      <td>1.641753e+09</td>\n",
       "    </tr>\n",
       "    <tr>\n",
       "      <th>6</th>\n",
       "      <td>RPS-732590072-VN/00</td>\n",
       "      <td>LALU.N0000</td>\n",
       "      <td>2022004022</td>\n",
       "      <td>B</td>\n",
       "      <td>5000</td>\n",
       "      <td>38.0</td>\n",
       "      <td>2022-01-10</td>\n",
       "      <td>1/10/2022 10:56:57.000000 AM</td>\n",
       "      <td>1.641753e+09</td>\n",
       "    </tr>\n",
       "    <tr>\n",
       "      <th>9</th>\n",
       "      <td>RPS-743172922-VN/00</td>\n",
       "      <td>EXPO.N0000</td>\n",
       "      <td>2022004025</td>\n",
       "      <td>B</td>\n",
       "      <td>21</td>\n",
       "      <td>394.0</td>\n",
       "      <td>2022-01-10</td>\n",
       "      <td>1/10/2022 11:38:11.000000 AM</td>\n",
       "      <td>1.641753e+09</td>\n",
       "    </tr>\n",
       "  </tbody>\n",
       "</table>\n",
       "</div>"
      ],
      "text/plain": [
       "              CDSACCNO   STOCKCODE   REFERANCE TRAN_TYPE  SHARESQTY  \\\n",
       "0      RPS-40657-LI/00  LOFC.N0000  2022004016         B        200   \n",
       "1  RPS-696600287-VN/00  LALU.N0000  2022004017         B       1000   \n",
       "5      RPS-40657-LI/00  LOFC.N0000  2022004021         B       1801   \n",
       "6  RPS-732590072-VN/00  LALU.N0000  2022004022         B       5000   \n",
       "9  RPS-743172922-VN/00  EXPO.N0000  2022004025         B         21   \n",
       "\n",
       "   SHAREPRICE TRADE_DATE                    TRADE_TIME       UNIX_TS  \n",
       "0        29.1 2022-01-10  1/10/2022 10:55:08.000000 AM  1.641753e+09  \n",
       "1        37.4 2022-01-10  1/10/2022 10:55:09.000000 AM  1.641753e+09  \n",
       "5        29.3 2022-01-10  1/10/2022 10:56:53.000000 AM  1.641753e+09  \n",
       "6        38.0 2022-01-10  1/10/2022 10:56:57.000000 AM  1.641753e+09  \n",
       "9       394.0 2022-01-10  1/10/2022 11:38:11.000000 AM  1.641753e+09  "
      ]
     },
     "execution_count": 25,
     "metadata": {},
     "output_type": "execute_result"
    }
   ],
   "source": [
    "portfolios_df_fil_1 = portfolios_df.groupby(by = 'CDSACCNO').filter(lambda x: x['STOCKCODE'].nunique() > 10)\n",
    "portfolios_df_fil_1['UNIX_TS'] = portfolios_df_fil_1['TRADE_DATE'].apply(lambda x: to_timestamp(x))\n",
    "portfolios_df_fil_1.head()"
   ]
  },
  {
   "cell_type": "code",
   "execution_count": null,
   "metadata": {},
   "outputs": [],
   "source": []
  },
  {
   "cell_type": "code",
   "execution_count": 26,
   "metadata": {},
   "outputs": [
    {
     "data": {
      "text/plain": [
       "(139, 306)"
      ]
     },
     "execution_count": 26,
     "metadata": {},
     "output_type": "execute_result"
    }
   ],
   "source": [
    "portfolios_df_fil_1.CDSACCNO.nunique(), portfolios_df_fil_1.STOCKCODE.nunique()"
   ]
  },
  {
   "cell_type": "code",
   "execution_count": 27,
   "metadata": {},
   "outputs": [
    {
     "data": {
      "text/plain": [
       "(30457, 9)"
      ]
     },
     "execution_count": 27,
     "metadata": {},
     "output_type": "execute_result"
    }
   ],
   "source": [
    "prev_symbols = set(list(portfolios_df_fil_1.STOCKCODE.unique()))\n",
    "portfolios_df_fil_1.shape"
   ]
  },
  {
   "cell_type": "code",
   "execution_count": null,
   "metadata": {},
   "outputs": [],
   "source": []
  },
  {
   "cell_type": "code",
   "execution_count": 28,
   "metadata": {},
   "outputs": [],
   "source": [
    "portfolios_df_fil_1['STOCKCODE'] = portfolios_df_fil_1.STOCKCODE.apply(lambda x : split_symbol(x))"
   ]
  },
  {
   "cell_type": "code",
   "execution_count": 29,
   "metadata": {},
   "outputs": [],
   "source": [
    "portfolios_df_fil_1['STOCKCODE'] = portfolios_df_fil_1.STOCKCODE.apply(lambda x : split_symbol(x))"
   ]
  },
  {
   "cell_type": "code",
   "execution_count": 30,
   "metadata": {},
   "outputs": [
    {
     "data": {
      "text/plain": [
       "278"
      ]
     },
     "execution_count": 30,
     "metadata": {},
     "output_type": "execute_result"
    }
   ],
   "source": [
    "unique_port_symbols = set(portfolios_df_fil_1.STOCKCODE.unique())\n",
    "len(unique_port_symbols)"
   ]
  },
  {
   "cell_type": "code",
   "execution_count": 31,
   "metadata": {},
   "outputs": [
    {
     "data": {
      "text/plain": [
       "['AGPL', 'CBNK', 'WIND', 'CITW', 'UBF', 'LGIL', 'YORK', 'SFL', 'CLC', 'WATA']"
      ]
     },
     "execution_count": 31,
     "metadata": {},
     "output_type": "execute_result"
    }
   ],
   "source": [
    "to_remove = list(unique_port_symbols - unique_symbols)\n",
    "to_remove"
   ]
  },
  {
   "cell_type": "code",
   "execution_count": 32,
   "metadata": {},
   "outputs": [],
   "source": [
    "portfolios_df_fil_1 = portfolios_df_fil_1[~portfolios_df_fil_1.STOCKCODE.isin(to_remove)]"
   ]
  },
  {
   "cell_type": "code",
   "execution_count": 33,
   "metadata": {},
   "outputs": [],
   "source": [
    "symb_to_name = dict(zip(stock_info.symbol,stock_info.name))\n",
    "symb_to_gics = dict(zip(stock_info.symbol, stock_info.gics_code))"
   ]
  },
  {
   "cell_type": "code",
   "execution_count": 34,
   "metadata": {},
   "outputs": [],
   "source": [
    "portfolios_df_fil_1['STOCKNAME'] = portfolios_df_fil_1.STOCKCODE.apply(lambda x: mapper(x,symb_to_name))\n",
    "portfolios_df_fil_1['GICS'] = portfolios_df_fil_1.STOCKCODE.apply(lambda x: mapper(x,symb_to_gics))"
   ]
  },
  {
   "cell_type": "code",
   "execution_count": 35,
   "metadata": {},
   "outputs": [],
   "source": [
    "# portfolios_df_fil_1[portfolios_df_fil_1['STOCKNAME'] == np.nan]"
   ]
  },
  {
   "cell_type": "code",
   "execution_count": 36,
   "metadata": {},
   "outputs": [
    {
     "data": {
      "text/plain": [
       "(139, 268)"
      ]
     },
     "execution_count": 36,
     "metadata": {},
     "output_type": "execute_result"
    }
   ],
   "source": [
    "portfolios_df_fil_1.CDSACCNO.nunique(), portfolios_df_fil_1.STOCKCODE.nunique()"
   ]
  },
  {
   "cell_type": "code",
   "execution_count": 37,
   "metadata": {},
   "outputs": [
    {
     "name": "stderr",
     "output_type": "stream",
     "text": [
      "C:\\Users\\naradaw\\AppData\\Local\\Temp\\ipykernel_18524\\1404588810.py:2: DeprecationWarning: DataFrameGroupBy.apply operated on the grouping columns. This behavior is deprecated, and in a future version of pandas the grouping columns will be excluded from the operation. Either pass `include_groups=False` to exclude the groupings or explicitly select the grouping columns after groupby to silence this warning.\n",
      "  portfolios_df_fil_3 = portfolios_df_fil_1.groupby('CDSACCNO', group_keys= False).apply(lambda x: infer_rating(x)).groupby(['CDSACCNO','STOCKCODE'], group_keys= False).apply(lambda x: get_max_values(x)).reset_index(drop =True).sort_values('RATING', ascending= False)\n",
      "C:\\Users\\naradaw\\AppData\\Local\\Temp\\ipykernel_18524\\1404588810.py:2: DeprecationWarning: DataFrameGroupBy.apply operated on the grouping columns. This behavior is deprecated, and in a future version of pandas the grouping columns will be excluded from the operation. Either pass `include_groups=False` to exclude the groupings or explicitly select the grouping columns after groupby to silence this warning.\n",
      "  portfolios_df_fil_3 = portfolios_df_fil_1.groupby('CDSACCNO', group_keys= False).apply(lambda x: infer_rating(x)).groupby(['CDSACCNO','STOCKCODE'], group_keys= False).apply(lambda x: get_max_values(x)).reset_index(drop =True).sort_values('RATING', ascending= False)\n"
     ]
    }
   ],
   "source": [
    "# portfolios_df_fil_3 = filter_portfolios(portfolios_df_fil_2)\n",
    "portfolios_df_fil_3 = portfolios_df_fil_1.groupby('CDSACCNO', group_keys= False).apply(lambda x: infer_rating(x)).groupby(['CDSACCNO','STOCKCODE'], group_keys= False).apply(lambda x: get_max_values(x)).reset_index(drop =True).sort_values('RATING', ascending= False)"
   ]
  },
  {
   "cell_type": "code",
   "execution_count": 38,
   "metadata": {},
   "outputs": [
    {
     "data": {
      "text/plain": [
       "(139, 268)"
      ]
     },
     "execution_count": 38,
     "metadata": {},
     "output_type": "execute_result"
    }
   ],
   "source": [
    "portfolios_df_fil_3.CDSACCNO.nunique(), portfolios_df_fil_3.STOCKCODE.nunique()"
   ]
  },
  {
   "cell_type": "code",
   "execution_count": 39,
   "metadata": {},
   "outputs": [
    {
     "data": {
      "text/html": [
       "<div>\n",
       "<style scoped>\n",
       "    .dataframe tbody tr th:only-of-type {\n",
       "        vertical-align: middle;\n",
       "    }\n",
       "\n",
       "    .dataframe tbody tr th {\n",
       "        vertical-align: top;\n",
       "    }\n",
       "\n",
       "    .dataframe thead th {\n",
       "        text-align: right;\n",
       "    }\n",
       "</style>\n",
       "<table border=\"1\" class=\"dataframe\">\n",
       "  <thead>\n",
       "    <tr style=\"text-align: right;\">\n",
       "      <th></th>\n",
       "      <th>CDSACCNO</th>\n",
       "      <th>STOCKCODE</th>\n",
       "      <th>REFERANCE</th>\n",
       "      <th>TRAN_TYPE</th>\n",
       "      <th>SHARESQTY</th>\n",
       "      <th>SHAREPRICE</th>\n",
       "      <th>TRADE_DATE</th>\n",
       "      <th>TRADE_TIME</th>\n",
       "      <th>UNIX_TS</th>\n",
       "      <th>STOCKNAME</th>\n",
       "      <th>GICS</th>\n",
       "      <th>RATING</th>\n",
       "    </tr>\n",
       "  </thead>\n",
       "  <tbody>\n",
       "    <tr>\n",
       "      <th>1587</th>\n",
       "      <td>RPS-583233075-VN/00</td>\n",
       "      <td>VLL</td>\n",
       "      <td>2022031882</td>\n",
       "      <td>B</td>\n",
       "      <td>14000</td>\n",
       "      <td>7.1</td>\n",
       "      <td>2022-08-10</td>\n",
       "      <td>8/10/2022 11:02:10.000000 AM</td>\n",
       "      <td>1.660070e+09</td>\n",
       "      <td>VIDULLANKA PLC</td>\n",
       "      <td>Utilities</td>\n",
       "      <td>5.0</td>\n",
       "    </tr>\n",
       "    <tr>\n",
       "      <th>3429</th>\n",
       "      <td>RPS-883361873-VN/00</td>\n",
       "      <td>NDB</td>\n",
       "      <td>2022019743</td>\n",
       "      <td>B</td>\n",
       "      <td>250</td>\n",
       "      <td>63.5</td>\n",
       "      <td>2022-03-03</td>\n",
       "      <td>3/3/2022 12:22:16.000000 PM</td>\n",
       "      <td>1.646246e+09</td>\n",
       "      <td>NATIONAL DEVELOPMENT BANK PLC</td>\n",
       "      <td>Banks</td>\n",
       "      <td>5.0</td>\n",
       "    </tr>\n",
       "  </tbody>\n",
       "</table>\n",
       "</div>"
      ],
      "text/plain": [
       "                 CDSACCNO STOCKCODE   REFERANCE TRAN_TYPE  SHARESQTY  \\\n",
       "1587  RPS-583233075-VN/00       VLL  2022031882         B      14000   \n",
       "3429  RPS-883361873-VN/00       NDB  2022019743         B        250   \n",
       "\n",
       "      SHAREPRICE TRADE_DATE                    TRADE_TIME       UNIX_TS  \\\n",
       "1587         7.1 2022-08-10  8/10/2022 11:02:10.000000 AM  1.660070e+09   \n",
       "3429        63.5 2022-03-03   3/3/2022 12:22:16.000000 PM  1.646246e+09   \n",
       "\n",
       "                          STOCKNAME       GICS  RATING  \n",
       "1587                 VIDULLANKA PLC  Utilities     5.0  \n",
       "3429  NATIONAL DEVELOPMENT BANK PLC      Banks     5.0  "
      ]
     },
     "execution_count": 39,
     "metadata": {},
     "output_type": "execute_result"
    }
   ],
   "source": [
    "portfolios_df_fil_3.head(2)"
   ]
  },
  {
   "cell_type": "code",
   "execution_count": 40,
   "metadata": {},
   "outputs": [
    {
     "data": {
      "text/plain": [
       "33"
      ]
     },
     "execution_count": 40,
     "metadata": {},
     "output_type": "execute_result"
    }
   ],
   "source": [
    "portfolios_df_fil_3.GICS.nunique()"
   ]
  },
  {
   "cell_type": "code",
   "execution_count": null,
   "metadata": {},
   "outputs": [],
   "source": []
  },
  {
   "cell_type": "code",
   "execution_count": 41,
   "metadata": {},
   "outputs": [],
   "source": [
    "portfolios_df_fil_4 = portfolios_df_fil_3[['CDSACCNO','STOCKCODE','UNIX_TS','RATING','GICS','STOCKNAME']] #,'GICS','STOCKNAME'"
   ]
  },
  {
   "cell_type": "code",
   "execution_count": 42,
   "metadata": {},
   "outputs": [],
   "source": [
    "data_dict = portfolios_df_fil_4.to_dict(orient='list')"
   ]
  },
  {
   "cell_type": "code",
   "execution_count": 43,
   "metadata": {},
   "outputs": [],
   "source": [
    "dataset = tf.data.Dataset.from_tensor_slices(data_dict)"
   ]
  },
  {
   "cell_type": "code",
   "execution_count": 44,
   "metadata": {},
   "outputs": [
    {
     "data": {
      "text/plain": [
       "{'CDSACCNO': <tf.Tensor: shape=(1,), dtype=string, numpy=array([b'RPS-583233075-VN/00'], dtype=object)>,\n",
       " 'STOCKCODE': <tf.Tensor: shape=(1,), dtype=string, numpy=array([b'VLL'], dtype=object)>,\n",
       " 'UNIX_TS': <tf.Tensor: shape=(1,), dtype=float32, numpy=array([1.6600698e+09], dtype=float32)>,\n",
       " 'RATING': <tf.Tensor: shape=(1,), dtype=float32, numpy=array([5.], dtype=float32)>,\n",
       " 'GICS': <tf.Tensor: shape=(1,), dtype=string, numpy=array([b'Utilities'], dtype=object)>,\n",
       " 'STOCKNAME': <tf.Tensor: shape=(1,), dtype=string, numpy=array([b'VIDULLANKA PLC'], dtype=object)>}"
      ]
     },
     "execution_count": 44,
     "metadata": {},
     "output_type": "execute_result"
    }
   ],
   "source": [
    "next(iter(dataset.batch(1)))"
   ]
  },
  {
   "cell_type": "code",
   "execution_count": 45,
   "metadata": {},
   "outputs": [],
   "source": [
    "dataset.save(\"../../data/portfolios_tfds_lists\")"
   ]
  },
  {
   "cell_type": "code",
   "execution_count": 46,
   "metadata": {},
   "outputs": [
    {
     "data": {
      "text/plain": [
       "3847"
      ]
     },
     "execution_count": 46,
     "metadata": {},
     "output_type": "execute_result"
    }
   ],
   "source": [
    "len(dataset)"
   ]
  },
  {
   "cell_type": "code",
   "execution_count": 47,
   "metadata": {},
   "outputs": [],
   "source": [
    "tf.random.set_seed(42)\n",
    "shuffled = dataset.shuffle(100_000, seed=42, reshuffle_each_iteration=False)\n",
    "\n",
    "train = shuffled.take(int(len(dataset)* 0.8))\n",
    "test = shuffled.skip(int(len(dataset)* 0.8)).take(int(len(dataset)* 0.2))"
   ]
  },
  {
   "cell_type": "code",
   "execution_count": 48,
   "metadata": {},
   "outputs": [],
   "source": [
    "train.save(\"../../data/train_lists\")\n",
    "test.save(\"../../data/test_lists\")"
   ]
  },
  {
   "cell_type": "code",
   "execution_count": 46,
   "metadata": {},
   "outputs": [],
   "source": [
    "new_dataset = tf.data.Dataset.load(\"../../data/atrad_portfolios/portfolios_tfds\")"
   ]
  },
  {
   "cell_type": "markdown",
   "metadata": {},
   "source": [
    "# Work Here"
   ]
  }
 ],
 "metadata": {
  "kernelspec": {
   "display_name": "tensorflow_cuda",
   "language": "python",
   "name": "python3"
  },
  "language_info": {
   "codemirror_mode": {
    "name": "ipython",
    "version": 3
   },
   "file_extension": ".py",
   "mimetype": "text/x-python",
   "name": "python",
   "nbconvert_exporter": "python",
   "pygments_lexer": "ipython3",
   "version": "3.9.19"
  }
 },
 "nbformat": 4,
 "nbformat_minor": 2
}
