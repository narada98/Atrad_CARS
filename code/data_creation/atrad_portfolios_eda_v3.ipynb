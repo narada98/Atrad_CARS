{
 "cells": [
  {
   "cell_type": "code",
   "execution_count": 9,
   "metadata": {},
   "outputs": [],
   "source": [
    "import pandas as pd\n",
    "import numpy as np\n",
    "import time\n",
    "import datetime\n",
    "import os\n",
    "import tensorflow as tf\n"
   ]
  },
  {
   "cell_type": "markdown",
   "metadata": {},
   "source": [
    "# Utils"
   ]
  },
  {
   "cell_type": "code",
   "execution_count": 10,
   "metadata": {},
   "outputs": [],
   "source": [
    "def split_symbol(symbol):\n",
    "    return symbol.split('.')[0]"
   ]
  },
  {
   "cell_type": "code",
   "execution_count": 11,
   "metadata": {},
   "outputs": [],
   "source": [
    "def mapper(symb, mapper):\n",
    "    try:\n",
    "        return mapper.get(symb)\n",
    "    except:\n",
    "        return 'Empty'"
   ]
  },
  {
   "cell_type": "code",
   "execution_count": 12,
   "metadata": {},
   "outputs": [],
   "source": [
    "def infer_rating(df, qnt_col = 'SHARESQTY', price_col= 'SHAREPRICE', rating_col = 'RATING'):\n",
    "\n",
    "    order_prices = df[qnt_col] * df[price_col]\n",
    "    scaler = MinMaxScaler(feature_range=(1,5))\n",
    "    scaled_price = scaler.fit_transform(order_prices.values.reshape(-1, 1))\n",
    "    df[rating_col] = np.clip(scaled_price, 1, 5)\n",
    "    return df"
   ]
  },
  {
   "cell_type": "code",
   "execution_count": 13,
   "metadata": {},
   "outputs": [],
   "source": [
    "def get_max_values(df, col_name = 'RATING', round_method = 'round'):\n",
    "    max_rating_row = df.loc[df[col_name].idxmax()]\n",
    "    if round_method == 'round':\n",
    "        max_rating_row[col_name] = max_rating_row[col_name].round(0)\n",
    "        \n",
    "    elif round_method == 'ceil':\n",
    "        max_rating_row[col_name] = np.ceil(max_rating_row[col_name].array)\n",
    "    \n",
    "    return max_rating_row"
   ]
  },
  {
   "cell_type": "code",
   "execution_count": 14,
   "metadata": {},
   "outputs": [],
   "source": [
    "def to_timestamp(date):\n",
    "    return datetime.datetime.timestamp(date)"
   ]
  },
  {
   "cell_type": "markdown",
   "metadata": {},
   "source": [
    "# Preprocessing"
   ]
  },
  {
   "cell_type": "code",
   "execution_count": 15,
   "metadata": {},
   "outputs": [],
   "source": [
    "# portfolios = pd.read_excel(\n",
    "#     \"../../data/PORTFOLIODETAILS_0403.xlsx\",\n",
    "#     sheet_name = ['Sheet 1','Sheet 2'])\n",
    "# # portfolios.shape"
   ]
  },
  {
   "cell_type": "code",
   "execution_count": 16,
   "metadata": {},
   "outputs": [
    {
     "name": "stderr",
     "output_type": "stream",
     "text": [
      "C:\\Users\\naradaw\\AppData\\Local\\Temp\\ipykernel_22300\\480125734.py:6: DtypeWarning: Columns (7) have mixed types. Specify dtype option on import or set low_memory=False.\n",
      "  broker_df_ = pd.read_csv(os.path.join(data_path,fname), sep = '|')\n"
     ]
    },
    {
     "name": "stdout",
     "output_type": "stream",
     "text": [
      "--- reading : Bartleet.txt\n"
     ]
    },
    {
     "name": "stderr",
     "output_type": "stream",
     "text": [
      "C:\\Users\\naradaw\\AppData\\Local\\Temp\\ipykernel_22300\\480125734.py:6: DtypeWarning: Columns (2,7) have mixed types. Specify dtype option on import or set low_memory=False.\n",
      "  broker_df_ = pd.read_csv(os.path.join(data_path,fname), sep = '|')\n"
     ]
    },
    {
     "name": "stdout",
     "output_type": "stream",
     "text": [
      "--- reading : CAS.txt\n",
      "--- reading : FCE.txt\n",
      "--- reading : NLE.txt\n",
      "--- reading : RPS.txt\n"
     ]
    }
   ],
   "source": [
    "data_path = r\"D:\\dev work\\recommender systems\\Atrad_CARS\\data\\portfolios_v2\\raw\"\n",
    "\n",
    "portfolios = pd.DataFrame()\n",
    "for fname in os.listdir(data_path):\n",
    "    \n",
    "    broker_df_ = pd.read_csv(os.path.join(data_path,fname), sep = '|')\n",
    "    print(\"--- reading : {}\".format(fname))\n",
    "    \n",
    "    portfolios = pd.concat([portfolios, broker_df_], ignore_index = True)"
   ]
  },
  {
   "cell_type": "code",
   "execution_count": 17,
   "metadata": {},
   "outputs": [
    {
     "data": {
      "text/plain": [
       "(3728894, 8)"
      ]
     },
     "execution_count": 17,
     "metadata": {},
     "output_type": "execute_result"
    }
   ],
   "source": [
    "portfolios.shape"
   ]
  },
  {
   "cell_type": "code",
   "execution_count": 18,
   "metadata": {},
   "outputs": [
    {
     "data": {
      "text/html": [
       "<div>\n",
       "<style scoped>\n",
       "    .dataframe tbody tr th:only-of-type {\n",
       "        vertical-align: middle;\n",
       "    }\n",
       "\n",
       "    .dataframe tbody tr th {\n",
       "        vertical-align: top;\n",
       "    }\n",
       "\n",
       "    .dataframe thead th {\n",
       "        text-align: right;\n",
       "    }\n",
       "</style>\n",
       "<table border=\"1\" class=\"dataframe\">\n",
       "  <thead>\n",
       "    <tr style=\"text-align: right;\">\n",
       "      <th></th>\n",
       "      <th>CDSACCNO</th>\n",
       "      <th>STOCKCODE</th>\n",
       "      <th>REFERANCE</th>\n",
       "      <th>TRAN_TYPE</th>\n",
       "      <th>SHARESQTY</th>\n",
       "      <th>SHAREPRICE</th>\n",
       "      <th>TRADE_DATE</th>\n",
       "      <th>TRADE_TIME</th>\n",
       "    </tr>\n",
       "  </thead>\n",
       "  <tbody>\n",
       "    <tr>\n",
       "      <th>0</th>\n",
       "      <td>BMS-731900310-VN/00</td>\n",
       "      <td>AGPL.N0000</td>\n",
       "      <td>2024153263</td>\n",
       "      <td>B</td>\n",
       "      <td>125</td>\n",
       "      <td>7.50</td>\n",
       "      <td>5/13/2024</td>\n",
       "      <td>5/13/2024 12:25:45.000000 PM</td>\n",
       "    </tr>\n",
       "    <tr>\n",
       "      <th>1</th>\n",
       "      <td>BMS-800262640-VN/00</td>\n",
       "      <td>RIL.N0000</td>\n",
       "      <td>2024153264</td>\n",
       "      <td>S</td>\n",
       "      <td>-100</td>\n",
       "      <td>8.50</td>\n",
       "      <td>5/13/2024</td>\n",
       "      <td>5/13/2024 12:25:48.000000 PM</td>\n",
       "    </tr>\n",
       "    <tr>\n",
       "      <th>2</th>\n",
       "      <td>BMS-722151828-VN/00</td>\n",
       "      <td>PACK.N0000</td>\n",
       "      <td>2024153265</td>\n",
       "      <td>B</td>\n",
       "      <td>5000</td>\n",
       "      <td>15.00</td>\n",
       "      <td>5/13/2024</td>\n",
       "      <td>5/13/2024 12:26:03.000000 PM</td>\n",
       "    </tr>\n",
       "    <tr>\n",
       "      <th>3</th>\n",
       "      <td>BMS-42281-LI/00</td>\n",
       "      <td>PACK.N0000</td>\n",
       "      <td>2024153266</td>\n",
       "      <td>B</td>\n",
       "      <td>300</td>\n",
       "      <td>15.00</td>\n",
       "      <td>5/13/2024</td>\n",
       "      <td>5/13/2024 12:26:03.000000 PM</td>\n",
       "    </tr>\n",
       "    <tr>\n",
       "      <th>4</th>\n",
       "      <td>BMS-478-LC/00</td>\n",
       "      <td>HNB.N0000</td>\n",
       "      <td>2024153267</td>\n",
       "      <td>B</td>\n",
       "      <td>350</td>\n",
       "      <td>202.25</td>\n",
       "      <td>5/13/2024</td>\n",
       "      <td>5/13/2024 12:26:42.000000 PM</td>\n",
       "    </tr>\n",
       "  </tbody>\n",
       "</table>\n",
       "</div>"
      ],
      "text/plain": [
       "              CDSACCNO   STOCKCODE   REFERANCE TRAN_TYPE  SHARESQTY  \\\n",
       "0  BMS-731900310-VN/00  AGPL.N0000  2024153263         B        125   \n",
       "1  BMS-800262640-VN/00   RIL.N0000  2024153264         S       -100   \n",
       "2  BMS-722151828-VN/00  PACK.N0000  2024153265         B       5000   \n",
       "3      BMS-42281-LI/00  PACK.N0000  2024153266         B        300   \n",
       "4        BMS-478-LC/00   HNB.N0000  2024153267         B        350   \n",
       "\n",
       "   SHAREPRICE TRADE_DATE                    TRADE_TIME  \n",
       "0        7.50  5/13/2024  5/13/2024 12:25:45.000000 PM  \n",
       "1        8.50  5/13/2024  5/13/2024 12:25:48.000000 PM  \n",
       "2       15.00  5/13/2024  5/13/2024 12:26:03.000000 PM  \n",
       "3       15.00  5/13/2024  5/13/2024 12:26:03.000000 PM  \n",
       "4      202.25  5/13/2024  5/13/2024 12:26:42.000000 PM  "
      ]
     },
     "execution_count": 18,
     "metadata": {},
     "output_type": "execute_result"
    }
   ],
   "source": [
    "portfolios.head()"
   ]
  },
  {
   "cell_type": "code",
   "execution_count": 19,
   "metadata": {},
   "outputs": [],
   "source": [
    "portfolios['TRADE_TIME'] = pd.to_datetime(portfolios['TRADE_TIME'])\n",
    "portfolios['TRADE_DATE'] = pd.to_datetime(portfolios['TRADE_DATE'])"
   ]
  },
  {
   "cell_type": "code",
   "execution_count": 20,
   "metadata": {},
   "outputs": [
    {
     "data": {
      "text/plain": [
       "CDSACCNO              object\n",
       "STOCKCODE             object\n",
       "REFERANCE             object\n",
       "TRAN_TYPE             object\n",
       "SHARESQTY              int64\n",
       "SHAREPRICE           float64\n",
       "TRADE_DATE    datetime64[ns]\n",
       "TRADE_TIME    datetime64[ns]\n",
       "dtype: object"
      ]
     },
     "execution_count": 20,
     "metadata": {},
     "output_type": "execute_result"
    }
   ],
   "source": [
    "portfolios.dtypes"
   ]
  },
  {
   "cell_type": "code",
   "execution_count": 21,
   "metadata": {},
   "outputs": [
    {
     "data": {
      "text/plain": [
       "(282, 4)"
      ]
     },
     "execution_count": 21,
     "metadata": {},
     "output_type": "execute_result"
    }
   ],
   "source": [
    "stock_info = pd.read_excel('../../data/stock_data.xlsx')\n",
    "stock_info = stock_info.drop(['Unnamed: 0'],axis = 1)\n",
    "stock_info.shape"
   ]
  },
  {
   "cell_type": "code",
   "execution_count": 22,
   "metadata": {},
   "outputs": [],
   "source": [
    "stock_info = stock_info.dropna()"
   ]
  },
  {
   "cell_type": "code",
   "execution_count": 23,
   "metadata": {},
   "outputs": [
    {
     "data": {
      "text/html": [
       "<div>\n",
       "<style scoped>\n",
       "    .dataframe tbody tr th:only-of-type {\n",
       "        vertical-align: middle;\n",
       "    }\n",
       "\n",
       "    .dataframe tbody tr th {\n",
       "        vertical-align: top;\n",
       "    }\n",
       "\n",
       "    .dataframe thead th {\n",
       "        text-align: right;\n",
       "    }\n",
       "</style>\n",
       "<table border=\"1\" class=\"dataframe\">\n",
       "  <thead>\n",
       "    <tr style=\"text-align: right;\">\n",
       "      <th></th>\n",
       "      <th>symbol</th>\n",
       "      <th>name</th>\n",
       "      <th>buisnesssummary</th>\n",
       "      <th>gics_code</th>\n",
       "    </tr>\n",
       "  </thead>\n",
       "  <tbody>\n",
       "    <tr>\n",
       "      <th>0</th>\n",
       "      <td>HBS</td>\n",
       "      <td>hSenid Business Solutions PLC</td>\n",
       "      <td>An indigenous multinational catering towards m...</td>\n",
       "      <td>45103010 - Application Software</td>\n",
       "    </tr>\n",
       "    <tr>\n",
       "      <th>1</th>\n",
       "      <td>TYRE</td>\n",
       "      <td>KELANI TYRES PLC</td>\n",
       "      <td>Manufacturing tyres and tubes and marketing lo...</td>\n",
       "      <td>Automobiles &amp; Components</td>\n",
       "    </tr>\n",
       "    <tr>\n",
       "      <th>2</th>\n",
       "      <td>ABL</td>\n",
       "      <td>AMANA BANK PLC</td>\n",
       "      <td>unknown</td>\n",
       "      <td>Banks</td>\n",
       "    </tr>\n",
       "    <tr>\n",
       "      <th>3</th>\n",
       "      <td>DFCC</td>\n",
       "      <td>DFCC BANK PLC</td>\n",
       "      <td>The principal activities of DFCC Bank include ...</td>\n",
       "      <td>Banks</td>\n",
       "    </tr>\n",
       "    <tr>\n",
       "      <th>4</th>\n",
       "      <td>COMB</td>\n",
       "      <td>COMMERCIAL BANK OF CEYLON PLC</td>\n",
       "      <td>Commercial Banking</td>\n",
       "      <td>Banks</td>\n",
       "    </tr>\n",
       "  </tbody>\n",
       "</table>\n",
       "</div>"
      ],
      "text/plain": [
       "  symbol                           name  \\\n",
       "0    HBS  hSenid Business Solutions PLC   \n",
       "1   TYRE               KELANI TYRES PLC   \n",
       "2    ABL                 AMANA BANK PLC   \n",
       "3   DFCC                  DFCC BANK PLC   \n",
       "4   COMB  COMMERCIAL BANK OF CEYLON PLC   \n",
       "\n",
       "                                     buisnesssummary  \\\n",
       "0  An indigenous multinational catering towards m...   \n",
       "1  Manufacturing tyres and tubes and marketing lo...   \n",
       "2                                            unknown   \n",
       "3  The principal activities of DFCC Bank include ...   \n",
       "4                                 Commercial Banking   \n",
       "\n",
       "                         gics_code  \n",
       "0  45103010 - Application Software  \n",
       "1         Automobiles & Components  \n",
       "2                            Banks  \n",
       "3                            Banks  \n",
       "4                            Banks  "
      ]
     },
     "execution_count": 23,
     "metadata": {},
     "output_type": "execute_result"
    }
   ],
   "source": [
    "stock_info.head()"
   ]
  },
  {
   "cell_type": "code",
   "execution_count": 24,
   "metadata": {},
   "outputs": [
    {
     "data": {
      "text/plain": [
       "280"
      ]
     },
     "execution_count": 24,
     "metadata": {},
     "output_type": "execute_result"
    }
   ],
   "source": [
    "unique_symbols = set(stock_info.symbol.unique())\n",
    "len(unique_symbols)"
   ]
  },
  {
   "cell_type": "code",
   "execution_count": 25,
   "metadata": {},
   "outputs": [],
   "source": [
    "# portfolios_df = pd.concat([portfolios['Sheet 1'],portfolios['Sheet 2']], ignore_index= True)\n",
    "portfolios_df = portfolios.copy()\n",
    "portfolios_df = portfolios_df.loc[portfolios_df.TRAN_TYPE == 'B']"
   ]
  },
  {
   "cell_type": "code",
   "execution_count": null,
   "metadata": {},
   "outputs": [],
   "source": []
  },
  {
   "cell_type": "code",
   "execution_count": 26,
   "metadata": {},
   "outputs": [
    {
     "data": {
      "text/plain": [
       "(1869633, 8)"
      ]
     },
     "execution_count": 26,
     "metadata": {},
     "output_type": "execute_result"
    }
   ],
   "source": [
    "portfolios_df.shape"
   ]
  },
  {
   "cell_type": "code",
   "execution_count": 27,
   "metadata": {},
   "outputs": [
    {
     "data": {
      "text/html": [
       "<div>\n",
       "<style scoped>\n",
       "    .dataframe tbody tr th:only-of-type {\n",
       "        vertical-align: middle;\n",
       "    }\n",
       "\n",
       "    .dataframe tbody tr th {\n",
       "        vertical-align: top;\n",
       "    }\n",
       "\n",
       "    .dataframe thead th {\n",
       "        text-align: right;\n",
       "    }\n",
       "</style>\n",
       "<table border=\"1\" class=\"dataframe\">\n",
       "  <thead>\n",
       "    <tr style=\"text-align: right;\">\n",
       "      <th></th>\n",
       "      <th>CDSACCNO</th>\n",
       "      <th>STOCKCODE</th>\n",
       "      <th>REFERANCE</th>\n",
       "      <th>TRAN_TYPE</th>\n",
       "      <th>SHARESQTY</th>\n",
       "      <th>SHAREPRICE</th>\n",
       "      <th>TRADE_DATE</th>\n",
       "      <th>TRADE_TIME</th>\n",
       "    </tr>\n",
       "  </thead>\n",
       "  <tbody>\n",
       "    <tr>\n",
       "      <th>0</th>\n",
       "      <td>BMS-731900310-VN/00</td>\n",
       "      <td>AGPL.N0000</td>\n",
       "      <td>2024153263</td>\n",
       "      <td>B</td>\n",
       "      <td>125</td>\n",
       "      <td>7.50</td>\n",
       "      <td>2024-05-13</td>\n",
       "      <td>2024-05-13 12:25:45</td>\n",
       "    </tr>\n",
       "    <tr>\n",
       "      <th>2</th>\n",
       "      <td>BMS-722151828-VN/00</td>\n",
       "      <td>PACK.N0000</td>\n",
       "      <td>2024153265</td>\n",
       "      <td>B</td>\n",
       "      <td>5000</td>\n",
       "      <td>15.00</td>\n",
       "      <td>2024-05-13</td>\n",
       "      <td>2024-05-13 12:26:03</td>\n",
       "    </tr>\n",
       "    <tr>\n",
       "      <th>3</th>\n",
       "      <td>BMS-42281-LI/00</td>\n",
       "      <td>PACK.N0000</td>\n",
       "      <td>2024153266</td>\n",
       "      <td>B</td>\n",
       "      <td>300</td>\n",
       "      <td>15.00</td>\n",
       "      <td>2024-05-13</td>\n",
       "      <td>2024-05-13 12:26:03</td>\n",
       "    </tr>\n",
       "    <tr>\n",
       "      <th>4</th>\n",
       "      <td>BMS-478-LC/00</td>\n",
       "      <td>HNB.N0000</td>\n",
       "      <td>2024153267</td>\n",
       "      <td>B</td>\n",
       "      <td>350</td>\n",
       "      <td>202.25</td>\n",
       "      <td>2024-05-13</td>\n",
       "      <td>2024-05-13 12:26:42</td>\n",
       "    </tr>\n",
       "    <tr>\n",
       "      <th>11</th>\n",
       "      <td>BMS-478-LC/00</td>\n",
       "      <td>HNB.N0000</td>\n",
       "      <td>2024153274</td>\n",
       "      <td>B</td>\n",
       "      <td>109</td>\n",
       "      <td>202.25</td>\n",
       "      <td>2024-05-13</td>\n",
       "      <td>2024-05-13 12:29:02</td>\n",
       "    </tr>\n",
       "  </tbody>\n",
       "</table>\n",
       "</div>"
      ],
      "text/plain": [
       "               CDSACCNO   STOCKCODE   REFERANCE TRAN_TYPE  SHARESQTY  \\\n",
       "0   BMS-731900310-VN/00  AGPL.N0000  2024153263         B        125   \n",
       "2   BMS-722151828-VN/00  PACK.N0000  2024153265         B       5000   \n",
       "3       BMS-42281-LI/00  PACK.N0000  2024153266         B        300   \n",
       "4         BMS-478-LC/00   HNB.N0000  2024153267         B        350   \n",
       "11        BMS-478-LC/00   HNB.N0000  2024153274         B        109   \n",
       "\n",
       "    SHAREPRICE TRADE_DATE          TRADE_TIME  \n",
       "0         7.50 2024-05-13 2024-05-13 12:25:45  \n",
       "2        15.00 2024-05-13 2024-05-13 12:26:03  \n",
       "3        15.00 2024-05-13 2024-05-13 12:26:03  \n",
       "4       202.25 2024-05-13 2024-05-13 12:26:42  \n",
       "11      202.25 2024-05-13 2024-05-13 12:29:02  "
      ]
     },
     "execution_count": 27,
     "metadata": {},
     "output_type": "execute_result"
    }
   ],
   "source": [
    "portfolios_df.head()"
   ]
  },
  {
   "cell_type": "code",
   "execution_count": 28,
   "metadata": {},
   "outputs": [
    {
     "data": {
      "text/html": [
       "<div>\n",
       "<style scoped>\n",
       "    .dataframe tbody tr th:only-of-type {\n",
       "        vertical-align: middle;\n",
       "    }\n",
       "\n",
       "    .dataframe tbody tr th {\n",
       "        vertical-align: top;\n",
       "    }\n",
       "\n",
       "    .dataframe thead th {\n",
       "        text-align: right;\n",
       "    }\n",
       "</style>\n",
       "<table border=\"1\" class=\"dataframe\">\n",
       "  <thead>\n",
       "    <tr style=\"text-align: right;\">\n",
       "      <th></th>\n",
       "      <th>CDSACCNO</th>\n",
       "      <th>STOCKCODE</th>\n",
       "      <th>REFERANCE</th>\n",
       "      <th>TRAN_TYPE</th>\n",
       "      <th>SHARESQTY</th>\n",
       "      <th>SHAREPRICE</th>\n",
       "      <th>TRADE_DATE</th>\n",
       "      <th>TRADE_TIME</th>\n",
       "      <th>UNIX_TS</th>\n",
       "    </tr>\n",
       "  </thead>\n",
       "  <tbody>\n",
       "    <tr>\n",
       "      <th>0</th>\n",
       "      <td>BMS-731900310-VN/00</td>\n",
       "      <td>AGPL.N0000</td>\n",
       "      <td>2024153263</td>\n",
       "      <td>B</td>\n",
       "      <td>125</td>\n",
       "      <td>7.50</td>\n",
       "      <td>2024-05-13</td>\n",
       "      <td>2024-05-13 12:25:45</td>\n",
       "      <td>1.715539e+09</td>\n",
       "    </tr>\n",
       "    <tr>\n",
       "      <th>2</th>\n",
       "      <td>BMS-722151828-VN/00</td>\n",
       "      <td>PACK.N0000</td>\n",
       "      <td>2024153265</td>\n",
       "      <td>B</td>\n",
       "      <td>5000</td>\n",
       "      <td>15.00</td>\n",
       "      <td>2024-05-13</td>\n",
       "      <td>2024-05-13 12:26:03</td>\n",
       "      <td>1.715539e+09</td>\n",
       "    </tr>\n",
       "    <tr>\n",
       "      <th>3</th>\n",
       "      <td>BMS-42281-LI/00</td>\n",
       "      <td>PACK.N0000</td>\n",
       "      <td>2024153266</td>\n",
       "      <td>B</td>\n",
       "      <td>300</td>\n",
       "      <td>15.00</td>\n",
       "      <td>2024-05-13</td>\n",
       "      <td>2024-05-13 12:26:03</td>\n",
       "      <td>1.715539e+09</td>\n",
       "    </tr>\n",
       "    <tr>\n",
       "      <th>4</th>\n",
       "      <td>BMS-478-LC/00</td>\n",
       "      <td>HNB.N0000</td>\n",
       "      <td>2024153267</td>\n",
       "      <td>B</td>\n",
       "      <td>350</td>\n",
       "      <td>202.25</td>\n",
       "      <td>2024-05-13</td>\n",
       "      <td>2024-05-13 12:26:42</td>\n",
       "      <td>1.715539e+09</td>\n",
       "    </tr>\n",
       "    <tr>\n",
       "      <th>11</th>\n",
       "      <td>BMS-478-LC/00</td>\n",
       "      <td>HNB.N0000</td>\n",
       "      <td>2024153274</td>\n",
       "      <td>B</td>\n",
       "      <td>109</td>\n",
       "      <td>202.25</td>\n",
       "      <td>2024-05-13</td>\n",
       "      <td>2024-05-13 12:29:02</td>\n",
       "      <td>1.715539e+09</td>\n",
       "    </tr>\n",
       "  </tbody>\n",
       "</table>\n",
       "</div>"
      ],
      "text/plain": [
       "               CDSACCNO   STOCKCODE   REFERANCE TRAN_TYPE  SHARESQTY  \\\n",
       "0   BMS-731900310-VN/00  AGPL.N0000  2024153263         B        125   \n",
       "2   BMS-722151828-VN/00  PACK.N0000  2024153265         B       5000   \n",
       "3       BMS-42281-LI/00  PACK.N0000  2024153266         B        300   \n",
       "4         BMS-478-LC/00   HNB.N0000  2024153267         B        350   \n",
       "11        BMS-478-LC/00   HNB.N0000  2024153274         B        109   \n",
       "\n",
       "    SHAREPRICE TRADE_DATE          TRADE_TIME       UNIX_TS  \n",
       "0         7.50 2024-05-13 2024-05-13 12:25:45  1.715539e+09  \n",
       "2        15.00 2024-05-13 2024-05-13 12:26:03  1.715539e+09  \n",
       "3        15.00 2024-05-13 2024-05-13 12:26:03  1.715539e+09  \n",
       "4       202.25 2024-05-13 2024-05-13 12:26:42  1.715539e+09  \n",
       "11      202.25 2024-05-13 2024-05-13 12:29:02  1.715539e+09  "
      ]
     },
     "execution_count": 28,
     "metadata": {},
     "output_type": "execute_result"
    }
   ],
   "source": [
    "portfolios_df_fil_1 = portfolios_df.groupby(by = 'CDSACCNO').filter(lambda x: x['STOCKCODE'].nunique() > 10)\n",
    "portfolios_df_fil_1['UNIX_TS'] = portfolios_df_fil_1['TRADE_DATE'].apply(lambda x: to_timestamp(x))\n",
    "portfolios_df_fil_1.head()"
   ]
  },
  {
   "cell_type": "code",
   "execution_count": 29,
   "metadata": {},
   "outputs": [
    {
     "data": {
      "text/plain": [
       "(5906, 346)"
      ]
     },
     "execution_count": 29,
     "metadata": {},
     "output_type": "execute_result"
    }
   ],
   "source": [
    "portfolios_df_fil_1.CDSACCNO.nunique(), portfolios_df_fil_1.STOCKCODE.nunique()"
   ]
  },
  {
   "cell_type": "code",
   "execution_count": 30,
   "metadata": {},
   "outputs": [
    {
     "data": {
      "text/plain": [
       "(1674385, 9)"
      ]
     },
     "execution_count": 30,
     "metadata": {},
     "output_type": "execute_result"
    }
   ],
   "source": [
    "prev_symbols = set(list(portfolios_df_fil_1.STOCKCODE.unique()))\n",
    "portfolios_df_fil_1.shape"
   ]
  },
  {
   "cell_type": "code",
   "execution_count": 31,
   "metadata": {},
   "outputs": [],
   "source": [
    "portfolios_df_fil_1['STOCKCODE'] = portfolios_df_fil_1.STOCKCODE.apply(lambda x : split_symbol(x))"
   ]
  },
  {
   "cell_type": "code",
   "execution_count": 32,
   "metadata": {},
   "outputs": [],
   "source": [
    "portfolios_df_fil_1['STOCKCODE'] = portfolios_df_fil_1.STOCKCODE.apply(lambda x : split_symbol(x))"
   ]
  },
  {
   "cell_type": "code",
   "execution_count": 33,
   "metadata": {},
   "outputs": [
    {
     "data": {
      "text/plain": [
       "288"
      ]
     },
     "execution_count": 33,
     "metadata": {},
     "output_type": "execute_result"
    }
   ],
   "source": [
    "unique_port_symbols = set(portfolios_df_fil_1.STOCKCODE.unique())\n",
    "len(unique_port_symbols)"
   ]
  },
  {
   "cell_type": "code",
   "execution_count": 34,
   "metadata": {},
   "outputs": [
    {
     "data": {
      "text/plain": [
       "['GSF',\n",
       " 'WATA',\n",
       " 'AGPL',\n",
       " 'UBF',\n",
       " 'CLC',\n",
       " 'CBNK',\n",
       " 'SFL',\n",
       " 'YORK',\n",
       " 'CALI',\n",
       " 'LGIL',\n",
       " 'WIND',\n",
       " 'PDL',\n",
       " 'CITW']"
      ]
     },
     "execution_count": 34,
     "metadata": {},
     "output_type": "execute_result"
    }
   ],
   "source": [
    "to_remove = list(unique_port_symbols - unique_symbols)\n",
    "to_remove"
   ]
  },
  {
   "cell_type": "code",
   "execution_count": 35,
   "metadata": {},
   "outputs": [],
   "source": [
    "portfolios_df_fil_1 = portfolios_df_fil_1[~portfolios_df_fil_1.STOCKCODE.isin(to_remove)]"
   ]
  },
  {
   "cell_type": "code",
   "execution_count": 36,
   "metadata": {},
   "outputs": [],
   "source": [
    "symb_to_name = dict(zip(stock_info.symbol,stock_info.name))\n",
    "symb_to_gics = dict(zip(stock_info.symbol, stock_info.gics_code))"
   ]
  },
  {
   "cell_type": "code",
   "execution_count": 37,
   "metadata": {},
   "outputs": [],
   "source": [
    "portfolios_df_fil_1['STOCKNAME'] = portfolios_df_fil_1.STOCKCODE.apply(lambda x: mapper(x,symb_to_name))\n",
    "portfolios_df_fil_1['GICS'] = portfolios_df_fil_1.STOCKCODE.apply(lambda x: mapper(x,symb_to_gics))"
   ]
  },
  {
   "cell_type": "code",
   "execution_count": 38,
   "metadata": {},
   "outputs": [],
   "source": [
    "# portfolios_df_fil_1[portfolios_df_fil_1['STOCKNAME'] == np.nan]"
   ]
  },
  {
   "cell_type": "code",
   "execution_count": 39,
   "metadata": {},
   "outputs": [
    {
     "data": {
      "text/plain": [
       "(5906, 275)"
      ]
     },
     "execution_count": 39,
     "metadata": {},
     "output_type": "execute_result"
    }
   ],
   "source": [
    "portfolios_df_fil_1.CDSACCNO.nunique(), portfolios_df_fil_1.STOCKCODE.nunique()"
   ]
  },
  {
   "cell_type": "code",
   "execution_count": 40,
   "metadata": {},
   "outputs": [
    {
     "name": "stderr",
     "output_type": "stream",
     "text": [
      "C:\\Users\\naradaw\\AppData\\Local\\Temp\\ipykernel_22300\\184762752.py:4: DeprecationWarning: DataFrameGroupBy.apply operated on the grouping columns. This behavior is deprecated, and in a future version of pandas the grouping columns will be excluded from the operation. Either pass `include_groups=False` to exclude the groupings or explicitly select the grouping columns after groupby to silence this warning.\n",
      "  portfolios_df_fil_3 = portfolios_df_fil_1.groupby('CDSACCNO', group_keys= False).apply(lambda x: infer_rating(x)).groupby(['CDSACCNO','STOCKCODE'], group_keys= False).apply(lambda x: get_max_values(x)).reset_index(drop =True).sort_values('RATING', ascending= False)\n",
      "C:\\Users\\naradaw\\AppData\\Local\\Temp\\ipykernel_22300\\184762752.py:4: DeprecationWarning: DataFrameGroupBy.apply operated on the grouping columns. This behavior is deprecated, and in a future version of pandas the grouping columns will be excluded from the operation. Either pass `include_groups=False` to exclude the groupings or explicitly select the grouping columns after groupby to silence this warning.\n",
      "  portfolios_df_fil_3 = portfolios_df_fil_1.groupby('CDSACCNO', group_keys= False).apply(lambda x: infer_rating(x)).groupby(['CDSACCNO','STOCKCODE'], group_keys= False).apply(lambda x: get_max_values(x)).reset_index(drop =True).sort_values('RATING', ascending= False)\n"
     ]
    }
   ],
   "source": [
    "from sklearn.preprocessing import MinMaxScaler\n",
    "\n",
    "# portfolios_df_fil_3 = filter_portfolios(portfolios_df_fil_2)\n",
    "portfolios_df_fil_3 = portfolios_df_fil_1.groupby('CDSACCNO', group_keys= False).apply(lambda x: infer_rating(x)).groupby(['CDSACCNO','STOCKCODE'], group_keys= False).apply(lambda x: get_max_values(x)).reset_index(drop =True).sort_values('RATING', ascending= False)"
   ]
  },
  {
   "cell_type": "code",
   "execution_count": 41,
   "metadata": {},
   "outputs": [
    {
     "data": {
      "text/plain": [
       "(5906, 275)"
      ]
     },
     "execution_count": 41,
     "metadata": {},
     "output_type": "execute_result"
    }
   ],
   "source": [
    "portfolios_df_fil_3.CDSACCNO.nunique(), portfolios_df_fil_3.STOCKCODE.nunique()"
   ]
  },
  {
   "cell_type": "code",
   "execution_count": 42,
   "metadata": {},
   "outputs": [
    {
     "data": {
      "text/html": [
       "<div>\n",
       "<style scoped>\n",
       "    .dataframe tbody tr th:only-of-type {\n",
       "        vertical-align: middle;\n",
       "    }\n",
       "\n",
       "    .dataframe tbody tr th {\n",
       "        vertical-align: top;\n",
       "    }\n",
       "\n",
       "    .dataframe thead th {\n",
       "        text-align: right;\n",
       "    }\n",
       "</style>\n",
       "<table border=\"1\" class=\"dataframe\">\n",
       "  <thead>\n",
       "    <tr style=\"text-align: right;\">\n",
       "      <th></th>\n",
       "      <th>CDSACCNO</th>\n",
       "      <th>STOCKCODE</th>\n",
       "      <th>REFERANCE</th>\n",
       "      <th>TRAN_TYPE</th>\n",
       "      <th>SHARESQTY</th>\n",
       "      <th>SHAREPRICE</th>\n",
       "      <th>TRADE_DATE</th>\n",
       "      <th>TRADE_TIME</th>\n",
       "      <th>UNIX_TS</th>\n",
       "      <th>STOCKNAME</th>\n",
       "      <th>GICS</th>\n",
       "      <th>RATING</th>\n",
       "    </tr>\n",
       "  </thead>\n",
       "  <tbody>\n",
       "    <tr>\n",
       "      <th>24126</th>\n",
       "      <td>BMS-48991-LI/00</td>\n",
       "      <td>LWL</td>\n",
       "      <td>24595</td>\n",
       "      <td>B</td>\n",
       "      <td>1365</td>\n",
       "      <td>49.0</td>\n",
       "      <td>2023-01-11</td>\n",
       "      <td>NaT</td>\n",
       "      <td>1.673375e+09</td>\n",
       "      <td>LANKA WALLTILE PLC</td>\n",
       "      <td>Capital Goods</td>\n",
       "      <td>5.0</td>\n",
       "    </tr>\n",
       "    <tr>\n",
       "      <th>140760</th>\n",
       "      <td>HDF-743612299-VN/00</td>\n",
       "      <td>SEMB</td>\n",
       "      <td>2023178157</td>\n",
       "      <td>B</td>\n",
       "      <td>10000</td>\n",
       "      <td>0.7</td>\n",
       "      <td>2023-07-28</td>\n",
       "      <td>2023-07-28 01:15:30</td>\n",
       "      <td>1.690483e+09</td>\n",
       "      <td>S M B LEASING PLC</td>\n",
       "      <td>Diversified Financials</td>\n",
       "      <td>5.0</td>\n",
       "    </tr>\n",
       "  </tbody>\n",
       "</table>\n",
       "</div>"
      ],
      "text/plain": [
       "                   CDSACCNO STOCKCODE   REFERANCE TRAN_TYPE  SHARESQTY  \\\n",
       "24126       BMS-48991-LI/00       LWL       24595         B       1365   \n",
       "140760  HDF-743612299-VN/00      SEMB  2023178157         B      10000   \n",
       "\n",
       "        SHAREPRICE TRADE_DATE          TRADE_TIME       UNIX_TS  \\\n",
       "24126         49.0 2023-01-11                 NaT  1.673375e+09   \n",
       "140760         0.7 2023-07-28 2023-07-28 01:15:30  1.690483e+09   \n",
       "\n",
       "                 STOCKNAME                    GICS  RATING  \n",
       "24126   LANKA WALLTILE PLC           Capital Goods     5.0  \n",
       "140760   S M B LEASING PLC  Diversified Financials     5.0  "
      ]
     },
     "execution_count": 42,
     "metadata": {},
     "output_type": "execute_result"
    }
   ],
   "source": [
    "portfolios_df_fil_3.head(2)"
   ]
  },
  {
   "cell_type": "code",
   "execution_count": 43,
   "metadata": {},
   "outputs": [
    {
     "data": {
      "text/plain": [
       "33"
      ]
     },
     "execution_count": 43,
     "metadata": {},
     "output_type": "execute_result"
    }
   ],
   "source": [
    "portfolios_df_fil_3.GICS.nunique()"
   ]
  },
  {
   "cell_type": "code",
   "execution_count": 44,
   "metadata": {},
   "outputs": [],
   "source": [
    "portfolios_df_fil_4 = portfolios_df_fil_3[['CDSACCNO','STOCKCODE','UNIX_TS','RATING','GICS','STOCKNAME']] #,'GICS','STOCKNAME'"
   ]
  },
  {
   "cell_type": "code",
   "execution_count": 45,
   "metadata": {},
   "outputs": [],
   "source": [
    "data_dict = portfolios_df_fil_4.to_dict(orient='list')"
   ]
  },
  {
   "cell_type": "code",
   "execution_count": 46,
   "metadata": {},
   "outputs": [],
   "source": [
    "dataset = tf.data.Dataset.from_tensor_slices(data_dict)"
   ]
  },
  {
   "cell_type": "code",
   "execution_count": 47,
   "metadata": {},
   "outputs": [
    {
     "data": {
      "text/plain": [
       "{'CDSACCNO': <tf.Tensor: shape=(1,), dtype=string, numpy=array([b'BMS-48991-LI/00'], dtype=object)>,\n",
       " 'STOCKCODE': <tf.Tensor: shape=(1,), dtype=string, numpy=array([b'LWL'], dtype=object)>,\n",
       " 'UNIX_TS': <tf.Tensor: shape=(1,), dtype=float32, numpy=array([1.6733754e+09], dtype=float32)>,\n",
       " 'RATING': <tf.Tensor: shape=(1,), dtype=float32, numpy=array([5.], dtype=float32)>,\n",
       " 'GICS': <tf.Tensor: shape=(1,), dtype=string, numpy=array([b'Capital Goods'], dtype=object)>,\n",
       " 'STOCKNAME': <tf.Tensor: shape=(1,), dtype=string, numpy=array([b'LANKA WALLTILE PLC'], dtype=object)>}"
      ]
     },
     "execution_count": 47,
     "metadata": {},
     "output_type": "execute_result"
    }
   ],
   "source": [
    "next(iter(dataset.batch(1)))"
   ]
  },
  {
   "cell_type": "code",
   "execution_count": 61,
   "metadata": {},
   "outputs": [],
   "source": [
    "dataset.save(\"../../data/portfolios_v2/portfolios\")"
   ]
  },
  {
   "cell_type": "code",
   "execution_count": 49,
   "metadata": {},
   "outputs": [
    {
     "data": {
      "text/plain": [
       "157854"
      ]
     },
     "execution_count": 49,
     "metadata": {},
     "output_type": "execute_result"
    }
   ],
   "source": [
    "len(dataset)"
   ]
  },
  {
   "cell_type": "code",
   "execution_count": 50,
   "metadata": {},
   "outputs": [],
   "source": [
    "tf.random.set_seed(42)\n",
    "shuffled = dataset.shuffle(100_000, seed=42, reshuffle_each_iteration=False)\n",
    "\n",
    "train = shuffled.take(int(len(dataset)* 0.8))\n",
    "test = shuffled.skip(int(len(dataset)* 0.8)).take(int(len(dataset)* 0.2))"
   ]
  },
  {
   "cell_type": "code",
   "execution_count": 51,
   "metadata": {},
   "outputs": [],
   "source": [
    "train.save(\"../../data/portfolios_v2/retriver_train\")\n",
    "test.save(\"../../data/portfolios_v2/retriver_test\")"
   ]
  },
  {
   "cell_type": "code",
   "execution_count": 52,
   "metadata": {},
   "outputs": [],
   "source": [
    "# new_dataset = tf.data.Dataset.load(\"../../data/portfolios_v2/portfolios_tfds\")"
   ]
  },
  {
   "cell_type": "markdown",
   "metadata": {},
   "source": [
    "# Work Here"
   ]
  },
  {
   "cell_type": "code",
   "execution_count": 53,
   "metadata": {},
   "outputs": [],
   "source": [
    "import array\n",
    "import collections\n",
    "\n",
    "from typing import Dict, List, Optional, Text, Tuple\n",
    "\n",
    "def _create_feature_dict() -> Dict[Text, List[tf.Tensor]]:\n",
    "  return {\"STOCKCODE\": [], \"RATING\": [], \"GICS\": [], \"STOCKNAME\": [], \"UNIX_TS\": []}\n",
    "\n",
    "def _sample_list(\n",
    "    feature_lists: Dict[Text, List[tf.Tensor]],\n",
    "    num_examples_per_list: int,\n",
    "    random_state: Optional[np.random.RandomState] = None,\n",
    ") -> Tuple[tf.Tensor, tf.Tensor]:\n",
    "  \"\"\"Function for sampling a list example from given feature lists.\"\"\"\n",
    "  if random_state is None:\n",
    "    random_state = np.random.RandomState()\n",
    "\n",
    "  sampled_indices = random_state.choice(\n",
    "      range(len(feature_lists[\"STOCKCODE\"])),\n",
    "      size=num_examples_per_list,\n",
    "      replace=False,\n",
    "  )\n",
    "  sampled_STOCKCODE = [\n",
    "      feature_lists[\"STOCKCODE\"][idx] for idx in sampled_indices\n",
    "  ]\n",
    "  sampled_RATING = [\n",
    "      feature_lists[\"RATING\"][idx]\n",
    "      for idx in sampled_indices\n",
    "  ]\n",
    "  sampled_GICS = [\n",
    "      feature_lists[\"GICS\"][idx] for idx in sampled_indices\n",
    "  ]\n",
    "  sampled_STOCKNAME = [\n",
    "      feature_lists[\"STOCKNAME\"][idx]\n",
    "      for idx in sampled_indices\n",
    "  ]\n",
    "  sampled_UNIX_TS = [\n",
    "      feature_lists[\"UNIX_TS\"][idx] for idx in sampled_indices\n",
    "  ]\n",
    "\n",
    "  return (\n",
    "      tf.stack(sampled_STOCKCODE, 0),\n",
    "      tf.stack(sampled_RATING, 0),\n",
    "      tf.stack(sampled_GICS, 0),\n",
    "      tf.stack(sampled_STOCKNAME, 0),\n",
    "      tf.stack(sampled_UNIX_TS, 0)\n",
    "  )\n",
    "\n",
    "\n",
    "def sample_listwise(\n",
    "    rating_dataset: tf.data.Dataset,\n",
    "    num_list_per_user: int = 10,\n",
    "    num_examples_per_list: int = 10,\n",
    "    seed: Optional[int] = None,\n",
    ") -> tf.data.Dataset:\n",
    "  \n",
    "  random_state = np.random.RandomState(seed)\n",
    "\n",
    "  example_lists_by_user = collections.defaultdict(_create_feature_dict)\n",
    "\n",
    "  movie_title_vocab = set()\n",
    "  for example in rating_dataset:\n",
    "    user_id = example[\"CDSACCNO\"].numpy()\n",
    "    example_lists_by_user[user_id][\"STOCKCODE\"].append(\n",
    "        example[\"STOCKCODE\"])\n",
    "    example_lists_by_user[user_id][\"RATING\"].append(\n",
    "        example[\"RATING\"])\n",
    "    example_lists_by_user[user_id][\"GICS\"].append(\n",
    "        example[\"GICS\"])\n",
    "    example_lists_by_user[user_id][\"STOCKNAME\"].append(\n",
    "        example[\"STOCKNAME\"])\n",
    "    example_lists_by_user[user_id][\"UNIX_TS\"].append(\n",
    "        example[\"UNIX_TS\"])\n",
    "    \n",
    "    movie_title_vocab.add(example[\"STOCKNAME\"].numpy())\n",
    "\n",
    "    \n",
    "\n",
    "  tensor_slices = {\"CDSACCNO\": [], \"STOCKCODE\": [], \"RATING\": [], \"GICS\": [], \"STOCKNAME\": [], \"UNIX_TS\": []}\n",
    "\n",
    "  for user_id, feature_lists in example_lists_by_user.items():\n",
    "    for _ in range(num_list_per_user):\n",
    "\n",
    "      # Drop the user if they don't have enough ratings.\n",
    "      if len(feature_lists[\"STOCKNAME\"]) < num_examples_per_list:\n",
    "        continue\n",
    "\n",
    "        '''sampled_STOCKCODE, 0),\n",
    "      tf.stack(sampled_RATING, 0),\n",
    "      tf.stack(sampled_GICS, 0),\n",
    "      tf.stack(sampled_STOCKNAME, 0),\n",
    "      tf.stack(sampled_UNIX_TS'''\n",
    "\n",
    "      sampled_STOCKCODE, sampled_RATING, sampled_GICS, sampled_STOCKNAME, sampled_UNIX_TS  = _sample_list(\n",
    "          feature_lists,\n",
    "          num_examples_per_list,\n",
    "          random_state=random_state,\n",
    "      )\n",
    "      tensor_slices[\"CDSACCNO\"].append(user_id)\n",
    "      tensor_slices[\"STOCKCODE\"].append(sampled_STOCKCODE)\n",
    "      tensor_slices[\"RATING\"].append(sampled_RATING)\n",
    "      tensor_slices[\"GICS\"].append(sampled_GICS)\n",
    "      tensor_slices[\"STOCKNAME\"].append(sampled_STOCKNAME)\n",
    "      tensor_slices[\"UNIX_TS\"].append(sampled_UNIX_TS)\n",
    "\n",
    "  return tf.data.Dataset.from_tensor_slices(tensor_slices)"
   ]
  },
  {
   "cell_type": "code",
   "execution_count": 54,
   "metadata": {},
   "outputs": [],
   "source": [
    "# portfolios = tf.data.Dataset.load(\"../../data/portfolios_tfds_lists\")\n",
    "portfolios = dataset"
   ]
  },
  {
   "cell_type": "code",
   "execution_count": 55,
   "metadata": {},
   "outputs": [],
   "source": [
    "# train_ds = tf.data.Dataset.load(\"D:/dev work/recommender systems/Atrad_CARS/data/train_lists\").cache() #data\\ratings_train\n",
    "# test_ds = tf.data.Dataset.load(\"D:/dev work/recommender systems/Atrad_CARS/data/test_lists\").cache()\n",
    "\n",
    "train_ds = train\n",
    "test_ds = test"
   ]
  },
  {
   "cell_type": "code",
   "execution_count": 56,
   "metadata": {},
   "outputs": [
    {
     "data": {
      "text/plain": [
       "({'CDSACCNO': <tf.Tensor: shape=(), dtype=string, numpy=b'HDF-733381418-VN/00'>,\n",
       "  'STOCKCODE': <tf.Tensor: shape=(), dtype=string, numpy=b'LWL'>,\n",
       "  'UNIX_TS': <tf.Tensor: shape=(), dtype=float32, numpy=1660501800.0>,\n",
       "  'RATING': <tf.Tensor: shape=(), dtype=float32, numpy=2.0>,\n",
       "  'GICS': <tf.Tensor: shape=(), dtype=string, numpy=b'Capital Goods'>,\n",
       "  'STOCKNAME': <tf.Tensor: shape=(), dtype=string, numpy=b'LANKA WALLTILE PLC'>},\n",
       " 126283)"
      ]
     },
     "execution_count": 56,
     "metadata": {},
     "output_type": "execute_result"
    }
   ],
   "source": [
    "next(iter(train_ds)), len(train_ds)"
   ]
  },
  {
   "cell_type": "code",
   "execution_count": 57,
   "metadata": {},
   "outputs": [],
   "source": [
    "train_v1 = sample_listwise(\n",
    "    train_ds,\n",
    "    num_list_per_user=50,\n",
    "    num_examples_per_list=10,\n",
    "    seed=42\n",
    ")\n",
    "\n",
    "test_v1 = sample_listwise(\n",
    "    test_ds,\n",
    "    num_list_per_user=1,\n",
    "    num_examples_per_list=10,\n",
    "    seed=42\n",
    ")"
   ]
  },
  {
   "cell_type": "code",
   "execution_count": 58,
   "metadata": {},
   "outputs": [
    {
     "data": {
      "text/plain": [
       "{'CDSACCNO': <tf.Tensor: shape=(), dtype=string, numpy=b'HDF-733381418-VN/00'>,\n",
       " 'STOCKCODE': <tf.Tensor: shape=(10,), dtype=string, numpy=\n",
       " array([b'LIOC', b'LITE', b'MBSL', b'PLC', b'LWL', b'ALLI', b'SHL',\n",
       "        b'HAYL', b'CFVF', b'KAHA'], dtype=object)>,\n",
       " 'RATING': <tf.Tensor: shape=(10,), dtype=float32, numpy=array([2., 1., 1., 1., 2., 2., 1., 1., 1., 2.], dtype=float32)>,\n",
       " 'GICS': <tf.Tensor: shape=(10,), dtype=string, numpy=\n",
       " array([b'Energy', b'Capital Goods', b'Diversified Financials',\n",
       "        b'Diversified Financials', b'Capital Goods',\n",
       "        b'Diversified Financials', b'Capital Goods', b'Capital Goods',\n",
       "        b'Diversified Financials', b'Food Beverage & Tobacco'],\n",
       "       dtype=object)>,\n",
       " 'STOCKNAME': <tf.Tensor: shape=(10,), dtype=string, numpy=\n",
       " array([b'LANKA IOC PLC', b'LAXAPANA BATTERIES PLC',\n",
       "        b'MERCHANT BANK OF SRI LANKA & FINANCE PLC',\n",
       "        b\"PEOPLE'S LEASING & FINANCE PLC\", b'LANKA WALLTILE PLC',\n",
       "        b'ALLIANCE FINANCE COMPANY PLC', b'SOFTLOGIC HOLDINGS PLC',\n",
       "        b'HAYLEYS PLC', b'FIRST CAPITAL HOLDINGS PLC',\n",
       "        b'KAHAWATTE  PLANTATIONS  PLC'], dtype=object)>,\n",
       " 'UNIX_TS': <tf.Tensor: shape=(10,), dtype=float32, numpy=\n",
       " array([1.6709562e+09, 1.6889274e+09, 1.6885818e+09, 1.6624890e+09,\n",
       "        1.6605018e+09, 1.6605018e+09, 1.6436538e+09, 1.6605018e+09,\n",
       "        1.6897050e+09, 1.6611930e+09], dtype=float32)>}"
      ]
     },
     "execution_count": 58,
     "metadata": {},
     "output_type": "execute_result"
    }
   ],
   "source": [
    "next(iter(train_v1))"
   ]
  },
  {
   "cell_type": "code",
   "execution_count": 59,
   "metadata": {},
   "outputs": [
    {
     "data": {
      "text/plain": [
       "258200"
      ]
     },
     "execution_count": 59,
     "metadata": {},
     "output_type": "execute_result"
    }
   ],
   "source": [
    "len(train_v1)"
   ]
  },
  {
   "cell_type": "code",
   "execution_count": 60,
   "metadata": {},
   "outputs": [],
   "source": [
    "train_v1.save(\"../../data/portfolios_v2/ranker_train\")\n",
    "test_v1.save(\"../../data/portfolios_v2/ranker_test\")"
   ]
  },
  {
   "cell_type": "code",
   "execution_count": 65,
   "metadata": {},
   "outputs": [
    {
     "ename": "InvalidArgumentError",
     "evalue": "NewRandomAccessFile failed to Create/Open: D:\\dev work\recommender systems\\Atrad_CARS\\data\\portfolios_v2\retriver_train\\dataset_spec.pb : The filename, directory name, or volume label syntax is incorrect.\r\n; no protocol option",
     "output_type": "error",
     "traceback": [
      "\u001b[1;31m---------------------------------------------------------------------------\u001b[0m",
      "\u001b[1;31mInvalidArgumentError\u001b[0m                      Traceback (most recent call last)",
      "Cell \u001b[1;32mIn[65], line 1\u001b[0m\n\u001b[1;32m----> 1\u001b[0m train_ds \u001b[38;5;241m=\u001b[39m \u001b[43mtf\u001b[49m\u001b[38;5;241;43m.\u001b[39;49m\u001b[43mdata\u001b[49m\u001b[38;5;241;43m.\u001b[39;49m\u001b[43mDataset\u001b[49m\u001b[38;5;241;43m.\u001b[39;49m\u001b[43mload\u001b[49m\u001b[43m(\u001b[49m\u001b[38;5;124;43m\"\u001b[39;49m\u001b[38;5;124;43mD:\u001b[39;49m\u001b[38;5;124;43m\\\u001b[39;49m\u001b[38;5;124;43mdev work\u001b[39;49m\u001b[38;5;130;43;01m\\r\u001b[39;49;00m\u001b[38;5;124;43mecommender systems\u001b[39;49m\u001b[38;5;124;43m\\\u001b[39;49m\u001b[38;5;124;43mAtrad_CARS\u001b[39;49m\u001b[38;5;124;43m\\\u001b[39;49m\u001b[38;5;124;43mdata\u001b[39;49m\u001b[38;5;124;43m\\\u001b[39;49m\u001b[38;5;124;43mportfolios_v2\u001b[39;49m\u001b[38;5;130;43;01m\\r\u001b[39;49;00m\u001b[38;5;124;43metriver_train\u001b[39;49m\u001b[38;5;124;43m\"\u001b[39;49m\u001b[43m)\u001b[49m\u001b[38;5;241m.\u001b[39mcache()\n",
      "File \u001b[1;32m~\\AppData\\Roaming\\Python\\Python39\\site-packages\\tensorflow\\python\\data\\ops\\dataset_ops.py:1927\u001b[0m, in \u001b[0;36mDatasetV2.load\u001b[1;34m(path, element_spec, compression, reader_func)\u001b[0m\n\u001b[0;32m   1924\u001b[0m \u001b[38;5;66;03m# Loaded lazily due to a circular dependency\u001b[39;00m\n\u001b[0;32m   1925\u001b[0m \u001b[38;5;66;03m# dataset_ops->load_ops->dataset_ops\u001b[39;00m\n\u001b[0;32m   1926\u001b[0m \u001b[38;5;28;01mfrom\u001b[39;00m \u001b[38;5;21;01mtensorflow\u001b[39;00m\u001b[38;5;21;01m.\u001b[39;00m\u001b[38;5;21;01mpython\u001b[39;00m\u001b[38;5;21;01m.\u001b[39;00m\u001b[38;5;21;01mdata\u001b[39;00m\u001b[38;5;21;01m.\u001b[39;00m\u001b[38;5;21;01mops\u001b[39;00m \u001b[38;5;28;01mimport\u001b[39;00m load_op  \u001b[38;5;66;03m# pylint: disable=g-import-not-at-top\u001b[39;00m\n\u001b[1;32m-> 1927\u001b[0m \u001b[38;5;28;01mreturn\u001b[39;00m \u001b[43mload_op\u001b[49m\u001b[38;5;241;43m.\u001b[39;49m\u001b[43mload\u001b[49m\u001b[43m(\u001b[49m\n\u001b[0;32m   1928\u001b[0m \u001b[43m    \u001b[49m\u001b[43mpath\u001b[49m\u001b[38;5;241;43m=\u001b[39;49m\u001b[43mpath\u001b[49m\u001b[43m,\u001b[49m\n\u001b[0;32m   1929\u001b[0m \u001b[43m    \u001b[49m\u001b[43melement_spec\u001b[49m\u001b[38;5;241;43m=\u001b[39;49m\u001b[43melement_spec\u001b[49m\u001b[43m,\u001b[49m\n\u001b[0;32m   1930\u001b[0m \u001b[43m    \u001b[49m\u001b[43mcompression\u001b[49m\u001b[38;5;241;43m=\u001b[39;49m\u001b[43mcompression\u001b[49m\u001b[43m,\u001b[49m\n\u001b[0;32m   1931\u001b[0m \u001b[43m    \u001b[49m\u001b[43mreader_func\u001b[49m\u001b[38;5;241;43m=\u001b[39;49m\u001b[43mreader_func\u001b[49m\u001b[43m)\u001b[49m\n",
      "File \u001b[1;32m~\\AppData\\Roaming\\Python\\Python39\\site-packages\\tensorflow\\python\\data\\ops\\load_op.py:36\u001b[0m, in \u001b[0;36mload\u001b[1;34m(path, element_spec, compression, reader_func)\u001b[0m\n\u001b[0;32m     32\u001b[0m \u001b[38;5;28;01mdef\u001b[39;00m \u001b[38;5;21mload\u001b[39m(path,\n\u001b[0;32m     33\u001b[0m          element_spec,\n\u001b[0;32m     34\u001b[0m          compression,\n\u001b[0;32m     35\u001b[0m          reader_func):\n\u001b[1;32m---> 36\u001b[0m   \u001b[38;5;28;01mreturn\u001b[39;00m \u001b[43m_LoadDataset\u001b[49m\u001b[43m(\u001b[49m\u001b[43mpath\u001b[49m\u001b[43m,\u001b[49m\u001b[43m \u001b[49m\u001b[43melement_spec\u001b[49m\u001b[43m,\u001b[49m\u001b[43m \u001b[49m\u001b[43mcompression\u001b[49m\u001b[43m,\u001b[49m\u001b[43m \u001b[49m\u001b[43mreader_func\u001b[49m\u001b[43m)\u001b[49m\n",
      "File \u001b[1;32m~\\AppData\\Roaming\\Python\\Python39\\site-packages\\tensorflow\\python\\data\\ops\\load_op.py:57\u001b[0m, in \u001b[0;36m_LoadDataset.__init__\u001b[1;34m(self, path, element_spec, compression, reader_func)\u001b[0m\n\u001b[0;32m     53\u001b[0m   \u001b[38;5;28;01mraise\u001b[39;00m \u001b[38;5;167;01mValueError\u001b[39;00m(\n\u001b[0;32m     54\u001b[0m       \u001b[38;5;124m\"\u001b[39m\u001b[38;5;124mIn graph mode the `element_spec` argument must be provided.\u001b[39m\u001b[38;5;124m\"\u001b[39m)\n\u001b[0;32m     55\u001b[0m \u001b[38;5;28;01mwith\u001b[39;00m gfile\u001b[38;5;241m.\u001b[39mGFile(\n\u001b[0;32m     56\u001b[0m     os\u001b[38;5;241m.\u001b[39mpath\u001b[38;5;241m.\u001b[39mjoin(path, dataset_ops\u001b[38;5;241m.\u001b[39mDATASET_SPEC_FILENAME), \u001b[38;5;124m\"\u001b[39m\u001b[38;5;124mrb\u001b[39m\u001b[38;5;124m\"\u001b[39m) \u001b[38;5;28;01mas\u001b[39;00m f:\n\u001b[1;32m---> 57\u001b[0m   encoded_spec \u001b[38;5;241m=\u001b[39m \u001b[43mf\u001b[49m\u001b[38;5;241;43m.\u001b[39;49m\u001b[43mread\u001b[49m\u001b[43m(\u001b[49m\u001b[43m)\u001b[49m\n\u001b[0;32m     58\u001b[0m struct_pb \u001b[38;5;241m=\u001b[39m nested_structure_coder\u001b[38;5;241m.\u001b[39mstruct_pb2\u001b[38;5;241m.\u001b[39mStructuredValue()\n\u001b[0;32m     59\u001b[0m struct_pb\u001b[38;5;241m.\u001b[39mParseFromString(encoded_spec)\n",
      "File \u001b[1;32m~\\AppData\\Roaming\\Python\\Python39\\site-packages\\tensorflow\\python\\lib\\io\\file_io.py:116\u001b[0m, in \u001b[0;36mFileIO.read\u001b[1;34m(self, n)\u001b[0m\n\u001b[0;32m    104\u001b[0m \u001b[38;5;28;01mdef\u001b[39;00m \u001b[38;5;21mread\u001b[39m(\u001b[38;5;28mself\u001b[39m, n\u001b[38;5;241m=\u001b[39m\u001b[38;5;241m-\u001b[39m\u001b[38;5;241m1\u001b[39m):\n\u001b[0;32m    105\u001b[0m \u001b[38;5;250m  \u001b[39m\u001b[38;5;124;03m\"\"\"Returns the contents of a file as a string.\u001b[39;00m\n\u001b[0;32m    106\u001b[0m \n\u001b[0;32m    107\u001b[0m \u001b[38;5;124;03m  Starts reading from current position in file.\u001b[39;00m\n\u001b[1;32m   (...)\u001b[0m\n\u001b[0;32m    114\u001b[0m \u001b[38;5;124;03m    string if in string (regular) mode.\u001b[39;00m\n\u001b[0;32m    115\u001b[0m \u001b[38;5;124;03m  \"\"\"\u001b[39;00m\n\u001b[1;32m--> 116\u001b[0m   \u001b[38;5;28;43mself\u001b[39;49m\u001b[38;5;241;43m.\u001b[39;49m\u001b[43m_preread_check\u001b[49m\u001b[43m(\u001b[49m\u001b[43m)\u001b[49m\n\u001b[0;32m    117\u001b[0m   \u001b[38;5;28;01mif\u001b[39;00m n \u001b[38;5;241m==\u001b[39m \u001b[38;5;241m-\u001b[39m\u001b[38;5;241m1\u001b[39m:\n\u001b[0;32m    118\u001b[0m     length \u001b[38;5;241m=\u001b[39m \u001b[38;5;28mself\u001b[39m\u001b[38;5;241m.\u001b[39msize() \u001b[38;5;241m-\u001b[39m \u001b[38;5;28mself\u001b[39m\u001b[38;5;241m.\u001b[39mtell()\n",
      "File \u001b[1;32m~\\AppData\\Roaming\\Python\\Python39\\site-packages\\tensorflow\\python\\lib\\io\\file_io.py:77\u001b[0m, in \u001b[0;36mFileIO._preread_check\u001b[1;34m(self)\u001b[0m\n\u001b[0;32m     74\u001b[0m \u001b[38;5;28;01mif\u001b[39;00m \u001b[38;5;129;01mnot\u001b[39;00m \u001b[38;5;28mself\u001b[39m\u001b[38;5;241m.\u001b[39m_read_check_passed:\n\u001b[0;32m     75\u001b[0m   \u001b[38;5;28;01mraise\u001b[39;00m errors\u001b[38;5;241m.\u001b[39mPermissionDeniedError(\u001b[38;5;28;01mNone\u001b[39;00m, \u001b[38;5;28;01mNone\u001b[39;00m,\n\u001b[0;32m     76\u001b[0m                                      \u001b[38;5;124m\"\u001b[39m\u001b[38;5;124mFile isn\u001b[39m\u001b[38;5;124m'\u001b[39m\u001b[38;5;124mt open for reading\u001b[39m\u001b[38;5;124m\"\u001b[39m)\n\u001b[1;32m---> 77\u001b[0m \u001b[38;5;28mself\u001b[39m\u001b[38;5;241m.\u001b[39m_read_buf \u001b[38;5;241m=\u001b[39m \u001b[43m_pywrap_file_io\u001b[49m\u001b[38;5;241;43m.\u001b[39;49m\u001b[43mBufferedInputStream\u001b[49m\u001b[43m(\u001b[49m\n\u001b[0;32m     78\u001b[0m \u001b[43m    \u001b[49m\u001b[43mcompat\u001b[49m\u001b[38;5;241;43m.\u001b[39;49m\u001b[43mpath_to_str\u001b[49m\u001b[43m(\u001b[49m\u001b[38;5;28;43mself\u001b[39;49m\u001b[38;5;241;43m.\u001b[39;49m\u001b[43m__name\u001b[49m\u001b[43m)\u001b[49m\u001b[43m,\u001b[49m\u001b[43m \u001b[49m\u001b[38;5;241;43m1024\u001b[39;49m\u001b[43m \u001b[49m\u001b[38;5;241;43m*\u001b[39;49m\u001b[43m \u001b[49m\u001b[38;5;241;43m512\u001b[39;49m\u001b[43m)\u001b[49m\n",
      "\u001b[1;31mInvalidArgumentError\u001b[0m: NewRandomAccessFile failed to Create/Open: D:\\dev work\recommender systems\\Atrad_CARS\\data\\portfolios_v2\retriver_train\\dataset_spec.pb : The filename, directory name, or volume label syntax is incorrect.\r\n; no protocol option"
     ]
    }
   ],
   "source": [
    "train_ds = tf.data.Dataset.load(\"D:\\dev work\\recommender systems\\Atrad_CARS\\data\\portfolios_v2\\retriver_train\").cache()"
   ]
  },
  {
   "cell_type": "code",
   "execution_count": null,
   "metadata": {},
   "outputs": [],
   "source": []
  }
 ],
 "metadata": {
  "kernelspec": {
   "display_name": "tensorflow_cuda",
   "language": "python",
   "name": "python3"
  },
  "language_info": {
   "codemirror_mode": {
    "name": "ipython",
    "version": 3
   },
   "file_extension": ".py",
   "mimetype": "text/x-python",
   "name": "python",
   "nbconvert_exporter": "python",
   "pygments_lexer": "ipython3",
   "version": "3.9.19"
  }
 },
 "nbformat": 4,
 "nbformat_minor": 2
}
