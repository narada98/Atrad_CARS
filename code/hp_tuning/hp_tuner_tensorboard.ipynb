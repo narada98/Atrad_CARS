{
 "cells": [
  {
   "cell_type": "code",
   "execution_count": 1,
   "metadata": {},
   "outputs": [],
   "source": [
    "from tensorboard.plugins.hparams import api as hp"
   ]
  },
  {
   "cell_type": "code",
   "execution_count": 2,
   "metadata": {},
   "outputs": [],
   "source": [
    "import os\n",
    "\n",
    "import numpy as np\n",
    "import tensorflow as tf\n",
    "# import tensorflow_datasets as tfds\n",
    "\n",
    "import tensorflow_recommenders as tfrs\n",
    "\n",
    "from retrieval_recommender import Retriever\n",
    "from random import sample, choice\n",
    "\n",
    "from datetime import datetime\n",
    "import shutil"
   ]
  },
  {
   "cell_type": "code",
   "execution_count": 3,
   "metadata": {},
   "outputs": [],
   "source": [
    "base_loc = r'D:\\dev work\\recommender systems\\ATRAD_CARS'\n",
    "\n",
    "train_ds = tf.data.Dataset.load(\"D:/dev work/recommender systems/Atrad_CARS/data/train\").cache() #data\\ratings_train\n",
    "test_ds = tf.data.Dataset.load(\"D:/dev work/recommender systems/Atrad_CARS/data/test\").cache()\n",
    "portfolios = tf.data.Dataset.load(\"D:/dev work/recommender systems/Atrad_CARS/data/portfolios_tfds\").cache()"
   ]
  },
  {
   "cell_type": "code",
   "execution_count": 4,
   "metadata": {},
   "outputs": [],
   "source": [
    "# model = Recommender(\n",
    "#     use_timestamp = True,\n",
    "#     portfolios = portfolios\n",
    "#     )"
   ]
  },
  {
   "cell_type": "code",
   "execution_count": 5,
   "metadata": {},
   "outputs": [],
   "source": [
    "# model.compile(optimizer=tf.keras.optimizers.Adagrad(learning_rate=0.3))\n",
    "\n",
    "train_ds = train_ds.shuffle(1000).batch(128) #.cache()\n",
    "test_ds = test_ds.batch(128)"
   ]
  },
  {
   "cell_type": "markdown",
   "metadata": {},
   "source": [
    "# Tuner"
   ]
  },
  {
   "cell_type": "code",
   "execution_count": 6,
   "metadata": {},
   "outputs": [],
   "source": [
    "from tensorboard.plugins.hparams import api as hp"
   ]
  },
  {
   "cell_type": "code",
   "execution_count": 7,
   "metadata": {},
   "outputs": [],
   "source": [
    "log_dir = os.path.join(base_loc ,\"logs/retriever_opt\")"
   ]
  },
  {
   "cell_type": "code",
   "execution_count": 8,
   "metadata": {},
   "outputs": [],
   "source": [
    "HP_ITEM_ID_EMBEDDING_DIMS = hp.HParam('item_id_embedding_dims', hp.Discrete([8, 10, 12]))\n",
    "HP_ITEM_GICS_EMBEDDING_DIMS = hp.HParam('item_gics_embedding_dims', hp.Discrete([8, 10, 12]))\n",
    "HP_ITEM_NAME_EMBEDDING_DIMS = hp.HParam('item_name_embedding_dims')\n",
    "HP_USER_ID_EMBEDDING_DIMS = hp.HParam('user_id_embedding_dims', hp.Discrete([16,15]))\n",
    "HP_USER_TS_EMBEDDING_DIMS = hp.HParam('user_ts_embedding_dims')\n",
    "HP_EPOCHS = hp.HParam('EPOCHS', hp.Discrete([5,10,20]))\n",
    "\n",
    "HP_OPTIMIZER = hp.HParam('optimizer', hp.Discrete(['adam', 'sgd']))\n",
    "\n",
    "hp_doc_path = os.path.join(log_dir, 'hparam_tuning_{}'.format(datetime.now().strftime(\"%Y_%m_%d\")))\n",
    "\n",
    "with tf.summary.create_file_writer(hp_doc_path).as_default():\n",
    "  hp.hparams_config(\n",
    "    hparams=[\n",
    "      HP_OPTIMIZER,\n",
    "      HP_ITEM_ID_EMBEDDING_DIMS,\n",
    "      HP_ITEM_GICS_EMBEDDING_DIMS,\n",
    "      HP_ITEM_NAME_EMBEDDING_DIMS,\n",
    "      HP_USER_ID_EMBEDDING_DIMS,\n",
    "      HP_USER_TS_EMBEDDING_DIMS,\n",
    "      HP_EPOCHS\n",
    "      ],\n",
    "    metrics=[\n",
    "        hp.Metric('top_10_categorical_accuracy',\n",
    "        display_name='top_10_categorical_accuracy')\n",
    "        ],\n",
    "  )"
   ]
  },
  {
   "cell_type": "code",
   "execution_count": 9,
   "metadata": {},
   "outputs": [],
   "source": [
    "def run(run_dir, hparams):\n",
    "  with tf.summary.create_file_writer(run_dir).as_default():\n",
    "    hp.hparams(hparams)  # record the values used in this trial\n",
    "    top_10_categorical_accuracy = train_test_model(hparams)\n",
    "    tf.summary.scalar('top_10_categorical_accuracy', top_10_categorical_accuracy, step=1)"
   ]
  },
  {
   "cell_type": "code",
   "execution_count": 10,
   "metadata": {},
   "outputs": [],
   "source": [
    "def train_test_model(hparams):\n",
    "\n",
    "  model = Retriever(\n",
    "    use_timestamp = True,\n",
    "    portfolios = portfolios,\n",
    "    item_id_embedding_dim = hparams[HP_ITEM_ID_EMBEDDING_DIMS],\n",
    "    gics_embedding_dim = hparams[HP_ITEM_GICS_EMBEDDING_DIMS],\n",
    "    # name_embedding_dim = hparams[HP_ITEM_NAME_EMBEDDING_DIMS],\n",
    "    user_id_embedding_dim = hparams[HP_USER_ID_EMBEDDING_DIMS],\n",
    "    # ts_embedding_dim = hparams[HP_USER_TS_EMBEDDING_DIMS]\n",
    "    )\n",
    "\n",
    "  \n",
    "\n",
    "  model.compile(\n",
    "      optimizer=hparams[HP_OPTIMIZER]\n",
    "  )\n",
    "\n",
    "  # model.fit(x_train, y_train, epochs=1) # Run with 1 epoch to speed things up for demo purposes\n",
    "\n",
    "  model.fit(\n",
    "    train_ds, \n",
    "    epochs=hparams[HP_EPOCHS], \n",
    "    verbose = 1,\n",
    "    callbacks=[\n",
    "        # tf.keras.callbacks.TensorBoard(hp_doc_path),  # log metrics\n",
    "        # hp.KerasCallback(hp_doc_path, hparams),  # log hparams\n",
    "    ],\n",
    "    )\n",
    "  \n",
    "  res = model.evaluate(test_ds, return_dict= True)\n",
    "  # print(res)\n",
    "  return res['factorized_top_k/top_10_categorical_accuracy']"
   ]
  },
  {
   "cell_type": "code",
   "execution_count": 11,
   "metadata": {},
   "outputs": [
    {
     "name": "stdout",
     "output_type": "stream",
     "text": [
      "--- Starting trial: run-0\n",
      "{'optimizer': 'sgd', 'item_id_embedding_dims': 8, 'item_gics_embedding_dims': 8, 'item_name_embedding_dims': 16, 'user_id_embedding_dims': 16, 'user_ts_embedding_dims': 15, 'EPOCHS': 5}\n",
      "WARNING:tensorflow:From C:\\Users\\naradaw\\AppData\\Roaming\\Python\\Python39\\site-packages\\tensorflow\\python\\autograph\\pyct\\static_analysis\\liveness.py:83: Analyzer.lamba_check (from tensorflow.python.autograph.pyct.static_analysis.liveness) is deprecated and will be removed after 2023-09-23.\n",
      "Instructions for updating:\n",
      "Lambda fuctions will be no more assumed to be used in the statement where they are used, or at least in the same block. https://github.com/tensorflow/tensorflow/issues/56089\n"
     ]
    },
    {
     "name": "stdout",
     "output_type": "stream",
     "text": [
      "Epoch 1/5\n",
      "25/25 [==============================] - 3s 56ms/step - factorized_top_k/top_10_categorical_accuracy: 0.0123 - loss: 572.8158 - regularization_loss: 0.0000e+00 - total_loss: 572.8158\n",
      "Epoch 2/5\n",
      "25/25 [==============================] - 1s 54ms/step - factorized_top_k/top_10_categorical_accuracy: 0.0218 - loss: 572.1077 - regularization_loss: 0.0000e+00 - total_loss: 572.1077\n",
      "Epoch 3/5\n",
      "25/25 [==============================] - 1s 53ms/step - factorized_top_k/top_10_categorical_accuracy: 0.0188 - loss: 571.7426 - regularization_loss: 0.0000e+00 - total_loss: 571.7426\n",
      "Epoch 4/5\n",
      "25/25 [==============================] - 1s 53ms/step - factorized_top_k/top_10_categorical_accuracy: 0.0179 - loss: 571.7662 - regularization_loss: 0.0000e+00 - total_loss: 571.7662\n",
      "Epoch 5/5\n",
      "25/25 [==============================] - 1s 53ms/step - factorized_top_k/top_10_categorical_accuracy: 0.0192 - loss: 571.6602 - regularization_loss: 0.0000e+00 - total_loss: 571.6602\n",
      "7/7 [==============================] - 1s 55ms/step - factorized_top_k/top_10_categorical_accuracy: 0.0208 - loss: 465.0680 - regularization_loss: 0.0000e+00 - total_loss: 465.0680\n",
      "--- Starting trial: run-1\n",
      "{'optimizer': 'adam', 'item_id_embedding_dims': 12, 'item_gics_embedding_dims': 10, 'item_name_embedding_dims': 10, 'user_id_embedding_dims': 15, 'user_ts_embedding_dims': 16, 'EPOCHS': 5}\n",
      "Epoch 1/5\n",
      "25/25 [==============================] - 2s 53ms/step - factorized_top_k/top_10_categorical_accuracy: 0.0016 - loss: 574.0640 - regularization_loss: 0.0000e+00 - total_loss: 574.0640\n",
      "Epoch 2/5\n",
      "25/25 [==============================] - 1s 55ms/step - factorized_top_k/top_10_categorical_accuracy: 9.7498e-04 - loss: 573.5491 - regularization_loss: 0.0000e+00 - total_loss: 573.5491\n",
      "Epoch 3/5\n",
      "25/25 [==============================] - 1s 56ms/step - factorized_top_k/top_10_categorical_accuracy: 0.0013 - loss: 573.0661 - regularization_loss: 0.0000e+00 - total_loss: 573.0661\n",
      "Epoch 4/5\n",
      "25/25 [==============================] - 1s 58ms/step - factorized_top_k/top_10_categorical_accuracy: 0.0016 - loss: 572.4390 - regularization_loss: 0.0000e+00 - total_loss: 572.4390\n",
      "Epoch 5/5\n",
      "25/25 [==============================] - 1s 54ms/step - factorized_top_k/top_10_categorical_accuracy: 0.0016 - loss: 571.6433 - regularization_loss: 0.0000e+00 - total_loss: 571.6433\n",
      "7/7 [==============================] - 1s 54ms/step - factorized_top_k/top_10_categorical_accuracy: 0.0130 - loss: 465.1662 - regularization_loss: 0.0000e+00 - total_loss: 465.1662\n",
      "--- Starting trial: run-2\n",
      "{'optimizer': 'adam', 'item_id_embedding_dims': 10, 'item_gics_embedding_dims': 8, 'item_name_embedding_dims': 14, 'user_id_embedding_dims': 16, 'user_ts_embedding_dims': 15, 'EPOCHS': 5}\n",
      "Epoch 1/5\n",
      "25/25 [==============================] - 2s 55ms/step - factorized_top_k/top_10_categorical_accuracy: 9.7498e-04 - loss: 573.5105 - regularization_loss: 0.0000e+00 - total_loss: 573.5105\n",
      "Epoch 2/5\n",
      "25/25 [==============================] - 1s 55ms/step - factorized_top_k/top_10_categorical_accuracy: 0.0019 - loss: 573.0987 - regularization_loss: 0.0000e+00 - total_loss: 573.0987\n",
      "Epoch 3/5\n",
      "25/25 [==============================] - 1s 55ms/step - factorized_top_k/top_10_categorical_accuracy: 0.0036 - loss: 572.6645 - regularization_loss: 0.0000e+00 - total_loss: 572.6645\n",
      "Epoch 4/5\n",
      "25/25 [==============================] - 1s 54ms/step - factorized_top_k/top_10_categorical_accuracy: 0.0049 - loss: 572.1343 - regularization_loss: 0.0000e+00 - total_loss: 572.1343\n",
      "Epoch 5/5\n",
      "25/25 [==============================] - 1s 54ms/step - factorized_top_k/top_10_categorical_accuracy: 0.0055 - loss: 571.3784 - regularization_loss: 0.0000e+00 - total_loss: 571.3784\n",
      "7/7 [==============================] - 1s 54ms/step - factorized_top_k/top_10_categorical_accuracy: 0.0039 - loss: 465.2958 - regularization_loss: 0.0000e+00 - total_loss: 465.2958\n",
      "--- Starting trial: run-3\n",
      "{'optimizer': 'adam', 'item_id_embedding_dims': 8, 'item_gics_embedding_dims': 10, 'item_name_embedding_dims': 14, 'user_id_embedding_dims': 16, 'user_ts_embedding_dims': 15, 'EPOCHS': 10}\n",
      "Epoch 1/10\n",
      "25/25 [==============================] - 2s 56ms/step - factorized_top_k/top_10_categorical_accuracy: 0.0016 - loss: 573.9045 - regularization_loss: 0.0000e+00 - total_loss: 573.9045\n",
      "Epoch 2/10\n",
      "25/25 [==============================] - 1s 54ms/step - factorized_top_k/top_10_categorical_accuracy: 0.0036 - loss: 573.4319 - regularization_loss: 0.0000e+00 - total_loss: 573.4319\n",
      "Epoch 3/10\n",
      "25/25 [==============================] - 1s 54ms/step - factorized_top_k/top_10_categorical_accuracy: 0.0039 - loss: 572.9265 - regularization_loss: 0.0000e+00 - total_loss: 572.9265\n",
      "Epoch 4/10\n",
      "25/25 [==============================] - 1s 54ms/step - factorized_top_k/top_10_categorical_accuracy: 0.0039 - loss: 572.3491 - regularization_loss: 0.0000e+00 - total_loss: 572.3491\n",
      "Epoch 5/10\n",
      "25/25 [==============================] - 2s 65ms/step - factorized_top_k/top_10_categorical_accuracy: 0.0058 - loss: 571.5076 - regularization_loss: 0.0000e+00 - total_loss: 571.5076\n",
      "Epoch 6/10\n",
      "25/25 [==============================] - 2s 75ms/step - factorized_top_k/top_10_categorical_accuracy: 0.0058 - loss: 570.3830 - regularization_loss: 0.0000e+00 - total_loss: 570.3830\n",
      "Epoch 7/10\n",
      "25/25 [==============================] - 2s 72ms/step - factorized_top_k/top_10_categorical_accuracy: 0.0071 - loss: 568.9076 - regularization_loss: 0.0000e+00 - total_loss: 568.9076\n",
      "Epoch 8/10\n",
      "25/25 [==============================] - 2s 75ms/step - factorized_top_k/top_10_categorical_accuracy: 0.0081 - loss: 567.0518 - regularization_loss: 0.0000e+00 - total_loss: 567.0518\n",
      "Epoch 9/10\n",
      "25/25 [==============================] - 2s 78ms/step - factorized_top_k/top_10_categorical_accuracy: 0.0091 - loss: 564.7092 - regularization_loss: 0.0000e+00 - total_loss: 564.7092\n",
      "Epoch 10/10\n",
      "25/25 [==============================] - 2s 76ms/step - factorized_top_k/top_10_categorical_accuracy: 0.0088 - loss: 561.9839 - regularization_loss: 0.0000e+00 - total_loss: 561.9839\n",
      "7/7 [==============================] - 1s 73ms/step - factorized_top_k/top_10_categorical_accuracy: 0.0117 - loss: 463.0478 - regularization_loss: 0.0000e+00 - total_loss: 463.0478\n",
      "--- Starting trial: run-4\n",
      "{'optimizer': 'sgd', 'item_id_embedding_dims': 12, 'item_gics_embedding_dims': 8, 'item_name_embedding_dims': 12, 'user_id_embedding_dims': 15, 'user_ts_embedding_dims': 16, 'EPOCHS': 20}\n",
      "Epoch 1/20\n",
      "25/25 [==============================] - 2s 71ms/step - factorized_top_k/top_10_categorical_accuracy: 0.0153 - loss: 572.7618 - regularization_loss: 0.0000e+00 - total_loss: 572.7618\n",
      "Epoch 2/20\n",
      "25/25 [==============================] - 2s 73ms/step - factorized_top_k/top_10_categorical_accuracy: 0.0234 - loss: 571.9867 - regularization_loss: 0.0000e+00 - total_loss: 571.9867\n",
      "Epoch 3/20\n",
      "25/25 [==============================] - 2s 70ms/step - factorized_top_k/top_10_categorical_accuracy: 0.0205 - loss: 571.7579 - regularization_loss: 0.0000e+00 - total_loss: 571.7579\n",
      "Epoch 4/20\n",
      "25/25 [==============================] - 2s 70ms/step - factorized_top_k/top_10_categorical_accuracy: 0.0195 - loss: 571.6080 - regularization_loss: 0.0000e+00 - total_loss: 571.6080\n",
      "Epoch 5/20\n",
      "25/25 [==============================] - 2s 71ms/step - factorized_top_k/top_10_categorical_accuracy: 0.0221 - loss: 571.5929 - regularization_loss: 0.0000e+00 - total_loss: 571.5929\n",
      "Epoch 6/20\n",
      "25/25 [==============================] - 2s 69ms/step - factorized_top_k/top_10_categorical_accuracy: 0.0192 - loss: 571.4202 - regularization_loss: 0.0000e+00 - total_loss: 571.4202\n",
      "Epoch 7/20\n",
      "25/25 [==============================] - 2s 76ms/step - factorized_top_k/top_10_categorical_accuracy: 0.0182 - loss: 571.4239 - regularization_loss: 0.0000e+00 - total_loss: 571.4239\n",
      "Epoch 8/20\n",
      "25/25 [==============================] - 2s 68ms/step - factorized_top_k/top_10_categorical_accuracy: 0.0211 - loss: 571.2249 - regularization_loss: 0.0000e+00 - total_loss: 571.2249\n",
      "Epoch 9/20\n",
      "25/25 [==============================] - 2s 71ms/step - factorized_top_k/top_10_categorical_accuracy: 0.0153 - loss: 570.9959 - regularization_loss: 0.0000e+00 - total_loss: 570.9959\n",
      "Epoch 10/20\n",
      "25/25 [==============================] - 2s 73ms/step - factorized_top_k/top_10_categorical_accuracy: 0.0130 - loss: 570.7023 - regularization_loss: 0.0000e+00 - total_loss: 570.7023\n",
      "Epoch 11/20\n",
      "25/25 [==============================] - 2s 75ms/step - factorized_top_k/top_10_categorical_accuracy: 0.0218 - loss: 570.3407 - regularization_loss: 0.0000e+00 - total_loss: 570.3407\n",
      "Epoch 12/20\n",
      "25/25 [==============================] - 2s 74ms/step - factorized_top_k/top_10_categorical_accuracy: 0.0266 - loss: 569.8207 - regularization_loss: 0.0000e+00 - total_loss: 569.8207\n",
      "Epoch 13/20\n",
      "25/25 [==============================] - 2s 72ms/step - factorized_top_k/top_10_categorical_accuracy: 0.0231 - loss: 569.0237 - regularization_loss: 0.0000e+00 - total_loss: 569.0237\n",
      "Epoch 14/20\n",
      "25/25 [==============================] - 2s 71ms/step - factorized_top_k/top_10_categorical_accuracy: 0.0283 - loss: 568.1102 - regularization_loss: 0.0000e+00 - total_loss: 568.1102\n",
      "Epoch 15/20\n",
      "25/25 [==============================] - 2s 70ms/step - factorized_top_k/top_10_categorical_accuracy: 0.0263 - loss: 566.8683 - regularization_loss: 0.0000e+00 - total_loss: 566.8683\n",
      "Epoch 16/20\n",
      "25/25 [==============================] - 2s 72ms/step - factorized_top_k/top_10_categorical_accuracy: 0.0292 - loss: 565.0922 - regularization_loss: 0.0000e+00 - total_loss: 565.0922\n",
      "Epoch 17/20\n",
      "25/25 [==============================] - 2s 71ms/step - factorized_top_k/top_10_categorical_accuracy: 0.0292 - loss: 563.1562 - regularization_loss: 0.0000e+00 - total_loss: 563.1562\n",
      "Epoch 18/20\n",
      "25/25 [==============================] - 2s 72ms/step - factorized_top_k/top_10_categorical_accuracy: 0.0341 - loss: 560.8945 - regularization_loss: 0.0000e+00 - total_loss: 560.8945\n",
      "Epoch 19/20\n",
      "25/25 [==============================] - 2s 72ms/step - factorized_top_k/top_10_categorical_accuracy: 0.0351 - loss: 558.3876 - regularization_loss: 0.0000e+00 - total_loss: 558.3876\n",
      "Epoch 20/20\n",
      "25/25 [==============================] - 2s 70ms/step - factorized_top_k/top_10_categorical_accuracy: 0.0351 - loss: 555.4618 - regularization_loss: 0.0000e+00 - total_loss: 555.4618\n",
      "7/7 [==============================] - 1s 69ms/step - factorized_top_k/top_10_categorical_accuracy: 0.0130 - loss: 461.6338 - regularization_loss: 0.0000e+00 - total_loss: 461.6338\n"
     ]
    }
   ],
   "source": [
    "# deleting previous hp tuning records\n",
    "shutil.rmtree(hp_doc_path)\n",
    "\n",
    "# 32 minus is there to keep the embedding size same of users and items.\n",
    "session_num = 0\n",
    "combinations = 5\n",
    "while session_num < combinations:\n",
    "    \n",
    "    item_id_embedding_dims = choice(HP_ITEM_ID_EMBEDDING_DIMS.domain.values)\n",
    "    item_gics_embedding_dims = choice(HP_ITEM_GICS_EMBEDDING_DIMS.domain.values)\n",
    "\n",
    "    user_id_embedding_dims = choice(HP_USER_ID_EMBEDDING_DIMS.domain.values)\n",
    "\n",
    "    hparams = {\n",
    "            HP_OPTIMIZER: choice(HP_OPTIMIZER.domain.values),\n",
    "            HP_ITEM_ID_EMBEDDING_DIMS: item_id_embedding_dims,\n",
    "            HP_ITEM_GICS_EMBEDDING_DIMS: item_gics_embedding_dims,\n",
    "            HP_ITEM_NAME_EMBEDDING_DIMS: (32 - (item_id_embedding_dims + item_gics_embedding_dims)),\n",
    "            HP_USER_ID_EMBEDDING_DIMS: user_id_embedding_dims,\n",
    "            HP_USER_TS_EMBEDDING_DIMS: (32 - (user_id_embedding_dims + 1)),\n",
    "            HP_EPOCHS : choice(HP_EPOCHS.domain.values)\n",
    "        }\n",
    "    run_name = \"run-%d\" % session_num\n",
    "    print('--- Starting trial: %s' % run_name)\n",
    "    print({h.name: hparams[h] for h in hparams})\n",
    "    run(os.path.join(hp_doc_path, run_name), hparams)\n",
    "    session_num += 1"
   ]
  },
  {
   "cell_type": "code",
   "execution_count": 12,
   "metadata": {},
   "outputs": [],
   "source": [
    "# #\\hparam_tuning\n",
    "# %tensorboard --logdir logs\\fit"
   ]
  }
 ],
 "metadata": {
  "kernelspec": {
   "display_name": "atrad_cars_v2",
   "language": "python",
   "name": "python3"
  },
  "language_info": {
   "codemirror_mode": {
    "name": "ipython",
    "version": 3
   },
   "file_extension": ".py",
   "mimetype": "text/x-python",
   "name": "python",
   "nbconvert_exporter": "python",
   "pygments_lexer": "ipython3",
   "version": "3.9.19"
  }
 },
 "nbformat": 4,
 "nbformat_minor": 2
}
