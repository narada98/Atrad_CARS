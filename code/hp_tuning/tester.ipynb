{
 "cells": [
  {
   "cell_type": "code",
   "execution_count": 1,
   "metadata": {},
   "outputs": [],
   "source": [
    "import tensorflow as tf\n",
    "import tensorflow_recommenders as tfrs\n",
    "\n",
    "import numpy as np\n",
    "import pandas as pd"
   ]
  },
  {
   "cell_type": "code",
   "execution_count": 2,
   "metadata": {},
   "outputs": [
    {
     "name": "stdout",
     "output_type": "stream",
     "text": [
      "WARNING:tensorflow:From C:\\Users\\naradaw\\AppData\\Roaming\\Python\\Python39\\site-packages\\tensorflow\\python\\autograph\\pyct\\static_analysis\\liveness.py:83: Analyzer.lamba_check (from tensorflow.python.autograph.pyct.static_analysis.liveness) is deprecated and will be removed after 2023-09-23.\n",
      "Instructions for updating:\n",
      "Lambda fuctions will be no more assumed to be used in the statement where they are used, or at least in the same block. https://github.com/tensorflow/tensorflow/issues/56089\n"
     ]
    }
   ],
   "source": [
    "test_ds = tf.data.Dataset.load(\"D:/dev work/recommender systems/Atrad_CARS/data/test\").cache()\n",
    "\n",
    "portfolios = tf.data.Dataset.load(\"D:/dev work/recommender systems/Atrad_CARS/data/portfolios_tfds\").cache()\n",
    "\n",
    "items_ids = portfolios.batch(10000).map(lambda x: x[\"STOCKCODE\"])\n",
    "item_names = portfolios.batch(10000).map(lambda x: x[\"STOCKNAME\"])\n",
    "item_GICS = portfolios.batch(10000).map(lambda x: x[\"GICS\"])\n",
    "\n",
    "user_ids = portfolios.batch(10000).map(lambda x: x[\"CDSACCNO\"])\n",
    "\n",
    "unique_item_ids = np.unique(np.concatenate(list(items_ids)))\n",
    "unique_item_names = np.unique(np.concatenate(list(item_names)))\n",
    "unique_item_gics = np.unique(np.concatenate(list(item_GICS)))\n",
    "\n",
    "unique_user_ids = np.unique(np.concatenate(list(user_ids)))\n",
    "\n",
    "# need these to initialize timestamp embedding layers in future steps\n",
    "\n",
    "timestamps = np.concatenate(list(portfolios.map(lambda x: x[\"UNIX_TS\"]).batch(100)))\n",
    "max_timestamp = timestamps.max()\n",
    "min_timestamp = timestamps.min()\n",
    "\n",
    "timestamp_buckets = np.linspace(\n",
    "    min_timestamp, max_timestamp, num=1000,\n",
    ")"
   ]
  },
  {
   "cell_type": "code",
   "execution_count": 5,
   "metadata": {},
   "outputs": [],
   "source": [
    "item_embedding_dims = {\n",
    "    'item_id_dim' : 8,\n",
    "    'item_gics_dim' : 8,\n",
    "    'item_name_dim' : 16\n",
    "}\n",
    "\n",
    "user_embedding_dims = {\n",
    "    'user_id_dim' : 16,\n",
    "    'user_ts_dim' : 15\n",
    "}"
   ]
  },
  {
   "cell_type": "code",
   "execution_count": 6,
   "metadata": {},
   "outputs": [],
   "source": [
    "from retrieval_recommender import Retriever\n",
    "\n",
    "retriever = Retriever(\n",
    "    use_timestamp = True,\n",
    "    portfolios = portfolios,\n",
    "    item_embedding_dims = item_embedding_dims,\n",
    "    user_embedding_dims = user_embedding_dims\n",
    ")\n",
    "\n",
    "retriever.load_weights(\"D:/dev work/recommender systems/ATRAD_CARS/model_weights/2024_04_29/tf_retrival_2024_04_29_13_31\")\n",
    "\n",
    "retriever.compile(optimizer=tf.keras.optimizers.Adagrad(learning_rate=0.1))\n"
   ]
  },
  {
   "cell_type": "code",
   "execution_count": 8,
   "metadata": {},
   "outputs": [],
   "source": [
    "# from ranker_recommender import Ranker\n",
    "\n",
    "# ranker = Ranker(\n",
    "#     loss = tf.keras.losses.MeanSquaredError(),\n",
    "#     portfolios = portfolios\n",
    "# )\n",
    "\n",
    "# ranker.load_weights(r\"D:\\dev work\\recommender systems\\Atrad_CARS\\model_weights\\2024_04_29\\tf_listwise_ranking_2024_04_29_16_42\")\n",
    "# ranker.compile(optimizer=tf.keras.optimizers.Adagrad(learning_rate=0.1))\n"
   ]
  },
  {
   "cell_type": "code",
   "execution_count": 7,
   "metadata": {},
   "outputs": [
    {
     "name": "stdout",
     "output_type": "stream",
     "text": [
      "items data shape :: (280, 3)\n"
     ]
    }
   ],
   "source": [
    "stock_info = pd.read_excel('../../data/stock_data.xlsx')\n",
    "stock_info = stock_info.drop(['Unnamed: 0','buisnesssummary'],axis = 1)\n",
    "stock_info = stock_info.rename(columns = {\n",
    "    'symbol':'STOCKCODE',\n",
    "    'name' : 'STOCKNAME',\n",
    "    'gics_code' : 'GICS'\n",
    "})\n",
    "stock_info = stock_info[~stock_info['GICS'].isna()]\n",
    "\n",
    "stock_info.shape\n",
    "print(\"items data shape :: {}\".format(stock_info.shape))\n",
    "\n",
    "items_ds = tf.data.Dataset.from_tensor_slices(stock_info.to_dict(orient= 'list'))"
   ]
  },
  {
   "cell_type": "markdown",
   "metadata": {},
   "source": [
    "# Retriever function"
   ]
  },
  {
   "cell_type": "code",
   "execution_count": 8,
   "metadata": {},
   "outputs": [
    {
     "data": {
      "text/plain": [
       "TensorShape([280])"
      ]
     },
     "execution_count": 8,
     "metadata": {},
     "output_type": "execute_result"
    }
   ],
   "source": [
    "items_identiifiers = items_ds.map(lambda x: x[\"STOCKCODE\"])\n",
    "items_identiifiers = next(iter(items_identiifiers.batch(len(items_identiifiers))))\n",
    "items_identiifiers.shape"
   ]
  },
  {
   "cell_type": "code",
   "execution_count": 9,
   "metadata": {},
   "outputs": [
    {
     "data": {
      "text/plain": [
       "<tensorflow_recommenders.layers.factorized_top_k.BruteForce at 0x1a568dd2d30>"
      ]
     },
     "execution_count": 9,
     "metadata": {},
     "output_type": "execute_result"
    }
   ],
   "source": [
    "index = tfrs.layers.factorized_top_k.BruteForce(retriever.user_model)\n",
    "retriever_item_model = retriever.item_model\n",
    "mapped_items = items_ds.batch(len(items_ds)).map(lambda x : retriever_item_model(x, map_ = True))\n",
    "\n",
    "mapped_items_tensor = next(iter(mapped_items))\n",
    "index.index(mapped_items_tensor, items_identiifiers)"
   ]
  },
  {
   "cell_type": "code",
   "execution_count": 10,
   "metadata": {},
   "outputs": [],
   "source": [
    "# a test user ID & timestamp examples\n",
    "\n",
    "test_user = str('HNB-254-LC/00')\n",
    "test_timestamp = 1641999190.0"
   ]
  },
  {
   "cell_type": "code",
   "execution_count": 88,
   "metadata": {},
   "outputs": [
    {
     "name": "stdout",
     "output_type": "stream",
     "text": [
      "Recommendations for user HNB-254-LC/00: ['ACL', 'KCAB', 'TYRE', 'CARE', 'HASU', 'RICH', 'CCS', 'EXPO', 'HAYC', 'PARQ']\n"
     ]
    }
   ],
   "source": [
    "_, recommendations = index(\n",
    "    (\n",
    "        tf.constant([test_user]),\n",
    "        tf.constant([test_timestamp])\n",
    "        )\n",
    "    )\n",
    "\n",
    "recommendations = [reco.decode('utf-8') for reco in recommendations.numpy().flatten()]\n",
    "print(f\"Recommendations for user %s: {recommendations}\" %(test_user))\n",
    "# titles[0]"
   ]
  },
  {
   "cell_type": "markdown",
   "metadata": {},
   "source": [
    "# Ranker function"
   ]
  },
  {
   "cell_type": "code",
   "execution_count": 89,
   "metadata": {},
   "outputs": [
    {
     "data": {
      "text/html": [
       "<div>\n",
       "<style scoped>\n",
       "    .dataframe tbody tr th:only-of-type {\n",
       "        vertical-align: middle;\n",
       "    }\n",
       "\n",
       "    .dataframe tbody tr th {\n",
       "        vertical-align: top;\n",
       "    }\n",
       "\n",
       "    .dataframe thead th {\n",
       "        text-align: right;\n",
       "    }\n",
       "</style>\n",
       "<table border=\"1\" class=\"dataframe\">\n",
       "  <thead>\n",
       "    <tr style=\"text-align: right;\">\n",
       "      <th></th>\n",
       "      <th>STOCKCODE</th>\n",
       "      <th>STOCKNAME</th>\n",
       "      <th>GICS</th>\n",
       "    </tr>\n",
       "  </thead>\n",
       "  <tbody>\n",
       "    <tr>\n",
       "      <th>0</th>\n",
       "      <td>HBS</td>\n",
       "      <td>hSenid Business Solutions PLC</td>\n",
       "      <td>45103010 - Application Software</td>\n",
       "    </tr>\n",
       "    <tr>\n",
       "      <th>1</th>\n",
       "      <td>TYRE</td>\n",
       "      <td>KELANI TYRES PLC</td>\n",
       "      <td>Automobiles &amp; Components</td>\n",
       "    </tr>\n",
       "  </tbody>\n",
       "</table>\n",
       "</div>"
      ],
      "text/plain": [
       "  STOCKCODE                      STOCKNAME                             GICS\n",
       "0       HBS  hSenid Business Solutions PLC  45103010 - Application Software\n",
       "1      TYRE               KELANI TYRES PLC         Automobiles & Components"
      ]
     },
     "execution_count": 89,
     "metadata": {},
     "output_type": "execute_result"
    }
   ],
   "source": [
    "stock_info.head(2)"
   ]
  },
  {
   "cell_type": "code",
   "execution_count": 90,
   "metadata": {},
   "outputs": [],
   "source": [
    "code2name = dict(zip(stock_info.STOCKCODE, stock_info.STOCKNAME))\n",
    "code2gics = dict(zip(stock_info.STOCKCODE, stock_info.GICS))"
   ]
  },
  {
   "cell_type": "code",
   "execution_count": 93,
   "metadata": {},
   "outputs": [],
   "source": [
    "names = np.array([code2name[code] for code in recommendations])\n",
    "gics = np.array([code2gics[code] for code in recommendations])"
   ]
  },
  {
   "cell_type": "code",
   "execution_count": 105,
   "metadata": {},
   "outputs": [
    {
     "data": {
      "text/plain": [
       "array(['ACL CABLES PLC', 'KELANI CABLES PLC', 'KELANI TYRES PLC',\n",
       "       'PRINTCARE PLC', 'HNB ASSURANCE PLC',\n",
       "       'RICHARD PIERIS AND COMPANY PLC', 'CEYLON COLD STORES PLC',\n",
       "       'EXPOLANKA HOLDINGS PLC', 'HAYCARB PLC', 'SWISSTEK (CEYLON) PLC'],\n",
       "      dtype='<U30')"
      ]
     },
     "execution_count": 105,
     "metadata": {},
     "output_type": "execute_result"
    }
   ],
   "source": [
    "names"
   ]
  },
  {
   "cell_type": "code",
   "execution_count": 104,
   "metadata": {},
   "outputs": [],
   "source": [
    "user = {\n",
    "    'CDSACCNO' : np.array([test_user]),\n",
    "    'STOCKCODE' : np.array(recommendations).reshape(-1,10),\n",
    "    'GICS' : gics.reshape(-1,10),\n",
    "    'STOCKNAME' : names.reshape(-1,10)\n",
    "    }"
   ]
  },
  {
   "cell_type": "code",
   "execution_count": 109,
   "metadata": {},
   "outputs": [
    {
     "data": {
      "text/plain": [
       "array([['ACL CABLES PLC', 'KELANI CABLES PLC', 'KELANI TYRES PLC',\n",
       "        'PRINTCARE PLC', 'HNB ASSURANCE PLC',\n",
       "        'RICHARD PIERIS AND COMPANY PLC', 'CEYLON COLD STORES PLC',\n",
       "        'EXPOLANKA HOLDINGS PLC', 'HAYCARB PLC', 'SWISSTEK (CEYLON) PLC']],\n",
       "      dtype='<U30')"
      ]
     },
     "execution_count": 109,
     "metadata": {},
     "output_type": "execute_result"
    }
   ],
   "source": [
    "user['STOCKNAME']"
   ]
  },
  {
   "cell_type": "code",
   "execution_count": 112,
   "metadata": {},
   "outputs": [
    {
     "name": "stdout",
     "output_type": "stream",
     "text": [
      "(1, 10, 32)  |  (1, 10, 64)\n"
     ]
    },
    {
     "data": {
      "text/plain": [
       "array([2.1672614, 2.6092675, 1.1385504, 1.1015868, 1.8887022, 1.2175096,\n",
       "       2.1446908, 5.282713 , 1.5482672, 1.1381485], dtype=float32)"
      ]
     },
     "execution_count": 112,
     "metadata": {},
     "output_type": "execute_result"
    }
   ],
   "source": [
    "pred_ratings = ranker(user)\n",
    "pred_ratings.numpy().flatten()"
   ]
  },
  {
   "cell_type": "code",
   "execution_count": 117,
   "metadata": {},
   "outputs": [
    {
     "data": {
      "text/html": [
       "<div>\n",
       "<style scoped>\n",
       "    .dataframe tbody tr th:only-of-type {\n",
       "        vertical-align: middle;\n",
       "    }\n",
       "\n",
       "    .dataframe tbody tr th {\n",
       "        vertical-align: top;\n",
       "    }\n",
       "\n",
       "    .dataframe thead th {\n",
       "        text-align: right;\n",
       "    }\n",
       "</style>\n",
       "<table border=\"1\" class=\"dataframe\">\n",
       "  <thead>\n",
       "    <tr style=\"text-align: right;\">\n",
       "      <th></th>\n",
       "      <th>STOCKCODE</th>\n",
       "      <th>PRED_RATING</th>\n",
       "    </tr>\n",
       "  </thead>\n",
       "  <tbody>\n",
       "    <tr>\n",
       "      <th>7</th>\n",
       "      <td>EXPO</td>\n",
       "      <td>5.282713</td>\n",
       "    </tr>\n",
       "    <tr>\n",
       "      <th>1</th>\n",
       "      <td>KCAB</td>\n",
       "      <td>2.609267</td>\n",
       "    </tr>\n",
       "    <tr>\n",
       "      <th>0</th>\n",
       "      <td>ACL</td>\n",
       "      <td>2.167261</td>\n",
       "    </tr>\n",
       "    <tr>\n",
       "      <th>6</th>\n",
       "      <td>CCS</td>\n",
       "      <td>2.144691</td>\n",
       "    </tr>\n",
       "    <tr>\n",
       "      <th>4</th>\n",
       "      <td>HASU</td>\n",
       "      <td>1.888702</td>\n",
       "    </tr>\n",
       "    <tr>\n",
       "      <th>8</th>\n",
       "      <td>HAYC</td>\n",
       "      <td>1.548267</td>\n",
       "    </tr>\n",
       "    <tr>\n",
       "      <th>5</th>\n",
       "      <td>RICH</td>\n",
       "      <td>1.217510</td>\n",
       "    </tr>\n",
       "    <tr>\n",
       "      <th>2</th>\n",
       "      <td>TYRE</td>\n",
       "      <td>1.138550</td>\n",
       "    </tr>\n",
       "    <tr>\n",
       "      <th>9</th>\n",
       "      <td>PARQ</td>\n",
       "      <td>1.138149</td>\n",
       "    </tr>\n",
       "    <tr>\n",
       "      <th>3</th>\n",
       "      <td>CARE</td>\n",
       "      <td>1.101587</td>\n",
       "    </tr>\n",
       "  </tbody>\n",
       "</table>\n",
       "</div>"
      ],
      "text/plain": [
       "  STOCKCODE  PRED_RATING\n",
       "7      EXPO     5.282713\n",
       "1      KCAB     2.609267\n",
       "0       ACL     2.167261\n",
       "6       CCS     2.144691\n",
       "4      HASU     1.888702\n",
       "8      HAYC     1.548267\n",
       "5      RICH     1.217510\n",
       "2      TYRE     1.138550\n",
       "9      PARQ     1.138149\n",
       "3      CARE     1.101587"
      ]
     },
     "execution_count": 117,
     "metadata": {},
     "output_type": "execute_result"
    }
   ],
   "source": [
    "recommendations_w_ratings = pd.DataFrame()\n",
    "recommendations_w_ratings['STOCKCODE'] = recommendations\n",
    "recommendations_w_ratings['PRED_RATING'] = pred_ratings.numpy().flatten()\n",
    "recommendations_w_ratings = recommendations_w_ratings.sort_values( by = ['PRED_RATING'], ascending= False)\n",
    "recommendations_w_ratings"
   ]
  }
 ],
 "metadata": {
  "kernelspec": {
   "display_name": "atrad_cars_v2",
   "language": "python",
   "name": "python3"
  },
  "language_info": {
   "codemirror_mode": {
    "name": "ipython",
    "version": 3
   },
   "file_extension": ".py",
   "mimetype": "text/x-python",
   "name": "python",
   "nbconvert_exporter": "python",
   "pygments_lexer": "ipython3",
   "version": "3.9.19"
  }
 },
 "nbformat": 4,
 "nbformat_minor": 2
}
