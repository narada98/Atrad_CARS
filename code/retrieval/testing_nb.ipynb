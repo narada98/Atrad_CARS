{
 "cells": [
  {
   "cell_type": "code",
   "execution_count": 1,
   "metadata": {},
   "outputs": [],
   "source": [
    "import numpy as np\n",
    "import tensorflow as tf\n",
    "\n",
    "from recommender import Recommender\n",
    "import tensorflow_recommenders as tfrs\n",
    "import pandas as pd\n",
    "\n",
    "from item_embedding import ItemModel\n"
   ]
  },
  {
   "cell_type": "code",
   "execution_count": 2,
   "metadata": {},
   "outputs": [
    {
     "name": "stdout",
     "output_type": "stream",
     "text": [
      "WARNING:tensorflow:From C:\\Users\\naradaw\\AppData\\Roaming\\Python\\Python39\\site-packages\\tensorflow\\python\\autograph\\pyct\\static_analysis\\liveness.py:83: Analyzer.lamba_check (from tensorflow.python.autograph.pyct.static_analysis.liveness) is deprecated and will be removed after 2023-09-23.\n",
      "Instructions for updating:\n",
      "Lambda fuctions will be no more assumed to be used in the statement where they are used, or at least in the same block. https://github.com/tensorflow/tensorflow/issues/56089\n"
     ]
    }
   ],
   "source": [
    "test_ds = tf.data.Dataset.load(\"D:/dev work/recommender systems/Atrad_CARS/data/test\").cache()\n",
    "\n",
    "portfolios = tf.data.Dataset.load(\"D:/dev work/recommender systems/Atrad_CARS/data/portfolios_tfds\").cache()\n",
    "\n",
    "items_ids = portfolios.batch(10000).map(lambda x: x[\"STOCKCODE\"])\n",
    "item_names = portfolios.batch(10000).map(lambda x: x[\"STOCKNAME\"])\n",
    "item_GICS = portfolios.batch(10000).map(lambda x: x[\"GICS\"])\n",
    "\n",
    "user_ids = portfolios.batch(10000).map(lambda x: x[\"CDSACCNO\"])\n",
    "\n",
    "unique_item_ids = np.unique(np.concatenate(list(items_ids)))\n",
    "unique_item_names = np.unique(np.concatenate(list(item_names)))\n",
    "unique_item_gics = np.unique(np.concatenate(list(item_GICS)))\n",
    "\n",
    "unique_user_ids = np.unique(np.concatenate(list(user_ids)))\n",
    "\n",
    "# need these to initialize timestamp embedding layers in future steps\n",
    "\n",
    "timestamps = np.concatenate(list(portfolios.map(lambda x: x[\"UNIX_TS\"]).batch(100)))\n",
    "\n",
    "max_timestamp = timestamps.max()\n",
    "min_timestamp = timestamps.min()\n",
    "\n",
    "timestamp_buckets = np.linspace(\n",
    "    min_timestamp, max_timestamp, num=1000,\n",
    ")"
   ]
  },
  {
   "cell_type": "code",
   "execution_count": 3,
   "metadata": {},
   "outputs": [
    {
     "data": {
      "text/plain": [
       "3847"
      ]
     },
     "execution_count": 3,
     "metadata": {},
     "output_type": "execute_result"
    }
   ],
   "source": [
    "len(portfolios)"
   ]
  },
  {
   "cell_type": "code",
   "execution_count": 42,
   "metadata": {},
   "outputs": [],
   "source": [
    "from recommender import Recommender\n",
    "\n",
    "loaded_model = Recommender(\n",
    "    use_timestamp = True,\n",
    "    portfolios = portfolios\n",
    ")\n"
   ]
  },
  {
   "cell_type": "code",
   "execution_count": 45,
   "metadata": {},
   "outputs": [
    {
     "name": "stdout",
     "output_type": "stream",
     "text": [
      "1/1 [==============================] - 0s 411ms/step - factorized_top_k/top_1_categorical_accuracy: 0.0182 - factorized_top_k/top_5_categorical_accuracy: 0.0195 - factorized_top_k/top_10_categorical_accuracy: 0.0195 - factorized_top_k/top_50_categorical_accuracy: 0.0416 - factorized_top_k/top_100_categorical_accuracy: 0.0819 - loss: 5169.8188 - regularization_loss: 0.0000e+00 - total_loss: 5169.8188\n"
     ]
    },
    {
     "data": {
      "text/plain": [
       "{'factorized_top_k/top_1_categorical_accuracy': 0.018205462023615837,\n",
       " 'factorized_top_k/top_5_categorical_accuracy': 0.019505850970745087,\n",
       " 'factorized_top_k/top_10_categorical_accuracy': 0.019505850970745087,\n",
       " 'factorized_top_k/top_50_categorical_accuracy': 0.04161248356103897,\n",
       " 'factorized_top_k/top_100_categorical_accuracy': 0.08192458003759384,\n",
       " 'loss': 5169.81884765625,\n",
       " 'regularization_loss': 0,\n",
       " 'total_loss': 5169.81884765625}"
      ]
     },
     "execution_count": 45,
     "metadata": {},
     "output_type": "execute_result"
    }
   ],
   "source": [
    "loaded_model.load_weights(\"D:/dev work/recommender systems/ATRAD_CARS/model_weights/2024_04_29/tf_retrival_2024_04_29_13_31\")\n",
    "\n",
    "loaded_model.compile(optimizer=tf.keras.optimizers.Adagrad(learning_rate=0.1))\n",
    "\n",
    "loaded_model.evaluate(test_ds.shuffle(100_000).batch(1024), return_dict=True)"
   ]
  },
  {
   "cell_type": "code",
   "execution_count": 46,
   "metadata": {},
   "outputs": [
    {
     "data": {
      "text/plain": [
       "0.0158641972"
      ]
     },
     "execution_count": 46,
     "metadata": {},
     "output_type": "execute_result"
    }
   ],
   "source": [
    "1.58641972e-02"
   ]
  },
  {
   "cell_type": "code",
   "execution_count": 47,
   "metadata": {},
   "outputs": [
    {
     "data": {
      "text/plain": [
       "<tf.Variable 'embedding_9/embeddings:0' shape=(34, 8) dtype=float32, numpy=\n",
       "array([[ 1.58641972e-02, -3.76168862e-02,  2.27185749e-02,\n",
       "         3.82469781e-02,  2.58139856e-02, -8.58383253e-03,\n",
       "        -3.82197984e-02, -3.44697237e-02],\n",
       "       [-4.76456583e-02,  1.89965412e-01, -5.21973252e-01,\n",
       "         4.70650941e-02,  7.25552738e-02,  2.62920223e-02,\n",
       "        -2.83564180e-01, -4.05938961e-02],\n",
       "       [-3.52241695e-01, -5.55856228e-01,  2.87445802e-02,\n",
       "         1.65968776e-01, -1.03208810e-01,  2.90869772e-01,\n",
       "        -4.84446794e-01, -2.33215779e-01],\n",
       "       [-1.25361979e+00,  1.01868367e+00,  2.22905323e-01,\n",
       "        -7.14606941e-01,  5.08995295e-01,  3.02225351e-01,\n",
       "         5.96825600e-01,  3.49049211e-01],\n",
       "       [ 3.29938382e-01,  1.67680293e-01,  2.82983214e-01,\n",
       "        -2.96394765e-01, -6.10856041e-02, -3.13666947e-02,\n",
       "         3.21693689e-01,  2.91164994e-01],\n",
       "       [-5.70660353e-01, -1.09546983e+00,  4.64174896e-01,\n",
       "        -7.35128284e-01,  7.74168849e-01,  7.96196699e-01,\n",
       "        -1.32925510e+00,  2.24929284e-02],\n",
       "       [ 9.25692976e-01, -8.92829061e-01,  7.00657547e-01,\n",
       "        -6.88394904e-01, -4.48133171e-01, -7.46662438e-01,\n",
       "         1.08578250e-01, -1.54607743e-02],\n",
       "       [ 5.38528740e-01,  2.87206411e-01, -1.21257138e+00,\n",
       "         1.00727940e+00,  1.10299981e+00, -1.00395417e+00,\n",
       "         2.85766751e-01,  3.07701789e-02],\n",
       "       [-2.08888873e-01,  2.93536723e-01,  3.93918425e-01,\n",
       "        -1.55364171e-01,  8.04910883e-02, -2.61739910e-01,\n",
       "        -1.58591092e-01,  7.04879686e-03],\n",
       "       [ 1.25731957e+00,  1.51829672e+00,  4.27485526e-01,\n",
       "        -8.57723594e-01, -1.15648532e+00,  2.05056861e-01,\n",
       "        -1.20748937e+00,  2.23699421e-01],\n",
       "       [-1.71993226e-01, -2.66569167e-01,  3.52839679e-01,\n",
       "        -6.95696939e-03, -6.07433468e-02,  2.10247055e-01,\n",
       "         2.40213245e-01,  1.71851106e-02],\n",
       "       [-6.64470613e-01, -5.83826125e-01, -2.18100369e-01,\n",
       "         1.04910553e+00, -9.97456789e-01,  1.30219674e+00,\n",
       "         2.78533511e-02, -4.13184427e-02],\n",
       "       [ 9.90731061e-01, -6.13496661e-01,  3.98174934e-02,\n",
       "        -6.20903552e-01,  5.02123058e-01,  4.84923512e-01,\n",
       "        -4.52350497e-01, -2.05806136e-01],\n",
       "       [ 4.12545726e-03, -1.72318891e-03,  2.13232443e-01,\n",
       "        -2.95570374e-01,  2.28717010e-02, -3.52140702e-02,\n",
       "        -9.65568870e-02,  1.96873710e-01],\n",
       "       [-4.73367609e-02, -7.71449327e-01, -1.18990690e-01,\n",
       "        -3.81233960e-01, -3.14767957e-01, -1.30373991e+00,\n",
       "         4.76267308e-01,  7.62579264e-03],\n",
       "       [ 3.74110639e-01, -1.10902870e+00, -8.05277586e-01,\n",
       "         7.98019052e-01, -7.78201997e-01, -1.03882039e+00,\n",
       "        -3.84030372e-01, -6.30491227e-02],\n",
       "       [ 8.43453646e-01,  1.14197350e+00, -2.71572620e-02,\n",
       "        -3.21570635e-01,  1.08063006e+00,  7.89838672e-01,\n",
       "         3.55878353e-01,  1.62220359e-01],\n",
       "       [ 2.55035996e-01, -6.88165724e-02, -2.31801346e-02,\n",
       "         1.20721921e-01, -3.95379186e-01, -3.88761945e-02,\n",
       "        -1.26261741e-01,  4.61597383e-01],\n",
       "       [ 1.22846432e-01,  1.48668781e-01, -1.04044765e-01,\n",
       "         1.44969240e-01,  1.33638084e-03, -1.67708695e-01,\n",
       "        -1.65051609e-01,  3.60481888e-01],\n",
       "       [ 7.25706220e-01, -8.88784587e-01, -4.15629804e-01,\n",
       "        -1.22750568e+00,  6.26405060e-01, -1.63352072e-01,\n",
       "         6.76075220e-01, -6.60152212e-02],\n",
       "       [-6.34525299e-01,  1.95212603e-01,  9.60005760e-01,\n",
       "         1.83964029e-01, -1.28023291e+00,  1.19338274e+00,\n",
       "         2.40813002e-01,  3.78951788e-01],\n",
       "       [-4.99449551e-01,  1.59000888e-01,  1.19715798e+00,\n",
       "         3.95292342e-01,  6.71214461e-01, -3.42405558e-01,\n",
       "         9.00758922e-01, -2.04663634e-01],\n",
       "       [ 2.05415741e-01, -7.21586406e-01, -2.07375407e-01,\n",
       "        -3.41272503e-01, -1.44912288e-01, -6.04991913e-01,\n",
       "         4.46775585e-01, -1.57950982e-01],\n",
       "       [ 9.31926847e-01,  1.35526419e-01, -7.10924029e-01,\n",
       "         2.04654947e-01, -7.63933122e-01,  6.87290549e-01,\n",
       "         8.78064156e-01, -2.87720025e-01],\n",
       "       [-4.23618764e-01,  2.21224114e-01,  5.54818928e-01,\n",
       "         3.49481821e-01, -8.00940767e-02,  9.73844901e-03,\n",
       "         4.12585706e-01, -2.00593174e-01],\n",
       "       [-1.01152349e+00, -5.05770564e-01, -8.33968580e-01,\n",
       "         6.52819037e-01,  8.37225616e-01,  3.21746051e-01,\n",
       "         8.75204504e-01,  1.02001481e-01],\n",
       "       [-2.18487665e-01, -6.02826551e-02,  6.96588397e-01,\n",
       "        -5.58632791e-01, -3.86933565e-01,  2.55125284e-01,\n",
       "        -4.76805568e-01, -9.15720910e-02],\n",
       "       [ 1.46363862e-03,  9.15791541e-02,  1.10088095e-01,\n",
       "        -2.31736928e-01,  4.43499833e-02,  1.50410175e-01,\n",
       "        -3.39844286e-01, -4.12378967e-01],\n",
       "       [-1.01108849e+00,  9.40283179e-01,  3.70578825e-01,\n",
       "        -3.56342256e-01,  6.48086905e-01, -6.37412071e-01,\n",
       "        -1.53652334e+00,  2.20407620e-02],\n",
       "       [ 4.22047563e-02,  3.20393682e-01,  5.15828073e-01,\n",
       "        -3.76679927e-01, -4.72262144e-01,  4.69409883e-01,\n",
       "        -5.37807882e-01, -5.47181845e-01],\n",
       "       [ 8.21941078e-01,  8.53244603e-01,  5.82405984e-01,\n",
       "        -3.53403807e-01, -1.70747191e-01, -3.92049134e-01,\n",
       "         1.10187221e+00,  2.21326187e-01],\n",
       "       [-3.12471986e-01,  9.75639224e-01, -1.98407471e-01,\n",
       "         7.63263345e-01,  4.11138654e-01, -1.49414018e-01,\n",
       "         6.34725451e-01, -2.22806428e-02],\n",
       "       [ 8.47331345e-01,  2.55296946e-01, -6.27137363e-01,\n",
       "         4.67533380e-01,  3.75427634e-01,  8.74526620e-01,\n",
       "         6.51434422e-01, -5.02712965e-01],\n",
       "       [ 3.77889425e-02,  9.27896559e-01, -6.92197323e-01,\n",
       "         5.38102031e-01, -2.02488214e-01, -4.58693415e-01,\n",
       "        -4.94260155e-02, -1.00887530e-01]], dtype=float32)>"
      ]
     },
     "execution_count": 47,
     "metadata": {},
     "output_type": "execute_result"
    }
   ],
   "source": [
    "trainable_variables = loaded_model.trainable_variables  # Replace 'retriever' with your model instance\n",
    "\n",
    "# # Count the total number of parameters\n",
    "# total_params = sum(param.num_elements for param in trainable_variables)\n",
    "\n",
    "# print(f\"Total Trainable Parameters: {total_params}\")\n",
    "\n",
    "trainable_variables[1]"
   ]
  },
  {
   "cell_type": "code",
   "execution_count": 6,
   "metadata": {},
   "outputs": [],
   "source": [
    "items = portfolios.map(lambda x: {\n",
    "'STOCKCODE' : x['STOCKCODE'],\n",
    "'STOCKNAME' : x['STOCKNAME'],\n",
    "'GICS' : x['GICS'],\n",
    "})"
   ]
  },
  {
   "cell_type": "code",
   "execution_count": 7,
   "metadata": {},
   "outputs": [
    {
     "data": {
      "text/plain": [
       "(282, 3)"
      ]
     },
     "execution_count": 7,
     "metadata": {},
     "output_type": "execute_result"
    }
   ],
   "source": [
    "stock_info = pd.read_excel('../../data/stock_data.xlsx')\n",
    "stock_info = stock_info.drop(['Unnamed: 0','buisnesssummary'],axis = 1)\n",
    "stock_info.shape"
   ]
  },
  {
   "cell_type": "code",
   "execution_count": 8,
   "metadata": {},
   "outputs": [
    {
     "data": {
      "text/html": [
       "<div>\n",
       "<style scoped>\n",
       "    .dataframe tbody tr th:only-of-type {\n",
       "        vertical-align: middle;\n",
       "    }\n",
       "\n",
       "    .dataframe tbody tr th {\n",
       "        vertical-align: top;\n",
       "    }\n",
       "\n",
       "    .dataframe thead th {\n",
       "        text-align: right;\n",
       "    }\n",
       "</style>\n",
       "<table border=\"1\" class=\"dataframe\">\n",
       "  <thead>\n",
       "    <tr style=\"text-align: right;\">\n",
       "      <th></th>\n",
       "      <th>symbol</th>\n",
       "      <th>name</th>\n",
       "      <th>gics_code</th>\n",
       "    </tr>\n",
       "  </thead>\n",
       "  <tbody>\n",
       "    <tr>\n",
       "      <th>277</th>\n",
       "      <td>HPWR</td>\n",
       "      <td>RESUS ENERGY PLC</td>\n",
       "      <td>Utilities</td>\n",
       "    </tr>\n",
       "    <tr>\n",
       "      <th>278</th>\n",
       "      <td>VLL</td>\n",
       "      <td>VIDULLANKA PLC</td>\n",
       "      <td>Utilities</td>\n",
       "    </tr>\n",
       "    <tr>\n",
       "      <th>279</th>\n",
       "      <td>VONE</td>\n",
       "      <td>VALLIBEL ONE PLC</td>\n",
       "      <td>Utilities</td>\n",
       "    </tr>\n",
       "    <tr>\n",
       "      <th>280</th>\n",
       "      <td>LGIL</td>\n",
       "      <td>LOLC GENERAL INSURANCE PLC</td>\n",
       "      <td>NaN</td>\n",
       "    </tr>\n",
       "    <tr>\n",
       "      <th>281</th>\n",
       "      <td>NAVF</td>\n",
       "      <td>NAMAL ACUITY VALUE FUND</td>\n",
       "      <td>NaN</td>\n",
       "    </tr>\n",
       "  </tbody>\n",
       "</table>\n",
       "</div>"
      ],
      "text/plain": [
       "    symbol                        name  gics_code\n",
       "277   HPWR            RESUS ENERGY PLC  Utilities\n",
       "278    VLL              VIDULLANKA PLC  Utilities\n",
       "279   VONE            VALLIBEL ONE PLC  Utilities\n",
       "280   LGIL  LOLC GENERAL INSURANCE PLC        NaN\n",
       "281   NAVF     NAMAL ACUITY VALUE FUND        NaN"
      ]
     },
     "execution_count": 8,
     "metadata": {},
     "output_type": "execute_result"
    }
   ],
   "source": [
    "stock_info.tail()"
   ]
  },
  {
   "cell_type": "code",
   "execution_count": 9,
   "metadata": {},
   "outputs": [],
   "source": [
    "stock_info = stock_info.rename(columns = {\n",
    "    'symbol':'STOCKCODE',\n",
    "    'name' : 'STOCKNAME',\n",
    "    'gics_code' : 'GICS'\n",
    "})"
   ]
  },
  {
   "cell_type": "code",
   "execution_count": 10,
   "metadata": {},
   "outputs": [
    {
     "data": {
      "text/plain": [
       "[b'45103010 - Application Software',\n",
       " b'Automobiles & Components',\n",
       " b'Banks',\n",
       " b'Banks Finance & Insurance',\n",
       " b'Capital Goods',\n",
       " b'Commercial & Professional Services',\n",
       " b'Consumer Durables & Apparel',\n",
       " b'Consumer Finance',\n",
       " b'Consumer Services',\n",
       " b'Diversified Financial Services',\n",
       " b'Diversified Financials',\n",
       " b'Energy',\n",
       " b'FOOD & STAPLES RETAILING',\n",
       " b'FOOD BEVERAGE & TOBACCO',\n",
       " b'Food Beverage & Tobacco',\n",
       " b'Health Care Equipment & Services',\n",
       " b'Household & Personal Products',\n",
       " b'Industrials',\n",
       " b'Insurance',\n",
       " b'Investment Banking & Brokerage',\n",
       " b'Materials',\n",
       " b'Materials (1510)',\n",
       " b'Multi-line Insurance',\n",
       " b'Power and Energy',\n",
       " b'Real Estate',\n",
       " b'Real Estate (6010)',\n",
       " b'Real Estate Development',\n",
       " b'Retailing',\n",
       " b'Services',\n",
       " b'Telecommunication Services',\n",
       " b'Trading',\n",
       " b'Transpotation',\n",
       " b'Utilities']"
      ]
     },
     "execution_count": 10,
     "metadata": {},
     "output_type": "execute_result"
    }
   ],
   "source": [
    "list(unique_item_gics)"
   ]
  },
  {
   "cell_type": "code",
   "execution_count": 11,
   "metadata": {},
   "outputs": [],
   "source": [
    "stock_info = stock_info[~stock_info['GICS'].isna()]"
   ]
  },
  {
   "cell_type": "code",
   "execution_count": 12,
   "metadata": {},
   "outputs": [
    {
     "data": {
      "text/html": [
       "<div>\n",
       "<style scoped>\n",
       "    .dataframe tbody tr th:only-of-type {\n",
       "        vertical-align: middle;\n",
       "    }\n",
       "\n",
       "    .dataframe tbody tr th {\n",
       "        vertical-align: top;\n",
       "    }\n",
       "\n",
       "    .dataframe thead th {\n",
       "        text-align: right;\n",
       "    }\n",
       "</style>\n",
       "<table border=\"1\" class=\"dataframe\">\n",
       "  <thead>\n",
       "    <tr style=\"text-align: right;\">\n",
       "      <th></th>\n",
       "      <th>STOCKCODE</th>\n",
       "      <th>STOCKNAME</th>\n",
       "      <th>GICS</th>\n",
       "    </tr>\n",
       "  </thead>\n",
       "  <tbody>\n",
       "    <tr>\n",
       "      <th>0</th>\n",
       "      <td>HBS</td>\n",
       "      <td>hSenid Business Solutions PLC</td>\n",
       "      <td>45103010 - Application Software</td>\n",
       "    </tr>\n",
       "    <tr>\n",
       "      <th>1</th>\n",
       "      <td>TYRE</td>\n",
       "      <td>KELANI TYRES PLC</td>\n",
       "      <td>Automobiles &amp; Components</td>\n",
       "    </tr>\n",
       "  </tbody>\n",
       "</table>\n",
       "</div>"
      ],
      "text/plain": [
       "  STOCKCODE                      STOCKNAME                             GICS\n",
       "0       HBS  hSenid Business Solutions PLC  45103010 - Application Software\n",
       "1      TYRE               KELANI TYRES PLC         Automobiles & Components"
      ]
     },
     "execution_count": 12,
     "metadata": {},
     "output_type": "execute_result"
    }
   ],
   "source": [
    "stock_info.head(2)"
   ]
  },
  {
   "cell_type": "code",
   "execution_count": 13,
   "metadata": {},
   "outputs": [],
   "source": [
    "stock_info = stock_info.drop_duplicates()\n",
    "\n",
    "items_ds = tf.data.Dataset.from_tensor_slices(stock_info.to_dict(orient= 'list'))"
   ]
  },
  {
   "cell_type": "code",
   "execution_count": 14,
   "metadata": {},
   "outputs": [
    {
     "data": {
      "text/plain": [
       "{'STOCKCODE': <tf.Tensor: shape=(), dtype=string, numpy=b'HBS'>,\n",
       " 'STOCKNAME': <tf.Tensor: shape=(), dtype=string, numpy=b'hSenid Business Solutions PLC'>,\n",
       " 'GICS': <tf.Tensor: shape=(), dtype=string, numpy=b'45103010 - Application Software'>}"
      ]
     },
     "execution_count": 14,
     "metadata": {},
     "output_type": "execute_result"
    }
   ],
   "source": [
    "next(iter(items_ds))"
   ]
  },
  {
   "cell_type": "code",
   "execution_count": 15,
   "metadata": {},
   "outputs": [],
   "source": [
    "# Create a model that takes in raw query features, and\n",
    "index = tfrs.layers.factorized_top_k.BruteForce(loaded_model.user_model)"
   ]
  },
  {
   "cell_type": "code",
   "execution_count": 16,
   "metadata": {},
   "outputs": [],
   "source": [
    "test_item_model_mapper = ItemModel(\n",
    "    unique_item_ids,\n",
    "    unique_item_names,\n",
    "    unique_item_gics,\n",
    "    # map_ = True\n",
    ")"
   ]
  },
  {
   "cell_type": "code",
   "execution_count": 17,
   "metadata": {},
   "outputs": [],
   "source": [
    "mapped_items = items_ds.batch(len(items_ds)).map(lambda x : test_item_model_mapper(x, map_ = True))"
   ]
  },
  {
   "cell_type": "code",
   "execution_count": 18,
   "metadata": {},
   "outputs": [],
   "source": [
    "mapped_items_tensor = next(iter(mapped_items)) #.numpy()"
   ]
  },
  {
   "cell_type": "code",
   "execution_count": 19,
   "metadata": {},
   "outputs": [
    {
     "data": {
      "text/plain": [
       "TensorShape([280, 32])"
      ]
     },
     "execution_count": 19,
     "metadata": {},
     "output_type": "execute_result"
    }
   ],
   "source": [
    "mapped_items_tensor.shape"
   ]
  },
  {
   "cell_type": "code",
   "execution_count": 20,
   "metadata": {},
   "outputs": [
    {
     "data": {
      "text/plain": [
       "TensorShape([280])"
      ]
     },
     "execution_count": 20,
     "metadata": {},
     "output_type": "execute_result"
    }
   ],
   "source": [
    "items_identiifiers = items_ds.map(lambda x: x[\"STOCKCODE\"])\n",
    "items_identiifiers = next(iter(items_identiifiers.batch(len(items_identiifiers))))\n",
    "items_identiifiers.shape"
   ]
  },
  {
   "cell_type": "code",
   "execution_count": 21,
   "metadata": {},
   "outputs": [
    {
     "data": {
      "text/plain": [
       "<tensorflow_recommenders.layers.factorized_top_k.BruteForce at 0x1c201104ac0>"
      ]
     },
     "execution_count": 21,
     "metadata": {},
     "output_type": "execute_result"
    }
   ],
   "source": [
    "# recommends item out of the entire items dataset.\n",
    "# index.index(items.batch(100).map(loaded_model.item_model), items)\n",
    "\n",
    "index.index(mapped_items_tensor, items_identiifiers)"
   ]
  },
  {
   "cell_type": "code",
   "execution_count": 22,
   "metadata": {},
   "outputs": [
    {
     "data": {
      "text/plain": [
       "array([b'HNB-254-LC/00', b'RPS-13617-LI/00'], dtype=object)"
      ]
     },
     "execution_count": 22,
     "metadata": {},
     "output_type": "execute_result"
    }
   ],
   "source": [
    "unique_user_ids[:2]\n"
   ]
  },
  {
   "cell_type": "code",
   "execution_count": 23,
   "metadata": {},
   "outputs": [
    {
     "data": {
      "text/plain": [
       "'HNB-254-LC/00'"
      ]
     },
     "execution_count": 23,
     "metadata": {},
     "output_type": "execute_result"
    }
   ],
   "source": [
    "str('HNB-254-LC/00')"
   ]
  },
  {
   "cell_type": "code",
   "execution_count": 24,
   "metadata": {},
   "outputs": [
    {
     "data": {
      "text/plain": [
       "(1641999190.0, 1642070110.0, 1642141020.0)"
      ]
     },
     "execution_count": 24,
     "metadata": {},
     "output_type": "execute_result"
    }
   ],
   "source": [
    "1.64199919e+09, 1.64207011e+09, 1.64214102e+09"
   ]
  },
  {
   "cell_type": "code",
   "execution_count": null,
   "metadata": {},
   "outputs": [],
   "source": []
  },
  {
   "cell_type": "code",
   "execution_count": 55,
   "metadata": {},
   "outputs": [
    {
     "name": "stdout",
     "output_type": "stream",
     "text": [
      "Recommendations for user HNB-254-LC/00: [b'COF' b'VONE' b'LLUB' b'LVEF' b'HPWR' b'CPRT' b'AGAL' b'SDB' b'MSL'\n",
      " b'TESS']\n"
     ]
    }
   ],
   "source": [
    "# # recommends item out of the entire items dataset.\n",
    "# index.index(items.batch(100).map(lambda x : test_item_model_mapper(x, map = True)), items)\n",
    "\n",
    "# Get recommendations.\n",
    "user_id = str('HNB-254-LC/00')\n",
    "_, titles = index(\n",
    "    (\n",
    "        tf.constant([user_id]),\n",
    "        tf.constant([1.64199919e+09])\n",
    "        )\n",
    "    )\n",
    "print(f\"Recommendations for user %s: {titles[0]}\" %(user_id))"
   ]
  },
  {
   "cell_type": "code",
   "execution_count": null,
   "metadata": {},
   "outputs": [],
   "source": []
  }
 ],
 "metadata": {
  "kernelspec": {
   "display_name": "atrad_cars_v2",
   "language": "python",
   "name": "python3"
  },
  "language_info": {
   "codemirror_mode": {
    "name": "ipython",
    "version": 3
   },
   "file_extension": ".py",
   "mimetype": "text/x-python",
   "name": "python",
   "nbconvert_exporter": "python",
   "pygments_lexer": "ipython3",
   "version": "3.9.19"
  }
 },
 "nbformat": 4,
 "nbformat_minor": 2
}
