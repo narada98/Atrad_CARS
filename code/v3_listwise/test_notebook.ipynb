{
 "cells": [
  {
   "cell_type": "code",
   "execution_count": 55,
   "metadata": {},
   "outputs": [],
   "source": [
    "import tensorflow as tf"
   ]
  },
  {
   "cell_type": "code",
   "execution_count": 56,
   "metadata": {},
   "outputs": [],
   "source": [
    "import tensorflow.keras as keras"
   ]
  },
  {
   "cell_type": "code",
   "execution_count": 57,
   "metadata": {},
   "outputs": [],
   "source": [
    "import os\n",
    "import pprint\n",
    "import tempfile\n",
    "\n",
    "from typing import Dict, Text\n",
    "\n",
    "import numpy as np\n",
    "import tensorflow as tf\n",
    "# import tensorflow_datasets as tfds\n",
    "import tensorflow_recommenders as tfrs"
   ]
  },
  {
   "cell_type": "markdown",
   "metadata": {},
   "source": [
    "# Utils"
   ]
  },
  {
   "cell_type": "code",
   "execution_count": 58,
   "metadata": {},
   "outputs": [],
   "source": [
    "import array\n",
    "import collections\n",
    "\n",
    "from typing import Dict, List, Optional, Text, Tuple\n",
    "\n",
    "def _create_feature_dict() -> Dict[Text, List[tf.Tensor]]:\n",
    "  return {\"STOCKCODE\": [], \"RATING\": [], \"GICS\": [], \"STOCKNAME\": [], \"UNIX_TS\": []}\n",
    "\n",
    "def _sample_list(\n",
    "    feature_lists: Dict[Text, List[tf.Tensor]],\n",
    "    num_examples_per_list: int,\n",
    "    random_state: Optional[np.random.RandomState] = None,\n",
    ") -> Tuple[tf.Tensor, tf.Tensor]:\n",
    "  \"\"\"Function for sampling a list example from given feature lists.\"\"\"\n",
    "  if random_state is None:\n",
    "    random_state = np.random.RandomState()\n",
    "\n",
    "  sampled_indices = random_state.choice(\n",
    "      range(len(feature_lists[\"STOCKCODE\"])),\n",
    "      size=num_examples_per_list,\n",
    "      replace=False,\n",
    "  )\n",
    "  sampled_STOCKCODE = [\n",
    "      feature_lists[\"STOCKCODE\"][idx] for idx in sampled_indices\n",
    "  ]\n",
    "  sampled_RATING = [\n",
    "      feature_lists[\"RATING\"][idx]\n",
    "      for idx in sampled_indices\n",
    "  ]\n",
    "  sampled_GICS = [\n",
    "      feature_lists[\"GICS\"][idx] for idx in sampled_indices\n",
    "  ]\n",
    "  sampled_STOCKNAME = [\n",
    "      feature_lists[\"STOCKNAME\"][idx]\n",
    "      for idx in sampled_indices\n",
    "  ]\n",
    "  sampled_UNIX_TS = [\n",
    "      feature_lists[\"UNIX_TS\"][idx] for idx in sampled_indices\n",
    "  ]\n",
    "\n",
    "  return (\n",
    "      tf.stack(sampled_STOCKCODE, 0),\n",
    "      tf.stack(sampled_RATING, 0),\n",
    "      tf.stack(sampled_GICS, 0),\n",
    "      tf.stack(sampled_STOCKNAME, 0),\n",
    "      tf.stack(sampled_UNIX_TS, 0)\n",
    "  )\n",
    "\n",
    "\n",
    "def sample_listwise(\n",
    "    rating_dataset: tf.data.Dataset,\n",
    "    num_list_per_user: int = 10,\n",
    "    num_examples_per_list: int = 10,\n",
    "    seed: Optional[int] = None,\n",
    ") -> tf.data.Dataset:\n",
    "  \n",
    "  random_state = np.random.RandomState(seed)\n",
    "\n",
    "  example_lists_by_user = collections.defaultdict(_create_feature_dict)\n",
    "\n",
    "  movie_title_vocab = set()\n",
    "  for example in rating_dataset:\n",
    "    user_id = example[\"CDSACCNO\"].numpy()\n",
    "    example_lists_by_user[user_id][\"STOCKCODE\"].append(\n",
    "        example[\"STOCKCODE\"])\n",
    "    example_lists_by_user[user_id][\"RATING\"].append(\n",
    "        example[\"RATING\"])\n",
    "    example_lists_by_user[user_id][\"GICS\"].append(\n",
    "        example[\"GICS\"])\n",
    "    example_lists_by_user[user_id][\"STOCKNAME\"].append(\n",
    "        example[\"STOCKNAME\"])\n",
    "    example_lists_by_user[user_id][\"UNIX_TS\"].append(\n",
    "        example[\"UNIX_TS\"])\n",
    "    \n",
    "    movie_title_vocab.add(example[\"STOCKNAME\"].numpy())\n",
    "\n",
    "    \n",
    "\n",
    "  tensor_slices = {\"CDSACCNO\": [], \"STOCKCODE\": [], \"RATING\": [], \"GICS\": [], \"STOCKNAME\": [], \"UNIX_TS\": []}\n",
    "\n",
    "  for user_id, feature_lists in example_lists_by_user.items():\n",
    "    for _ in range(num_list_per_user):\n",
    "\n",
    "      # Drop the user if they don't have enough ratings.\n",
    "      if len(feature_lists[\"STOCKNAME\"]) < num_examples_per_list:\n",
    "        continue\n",
    "\n",
    "        '''sampled_STOCKCODE, 0),\n",
    "      tf.stack(sampled_RATING, 0),\n",
    "      tf.stack(sampled_GICS, 0),\n",
    "      tf.stack(sampled_STOCKNAME, 0),\n",
    "      tf.stack(sampled_UNIX_TS'''\n",
    "\n",
    "      sampled_STOCKCODE, sampled_RATING, sampled_GICS, sampled_STOCKNAME, sampled_UNIX_TS  = _sample_list(\n",
    "          feature_lists,\n",
    "          num_examples_per_list,\n",
    "          random_state=random_state,\n",
    "      )\n",
    "      tensor_slices[\"CDSACCNO\"].append(user_id)\n",
    "      tensor_slices[\"STOCKCODE\"].append(sampled_STOCKCODE)\n",
    "      tensor_slices[\"RATING\"].append(sampled_RATING)\n",
    "      tensor_slices[\"GICS\"].append(sampled_GICS)\n",
    "      tensor_slices[\"STOCKNAME\"].append(sampled_STOCKNAME)\n",
    "      tensor_slices[\"UNIX_TS\"].append(sampled_UNIX_TS)\n",
    "\n",
    "  return tf.data.Dataset.from_tensor_slices(tensor_slices)"
   ]
  },
  {
   "cell_type": "code",
   "execution_count": null,
   "metadata": {},
   "outputs": [],
   "source": []
  },
  {
   "cell_type": "markdown",
   "metadata": {},
   "source": [
    "# Work"
   ]
  },
  {
   "cell_type": "code",
   "execution_count": 59,
   "metadata": {},
   "outputs": [],
   "source": [
    "portfolios = tf.data.Dataset.load(\"../../data/portfolios_tfds_lists\")"
   ]
  },
  {
   "cell_type": "code",
   "execution_count": 60,
   "metadata": {},
   "outputs": [],
   "source": [
    "train_ds = tf.data.Dataset.load(\"D:/dev work/recommender systems/Atrad_CARS/data/train_lists\").cache() #data\\ratings_train\n",
    "test_ds = tf.data.Dataset.load(\"D:/dev work/recommender systems/Atrad_CARS/data/test_lists\").cache()"
   ]
  },
  {
   "cell_type": "code",
   "execution_count": 61,
   "metadata": {},
   "outputs": [],
   "source": [
    "train_v1 = sample_listwise(\n",
    "    train_ds,\n",
    "    num_list_per_user=50,\n",
    "    num_examples_per_list=5,\n",
    "    seed=42\n",
    ")\n",
    "test_v1 = sample_listwise(\n",
    "    test_ds,\n",
    "    num_list_per_user=1,\n",
    "    num_examples_per_list=5,\n",
    "    seed=42\n",
    ")"
   ]
  },
  {
   "cell_type": "code",
   "execution_count": 62,
   "metadata": {},
   "outputs": [
    {
     "data": {
      "text/plain": [
       "{'CDSACCNO': <tf.Tensor: shape=(), dtype=string, numpy=b'RPS-23479-LI/00'>,\n",
       " 'STOCKCODE': <tf.Tensor: shape=(5,), dtype=string, numpy=array([b'CIC', b'AMSL', b'RAL', b'REG', b'AEL'], dtype=object)>,\n",
       " 'RATING': <tf.Tensor: shape=(5,), dtype=float32, numpy=array([4., 2., 5., 5., 2.], dtype=float32)>,\n",
       " 'GICS': <tf.Tensor: shape=(5,), dtype=string, numpy=\n",
       " array([b'Materials', b'Health Care Equipment & Services',\n",
       "        b'Food Beverage & Tobacco', b'Consumer Durables & Apparel',\n",
       "        b'Capital Goods'], dtype=object)>,\n",
       " 'STOCKNAME': <tf.Tensor: shape=(5,), dtype=string, numpy=\n",
       " array([b'C I C HOLDINGS PLC', b'ASIRI SURGICAL HOSPITAL PLC',\n",
       "        b'RENUKA AGRI FOODS PLC', b'REGNIS (LANKA) PLC',\n",
       "        b'ACCESS ENGINEERING PLC'], dtype=object)>,\n",
       " 'UNIX_TS': <tf.Tensor: shape=(5,), dtype=float32, numpy=\n",
       " array([1.6475418e+09, 1.6681050e+09, 1.7100954e+09, 1.7030970e+09,\n",
       "        1.6655994e+09], dtype=float32)>}"
      ]
     },
     "execution_count": 62,
     "metadata": {},
     "output_type": "execute_result"
    }
   ],
   "source": [
    "next(iter(train_v1))"
   ]
  },
  {
   "cell_type": "code",
   "execution_count": null,
   "metadata": {},
   "outputs": [],
   "source": []
  },
  {
   "cell_type": "code",
   "execution_count": null,
   "metadata": {},
   "outputs": [],
   "source": []
  },
  {
   "cell_type": "code",
   "execution_count": null,
   "metadata": {},
   "outputs": [],
   "source": []
  },
  {
   "cell_type": "code",
   "execution_count": 63,
   "metadata": {},
   "outputs": [
    {
     "data": {
      "text/plain": [
       "5"
      ]
     },
     "execution_count": 63,
     "metadata": {},
     "output_type": "execute_result"
    }
   ],
   "source": [
    "next(iter(train_v1.take(1)))['STOCKCODE'].shape[0]"
   ]
  },
  {
   "cell_type": "code",
   "execution_count": 64,
   "metadata": {},
   "outputs": [],
   "source": [
    "# train_v1.save(\"../../data/train_lists_ds\")\n",
    "# test_v1.save(\"../../data/test_lists_ds\")"
   ]
  },
  {
   "cell_type": "code",
   "execution_count": 65,
   "metadata": {},
   "outputs": [],
   "source": [
    "train_ds = tf.data.Dataset.load(\"D:/dev work/recommender systems/Atrad_CARS/data/train\").cache() #data\\ratings_train\n",
    "test_ds = tf.data.Dataset.load(\"D:/dev work/recommender systems/Atrad_CARS/data/test\").cache()\n",
    "portfolios = tf.data.Dataset.load(\"D:/dev work/recommender systems/Atrad_CARS/data/portfolios_tfds\").cache()\n",
    "\n",
    "train_list_ds = tf.data.Dataset.load(\"D:/dev work/recommender systems/Atrad_CARS/data/train_lists_ds\").batch(64).cache()\n",
    "test_list_ds = tf.data.Dataset.load(\"D:/dev work/recommender systems/Atrad_CARS/data/test_lists_ds\").batch(64).cache()\n",
    "\n",
    "items_ids = portfolios.batch(10000).map(lambda x: x[\"STOCKCODE\"])\n",
    "item_names = portfolios.batch(10000).map(lambda x: x[\"STOCKNAME\"])\n",
    "item_GICS = portfolios.batch(10000).map(lambda x: x[\"GICS\"])\n",
    "\n",
    "user_ids = portfolios.batch(10000).map(lambda x: x[\"CDSACCNO\"])\n",
    "\n",
    "unique_item_ids = np.unique(np.concatenate(list(items_ids)))\n",
    "unique_item_names = np.unique(np.concatenate(list(item_names)))\n",
    "unique_item_gics = np.unique(np.concatenate(list(item_GICS)))\n",
    "\n",
    "unique_user_ids = np.unique(np.concatenate(list(user_ids)))"
   ]
  },
  {
   "cell_type": "code",
   "execution_count": 66,
   "metadata": {},
   "outputs": [],
   "source": [
    "    from item_embedding import ItemModel\n",
    "    from user_embedding import UserModel\n",
    "    \n",
    "    item_model = ItemModel(\n",
    "      unique_item_ids = unique_item_ids,\n",
    "      unique_item_names = unique_item_names,\n",
    "      unique_item_gics = unique_item_gics\n",
    "    )\n",
    "\n",
    "    user_model = UserModel(\n",
    "      # use_timestamp = self.use_timestamp,\n",
    "      unique_user_ids = unique_user_ids, \n",
    "      # timestamps = self.timestamps, \n",
    "      # timestamp_buckets = self.timestamp_buckets\n",
    "    )"
   ]
  },
  {
   "cell_type": "code",
   "execution_count": 67,
   "metadata": {},
   "outputs": [
    {
     "data": {
      "text/plain": [
       "{'CDSACCNO': <tf.Tensor: shape=(2,), dtype=string, numpy=array([b'RPS-23479-LI/00', b'RPS-23479-LI/00'], dtype=object)>,\n",
       " 'STOCKCODE': <tf.Tensor: shape=(2, 5), dtype=string, numpy=\n",
       " array([[b'CIC', b'AMSL', b'RAL', b'REG', b'AEL'],\n",
       "        [b'RICH', b'TAFL', b'ASIY', b'MHDL', b'HPWR']], dtype=object)>,\n",
       " 'RATING': <tf.Tensor: shape=(2, 5), dtype=float32, numpy=\n",
       " array([[4., 2., 5., 5., 2.],\n",
       "        [3., 3., 2., 2., 3.]], dtype=float32)>,\n",
       " 'GICS': <tf.Tensor: shape=(2, 5), dtype=string, numpy=\n",
       " array([[b'Materials', b'Health Care Equipment & Services',\n",
       "         b'Food Beverage & Tobacco', b'Consumer Durables & Apparel',\n",
       "         b'Capital Goods'],\n",
       "        [b'Capital Goods', b'Food Beverage & Tobacco',\n",
       "         b'Diversified Financials', b'Real Estate', b'Utilities']],\n",
       "       dtype=object)>,\n",
       " 'STOCKNAME': <tf.Tensor: shape=(2, 5), dtype=string, numpy=\n",
       " array([[b'C I C HOLDINGS PLC', b'ASIRI SURGICAL HOSPITAL PLC',\n",
       "         b'RENUKA AGRI FOODS PLC', b'REGNIS (LANKA) PLC',\n",
       "         b'ACCESS ENGINEERING PLC'],\n",
       "        [b'RICHARD PIERIS AND COMPANY PLC', b'THREE ACRE FARMS PLC',\n",
       "         b'ASIA SIYAKA COMMODITIES LIMITED',\n",
       "         b'MILLENNIUM HOUSING DEVELOPERS PLC', b'RESUS ENERGY PLC']],\n",
       "       dtype=object)>,\n",
       " 'UNIX_TS': <tf.Tensor: shape=(2, 5), dtype=float32, numpy=\n",
       " array([[1.6475418e+09, 1.6681050e+09, 1.7100954e+09, 1.7030970e+09,\n",
       "         1.6655994e+09],\n",
       "        [1.6782138e+09, 1.6695738e+09, 1.6511706e+09, 1.6678458e+09,\n",
       "         1.6801146e+09]], dtype=float32)>}"
      ]
     },
     "execution_count": 67,
     "metadata": {},
     "output_type": "execute_result"
    }
   ],
   "source": [
    "test_batch = next(iter(train_v1.batch(2)))\n",
    "test_batch"
   ]
  },
  {
   "cell_type": "code",
   "execution_count": 68,
   "metadata": {},
   "outputs": [],
   "source": [
    "item_inp = (test_batch['STOCKCODE'], test_batch['GICS'])"
   ]
  },
  {
   "cell_type": "code",
   "execution_count": 69,
   "metadata": {},
   "outputs": [
    {
     "data": {
      "text/plain": [
       "<tf.Tensor: shape=(2, 5, 16), dtype=float32, numpy=\n",
       "array([[[ 0.02027139,  0.03421683,  0.02332293, -0.00800562,\n",
       "          0.02147484, -0.04843592, -0.02278808, -0.0417578 ,\n",
       "         -0.0095832 ,  0.03392471, -0.04290285, -0.00182943,\n",
       "         -0.00256759, -0.01172252,  0.00864651,  0.01223781],\n",
       "        [-0.01971546,  0.0445578 ,  0.00176143, -0.0092337 ,\n",
       "         -0.0124269 , -0.04070895,  0.02197586, -0.03128083,\n",
       "          0.00594584,  0.0028032 ,  0.00245892,  0.02495909,\n",
       "         -0.01231412, -0.02232845,  0.01659507,  0.01471267],\n",
       "        [ 0.04241122, -0.00896342, -0.01146943,  0.03083274,\n",
       "         -0.03076559, -0.00294992, -0.04222196,  0.04735878,\n",
       "         -0.0498374 ,  0.03867574,  0.01815366,  0.03661953,\n",
       "          0.01398901,  0.03755877,  0.02769006, -0.02311521],\n",
       "        [ 0.02542457,  0.03366946,  0.04267896, -0.00769471,\n",
       "         -0.008756  , -0.02367683,  0.02326988, -0.00152274,\n",
       "          0.04824715, -0.0225346 ,  0.01807832,  0.01734182,\n",
       "         -0.03202378,  0.0449124 ,  0.03280531,  0.03806699],\n",
       "        [-0.04058738, -0.01263433, -0.03971151,  0.00549282,\n",
       "         -0.03563975, -0.01692148, -0.0154187 ,  0.00921564,\n",
       "          0.00708593,  0.03626641, -0.03174913, -0.04634235,\n",
       "         -0.0377942 ,  0.03870806, -0.04001369, -0.01069175]],\n",
       "\n",
       "       [[-0.03072404, -0.00713899,  0.02406612, -0.03839654,\n",
       "          0.02285105,  0.01359291, -0.01328178, -0.01096702,\n",
       "          0.04415737,  0.00452584,  0.00779516, -0.01546824,\n",
       "         -0.03550583, -0.04544461,  0.04872788,  0.01859475],\n",
       "        [-0.03765956, -0.01354657,  0.03826908, -0.02731016,\n",
       "         -0.03848328,  0.00028974,  0.04563603, -0.02618935,\n",
       "         -0.00474923,  0.04752935,  0.03419873,  0.02294618,\n",
       "          0.00704262,  0.00053661,  0.02040951, -0.01116719],\n",
       "        [-0.04927462,  0.03069402,  0.02619376,  0.03493898,\n",
       "         -0.02482065, -0.04187363,  0.01538015,  0.02255085,\n",
       "         -0.02387403,  0.04641295, -0.04862933,  0.02062232,\n",
       "         -0.01615923,  0.01670093,  0.03581363,  0.03270094],\n",
       "        [-0.00330932, -0.0063653 ,  0.03857267,  0.0239411 ,\n",
       "         -0.0152108 , -0.03133919,  0.04465877,  0.04047488,\n",
       "          0.03262495,  0.04395527, -0.02438288, -0.03990554,\n",
       "         -0.01973226,  0.00113503, -0.01898828,  0.04014498],\n",
       "        [-0.00134537, -0.04107223, -0.03909824, -0.03470208,\n",
       "          0.00919601,  0.04178863,  0.04110313,  0.00966142,\n",
       "         -0.00815956,  0.01711017, -0.01640786, -0.02780821,\n",
       "         -0.01671054,  0.04037547, -0.02351685,  0.03820053]]],\n",
       "      dtype=float32)>"
      ]
     },
     "execution_count": 69,
     "metadata": {},
     "output_type": "execute_result"
    }
   ],
   "source": [
    "item_ = item_model(item_inp)\n",
    "\n",
    "item_"
   ]
  },
  {
   "cell_type": "code",
   "execution_count": 70,
   "metadata": {},
   "outputs": [
    {
     "data": {
      "text/plain": [
       "<tf.Tensor: shape=(2,), dtype=string, numpy=array([b'RPS-23479-LI/00', b'RPS-23479-LI/00'], dtype=object)>"
      ]
     },
     "execution_count": 70,
     "metadata": {},
     "output_type": "execute_result"
    }
   ],
   "source": [
    "user_inp = (test_batch['CDSACCNO'])\n",
    "user_inp"
   ]
  },
  {
   "cell_type": "code",
   "execution_count": 71,
   "metadata": {},
   "outputs": [
    {
     "data": {
      "text/plain": [
       "<tf.Tensor: shape=(2,), dtype=string, numpy=array([b'RPS-23479-LI/00', b'RPS-23479-LI/00'], dtype=object)>"
      ]
     },
     "execution_count": 71,
     "metadata": {},
     "output_type": "execute_result"
    }
   ],
   "source": [
    "(x) = user_inp\n",
    "x"
   ]
  },
  {
   "cell_type": "code",
   "execution_count": 72,
   "metadata": {},
   "outputs": [
    {
     "data": {
      "text/plain": [
       "<tf.Tensor: shape=(2, 32), dtype=float32, numpy=\n",
       "array([[-0.01576972, -0.02980126,  0.03946653,  0.03699971,  0.0421758 ,\n",
       "         0.01095795,  0.02795155, -0.04394399,  0.02154333,  0.02242194,\n",
       "         0.04396934, -0.01271524,  0.01019721,  0.03456024, -0.02960328,\n",
       "         0.04786277,  0.01620526,  0.02566824, -0.00571634, -0.02289718,\n",
       "         0.02162603, -0.02583183, -0.04870712, -0.04304484,  0.04947359,\n",
       "        -0.02751162,  0.01810508, -0.0017694 , -0.04887902, -0.01054118,\n",
       "        -0.01974896,  0.02722856],\n",
       "       [-0.01576972, -0.02980126,  0.03946653,  0.03699971,  0.0421758 ,\n",
       "         0.01095795,  0.02795155, -0.04394399,  0.02154333,  0.02242194,\n",
       "         0.04396934, -0.01271524,  0.01019721,  0.03456024, -0.02960328,\n",
       "         0.04786277,  0.01620526,  0.02566824, -0.00571634, -0.02289718,\n",
       "         0.02162603, -0.02583183, -0.04870712, -0.04304484,  0.04947359,\n",
       "        -0.02751162,  0.01810508, -0.0017694 , -0.04887902, -0.01054118,\n",
       "        -0.01974896,  0.02722856]], dtype=float32)>"
      ]
     },
     "execution_count": 72,
     "metadata": {},
     "output_type": "execute_result"
    }
   ],
   "source": [
    "user_ = user_model(user_inp)\n",
    "user_"
   ]
  },
  {
   "cell_type": "code",
   "execution_count": 73,
   "metadata": {},
   "outputs": [
    {
     "data": {
      "text/plain": [
       "5"
      ]
     },
     "execution_count": 73,
     "metadata": {},
     "output_type": "execute_result"
    }
   ],
   "source": [
    "list_length = test_batch['STOCKCODE'].shape[1]\n",
    "list_length"
   ]
  },
  {
   "cell_type": "code",
   "execution_count": 74,
   "metadata": {},
   "outputs": [
    {
     "data": {
      "text/plain": [
       "<tf.Tensor: shape=(2, 1, 32), dtype=float32, numpy=\n",
       "array([[[-0.01576972, -0.02980126,  0.03946653,  0.03699971,\n",
       "          0.0421758 ,  0.01095795,  0.02795155, -0.04394399,\n",
       "          0.02154333,  0.02242194,  0.04396934, -0.01271524,\n",
       "          0.01019721,  0.03456024, -0.02960328,  0.04786277,\n",
       "          0.01620526,  0.02566824, -0.00571634, -0.02289718,\n",
       "          0.02162603, -0.02583183, -0.04870712, -0.04304484,\n",
       "          0.04947359, -0.02751162,  0.01810508, -0.0017694 ,\n",
       "         -0.04887902, -0.01054118, -0.01974896,  0.02722856]],\n",
       "\n",
       "       [[-0.01576972, -0.02980126,  0.03946653,  0.03699971,\n",
       "          0.0421758 ,  0.01095795,  0.02795155, -0.04394399,\n",
       "          0.02154333,  0.02242194,  0.04396934, -0.01271524,\n",
       "          0.01019721,  0.03456024, -0.02960328,  0.04786277,\n",
       "          0.01620526,  0.02566824, -0.00571634, -0.02289718,\n",
       "          0.02162603, -0.02583183, -0.04870712, -0.04304484,\n",
       "          0.04947359, -0.02751162,  0.01810508, -0.0017694 ,\n",
       "         -0.04887902, -0.01054118, -0.01974896,  0.02722856]]],\n",
       "      dtype=float32)>"
      ]
     },
     "execution_count": 74,
     "metadata": {},
     "output_type": "execute_result"
    }
   ],
   "source": [
    "tf.expand_dims(user_, 1)"
   ]
  },
  {
   "cell_type": "code",
   "execution_count": 75,
   "metadata": {},
   "outputs": [
    {
     "data": {
      "text/plain": [
       "<tf.Tensor: shape=(2, 5, 32), dtype=float32, numpy=\n",
       "array([[[-0.01576972, -0.02980126,  0.03946653,  0.03699971,\n",
       "          0.0421758 ,  0.01095795,  0.02795155, -0.04394399,\n",
       "          0.02154333,  0.02242194,  0.04396934, -0.01271524,\n",
       "          0.01019721,  0.03456024, -0.02960328,  0.04786277,\n",
       "          0.01620526,  0.02566824, -0.00571634, -0.02289718,\n",
       "          0.02162603, -0.02583183, -0.04870712, -0.04304484,\n",
       "          0.04947359, -0.02751162,  0.01810508, -0.0017694 ,\n",
       "         -0.04887902, -0.01054118, -0.01974896,  0.02722856],\n",
       "        [-0.01576972, -0.02980126,  0.03946653,  0.03699971,\n",
       "          0.0421758 ,  0.01095795,  0.02795155, -0.04394399,\n",
       "          0.02154333,  0.02242194,  0.04396934, -0.01271524,\n",
       "          0.01019721,  0.03456024, -0.02960328,  0.04786277,\n",
       "          0.01620526,  0.02566824, -0.00571634, -0.02289718,\n",
       "          0.02162603, -0.02583183, -0.04870712, -0.04304484,\n",
       "          0.04947359, -0.02751162,  0.01810508, -0.0017694 ,\n",
       "         -0.04887902, -0.01054118, -0.01974896,  0.02722856],\n",
       "        [-0.01576972, -0.02980126,  0.03946653,  0.03699971,\n",
       "          0.0421758 ,  0.01095795,  0.02795155, -0.04394399,\n",
       "          0.02154333,  0.02242194,  0.04396934, -0.01271524,\n",
       "          0.01019721,  0.03456024, -0.02960328,  0.04786277,\n",
       "          0.01620526,  0.02566824, -0.00571634, -0.02289718,\n",
       "          0.02162603, -0.02583183, -0.04870712, -0.04304484,\n",
       "          0.04947359, -0.02751162,  0.01810508, -0.0017694 ,\n",
       "         -0.04887902, -0.01054118, -0.01974896,  0.02722856],\n",
       "        [-0.01576972, -0.02980126,  0.03946653,  0.03699971,\n",
       "          0.0421758 ,  0.01095795,  0.02795155, -0.04394399,\n",
       "          0.02154333,  0.02242194,  0.04396934, -0.01271524,\n",
       "          0.01019721,  0.03456024, -0.02960328,  0.04786277,\n",
       "          0.01620526,  0.02566824, -0.00571634, -0.02289718,\n",
       "          0.02162603, -0.02583183, -0.04870712, -0.04304484,\n",
       "          0.04947359, -0.02751162,  0.01810508, -0.0017694 ,\n",
       "         -0.04887902, -0.01054118, -0.01974896,  0.02722856],\n",
       "        [-0.01576972, -0.02980126,  0.03946653,  0.03699971,\n",
       "          0.0421758 ,  0.01095795,  0.02795155, -0.04394399,\n",
       "          0.02154333,  0.02242194,  0.04396934, -0.01271524,\n",
       "          0.01019721,  0.03456024, -0.02960328,  0.04786277,\n",
       "          0.01620526,  0.02566824, -0.00571634, -0.02289718,\n",
       "          0.02162603, -0.02583183, -0.04870712, -0.04304484,\n",
       "          0.04947359, -0.02751162,  0.01810508, -0.0017694 ,\n",
       "         -0.04887902, -0.01054118, -0.01974896,  0.02722856]],\n",
       "\n",
       "       [[-0.01576972, -0.02980126,  0.03946653,  0.03699971,\n",
       "          0.0421758 ,  0.01095795,  0.02795155, -0.04394399,\n",
       "          0.02154333,  0.02242194,  0.04396934, -0.01271524,\n",
       "          0.01019721,  0.03456024, -0.02960328,  0.04786277,\n",
       "          0.01620526,  0.02566824, -0.00571634, -0.02289718,\n",
       "          0.02162603, -0.02583183, -0.04870712, -0.04304484,\n",
       "          0.04947359, -0.02751162,  0.01810508, -0.0017694 ,\n",
       "         -0.04887902, -0.01054118, -0.01974896,  0.02722856],\n",
       "        [-0.01576972, -0.02980126,  0.03946653,  0.03699971,\n",
       "          0.0421758 ,  0.01095795,  0.02795155, -0.04394399,\n",
       "          0.02154333,  0.02242194,  0.04396934, -0.01271524,\n",
       "          0.01019721,  0.03456024, -0.02960328,  0.04786277,\n",
       "          0.01620526,  0.02566824, -0.00571634, -0.02289718,\n",
       "          0.02162603, -0.02583183, -0.04870712, -0.04304484,\n",
       "          0.04947359, -0.02751162,  0.01810508, -0.0017694 ,\n",
       "         -0.04887902, -0.01054118, -0.01974896,  0.02722856],\n",
       "        [-0.01576972, -0.02980126,  0.03946653,  0.03699971,\n",
       "          0.0421758 ,  0.01095795,  0.02795155, -0.04394399,\n",
       "          0.02154333,  0.02242194,  0.04396934, -0.01271524,\n",
       "          0.01019721,  0.03456024, -0.02960328,  0.04786277,\n",
       "          0.01620526,  0.02566824, -0.00571634, -0.02289718,\n",
       "          0.02162603, -0.02583183, -0.04870712, -0.04304484,\n",
       "          0.04947359, -0.02751162,  0.01810508, -0.0017694 ,\n",
       "         -0.04887902, -0.01054118, -0.01974896,  0.02722856],\n",
       "        [-0.01576972, -0.02980126,  0.03946653,  0.03699971,\n",
       "          0.0421758 ,  0.01095795,  0.02795155, -0.04394399,\n",
       "          0.02154333,  0.02242194,  0.04396934, -0.01271524,\n",
       "          0.01019721,  0.03456024, -0.02960328,  0.04786277,\n",
       "          0.01620526,  0.02566824, -0.00571634, -0.02289718,\n",
       "          0.02162603, -0.02583183, -0.04870712, -0.04304484,\n",
       "          0.04947359, -0.02751162,  0.01810508, -0.0017694 ,\n",
       "         -0.04887902, -0.01054118, -0.01974896,  0.02722856],\n",
       "        [-0.01576972, -0.02980126,  0.03946653,  0.03699971,\n",
       "          0.0421758 ,  0.01095795,  0.02795155, -0.04394399,\n",
       "          0.02154333,  0.02242194,  0.04396934, -0.01271524,\n",
       "          0.01019721,  0.03456024, -0.02960328,  0.04786277,\n",
       "          0.01620526,  0.02566824, -0.00571634, -0.02289718,\n",
       "          0.02162603, -0.02583183, -0.04870712, -0.04304484,\n",
       "          0.04947359, -0.02751162,  0.01810508, -0.0017694 ,\n",
       "         -0.04887902, -0.01054118, -0.01974896,  0.02722856]]],\n",
       "      dtype=float32)>"
      ]
     },
     "execution_count": 75,
     "metadata": {},
     "output_type": "execute_result"
    }
   ],
   "source": [
    "user_re = tf.repeat(\n",
    "        tf.expand_dims(user_, 1), [list_length], axis=1)\n",
    "user_re"
   ]
  },
  {
   "cell_type": "code",
   "execution_count": 76,
   "metadata": {},
   "outputs": [
    {
     "data": {
      "text/plain": [
       "(TensorShape([2, 5, 32]), TensorShape([2, 5, 16]))"
      ]
     },
     "execution_count": 76,
     "metadata": {},
     "output_type": "execute_result"
    }
   ],
   "source": [
    "user_re.shape, item_.shape"
   ]
  },
  {
   "cell_type": "code",
   "execution_count": 77,
   "metadata": {},
   "outputs": [
    {
     "data": {
      "text/plain": [
       "<tf.Tensor: shape=(2, 5, 48), dtype=float32, numpy=\n",
       "array([[[-0.01576972, -0.02980126,  0.03946653,  0.03699971,\n",
       "          0.0421758 ,  0.01095795,  0.02795155, -0.04394399,\n",
       "          0.02154333,  0.02242194,  0.04396934, -0.01271524,\n",
       "          0.01019721,  0.03456024, -0.02960328,  0.04786277,\n",
       "          0.01620526,  0.02566824, -0.00571634, -0.02289718,\n",
       "          0.02162603, -0.02583183, -0.04870712, -0.04304484,\n",
       "          0.04947359, -0.02751162,  0.01810508, -0.0017694 ,\n",
       "         -0.04887902, -0.01054118, -0.01974896,  0.02722856,\n",
       "          0.02027139,  0.03421683,  0.02332293, -0.00800562,\n",
       "          0.02147484, -0.04843592, -0.02278808, -0.0417578 ,\n",
       "         -0.0095832 ,  0.03392471, -0.04290285, -0.00182943,\n",
       "         -0.00256759, -0.01172252,  0.00864651,  0.01223781],\n",
       "        [-0.01576972, -0.02980126,  0.03946653,  0.03699971,\n",
       "          0.0421758 ,  0.01095795,  0.02795155, -0.04394399,\n",
       "          0.02154333,  0.02242194,  0.04396934, -0.01271524,\n",
       "          0.01019721,  0.03456024, -0.02960328,  0.04786277,\n",
       "          0.01620526,  0.02566824, -0.00571634, -0.02289718,\n",
       "          0.02162603, -0.02583183, -0.04870712, -0.04304484,\n",
       "          0.04947359, -0.02751162,  0.01810508, -0.0017694 ,\n",
       "         -0.04887902, -0.01054118, -0.01974896,  0.02722856,\n",
       "         -0.01971546,  0.0445578 ,  0.00176143, -0.0092337 ,\n",
       "         -0.0124269 , -0.04070895,  0.02197586, -0.03128083,\n",
       "          0.00594584,  0.0028032 ,  0.00245892,  0.02495909,\n",
       "         -0.01231412, -0.02232845,  0.01659507,  0.01471267],\n",
       "        [-0.01576972, -0.02980126,  0.03946653,  0.03699971,\n",
       "          0.0421758 ,  0.01095795,  0.02795155, -0.04394399,\n",
       "          0.02154333,  0.02242194,  0.04396934, -0.01271524,\n",
       "          0.01019721,  0.03456024, -0.02960328,  0.04786277,\n",
       "          0.01620526,  0.02566824, -0.00571634, -0.02289718,\n",
       "          0.02162603, -0.02583183, -0.04870712, -0.04304484,\n",
       "          0.04947359, -0.02751162,  0.01810508, -0.0017694 ,\n",
       "         -0.04887902, -0.01054118, -0.01974896,  0.02722856,\n",
       "          0.04241122, -0.00896342, -0.01146943,  0.03083274,\n",
       "         -0.03076559, -0.00294992, -0.04222196,  0.04735878,\n",
       "         -0.0498374 ,  0.03867574,  0.01815366,  0.03661953,\n",
       "          0.01398901,  0.03755877,  0.02769006, -0.02311521],\n",
       "        [-0.01576972, -0.02980126,  0.03946653,  0.03699971,\n",
       "          0.0421758 ,  0.01095795,  0.02795155, -0.04394399,\n",
       "          0.02154333,  0.02242194,  0.04396934, -0.01271524,\n",
       "          0.01019721,  0.03456024, -0.02960328,  0.04786277,\n",
       "          0.01620526,  0.02566824, -0.00571634, -0.02289718,\n",
       "          0.02162603, -0.02583183, -0.04870712, -0.04304484,\n",
       "          0.04947359, -0.02751162,  0.01810508, -0.0017694 ,\n",
       "         -0.04887902, -0.01054118, -0.01974896,  0.02722856,\n",
       "          0.02542457,  0.03366946,  0.04267896, -0.00769471,\n",
       "         -0.008756  , -0.02367683,  0.02326988, -0.00152274,\n",
       "          0.04824715, -0.0225346 ,  0.01807832,  0.01734182,\n",
       "         -0.03202378,  0.0449124 ,  0.03280531,  0.03806699],\n",
       "        [-0.01576972, -0.02980126,  0.03946653,  0.03699971,\n",
       "          0.0421758 ,  0.01095795,  0.02795155, -0.04394399,\n",
       "          0.02154333,  0.02242194,  0.04396934, -0.01271524,\n",
       "          0.01019721,  0.03456024, -0.02960328,  0.04786277,\n",
       "          0.01620526,  0.02566824, -0.00571634, -0.02289718,\n",
       "          0.02162603, -0.02583183, -0.04870712, -0.04304484,\n",
       "          0.04947359, -0.02751162,  0.01810508, -0.0017694 ,\n",
       "         -0.04887902, -0.01054118, -0.01974896,  0.02722856,\n",
       "         -0.04058738, -0.01263433, -0.03971151,  0.00549282,\n",
       "         -0.03563975, -0.01692148, -0.0154187 ,  0.00921564,\n",
       "          0.00708593,  0.03626641, -0.03174913, -0.04634235,\n",
       "         -0.0377942 ,  0.03870806, -0.04001369, -0.01069175]],\n",
       "\n",
       "       [[-0.01576972, -0.02980126,  0.03946653,  0.03699971,\n",
       "          0.0421758 ,  0.01095795,  0.02795155, -0.04394399,\n",
       "          0.02154333,  0.02242194,  0.04396934, -0.01271524,\n",
       "          0.01019721,  0.03456024, -0.02960328,  0.04786277,\n",
       "          0.01620526,  0.02566824, -0.00571634, -0.02289718,\n",
       "          0.02162603, -0.02583183, -0.04870712, -0.04304484,\n",
       "          0.04947359, -0.02751162,  0.01810508, -0.0017694 ,\n",
       "         -0.04887902, -0.01054118, -0.01974896,  0.02722856,\n",
       "         -0.03072404, -0.00713899,  0.02406612, -0.03839654,\n",
       "          0.02285105,  0.01359291, -0.01328178, -0.01096702,\n",
       "          0.04415737,  0.00452584,  0.00779516, -0.01546824,\n",
       "         -0.03550583, -0.04544461,  0.04872788,  0.01859475],\n",
       "        [-0.01576972, -0.02980126,  0.03946653,  0.03699971,\n",
       "          0.0421758 ,  0.01095795,  0.02795155, -0.04394399,\n",
       "          0.02154333,  0.02242194,  0.04396934, -0.01271524,\n",
       "          0.01019721,  0.03456024, -0.02960328,  0.04786277,\n",
       "          0.01620526,  0.02566824, -0.00571634, -0.02289718,\n",
       "          0.02162603, -0.02583183, -0.04870712, -0.04304484,\n",
       "          0.04947359, -0.02751162,  0.01810508, -0.0017694 ,\n",
       "         -0.04887902, -0.01054118, -0.01974896,  0.02722856,\n",
       "         -0.03765956, -0.01354657,  0.03826908, -0.02731016,\n",
       "         -0.03848328,  0.00028974,  0.04563603, -0.02618935,\n",
       "         -0.00474923,  0.04752935,  0.03419873,  0.02294618,\n",
       "          0.00704262,  0.00053661,  0.02040951, -0.01116719],\n",
       "        [-0.01576972, -0.02980126,  0.03946653,  0.03699971,\n",
       "          0.0421758 ,  0.01095795,  0.02795155, -0.04394399,\n",
       "          0.02154333,  0.02242194,  0.04396934, -0.01271524,\n",
       "          0.01019721,  0.03456024, -0.02960328,  0.04786277,\n",
       "          0.01620526,  0.02566824, -0.00571634, -0.02289718,\n",
       "          0.02162603, -0.02583183, -0.04870712, -0.04304484,\n",
       "          0.04947359, -0.02751162,  0.01810508, -0.0017694 ,\n",
       "         -0.04887902, -0.01054118, -0.01974896,  0.02722856,\n",
       "         -0.04927462,  0.03069402,  0.02619376,  0.03493898,\n",
       "         -0.02482065, -0.04187363,  0.01538015,  0.02255085,\n",
       "         -0.02387403,  0.04641295, -0.04862933,  0.02062232,\n",
       "         -0.01615923,  0.01670093,  0.03581363,  0.03270094],\n",
       "        [-0.01576972, -0.02980126,  0.03946653,  0.03699971,\n",
       "          0.0421758 ,  0.01095795,  0.02795155, -0.04394399,\n",
       "          0.02154333,  0.02242194,  0.04396934, -0.01271524,\n",
       "          0.01019721,  0.03456024, -0.02960328,  0.04786277,\n",
       "          0.01620526,  0.02566824, -0.00571634, -0.02289718,\n",
       "          0.02162603, -0.02583183, -0.04870712, -0.04304484,\n",
       "          0.04947359, -0.02751162,  0.01810508, -0.0017694 ,\n",
       "         -0.04887902, -0.01054118, -0.01974896,  0.02722856,\n",
       "         -0.00330932, -0.0063653 ,  0.03857267,  0.0239411 ,\n",
       "         -0.0152108 , -0.03133919,  0.04465877,  0.04047488,\n",
       "          0.03262495,  0.04395527, -0.02438288, -0.03990554,\n",
       "         -0.01973226,  0.00113503, -0.01898828,  0.04014498],\n",
       "        [-0.01576972, -0.02980126,  0.03946653,  0.03699971,\n",
       "          0.0421758 ,  0.01095795,  0.02795155, -0.04394399,\n",
       "          0.02154333,  0.02242194,  0.04396934, -0.01271524,\n",
       "          0.01019721,  0.03456024, -0.02960328,  0.04786277,\n",
       "          0.01620526,  0.02566824, -0.00571634, -0.02289718,\n",
       "          0.02162603, -0.02583183, -0.04870712, -0.04304484,\n",
       "          0.04947359, -0.02751162,  0.01810508, -0.0017694 ,\n",
       "         -0.04887902, -0.01054118, -0.01974896,  0.02722856,\n",
       "         -0.00134537, -0.04107223, -0.03909824, -0.03470208,\n",
       "          0.00919601,  0.04178863,  0.04110313,  0.00966142,\n",
       "         -0.00815956,  0.01711017, -0.01640786, -0.02780821,\n",
       "         -0.01671054,  0.04037547, -0.02351685,  0.03820053]]],\n",
       "      dtype=float32)>"
      ]
     },
     "execution_count": 77,
     "metadata": {},
     "output_type": "execute_result"
    }
   ],
   "source": [
    "concatenated_embeddings = tf.concat([user_re, item_], 2)\n",
    "concatenated_embeddings"
   ]
  },
  {
   "cell_type": "code",
   "execution_count": 78,
   "metadata": {},
   "outputs": [
    {
     "data": {
      "text/plain": [
       "{'CDSACCNO': <tf.Tensor: shape=(), dtype=string, numpy=b'RPS-23479-LI/00'>,\n",
       " 'STOCKCODE': <tf.Tensor: shape=(5,), dtype=string, numpy=array([b'CIC', b'AMSL', b'RAL', b'REG', b'AEL'], dtype=object)>,\n",
       " 'RATING': <tf.Tensor: shape=(5,), dtype=float32, numpy=array([4., 2., 5., 5., 2.], dtype=float32)>,\n",
       " 'GICS': <tf.Tensor: shape=(5,), dtype=string, numpy=\n",
       " array([b'Materials', b'Health Care Equipment & Services',\n",
       "        b'Food Beverage & Tobacco', b'Consumer Durables & Apparel',\n",
       "        b'Capital Goods'], dtype=object)>,\n",
       " 'STOCKNAME': <tf.Tensor: shape=(5,), dtype=string, numpy=\n",
       " array([b'C I C HOLDINGS PLC', b'ASIRI SURGICAL HOSPITAL PLC',\n",
       "        b'RENUKA AGRI FOODS PLC', b'REGNIS (LANKA) PLC',\n",
       "        b'ACCESS ENGINEERING PLC'], dtype=object)>,\n",
       " 'UNIX_TS': <tf.Tensor: shape=(5,), dtype=float32, numpy=\n",
       " array([1.6475418e+09, 1.6681050e+09, 1.7100954e+09, 1.7030970e+09,\n",
       "        1.6655994e+09], dtype=float32)>}"
      ]
     },
     "execution_count": 78,
     "metadata": {},
     "output_type": "execute_result"
    }
   ],
   "source": [
    "next(iter(train_v1))"
   ]
  },
  {
   "cell_type": "code",
   "execution_count": 51,
   "metadata": {},
   "outputs": [
    {
     "name": "stdout",
     "output_type": "stream",
     "text": [
      "Epoch 1/20\n",
      "WARNING:tensorflow:Layers in a Sequential model should only have a single input tensor. Received: inputs=(<tf.Tensor 'IteratorGetNext:0' shape=(None, None, None, None) dtype=string>,). Consider rewriting this model with the Functional API.\n",
      "********** (1, None, None, None, None, 32) **********\n"
     ]
    },
    {
     "ename": "TypeError",
     "evalue": "in user code:\n\n    File \"c:\\Users\\bpadmin\\anaconda3\\envs\\atrad_cars_v2\\lib\\site-packages\\keras\\engine\\training.py\", line 1249, in train_function  *\n        return step_function(self, iterator)\n    File \"c:\\Users\\bpadmin\\anaconda3\\envs\\atrad_cars_v2\\lib\\site-packages\\keras\\engine\\training.py\", line 1233, in step_function  **\n        outputs = model.distribute_strategy.run(run_step, args=(data,))\n    File \"c:\\Users\\bpadmin\\anaconda3\\envs\\atrad_cars_v2\\lib\\site-packages\\keras\\engine\\training.py\", line 1222, in run_step  **\n        outputs = model.train_step(data)\n    File \"c:\\Users\\bpadmin\\anaconda3\\envs\\atrad_cars_v2\\lib\\site-packages\\tensorflow_recommenders\\models\\base.py\", line 68, in train_step\n        loss = self.compute_loss(inputs, training=True)\n    File \"d:\\dev work\\recommender systems\\Atrad_CARS\\code\\v3_listwise\\recommender.py\", line 123, in compute_loss\n        scores = self(features)\n    File \"c:\\Users\\bpadmin\\anaconda3\\envs\\atrad_cars_v2\\lib\\site-packages\\keras\\utils\\traceback_utils.py\", line 70, in error_handler\n        raise e.with_traceback(filtered_tb) from None\n    File \"C:\\Users\\naradaw\\AppData\\Local\\Temp\\__autograph_generated_file6zchcepq.py\", line 14, in tf__call\n        user_embedding_repeated = ag__.converted_call(ag__.ld(tf).repeat, (ag__.converted_call(ag__.ld(tf).expand_dims, (ag__.ld(user_embeddings), 1), None, fscope), [ag__.ld(list_length)]), dict(axis=1), fscope)\n\n    TypeError: Exception encountered when calling layer 'recommender_4' (type Recommender).\n    \n    in user code:\n    \n        File \"d:\\dev work\\recommender systems\\Atrad_CARS\\code\\v3_listwise\\recommender.py\", line 107, in call  *\n            user_embedding_repeated = tf.repeat(\n    \n        TypeError: Failed to convert elements of [None] to Tensor. Consider casting elements to a supported type. See https://www.tensorflow.org/api_docs/python/tf/dtypes for supported TF dtypes.\n    \n    \n    Call arguments received by layer 'recommender_4' (type Recommender):\n      • features={'UNIX_TS': 'tf.Tensor(shape=(None, None, None, None, 5), dtype=float32)', 'CDSACCNO': 'tf.Tensor(shape=(None, None, None, None), dtype=string)', 'STOCKCODE': 'tf.Tensor(shape=(None, None, None, None, 5), dtype=string)', 'GICS': 'tf.Tensor(shape=(None, None, None, None, 5), dtype=string)', 'STOCKNAME': 'tf.Tensor(shape=(None, None, None, None, 5), dtype=string)'}\n",
     "output_type": "error",
     "traceback": [
      "\u001b[1;31m---------------------------------------------------------------------------\u001b[0m",
      "\u001b[1;31mTypeError\u001b[0m                                 Traceback (most recent call last)",
      "Cell \u001b[1;32mIn[51], line 12\u001b[0m\n\u001b[0;32m      8\u001b[0m model\u001b[38;5;241m.\u001b[39mcompile(optimizer\u001b[38;5;241m=\u001b[39mtf\u001b[38;5;241m.\u001b[39mkeras\u001b[38;5;241m.\u001b[39moptimizers\u001b[38;5;241m.\u001b[39mAdagrad(learning_rate\u001b[38;5;241m=\u001b[39m\u001b[38;5;241m0.1\u001b[39m))\n\u001b[0;32m     10\u001b[0m train_v1 \u001b[38;5;241m=\u001b[39m train_v1\u001b[38;5;241m.\u001b[39mshuffle(\u001b[38;5;241m10000\u001b[39m)\u001b[38;5;241m.\u001b[39mbatch(\u001b[38;5;241m128\u001b[39m)\n\u001b[1;32m---> 12\u001b[0m \u001b[43mmodel\u001b[49m\u001b[38;5;241;43m.\u001b[39;49m\u001b[43mfit\u001b[49m\u001b[43m(\u001b[49m\n\u001b[0;32m     13\u001b[0m \u001b[43m    \u001b[49m\u001b[43mtrain_v1\u001b[49m\u001b[43m,\u001b[49m\u001b[43m \u001b[49m\n\u001b[0;32m     14\u001b[0m \u001b[43m    \u001b[49m\u001b[43mepochs\u001b[49m\u001b[38;5;241;43m=\u001b[39;49m\u001b[38;5;241;43m20\u001b[39;49m\u001b[43m,\u001b[49m\u001b[43m \u001b[49m\n\u001b[0;32m     15\u001b[0m \u001b[43m    \u001b[49m\u001b[43mverbose\u001b[49m\u001b[43m \u001b[49m\u001b[38;5;241;43m=\u001b[39;49m\u001b[43m \u001b[49m\u001b[38;5;241;43m1\u001b[39;49m\u001b[43m,\u001b[49m\n\u001b[0;32m     16\u001b[0m \u001b[43m    \u001b[49m\u001b[43m)\u001b[49m\n",
      "File \u001b[1;32mc:\\Users\\bpadmin\\anaconda3\\envs\\atrad_cars_v2\\lib\\site-packages\\keras\\utils\\traceback_utils.py:70\u001b[0m, in \u001b[0;36mfilter_traceback.<locals>.error_handler\u001b[1;34m(*args, **kwargs)\u001b[0m\n\u001b[0;32m     67\u001b[0m     filtered_tb \u001b[38;5;241m=\u001b[39m _process_traceback_frames(e\u001b[38;5;241m.\u001b[39m__traceback__)\n\u001b[0;32m     68\u001b[0m     \u001b[38;5;66;03m# To get the full stack trace, call:\u001b[39;00m\n\u001b[0;32m     69\u001b[0m     \u001b[38;5;66;03m# `tf.debugging.disable_traceback_filtering()`\u001b[39;00m\n\u001b[1;32m---> 70\u001b[0m     \u001b[38;5;28;01mraise\u001b[39;00m e\u001b[38;5;241m.\u001b[39mwith_traceback(filtered_tb) \u001b[38;5;28;01mfrom\u001b[39;00m \u001b[38;5;28;01mNone\u001b[39;00m\n\u001b[0;32m     71\u001b[0m \u001b[38;5;28;01mfinally\u001b[39;00m:\n\u001b[0;32m     72\u001b[0m     \u001b[38;5;28;01mdel\u001b[39;00m filtered_tb\n",
      "File \u001b[1;32m~\\AppData\\Local\\Temp\\__autograph_generated_filexjonf8i3.py:15\u001b[0m, in \u001b[0;36mouter_factory.<locals>.inner_factory.<locals>.tf__train_function\u001b[1;34m(iterator)\u001b[0m\n\u001b[0;32m     13\u001b[0m \u001b[38;5;28;01mtry\u001b[39;00m:\n\u001b[0;32m     14\u001b[0m     do_return \u001b[38;5;241m=\u001b[39m \u001b[38;5;28;01mTrue\u001b[39;00m\n\u001b[1;32m---> 15\u001b[0m     retval_ \u001b[38;5;241m=\u001b[39m ag__\u001b[38;5;241m.\u001b[39mconverted_call(ag__\u001b[38;5;241m.\u001b[39mld(step_function), (ag__\u001b[38;5;241m.\u001b[39mld(\u001b[38;5;28mself\u001b[39m), ag__\u001b[38;5;241m.\u001b[39mld(iterator)), \u001b[38;5;28;01mNone\u001b[39;00m, fscope)\n\u001b[0;32m     16\u001b[0m \u001b[38;5;28;01mexcept\u001b[39;00m:\n\u001b[0;32m     17\u001b[0m     do_return \u001b[38;5;241m=\u001b[39m \u001b[38;5;28;01mFalse\u001b[39;00m\n",
      "File \u001b[1;32mc:\\Users\\bpadmin\\anaconda3\\envs\\atrad_cars_v2\\lib\\site-packages\\tensorflow_recommenders\\models\\base.py:68\u001b[0m, in \u001b[0;36mModel.train_step\u001b[1;34m(self, inputs)\u001b[0m\n\u001b[0;32m     65\u001b[0m \u001b[38;5;250m\u001b[39m\u001b[38;5;124;03m\"\"\"Custom train step using the `compute_loss` method.\"\"\"\u001b[39;00m\n\u001b[0;32m     67\u001b[0m \u001b[38;5;28;01mwith\u001b[39;00m tf\u001b[38;5;241m.\u001b[39mGradientTape() \u001b[38;5;28;01mas\u001b[39;00m tape:\n\u001b[1;32m---> 68\u001b[0m   loss \u001b[38;5;241m=\u001b[39m \u001b[38;5;28mself\u001b[39m\u001b[38;5;241m.\u001b[39mcompute_loss(inputs, training\u001b[38;5;241m=\u001b[39m\u001b[38;5;28;01mTrue\u001b[39;00m)\n\u001b[0;32m     70\u001b[0m   \u001b[38;5;66;03m# Handle regularization losses as well.\u001b[39;00m\n\u001b[0;32m     71\u001b[0m   regularization_loss \u001b[38;5;241m=\u001b[39m \u001b[38;5;28msum\u001b[39m(\u001b[38;5;28mself\u001b[39m\u001b[38;5;241m.\u001b[39mlosses)\n",
      "File \u001b[1;32md:\\dev work\\recommender systems\\Atrad_CARS\\code\\v3_listwise\\recommender.py:123\u001b[0m, in \u001b[0;36mRecommender.compute_loss\u001b[1;34m(self, features, training)\u001b[0m\n\u001b[0;32m    119\u001b[0m \u001b[38;5;28;01mdef\u001b[39;00m \u001b[38;5;21mcompute_loss\u001b[39m(\u001b[38;5;28mself\u001b[39m, features, training \u001b[38;5;241m=\u001b[39m \u001b[38;5;28;01mFalse\u001b[39;00m):\n\u001b[0;32m    121\u001b[0m   labels \u001b[38;5;241m=\u001b[39m features\u001b[38;5;241m.\u001b[39mpop(\u001b[38;5;124m'\u001b[39m\u001b[38;5;124mRATING\u001b[39m\u001b[38;5;124m'\u001b[39m)\n\u001b[1;32m--> 123\u001b[0m   scores \u001b[38;5;241m=\u001b[39m \u001b[38;5;28;43mself\u001b[39;49m\u001b[43m(\u001b[49m\u001b[43mfeatures\u001b[49m\u001b[43m)\u001b[49m\n\u001b[0;32m    125\u001b[0m   \u001b[38;5;28;01mreturn\u001b[39;00m \u001b[38;5;28mself\u001b[39m\u001b[38;5;241m.\u001b[39mranking_task(\n\u001b[0;32m    126\u001b[0m     labels \u001b[38;5;241m=\u001b[39m labels,\n\u001b[0;32m    127\u001b[0m     predictions \u001b[38;5;241m=\u001b[39m tf\u001b[38;5;241m.\u001b[39msqueeze(scores, axis \u001b[38;5;241m=\u001b[39m \u001b[38;5;241m1\u001b[39m)\n\u001b[0;32m    128\u001b[0m     )\n",
      "File \u001b[1;32m~\\AppData\\Local\\Temp\\__autograph_generated_file6zchcepq.py:14\u001b[0m, in \u001b[0;36mouter_factory.<locals>.inner_factory.<locals>.tf__call\u001b[1;34m(self, features)\u001b[0m\n\u001b[0;32m     12\u001b[0m list_length \u001b[38;5;241m=\u001b[39m ag__\u001b[38;5;241m.\u001b[39mld(features)[\u001b[38;5;124m'\u001b[39m\u001b[38;5;124mSTOCKCODE\u001b[39m\u001b[38;5;124m'\u001b[39m]\u001b[38;5;241m.\u001b[39mshape[\u001b[38;5;241m1\u001b[39m]\n\u001b[0;32m     13\u001b[0m ag__\u001b[38;5;241m.\u001b[39mld(\u001b[38;5;28mprint\u001b[39m)(\u001b[38;5;124m'\u001b[39m\u001b[38;5;124m**********\u001b[39m\u001b[38;5;124m'\u001b[39m, ag__\u001b[38;5;241m.\u001b[39mld(user_embeddings)\u001b[38;5;241m.\u001b[39mshape, \u001b[38;5;124m'\u001b[39m\u001b[38;5;124m**********\u001b[39m\u001b[38;5;124m'\u001b[39m)\n\u001b[1;32m---> 14\u001b[0m user_embedding_repeated \u001b[38;5;241m=\u001b[39m ag__\u001b[38;5;241m.\u001b[39mconverted_call(ag__\u001b[38;5;241m.\u001b[39mld(tf)\u001b[38;5;241m.\u001b[39mrepeat, (ag__\u001b[38;5;241m.\u001b[39mconverted_call(ag__\u001b[38;5;241m.\u001b[39mld(tf)\u001b[38;5;241m.\u001b[39mexpand_dims, (ag__\u001b[38;5;241m.\u001b[39mld(user_embeddings), \u001b[38;5;241m1\u001b[39m), \u001b[38;5;28;01mNone\u001b[39;00m, fscope), [ag__\u001b[38;5;241m.\u001b[39mld(list_length)]), \u001b[38;5;28mdict\u001b[39m(axis\u001b[38;5;241m=\u001b[39m\u001b[38;5;241m1\u001b[39m), fscope)\n\u001b[0;32m     15\u001b[0m ag__\u001b[38;5;241m.\u001b[39mld(\u001b[38;5;28mprint\u001b[39m)(\u001b[38;5;124m'\u001b[39m\u001b[38;5;124m**********\u001b[39m\u001b[38;5;124m'\u001b[39m, ag__\u001b[38;5;241m.\u001b[39mld(user_embedding_repeated)\u001b[38;5;241m.\u001b[39mshape, \u001b[38;5;124m'\u001b[39m\u001b[38;5;124m**********\u001b[39m\u001b[38;5;124m'\u001b[39m)\n\u001b[0;32m     16\u001b[0m ag__\u001b[38;5;241m.\u001b[39mld(\u001b[38;5;28mprint\u001b[39m)(\u001b[38;5;124m'\u001b[39m\u001b[38;5;124m**********\u001b[39m\u001b[38;5;124m'\u001b[39m, ag__\u001b[38;5;241m.\u001b[39mld(item_embeddings)\u001b[38;5;241m.\u001b[39mshape, \u001b[38;5;124m'\u001b[39m\u001b[38;5;124m**********\u001b[39m\u001b[38;5;124m'\u001b[39m)\n",
      "\u001b[1;31mTypeError\u001b[0m: in user code:\n\n    File \"c:\\Users\\bpadmin\\anaconda3\\envs\\atrad_cars_v2\\lib\\site-packages\\keras\\engine\\training.py\", line 1249, in train_function  *\n        return step_function(self, iterator)\n    File \"c:\\Users\\bpadmin\\anaconda3\\envs\\atrad_cars_v2\\lib\\site-packages\\keras\\engine\\training.py\", line 1233, in step_function  **\n        outputs = model.distribute_strategy.run(run_step, args=(data,))\n    File \"c:\\Users\\bpadmin\\anaconda3\\envs\\atrad_cars_v2\\lib\\site-packages\\keras\\engine\\training.py\", line 1222, in run_step  **\n        outputs = model.train_step(data)\n    File \"c:\\Users\\bpadmin\\anaconda3\\envs\\atrad_cars_v2\\lib\\site-packages\\tensorflow_recommenders\\models\\base.py\", line 68, in train_step\n        loss = self.compute_loss(inputs, training=True)\n    File \"d:\\dev work\\recommender systems\\Atrad_CARS\\code\\v3_listwise\\recommender.py\", line 123, in compute_loss\n        scores = self(features)\n    File \"c:\\Users\\bpadmin\\anaconda3\\envs\\atrad_cars_v2\\lib\\site-packages\\keras\\utils\\traceback_utils.py\", line 70, in error_handler\n        raise e.with_traceback(filtered_tb) from None\n    File \"C:\\Users\\naradaw\\AppData\\Local\\Temp\\__autograph_generated_file6zchcepq.py\", line 14, in tf__call\n        user_embedding_repeated = ag__.converted_call(ag__.ld(tf).repeat, (ag__.converted_call(ag__.ld(tf).expand_dims, (ag__.ld(user_embeddings), 1), None, fscope), [ag__.ld(list_length)]), dict(axis=1), fscope)\n\n    TypeError: Exception encountered when calling layer 'recommender_4' (type Recommender).\n    \n    in user code:\n    \n        File \"d:\\dev work\\recommender systems\\Atrad_CARS\\code\\v3_listwise\\recommender.py\", line 107, in call  *\n            user_embedding_repeated = tf.repeat(\n    \n        TypeError: Failed to convert elements of [None] to Tensor. Consider casting elements to a supported type. See https://www.tensorflow.org/api_docs/python/tf/dtypes for supported TF dtypes.\n    \n    \n    Call arguments received by layer 'recommender_4' (type Recommender):\n      • features={'UNIX_TS': 'tf.Tensor(shape=(None, None, None, None, 5), dtype=float32)', 'CDSACCNO': 'tf.Tensor(shape=(None, None, None, None), dtype=string)', 'STOCKCODE': 'tf.Tensor(shape=(None, None, None, None, 5), dtype=string)', 'GICS': 'tf.Tensor(shape=(None, None, None, None, 5), dtype=string)', 'STOCKNAME': 'tf.Tensor(shape=(None, None, None, None, 5), dtype=string)'}\n"
     ]
    }
   ],
   "source": [
    "from recommender import Recommender\n",
    "\n",
    "model = Recommender(\n",
    "    # use_timestamp = True,\n",
    "    portfolios = portfolios\n",
    "    )\n",
    "\n",
    "model.compile(optimizer=tf.keras.optimizers.Adagrad(learning_rate=0.1))\n",
    "\n",
    "train_v1 = train_v1.shuffle(10000).batch(16)\n",
    "\n",
    "model.fit(\n",
    "    train_v1, \n",
    "    epochs=20, \n",
    "    verbose = 1,\n",
    "    )"
   ]
  }
 ],
 "metadata": {
  "kernelspec": {
   "display_name": "tensorflow_cuda",
   "language": "python",
   "name": "python3"
  },
  "language_info": {
   "codemirror_mode": {
    "name": "ipython",
    "version": 3
   },
   "file_extension": ".py",
   "mimetype": "text/x-python",
   "name": "python",
   "nbconvert_exporter": "python",
   "pygments_lexer": "ipython3",
   "version": "3.9.19"
  }
 },
 "nbformat": 4,
 "nbformat_minor": 2
}
