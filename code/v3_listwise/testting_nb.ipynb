{
 "cells": [
  {
   "cell_type": "code",
   "execution_count": 1,
   "metadata": {},
   "outputs": [],
   "source": [
    "import numpy as np\n",
    "import tensorflow as tf\n",
    "from recommender import Recommender\n",
    "import pandas as pd"
   ]
  },
  {
   "cell_type": "code",
   "execution_count": 3,
   "metadata": {},
   "outputs": [
    {
     "data": {
      "text/plain": [
       "<tensorflow.python.checkpoint.checkpoint.CheckpointLoadStatus at 0x1bfd6aa1550>"
      ]
     },
     "execution_count": 3,
     "metadata": {},
     "output_type": "execute_result"
    }
   ],
   "source": [
    "\n",
    "\n",
    "test_list_ds = tf.data.Dataset.load(\"D:/dev work/recommender systems/Atrad_CARS/data/rating_lists_10/test\").cache()\n",
    "portfolios = tf.data.Dataset.load(\"D:/dev work/recommender systems/Atrad_CARS/data/portfolios_tfds\").cache()\n",
    "\n",
    "items_ids = portfolios.batch(10000).map(lambda x: x[\"STOCKCODE\"])\n",
    "unique_item_ids = np.unique(np.concatenate(list(items_ids)))\n",
    "\n",
    "item_names = portfolios.batch(10000).map(lambda x: x[\"STOCKNAME\"])\n",
    "unique_item_names = np.unique(np.concatenate(list(item_names)))\n",
    "\n",
    "item_GICS = portfolios.batch(10000).map(lambda x: x[\"GICS\"])\n",
    "unique_item_gics = np.unique(np.concatenate(list(item_GICS)))\n",
    "\n",
    "user_ids = portfolios.batch(10000).map(lambda x: x[\"CDSACCNO\"])\n",
    "unique_user_ids = np.unique(np.concatenate(list(user_ids)))\n",
    "\n",
    "model = Recommender(\n",
    "    loss = tf.keras.losses.MeanSquaredError(),\n",
    "    portfolios = portfolios\n",
    "    )\n",
    "\n",
    "model.load_weights(r\"D:\\dev work\\recommender systems\\Atrad_CARS\\model_weights\\2024_04_29\\tf_listwise_ranking_2024_04_29_16_42\")\n",
    "#2024_04_29\\tf_listwise_ranking_2024_04_29_16_42 "
   ]
  },
  {
   "cell_type": "code",
   "execution_count": 4,
   "metadata": {},
   "outputs": [
    {
     "name": "stdout",
     "output_type": "stream",
     "text": [
      "(None, 10, 32)  |  (None, 10, 64)\n",
      "(None, 10, 32)  |  (None, 10, 64)\n",
      "1/1 [==============================] - 3s 3s/step - ndcg_metric: 0.7140 - root_mean_squared_error: 0.9975 - loss: 0.9950 - regularization_loss: 0.0000e+00 - total_loss: 0.9950\n"
     ]
    },
    {
     "data": {
      "text/plain": [
       "{'ndcg_metric': 0.714043140411377,\n",
       " 'root_mean_squared_error': 0.9975025057792664,\n",
       " 'loss': 0.9950112104415894,\n",
       " 'regularization_loss': 0,\n",
       " 'total_loss': 0.9950112104415894}"
      ]
     },
     "execution_count": 4,
     "metadata": {},
     "output_type": "execute_result"
    }
   ],
   "source": [
    "model.compile(optimizer=tf.keras.optimizers.Adagrad(learning_rate=0.1))\n",
    "model.evaluate(test_list_ds.shuffle(100_000).batch(1024), return_dict=True)"
   ]
  },
  {
   "cell_type": "code",
   "execution_count": 5,
   "metadata": {},
   "outputs": [
    {
     "data": {
      "text/plain": [
       "(282, 4)"
      ]
     },
     "execution_count": 5,
     "metadata": {},
     "output_type": "execute_result"
    }
   ],
   "source": [
    "symbol_uni_path = r\"D:\\dev work\\recommender systems\\Atrad_CARS\\data\\stock_data.xlsx\"\n",
    "stock_info = pd.read_excel(symbol_uni_path)\n",
    "stock_info = stock_info.drop(['Unnamed: 0'],axis = 1)\n",
    "stock_info.shape\n"
   ]
  },
  {
   "cell_type": "code",
   "execution_count": 6,
   "metadata": {},
   "outputs": [
    {
     "data": {
      "text/html": [
       "<div>\n",
       "<style scoped>\n",
       "    .dataframe tbody tr th:only-of-type {\n",
       "        vertical-align: middle;\n",
       "    }\n",
       "\n",
       "    .dataframe tbody tr th {\n",
       "        vertical-align: top;\n",
       "    }\n",
       "\n",
       "    .dataframe thead th {\n",
       "        text-align: right;\n",
       "    }\n",
       "</style>\n",
       "<table border=\"1\" class=\"dataframe\">\n",
       "  <thead>\n",
       "    <tr style=\"text-align: right;\">\n",
       "      <th></th>\n",
       "      <th>symbol</th>\n",
       "      <th>name</th>\n",
       "      <th>buisnesssummary</th>\n",
       "      <th>gics_code</th>\n",
       "    </tr>\n",
       "  </thead>\n",
       "  <tbody>\n",
       "    <tr>\n",
       "      <th>0</th>\n",
       "      <td>HBS</td>\n",
       "      <td>hSenid Business Solutions PLC</td>\n",
       "      <td>An indigenous multinational catering towards m...</td>\n",
       "      <td>45103010 - Application Software</td>\n",
       "    </tr>\n",
       "    <tr>\n",
       "      <th>1</th>\n",
       "      <td>TYRE</td>\n",
       "      <td>KELANI TYRES PLC</td>\n",
       "      <td>Manufacturing tyres and tubes and marketing lo...</td>\n",
       "      <td>Automobiles &amp; Components</td>\n",
       "    </tr>\n",
       "    <tr>\n",
       "      <th>2</th>\n",
       "      <td>ABL</td>\n",
       "      <td>AMANA BANK PLC</td>\n",
       "      <td>unknown</td>\n",
       "      <td>Banks</td>\n",
       "    </tr>\n",
       "  </tbody>\n",
       "</table>\n",
       "</div>"
      ],
      "text/plain": [
       "  symbol                           name  \\\n",
       "0    HBS  hSenid Business Solutions PLC   \n",
       "1   TYRE               KELANI TYRES PLC   \n",
       "2    ABL                 AMANA BANK PLC   \n",
       "\n",
       "                                     buisnesssummary  \\\n",
       "0  An indigenous multinational catering towards m...   \n",
       "1  Manufacturing tyres and tubes and marketing lo...   \n",
       "2                                            unknown   \n",
       "\n",
       "                         gics_code  \n",
       "0  45103010 - Application Software  \n",
       "1         Automobiles & Components  \n",
       "2                            Banks  "
      ]
     },
     "execution_count": 6,
     "metadata": {},
     "output_type": "execute_result"
    }
   ],
   "source": [
    "stock_info.head(3)"
   ]
  },
  {
   "cell_type": "code",
   "execution_count": 7,
   "metadata": {},
   "outputs": [
    {
     "data": {
      "text/plain": [
       "282"
      ]
     },
     "execution_count": 7,
     "metadata": {},
     "output_type": "execute_result"
    }
   ],
   "source": [
    "len(stock_info['symbol'].to_list())\n"
   ]
  },
  {
   "cell_type": "code",
   "execution_count": 8,
   "metadata": {},
   "outputs": [],
   "source": [
    "symbol_universe = np.array(stock_info['symbol'].to_list())\n",
    "name_universe = np.array(stock_info['name'].to_list())\n",
    "gics_universe = np.array(stock_info['gics_code'].to_list())\n"
   ]
  },
  {
   "cell_type": "code",
   "execution_count": 9,
   "metadata": {},
   "outputs": [
    {
     "data": {
      "text/plain": [
       "{'STOCKNAME': <tf.Tensor: shape=(2, 10), dtype=string, numpy=\n",
       " array([[b'KELANI CABLES PLC', b'BAIRAHA FARMS PLC',\n",
       "         b'CEYLON COLD STORES PLC', b'R I L PROPERTY PLC',\n",
       "         b'MERCHANT BANK OF SRI LANKA & FINANCE PLC', b'RENUKA FOODS PLC',\n",
       "         b'AGALAWATTE  PLANTATIONS  PLC', b'HVA FOODS PLC',\n",
       "         b'RENUKA HOTELS PLC', b'LANKA CREDIT AND BUSINESS FINANCE PLC'],\n",
       "        [b'SARVODAYA DEVELOPMENT FINANCE PLC', b'MARAWILA  RESORTS  PLC',\n",
       "         b'LANKEM DEVELOPMENTS PLC', b'HVA FOODS PLC',\n",
       "         b'CITIZENS DEVELOPMENT BUSINESS FINANCE PLC',\n",
       "         b'KELANI VALLEY PLANTATIONS PLC',\n",
       "         b'CEYLON BEVERAGE HOLDINGS PLC', b'SIERRA CABLES PLC',\n",
       "         b'DIALOG AXIATA PLC', b'HELA APPAREL HOLDINGS PLC']], dtype=object)>,\n",
       " 'CDSACCNO': <tf.Tensor: shape=(2,), dtype=string, numpy=array([b'RPS-20882-LI/00', b'RPS-890073360-VN/00'], dtype=object)>,\n",
       " 'STOCKCODE': <tf.Tensor: shape=(2, 10), dtype=string, numpy=\n",
       " array([[b'KCAB', b'BFL', b'CCS', b'RIL', b'MBSL', b'COCO', b'AGAL',\n",
       "         b'HVA', b'RCH', b'LCBF'],\n",
       "        [b'SDF', b'MARA', b'LDEV', b'HVA', b'CDB', b'KVAL', b'BREW',\n",
       "         b'SIRA', b'DIAL', b'HELA']], dtype=object)>,\n",
       " 'UNIX_TS': <tf.Tensor: shape=(2, 10), dtype=float32, numpy=\n",
       " array([[1.6430490e+09, 1.6431354e+09, 1.6625754e+09, 1.6895322e+09,\n",
       "         1.6441722e+09, 1.6643898e+09, 1.6433082e+09, 1.6484058e+09,\n",
       "         1.6450362e+09, 1.6897914e+09],\n",
       "        [1.6859034e+09, 1.6425306e+09, 1.6926426e+09, 1.6430490e+09,\n",
       "         1.6435674e+09, 1.6860762e+09, 1.6890138e+09, 1.6728570e+09,\n",
       "         1.6847802e+09, 1.6441722e+09]], dtype=float32)>,\n",
       " 'GICS': <tf.Tensor: shape=(2, 10), dtype=string, numpy=\n",
       " array([[b'Capital Goods', b'FOOD BEVERAGE & TOBACCO',\n",
       "         b'FOOD BEVERAGE & TOBACCO', b'Retailing',\n",
       "         b'Diversified Financials', b'Food Beverage & Tobacco',\n",
       "         b'FOOD BEVERAGE & TOBACCO', b'Food Beverage & Tobacco',\n",
       "         b'Consumer Services', b'Diversified Financial Services'],\n",
       "        [b'Consumer Finance', b'Consumer Services',\n",
       "         b'Food Beverage & Tobacco', b'Food Beverage & Tobacco',\n",
       "         b'Diversified Financials', b'Food Beverage & Tobacco',\n",
       "         b'Food Beverage & Tobacco', b'Capital Goods',\n",
       "         b'Telecommunication Services', b'Consumer Durables & Apparel']],\n",
       "       dtype=object)>,\n",
       " 'RATING': <tf.Tensor: shape=(2, 10), dtype=float32, numpy=\n",
       " array([[3., 2., 2., 1., 4., 1., 1., 1., 4., 1.],\n",
       "        [1., 4., 1., 1., 1., 1., 1., 1., 1., 1.]], dtype=float32)>}"
      ]
     },
     "execution_count": 9,
     "metadata": {},
     "output_type": "execute_result"
    }
   ],
   "source": [
    "test_1 = next(iter(test_list_ds.batch(2)))\n",
    "test_1"
   ]
  },
  {
   "cell_type": "code",
   "execution_count": 10,
   "metadata": {},
   "outputs": [
    {
     "data": {
      "text/plain": [
       "array([b'RPS-20882-LI/00', b'RPS-890073360-VN/00'], dtype=object)"
      ]
     },
     "execution_count": 10,
     "metadata": {},
     "output_type": "execute_result"
    }
   ],
   "source": [
    "test_1['CDSACCNO'].numpy()"
   ]
  },
  {
   "cell_type": "code",
   "execution_count": null,
   "metadata": {},
   "outputs": [],
   "source": []
  },
  {
   "cell_type": "code",
   "execution_count": 26,
   "metadata": {},
   "outputs": [],
   "source": [
    "id2gics = dict(zip(stock_info.symbol, stock_info.gics_code))\n",
    "id2name = dict(zip(stock_info.symbol, stock_info.name))"
   ]
  },
  {
   "cell_type": "code",
   "execution_count": null,
   "metadata": {},
   "outputs": [],
   "source": []
  },
  {
   "cell_type": "code",
   "execution_count": null,
   "metadata": {},
   "outputs": [],
   "source": []
  },
  {
   "cell_type": "code",
   "execution_count": 19,
   "metadata": {},
   "outputs": [],
   "source": [
    "user = {\n",
    "    'CDSACCNO' : test_1['CDSACCNO'].numpy(),\n",
    "    'STOCKCODE' : symbol_universe[:20].reshape(-1,10),\n",
    "    'GICS' : gics_universe[:20].reshape(-1,10),\n",
    "    'STOCKNAME' : name_universe[:20].reshape(-1,10)\n",
    "    }"
   ]
  },
  {
   "cell_type": "code",
   "execution_count": 20,
   "metadata": {},
   "outputs": [
    {
     "data": {
      "text/plain": [
       "array([['HBS', 'TYRE', 'ABL', 'DFCC', 'COMB', 'HNB', 'HDFC', 'NTB',\n",
       "        'NDB', 'PABC'],\n",
       "       ['SEYB', 'SDB', 'SAMP', 'UBC', 'HNBF', 'AEL', 'ACL', 'SPEN',\n",
       "        'AFS', 'BRWN']], dtype='<U4')"
      ]
     },
     "execution_count": 20,
     "metadata": {},
     "output_type": "execute_result"
    }
   ],
   "source": [
    "symbol_universe[:20].reshape(-1,10)"
   ]
  },
  {
   "cell_type": "code",
   "execution_count": 21,
   "metadata": {},
   "outputs": [
    {
     "data": {
      "text/plain": [
       "{'CDSACCNO': array([b'RPS-20882-LI/00', b'RPS-890073360-VN/00'], dtype=object),\n",
       " 'STOCKCODE': array([['HBS', 'TYRE', 'ABL', 'DFCC', 'COMB', 'HNB', 'HDFC', 'NTB',\n",
       "         'NDB', 'PABC'],\n",
       "        ['SEYB', 'SDB', 'SAMP', 'UBC', 'HNBF', 'AEL', 'ACL', 'SPEN',\n",
       "         'AFS', 'BRWN']], dtype='<U4'),\n",
       " 'GICS': array([['45103010 - Application Software', 'Automobiles & Components',\n",
       "         'Banks', 'Banks', 'Banks', 'Banks', 'Banks', 'Banks', 'Banks',\n",
       "         'Banks'],\n",
       "        ['Banks', 'Banks', 'Banks', 'Banks', 'Banks Finance & Insurance',\n",
       "         'Capital Goods', 'Capital Goods', 'Capital Goods',\n",
       "         'Capital Goods', 'Capital Goods']], dtype='<U34'),\n",
       " 'STOCKNAME': array([['hSenid Business Solutions PLC', 'KELANI TYRES PLC',\n",
       "         'AMANA BANK PLC', 'DFCC BANK PLC',\n",
       "         'COMMERCIAL BANK OF CEYLON PLC', 'HATTON NATIONAL BANK PLC',\n",
       "         'HOUSING DEVELOPMENT FINANCE CORPORATION BANK OF SL',\n",
       "         'NATIONS TRUST BANK PLC', 'NATIONAL DEVELOPMENT BANK PLC',\n",
       "         'PAN ASIA BANKING CORPORATION PLC'],\n",
       "        ['SEYLAN BANK PLC', 'SANASA DEVELOPMENT BANK PLC',\n",
       "         'SAMPATH BANK PLC', 'UNION BANK OF COLOMBO PLC',\n",
       "         'HNB FINANCE PLC', 'ACCESS ENGINEERING PLC', 'ACL CABLES PLC',\n",
       "         'AITKEN SPENCE PLC', 'ALPHA FIRE SERVICES PLC',\n",
       "         'BROWN & COMPANY PLC']], dtype='<U50')}"
      ]
     },
     "execution_count": 21,
     "metadata": {},
     "output_type": "execute_result"
    }
   ],
   "source": [
    "user"
   ]
  },
  {
   "cell_type": "code",
   "execution_count": 22,
   "metadata": {},
   "outputs": [
    {
     "name": "stdout",
     "output_type": "stream",
     "text": [
      "(2, 10, 32)  |  (2, 10, 64)\n"
     ]
    },
    {
     "data": {
      "text/plain": [
       "<tf.Tensor: shape=(2, 10, 1), dtype=float32, numpy=\n",
       "array([[[1.5881217 ],\n",
       "        [1.2460905 ],\n",
       "        [2.2676735 ],\n",
       "        [1.8818375 ],\n",
       "        [1.6938076 ],\n",
       "        [2.0285084 ],\n",
       "        [2.2777996 ],\n",
       "        [2.3224337 ],\n",
       "        [2.7566538 ],\n",
       "        [1.1188542 ]],\n",
       "\n",
       "       [[0.97796226],\n",
       "        [1.0023836 ],\n",
       "        [1.2344999 ],\n",
       "        [1.134217  ],\n",
       "        [1.1520604 ],\n",
       "        [0.9284433 ],\n",
       "        [1.4246619 ],\n",
       "        [1.0848207 ],\n",
       "        [1.0204049 ],\n",
       "        [1.2487178 ]]], dtype=float32)>"
      ]
     },
     "execution_count": 22,
     "metadata": {},
     "output_type": "execute_result"
    }
   ],
   "source": [
    "model(user)"
   ]
  },
  {
   "cell_type": "code",
   "execution_count": null,
   "metadata": {},
   "outputs": [],
   "source": []
  },
  {
   "cell_type": "code",
   "execution_count": null,
   "metadata": {},
   "outputs": [],
   "source": []
  }
 ],
 "metadata": {
  "kernelspec": {
   "display_name": "atrad_cars_v2",
   "language": "python",
   "name": "python3"
  },
  "language_info": {
   "codemirror_mode": {
    "name": "ipython",
    "version": 3
   },
   "file_extension": ".py",
   "mimetype": "text/x-python",
   "name": "python",
   "nbconvert_exporter": "python",
   "pygments_lexer": "ipython3",
   "version": "3.9.19"
  }
 },
 "nbformat": 4,
 "nbformat_minor": 2
}
