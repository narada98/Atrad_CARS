{
 "cells": [
  {
   "cell_type": "code",
   "execution_count": 1,
   "metadata": {},
   "outputs": [],
   "source": [
    "import numpy as np\n",
    "import tensorflow as tf\n",
    "\n",
    "from recommender import Recommender\n",
    "\n",
    "import pandas as pd"
   ]
  },
  {
   "cell_type": "code",
   "execution_count": 2,
   "metadata": {},
   "outputs": [
    {
     "name": "stdout",
     "output_type": "stream",
     "text": [
      "WARNING:tensorflow:From C:\\Users\\naradaw\\AppData\\Roaming\\Python\\Python39\\site-packages\\tensorflow\\python\\autograph\\pyct\\static_analysis\\liveness.py:83: Analyzer.lamba_check (from tensorflow.python.autograph.pyct.static_analysis.liveness) is deprecated and will be removed after 2023-09-23.\n",
      "Instructions for updating:\n",
      "Lambda fuctions will be no more assumed to be used in the statement where they are used, or at least in the same block. https://github.com/tensorflow/tensorflow/issues/56089\n"
     ]
    },
    {
     "data": {
      "text/plain": [
       "<tensorflow.python.checkpoint.checkpoint.CheckpointLoadStatus at 0x270944db9d0>"
      ]
     },
     "execution_count": 2,
     "metadata": {},
     "output_type": "execute_result"
    }
   ],
   "source": [
    "\n",
    "\n",
    "test_list_ds = tf.data.Dataset.load(\"D:/dev work/recommender systems/Atrad_CARS/data/test_lists_ds\").cache()\n",
    "portfolios = tf.data.Dataset.load(\"D:/dev work/recommender systems/Atrad_CARS/data/portfolios_tfds\").cache()\n",
    "\n",
    "items_ids = portfolios.batch(10000).map(lambda x: x[\"STOCKCODE\"])\n",
    "unique_item_ids = np.unique(np.concatenate(list(items_ids)))\n",
    "\n",
    "item_names = portfolios.batch(10000).map(lambda x: x[\"STOCKNAME\"])\n",
    "unique_item_names = np.unique(np.concatenate(list(item_names)))\n",
    "\n",
    "item_GICS = portfolios.batch(10000).map(lambda x: x[\"GICS\"])\n",
    "unique_item_gics = np.unique(np.concatenate(list(item_GICS)))\n",
    "\n",
    "user_ids = portfolios.batch(10000).map(lambda x: x[\"CDSACCNO\"])\n",
    "unique_user_ids = np.unique(np.concatenate(list(user_ids)))\n",
    "\n",
    "model = Recommender(\n",
    "    loss = tf.keras.losses.MeanSquaredError(),\n",
    "    portfolios = portfolios\n",
    "    )\n",
    "\n",
    "model.load_weights(r\"D:\\dev work\\recommender systems\\Atrad_CARS\\model_weights\\2024_04_25\\tf_listwise_ranking_2024_04_25_12_49\")"
   ]
  },
  {
   "cell_type": "code",
   "execution_count": 3,
   "metadata": {},
   "outputs": [
    {
     "name": "stdout",
     "output_type": "stream",
     "text": [
      "(None, 5, 32)  |  (None, 5, 64)\n",
      "(None, 5, 32)  |  (None, 5, 64)\n",
      "1/1 [==============================] - 3s 3s/step - ndcg_metric: 0.8401 - root_mean_squared_error: 1.2172 - loss: 1.4817 - regularization_loss: 0.0000e+00 - total_loss: 1.4817\n"
     ]
    },
    {
     "data": {
      "text/plain": [
       "{'ndcg_metric': 0.8400689363479614,\n",
       " 'root_mean_squared_error': 1.2172322273254395,\n",
       " 'loss': 1.481654167175293,\n",
       " 'regularization_loss': 0,\n",
       " 'total_loss': 1.481654167175293}"
      ]
     },
     "execution_count": 3,
     "metadata": {},
     "output_type": "execute_result"
    }
   ],
   "source": [
    "model.compile(optimizer=tf.keras.optimizers.Adagrad(learning_rate=0.1))\n",
    "model.evaluate(test_list_ds.shuffle(100_000).batch(1024), return_dict=True)"
   ]
  },
  {
   "cell_type": "code",
   "execution_count": 4,
   "metadata": {},
   "outputs": [
    {
     "data": {
      "text/plain": [
       "(282, 4)"
      ]
     },
     "execution_count": 4,
     "metadata": {},
     "output_type": "execute_result"
    }
   ],
   "source": [
    "symbol_uni_path = r\"D:\\dev work\\recommender systems\\Atrad_CARS\\data\\stock_data.xlsx\"\n",
    "stock_info = pd.read_excel(symbol_uni_path)\n",
    "stock_info = stock_info.drop(['Unnamed: 0'],axis = 1)\n",
    "stock_info.shape\n"
   ]
  },
  {
   "cell_type": "code",
   "execution_count": 5,
   "metadata": {},
   "outputs": [
    {
     "data": {
      "text/html": [
       "<div>\n",
       "<style scoped>\n",
       "    .dataframe tbody tr th:only-of-type {\n",
       "        vertical-align: middle;\n",
       "    }\n",
       "\n",
       "    .dataframe tbody tr th {\n",
       "        vertical-align: top;\n",
       "    }\n",
       "\n",
       "    .dataframe thead th {\n",
       "        text-align: right;\n",
       "    }\n",
       "</style>\n",
       "<table border=\"1\" class=\"dataframe\">\n",
       "  <thead>\n",
       "    <tr style=\"text-align: right;\">\n",
       "      <th></th>\n",
       "      <th>symbol</th>\n",
       "      <th>name</th>\n",
       "      <th>buisnesssummary</th>\n",
       "      <th>gics_code</th>\n",
       "    </tr>\n",
       "  </thead>\n",
       "  <tbody>\n",
       "    <tr>\n",
       "      <th>0</th>\n",
       "      <td>HBS</td>\n",
       "      <td>hSenid Business Solutions PLC</td>\n",
       "      <td>An indigenous multinational catering towards m...</td>\n",
       "      <td>45103010 - Application Software</td>\n",
       "    </tr>\n",
       "    <tr>\n",
       "      <th>1</th>\n",
       "      <td>TYRE</td>\n",
       "      <td>KELANI TYRES PLC</td>\n",
       "      <td>Manufacturing tyres and tubes and marketing lo...</td>\n",
       "      <td>Automobiles &amp; Components</td>\n",
       "    </tr>\n",
       "    <tr>\n",
       "      <th>2</th>\n",
       "      <td>ABL</td>\n",
       "      <td>AMANA BANK PLC</td>\n",
       "      <td>unknown</td>\n",
       "      <td>Banks</td>\n",
       "    </tr>\n",
       "  </tbody>\n",
       "</table>\n",
       "</div>"
      ],
      "text/plain": [
       "  symbol                           name  \\\n",
       "0    HBS  hSenid Business Solutions PLC   \n",
       "1   TYRE               KELANI TYRES PLC   \n",
       "2    ABL                 AMANA BANK PLC   \n",
       "\n",
       "                                     buisnesssummary  \\\n",
       "0  An indigenous multinational catering towards m...   \n",
       "1  Manufacturing tyres and tubes and marketing lo...   \n",
       "2                                            unknown   \n",
       "\n",
       "                         gics_code  \n",
       "0  45103010 - Application Software  \n",
       "1         Automobiles & Components  \n",
       "2                            Banks  "
      ]
     },
     "execution_count": 5,
     "metadata": {},
     "output_type": "execute_result"
    }
   ],
   "source": [
    "stock_info.head(3)"
   ]
  },
  {
   "cell_type": "code",
   "execution_count": 6,
   "metadata": {},
   "outputs": [
    {
     "data": {
      "text/plain": [
       "282"
      ]
     },
     "execution_count": 6,
     "metadata": {},
     "output_type": "execute_result"
    }
   ],
   "source": [
    "len(stock_info['symbol'].to_list())\n"
   ]
  },
  {
   "cell_type": "code",
   "execution_count": 7,
   "metadata": {},
   "outputs": [],
   "source": [
    "symbol_universe = np.array(stock_info['symbol'].to_list())\n",
    "name_universe = np.array(stock_info['name'].to_list())\n",
    "gics_universe = np.array(stock_info['gics_code'].to_list())\n"
   ]
  },
  {
   "cell_type": "code",
   "execution_count": 8,
   "metadata": {},
   "outputs": [
    {
     "data": {
      "text/plain": [
       "{'GICS': <tf.Tensor: shape=(2, 5), dtype=string, numpy=\n",
       " array([[b'Capital Goods', b'FOOD BEVERAGE & TOBACCO',\n",
       "         b'FOOD BEVERAGE & TOBACCO', b'Retailing',\n",
       "         b'Diversified Financials'],\n",
       "        [b'Retailing', b'Energy', b'Commercial & Professional Services',\n",
       "         b'Capital Goods', b'Food Beverage & Tobacco']], dtype=object)>,\n",
       " 'STOCKNAME': <tf.Tensor: shape=(2, 5), dtype=string, numpy=\n",
       " array([[b'KELANI CABLES PLC', b'BAIRAHA FARMS PLC',\n",
       "         b'CEYLON COLD STORES PLC', b'R I L PROPERTY PLC',\n",
       "         b'MERCHANT BANK OF SRI LANKA & FINANCE PLC'],\n",
       "        [b'DIESEL & MOTOR ENGINEERING PLC', b'LANKA IOC PLC',\n",
       "         b'E M L CONSULTANTS PLC', b'HAYLEYS PLC',\n",
       "         b'KAHAWATTE  PLANTATIONS  PLC']], dtype=object)>,\n",
       " 'UNIX_TS': <tf.Tensor: shape=(2, 5), dtype=float32, numpy=\n",
       " array([[1.6430490e+09, 1.6431354e+09, 1.6625754e+09, 1.6895322e+09,\n",
       "         1.6441722e+09],\n",
       "        [1.6636986e+09, 1.6649082e+09, 1.6589466e+09, 1.6612794e+09,\n",
       "         1.6623162e+09]], dtype=float32)>,\n",
       " 'RATING': <tf.Tensor: shape=(2, 5), dtype=float32, numpy=\n",
       " array([[3., 2., 2., 1., 4.],\n",
       "        [1., 2., 2., 1., 1.]], dtype=float32)>,\n",
       " 'CDSACCNO': <tf.Tensor: shape=(2,), dtype=string, numpy=array([b'RPS-20882-LI/00', b'RPS-31648-LI/00'], dtype=object)>,\n",
       " 'STOCKCODE': <tf.Tensor: shape=(2, 5), dtype=string, numpy=\n",
       " array([[b'KCAB', b'BFL', b'CCS', b'RIL', b'MBSL'],\n",
       "        [b'DIMO', b'LIOC', b'EML', b'HAYL', b'KAHA']], dtype=object)>}"
      ]
     },
     "execution_count": 8,
     "metadata": {},
     "output_type": "execute_result"
    }
   ],
   "source": [
    "test_1 = next(iter(test_list_ds.batch(2)))\n",
    "test_1"
   ]
  },
  {
   "cell_type": "code",
   "execution_count": 9,
   "metadata": {},
   "outputs": [
    {
     "data": {
      "text/plain": [
       "array([b'RPS-20882-LI/00', b'RPS-31648-LI/00'], dtype=object)"
      ]
     },
     "execution_count": 9,
     "metadata": {},
     "output_type": "execute_result"
    }
   ],
   "source": [
    "test_1['CDSACCNO'].numpy()"
   ]
  },
  {
   "cell_type": "code",
   "execution_count": 26,
   "metadata": {},
   "outputs": [],
   "source": [
    "user = {\n",
    "    'CDSACCNO' : test_1['CDSACCNO'].numpy(),\n",
    "    'STOCKCODE' : symbol_universe[:10].reshape(-1,5),\n",
    "    'GICS' : gics_universe[:10].reshape(-1,5),\n",
    "    'STOCKNAME' : name_universe[:10].reshape(-1,5)\n",
    "    }"
   ]
  },
  {
   "cell_type": "code",
   "execution_count": 27,
   "metadata": {},
   "outputs": [
    {
     "data": {
      "text/plain": [
       "array([['HBS', 'TYRE', 'ABL', 'DFCC', 'COMB'],\n",
       "       ['HNB', 'HDFC', 'NTB', 'NDB', 'PABC']], dtype='<U4')"
      ]
     },
     "execution_count": 27,
     "metadata": {},
     "output_type": "execute_result"
    }
   ],
   "source": [
    "symbol_universe[:10].reshape(-1,5)"
   ]
  },
  {
   "cell_type": "code",
   "execution_count": 28,
   "metadata": {},
   "outputs": [
    {
     "data": {
      "text/plain": [
       "{'CDSACCNO': array([b'RPS-20882-LI/00', b'RPS-31648-LI/00'], dtype=object),\n",
       " 'STOCKCODE': array([['HBS', 'TYRE', 'ABL', 'DFCC', 'COMB'],\n",
       "        ['HNB', 'HDFC', 'NTB', 'NDB', 'PABC']], dtype='<U4'),\n",
       " 'GICS': array([['45103010 - Application Software', 'Automobiles & Components',\n",
       "         'Banks', 'Banks', 'Banks'],\n",
       "        ['Banks', 'Banks', 'Banks', 'Banks', 'Banks']], dtype='<U34'),\n",
       " 'STOCKNAME': array([['hSenid Business Solutions PLC', 'KELANI TYRES PLC',\n",
       "         'AMANA BANK PLC', 'DFCC BANK PLC',\n",
       "         'COMMERCIAL BANK OF CEYLON PLC'],\n",
       "        ['HATTON NATIONAL BANK PLC',\n",
       "         'HOUSING DEVELOPMENT FINANCE CORPORATION BANK OF SL',\n",
       "         'NATIONS TRUST BANK PLC', 'NATIONAL DEVELOPMENT BANK PLC',\n",
       "         'PAN ASIA BANKING CORPORATION PLC']], dtype='<U50')}"
      ]
     },
     "execution_count": 28,
     "metadata": {},
     "output_type": "execute_result"
    }
   ],
   "source": [
    "user"
   ]
  },
  {
   "cell_type": "code",
   "execution_count": 38,
   "metadata": {},
   "outputs": [
    {
     "name": "stdout",
     "output_type": "stream",
     "text": [
      "(2, 5, 32)  |  (2, 5, 64)\n"
     ]
    },
    {
     "data": {
      "text/plain": [
       "<tf.Tensor: shape=(2, 5, 1), dtype=float32, numpy=\n",
       "array([[[1.4720235],\n",
       "        [1.931324 ],\n",
       "        [2.502866 ],\n",
       "        [2.4485707],\n",
       "        [2.7979016]],\n",
       "\n",
       "       [[1.4556653],\n",
       "        [1.3368728],\n",
       "        [1.8625946],\n",
       "        [1.7156005],\n",
       "        [1.2535155]]], dtype=float32)>"
      ]
     },
     "execution_count": 38,
     "metadata": {},
     "output_type": "execute_result"
    }
   ],
   "source": [
    "model(user)"
   ]
  },
  {
   "cell_type": "code",
   "execution_count": null,
   "metadata": {},
   "outputs": [],
   "source": []
  },
  {
   "cell_type": "code",
   "execution_count": null,
   "metadata": {},
   "outputs": [],
   "source": []
  }
 ],
 "metadata": {
  "kernelspec": {
   "display_name": "atrad_cars_v2",
   "language": "python",
   "name": "python3"
  },
  "language_info": {
   "codemirror_mode": {
    "name": "ipython",
    "version": 3
   },
   "file_extension": ".py",
   "mimetype": "text/x-python",
   "name": "python",
   "nbconvert_exporter": "python",
   "pygments_lexer": "ipython3",
   "version": "3.9.19"
  }
 },
 "nbformat": 4,
 "nbformat_minor": 2
}
