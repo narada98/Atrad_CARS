{
 "cells": [
  {
   "cell_type": "code",
   "execution_count": 1,
   "metadata": {},
   "outputs": [],
   "source": [
    "import pandas"
   ]
  },
  {
   "cell_type": "code",
   "execution_count": 2,
   "metadata": {},
   "outputs": [],
   "source": [
    "import numpy as np\n",
    "import tensorflow as tf\n",
    "# import tensorflow_datasets as tfds"
   ]
  },
  {
   "cell_type": "code",
   "execution_count": 3,
   "metadata": {},
   "outputs": [],
   "source": [
    "import tensorflow_ranking as tfr\n",
    "import tensorflow_recommenders as tfrs"
   ]
  },
  {
   "cell_type": "code",
   "execution_count": 4,
   "metadata": {},
   "outputs": [],
   "source": [
    "train_ds = tf.data.Dataset.load(\"D:/dev work/recommender systems/Atrad_CARS/data/movie_lens/ratings_train\").cache() #data\\ratings_train\n",
    "test_ds = tf.data.Dataset.load(\"D:/dev work/recommender systems/Atrad_CARS/data/movie_lens/ratings_test\").cache()\n",
    "\n",
    "ratings = tf.data.Dataset.load(\"D:/dev work/recommender systems/Atrad_CARS/data/movie_lens/ratings_all\").cache()"
   ]
  },
  {
   "cell_type": "code",
   "execution_count": 5,
   "metadata": {},
   "outputs": [
    {
     "data": {
      "text/plain": [
       "{'user_id': <tf.Tensor: shape=(), dtype=string, numpy=b'681'>,\n",
       " 'user_rating': <tf.Tensor: shape=(), dtype=float32, numpy=4.0>,\n",
       " 'movie_title': <tf.Tensor: shape=(), dtype=string, numpy=b'Postman, The (1997)'>,\n",
       " 'timestamp': <tf.Tensor: shape=(), dtype=int64, numpy=885409515>}"
      ]
     },
     "execution_count": 5,
     "metadata": {},
     "output_type": "execute_result"
    }
   ],
   "source": [
    "next(iter(ratings))"
   ]
  },
  {
   "cell_type": "code",
   "execution_count": 6,
   "metadata": {},
   "outputs": [
    {
     "name": "stdout",
     "output_type": "stream",
     "text": [
      "WARNING:tensorflow:From C:\\Users\\naradaw\\AppData\\Roaming\\Python\\Python39\\site-packages\\tensorflow\\python\\autograph\\pyct\\static_analysis\\liveness.py:83: Analyzer.lamba_check (from tensorflow.python.autograph.pyct.static_analysis.liveness) is deprecated and will be removed after 2023-09-23.\n",
      "Instructions for updating:\n",
      "Lambda fuctions will be no more assumed to be used in the statement where they are used, or at least in the same block. https://github.com/tensorflow/tensorflow/issues/56089\n"
     ]
    }
   ],
   "source": [
    "movies = ratings.map(lambda x: x[\"movie_title\"])\n",
    "\n",
    "unique_movie_titles = np.unique(np.concatenate(list(movies.batch(1000))))\n",
    "unique_movie_user_ids = np.unique(np.concatenate(list(ratings.batch(1_000).map(\n",
    "    lambda x: x[\"user_id\"]))))"
   ]
  },
  {
   "cell_type": "code",
   "execution_count": 7,
   "metadata": {},
   "outputs": [],
   "source": [
    "tf.random.set_seed(42)\n",
    "\n",
    "# Split between train and tests sets, as before.\n",
    "shuffled = ratings.shuffle(100_000, seed=42, reshuffle_each_iteration=False)\n",
    "\n",
    "train = shuffled.take(80_000)\n",
    "test = shuffled.skip(80_000).take(20_000)\n",
    "\n",
    "# We sample 50 lists for each user for the training data. For each list we\n",
    "# sample 5 movies from the movies the user rated.\n",
    "train = tfrs.examples.movielens.sample_listwise(\n",
    "    train,\n",
    "    num_list_per_user=50,\n",
    "    num_examples_per_list=5,\n",
    "    seed=42\n",
    ")\n",
    "test = tfrs.examples.movielens.sample_listwise(\n",
    "    test,\n",
    "    num_list_per_user=1,\n",
    "    num_examples_per_list=5,\n",
    "    seed=42\n",
    ")"
   ]
  },
  {
   "cell_type": "code",
   "execution_count": 30,
   "metadata": {},
   "outputs": [],
   "source": [
    "\n",
    "class ItemModel(tf.keras.Model):\n",
    "    def __init__(\n",
    "        self,\n",
    "        unique_item_ids,\n",
    "        unique_item_gics\n",
    "\n",
    "        ):\n",
    "        super().__init__()\n",
    "\n",
    "        self.max_tokens = 10000\n",
    "        self.unique_item_ids = unique_item_ids\n",
    "        self.unique_item_gics = unique_item_gics\n",
    "\n",
    "        self.embed_item_id = tf.keras.Sequential([\n",
    "            tf.keras.layers.StringLookup(\n",
    "                vocabulary = self.unique_item_ids,\n",
    "                mask_token =None\n",
    "            ),\n",
    "            tf.keras.layers.Embedding(\n",
    "                input_dim = len(self.unique_item_ids)+1,\n",
    "                output_dim = 32 #32\n",
    "            )\n",
    "        ])\n",
    "\n",
    "        self.embed_items_gics = tf.keras.Sequential([\n",
    "            tf.keras.layers.StringLookup(\n",
    "                vocabulary = self.unique_item_gics,\n",
    "                mask_token = None\n",
    "            ),\n",
    "            tf.keras.layers.Embedding(\n",
    "                input_dim = len(self.unique_item_gics)+1,\n",
    "                output_dim = 16 #len(unique_item_gics)\n",
    "            )\n",
    "        ])\n",
    "        \n",
    "    \n",
    "    def call(self, inputs):\n",
    "\n",
    "        item_id,  item_gics = inputs\n",
    "\n",
    "        return tf.concat([\n",
    "            self.embed_item_id(item_id),\n",
    "            self.embed_items_gics(item_gics)\n",
    "        ],\n",
    "        axis = 2)\n",
    "\n",
    "\n",
    "class UserModel(tf.keras.Model):\n",
    "    def __init__(\n",
    "        self,\n",
    "        unique_user_ids, \n",
    "        \n",
    "        ):\n",
    "\n",
    "        super().__init__()\n",
    "\n",
    "        self.unique_user_ids = unique_user_ids\n",
    "\n",
    "        self.embed_user_id = tf.keras.Sequential([\n",
    "            tf.keras.layers.StringLookup(\n",
    "                vocabulary = self.unique_user_ids,\n",
    "                mask_token = None\n",
    "            ),\n",
    "            tf.keras.layers.Embedding(\n",
    "                input_dim = len(self.unique_user_ids)+1,\n",
    "                output_dim = 32\n",
    "            )\n",
    "        ])\n",
    "        \n",
    "    def call(self, inputs):\n",
    "\n",
    "        (user_id) = inputs\n",
    "\n",
    "        return self.embed_user_id(user_id)\n",
    "        "
   ]
  },
  {
   "cell_type": "code",
   "execution_count": 112,
   "metadata": {},
   "outputs": [],
   "source": [
    "from tensorflow.keras import layers\n",
    "\n",
    "def squeeze_layer(inputs, axis=-1):\n",
    "  return tf.squeeze(inputs, axis=axis)\n",
    "\n",
    "squeeze_custom_layer = layers.Lambda(squeeze_layer) #, arguments={'axis': 1}\n",
    "\n",
    "def global_average_mean(x):\n",
    "  \"\"\"Custom layer to perform global average mean pooling.\"\"\"\n",
    "  axis = -2  # Reduce mean along the last dimension\n",
    "  return tf.reduce_mean(x, axis=axis)\n",
    "\n",
    "def reshaper(x):\n",
    "    shape = (-1,5,1)\n",
    "    return tf.reshape(x, shape)\n",
    "\n",
    "class ItemModel_v2(tf.keras.Model):\n",
    "    def __init__(\n",
    "        self,\n",
    "        unique_item_ids,\n",
    "        unique_item_gics,\n",
    "        unique_item_names\n",
    "\n",
    "        ):\n",
    "        super().__init__()\n",
    "\n",
    "        self.max_tokens = 10000\n",
    "        self.unique_item_ids = unique_item_ids\n",
    "        self.unique_item_gics = unique_item_gics\n",
    "        self.unique_item_names = unique_item_names\n",
    "\n",
    "        self.embed_item_id = tf.keras.Sequential([\n",
    "            tf.keras.layers.StringLookup(\n",
    "                vocabulary = self.unique_item_ids,\n",
    "                mask_token =None\n",
    "            ),\n",
    "            tf.keras.layers.Embedding(\n",
    "                input_dim = len(self.unique_item_ids)+1,\n",
    "                output_dim = 16 #32\n",
    "            )\n",
    "        ])\n",
    "\n",
    "        self.embed_items_gics = tf.keras.Sequential([\n",
    "            tf.keras.layers.StringLookup(\n",
    "                vocabulary = unique_item_gics,\n",
    "                mask_token = None\n",
    "            ),\n",
    "            tf.keras.layers.Embedding(\n",
    "                input_dim = len(unique_item_gics)+1,\n",
    "                output_dim = 16 #len(unique_item_gics)\n",
    "            )\n",
    "        ])\n",
    "\n",
    "        self.textvectorizer = tf.keras.layers.TextVectorization(\n",
    "            max_tokens = self.max_tokens,\n",
    "            # ragged = True\n",
    "        )\n",
    "\n",
    "        self.embed_item_name = tf.keras.Sequential([\n",
    "\n",
    "            # tf.keras.layers.Reshape((-1,5,1)),\n",
    "            tf.keras.layers.Lambda(reshaper),\n",
    "\n",
    "            self.textvectorizer,\n",
    "\n",
    "            tf.keras.layers.Embedding(\n",
    "                input_dim = self.max_tokens,\n",
    "                output_dim = 32,\n",
    "                mask_zero = True\n",
    "            ),\n",
    "\n",
    "            tf.keras.layers.Lambda(global_average_mean)\n",
    "            # tf.keras.layers.GlobalAveragePooling1D(), # reduces dimensionality to 1d (embedding layer embeddeds each word in a title one by one)\n",
    "            \n",
    "            # tf.keras.layers.Flatten() \n",
    "            # squeeze_custom_layer()\n",
    "        ])\n",
    "\n",
    "        self.textvectorizer.adapt(self.unique_item_names)\n",
    "\n",
    "\n",
    "    \n",
    "    def call(self, inputs):\n",
    "\n",
    "        item_id,  item_gics, item_name = inputs\n",
    "\n",
    "        return tf.concat([\n",
    "            self.embed_item_id(item_id),\n",
    "            self.embed_items_gics(item_gics),\n",
    "            self.embed_item_name(item_name)\n",
    "        ],\n",
    "        axis = 2)"
   ]
  },
  {
   "cell_type": "code",
   "execution_count": 10,
   "metadata": {},
   "outputs": [],
   "source": [
    "class RankingModel(tfrs.Model):\n",
    "\n",
    "  def __init__(self, loss):\n",
    "    super().__init__()\n",
    "    embedding_dimension = 32\n",
    "\n",
    "    # Compute embeddings for users.\n",
    "    self.user_embeddings = UserModel(\n",
    "        unique_user_ids = unique_movie_user_ids\n",
    "    )\n",
    "\n",
    "    self.movie_embeddings = ItemModel(\n",
    "        unique_item_ids = unique_movie_titles\n",
    "    )\n",
    "\n",
    "    self.score_model = tf.keras.Sequential([\n",
    "      tf.keras.layers.Dense(256, activation=\"relu\"),\n",
    "      tf.keras.layers.Dense(64, activation=\"relu\"),\n",
    "      tf.keras.layers.Dense(1)\n",
    "    ])\n",
    "\n",
    "    self.task = tfrs.tasks.Ranking(\n",
    "      loss=loss,\n",
    "      metrics=[\n",
    "        tfr.keras.metrics.NDCGMetric(name=\"ndcg_metric\"),\n",
    "        tf.keras.metrics.RootMeanSquaredError()\n",
    "      ]\n",
    "    )\n",
    "\n",
    "  def call(self, features):\n",
    "\n",
    "    user_embeddings = self.user_embeddings(features[\"user_id\"])\n",
    "\n",
    "    movie_embeddings = self.movie_embeddings(features[\"movie_title\"])\n",
    "\n",
    "    list_length = features[\"movie_title\"].shape[1]\n",
    "    user_embedding_repeated = tf.repeat(\n",
    "        tf.expand_dims(user_embeddings, 1), [list_length], axis=1)\n",
    "\n",
    "    concatenated_embeddings = tf.concat(\n",
    "        [user_embedding_repeated, movie_embeddings], 2)\n",
    "\n",
    "    return self.score_model(concatenated_embeddings)\n",
    "\n",
    "  def compute_loss(self, features, training=False):\n",
    "    labels = features.pop(\"user_rating\")\n",
    "\n",
    "    scores = self(features)\n",
    "\n",
    "    return self.task(\n",
    "        labels=labels,\n",
    "        predictions=tf.squeeze(scores, axis=-1),\n",
    "    )"
   ]
  },
  {
   "cell_type": "code",
   "execution_count": 11,
   "metadata": {},
   "outputs": [],
   "source": [
    "epochs = 5\n",
    "\n",
    "cached_train = train.shuffle(100_000).batch(8192).cache()\n",
    "cached_test = test.batch(4096).cache()"
   ]
  },
  {
   "cell_type": "code",
   "execution_count": 12,
   "metadata": {},
   "outputs": [],
   "source": [
    "mse_model = RankingModel(tf.keras.losses.MeanSquaredError())\n",
    "mse_model.compile(optimizer=tf.keras.optimizers.Adagrad(0.1))"
   ]
  },
  {
   "cell_type": "code",
   "execution_count": 13,
   "metadata": {},
   "outputs": [
    {
     "name": "stdout",
     "output_type": "stream",
     "text": [
      "Epoch 1/5\n",
      "6/6 [==============================] - 2s 48ms/step - ndcg_metric: 0.8518 - root_mean_squared_error: 2.7891 - loss: 6.8492 - regularization_loss: 0.0000e+00 - total_loss: 6.8492\n",
      "Epoch 2/5\n",
      "6/6 [==============================] - 0s 45ms/step - ndcg_metric: 0.8593 - root_mean_squared_error: 1.1255 - loss: 1.2674 - regularization_loss: 0.0000e+00 - total_loss: 1.2674\n",
      "Epoch 3/5\n",
      "6/6 [==============================] - 0s 45ms/step - ndcg_metric: 0.8674 - root_mean_squared_error: 1.1231 - loss: 1.2620 - regularization_loss: 0.0000e+00 - total_loss: 1.2620\n",
      "Epoch 4/5\n",
      "6/6 [==============================] - 0s 46ms/step - ndcg_metric: 0.8734 - root_mean_squared_error: 1.1203 - loss: 1.2557 - regularization_loss: 0.0000e+00 - total_loss: 1.2557\n",
      "Epoch 5/5\n",
      "6/6 [==============================] - 0s 45ms/step - ndcg_metric: 0.8779 - root_mean_squared_error: 1.1169 - loss: 1.2480 - regularization_loss: 0.0000e+00 - total_loss: 1.2480\n"
     ]
    },
    {
     "data": {
      "text/plain": [
       "<keras.callbacks.History at 0x23cf96bce80>"
      ]
     },
     "execution_count": 13,
     "metadata": {},
     "output_type": "execute_result"
    }
   ],
   "source": [
    "mse_model.fit(cached_train, epochs= 5 , verbose=1)"
   ]
  },
  {
   "cell_type": "code",
   "execution_count": null,
   "metadata": {},
   "outputs": [],
   "source": []
  },
  {
   "cell_type": "markdown",
   "metadata": {},
   "source": [
    "# Atrad Model"
   ]
  },
  {
   "cell_type": "code",
   "execution_count": 14,
   "metadata": {},
   "outputs": [],
   "source": [
    "portfolios = tf.data.Dataset.load(\"../../data/portfolios_tfds_lists\")"
   ]
  },
  {
   "cell_type": "code",
   "execution_count": 15,
   "metadata": {},
   "outputs": [],
   "source": [
    "train_list_ds = tf.data.Dataset.load(\"D:/dev work/recommender systems/Atrad_CARS/data/train_lists_ds\").cache()\n",
    "test_list_ds = tf.data.Dataset.load(\"D:/dev work/recommender systems/Atrad_CARS/data/test_lists_ds\").cache()"
   ]
  },
  {
   "cell_type": "code",
   "execution_count": 16,
   "metadata": {},
   "outputs": [
    {
     "data": {
      "text/plain": [
       "{'CDSACCNO': <tf.Tensor: shape=(), dtype=string, numpy=b'RPS-23479-LI/00'>,\n",
       " 'GICS': <tf.Tensor: shape=(5,), dtype=string, numpy=\n",
       " array([b'Materials', b'Health Care Equipment & Services',\n",
       "        b'Food Beverage & Tobacco', b'Consumer Durables & Apparel',\n",
       "        b'Capital Goods'], dtype=object)>,\n",
       " 'STOCKCODE': <tf.Tensor: shape=(5,), dtype=string, numpy=array([b'CIC', b'AMSL', b'RAL', b'REG', b'AEL'], dtype=object)>,\n",
       " 'RATING': <tf.Tensor: shape=(5,), dtype=float32, numpy=array([4., 2., 5., 5., 2.], dtype=float32)>,\n",
       " 'UNIX_TS': <tf.Tensor: shape=(5,), dtype=float32, numpy=\n",
       " array([1.6475418e+09, 1.6681050e+09, 1.7100954e+09, 1.7030970e+09,\n",
       "        1.6655994e+09], dtype=float32)>,\n",
       " 'STOCKNAME': <tf.Tensor: shape=(5,), dtype=string, numpy=\n",
       " array([b'C I C HOLDINGS PLC', b'ASIRI SURGICAL HOSPITAL PLC',\n",
       "        b'RENUKA AGRI FOODS PLC', b'REGNIS (LANKA) PLC',\n",
       "        b'ACCESS ENGINEERING PLC'], dtype=object)>}"
      ]
     },
     "execution_count": 16,
     "metadata": {},
     "output_type": "execute_result"
    }
   ],
   "source": [
    "next(iter(train_list_ds))"
   ]
  },
  {
   "cell_type": "code",
   "execution_count": 17,
   "metadata": {},
   "outputs": [],
   "source": [
    "items_ids = portfolios.batch(10000).map(lambda x: x[\"STOCKCODE\"])\n",
    "item_names = portfolios.batch(10000).map(lambda x: x[\"STOCKNAME\"])\n",
    "\n",
    "user_ids = portfolios.batch(10000).map(lambda x: x[\"CDSACCNO\"])\n",
    "\n",
    "items_ids = portfolios.batch(10000).map(lambda x: x[\"STOCKCODE\"])\n",
    "item_names = portfolios.batch(10000).map(lambda x: x[\"STOCKNAME\"])\n",
    "item_GICS = portfolios.batch(10000).map(lambda x: x[\"GICS\"])\n",
    "\n",
    "user_ids = portfolios.batch(10000).map(lambda x: x[\"CDSACCNO\"])\n",
    "\n",
    "unique_item_ids = np.unique(np.concatenate(list(items_ids)))\n",
    "unique_item_names = np.unique(np.concatenate(list(item_names)))\n",
    "unique_item_gics = np.unique(np.concatenate(list(item_GICS)))\n",
    "\n",
    "unique_user_ids = np.unique(np.concatenate(list(user_ids)))"
   ]
  },
  {
   "cell_type": "code",
   "execution_count": 18,
   "metadata": {},
   "outputs": [
    {
     "data": {
      "text/plain": [
       "268"
      ]
     },
     "execution_count": 18,
     "metadata": {},
     "output_type": "execute_result"
    }
   ],
   "source": [
    "len(unique_item_ids)"
   ]
  },
  {
   "cell_type": "code",
   "execution_count": 19,
   "metadata": {},
   "outputs": [],
   "source": [
    "# from user_embedding import UserModel\n",
    "# # from item_embedding import ItemModel\n",
    "\n",
    "# class RankingModel_trad(tfrs.Model):\n",
    "\n",
    "#   def __init__(self, portfolios ,loss):\n",
    "#     super().__init__()\n",
    "\n",
    "#     embedding_dimension = 32,\n",
    "#     self.loss = loss\n",
    "    \n",
    "#     self.portfolios = portfolios\n",
    "\n",
    "#     self.items_ids = self.portfolios.batch(10000).map(lambda x: x[\"STOCKCODE\"])\n",
    "#     self.item_GICS = self.portfolios.batch(10000).map(lambda x: x[\"GICS\"])\n",
    "#     self.unique_item_ids = np.unique(np.concatenate(list(self.items_ids)))\n",
    "#     self.unique_item_gics = np.unique(np.concatenate(list(self.item_GICS)))\n",
    "\n",
    "#     self.user_ids = self.portfolios.batch(10000).map(lambda x: x[\"CDSACCNO\"])\n",
    "#     self.unique_user_ids = np.unique(np.concatenate(list(self.user_ids)))\n",
    "\n",
    "\n",
    "#     self.user_embeddings = UserModel(\n",
    "#       unique_user_ids = unique_user_ids\n",
    "#     )\n",
    "\n",
    "#     # Compute embeddings for movies.\n",
    "#     # self.embed_item_code = tf.keras.Sequential([\n",
    "#     #   tf.keras.layers.StringLookup(\n",
    "#     #     vocabulary= self.unique_item_ids),\n",
    "#     #   tf.keras.layers.Embedding(270, 32) #len(unique_item_ids) + 2, embedding_dimension\n",
    "#     # ])\n",
    "\n",
    "#     # self.embed_items_gics = tf.keras.Sequential([\n",
    "#     #         tf.keras.layers.StringLookup(\n",
    "#     #             vocabulary = self.unique_item_gics,\n",
    "#     #             mask_token = None\n",
    "#     #         ),\n",
    "#     #         tf.keras.layers.Embedding(\n",
    "#     #             input_dim = len(self.unique_item_gics)+1,\n",
    "#     #             output_dim = 16 #len(unique_item_gics)\n",
    "#     #         )\n",
    "#     #     ])\n",
    "\n",
    "#     self.item_embeddings = ItemModel(\n",
    "#       unique_item_ids = self.unique_item_ids,\n",
    "#       # unique_item_gics = self.unique_item_gics\n",
    "#     )\n",
    "\n",
    "#     # Compute predictions.\n",
    "#     self.score_model = tf.keras.Sequential([\n",
    "#       tf.keras.layers.Dense(256, activation=\"relu\"),\n",
    "#       tf.keras.layers.Dense(64, activation=\"relu\"),\n",
    "#       tf.keras.layers.Dense(1)\n",
    "#     ])\n",
    "\n",
    "#     self.task = tfrs.tasks.Ranking(\n",
    "#       loss=loss,\n",
    "#       metrics=[\n",
    "#         tfr.keras.metrics.NDCGMetric(name=\"ndcg_metric\"),\n",
    "#         tf.keras.metrics.RootMeanSquaredError()\n",
    "#       ]\n",
    "#     )\n",
    "\n",
    "#   def call(self, features):\n",
    "#     user_embeddings = self.user_embeddings(features[\"CDSACCNO\"])\n",
    "#     # code_embeddings = self.embed_item_code(features[\"STOCKCODE\"])\n",
    "#     # gics_embeddings = self.embed_items_gics(features['GICS'])\n",
    "\n",
    "#     item_embeddings = self.item_embeddings((\n",
    "#       features['STOCKCODE'],\n",
    "#       # features['GICS']\n",
    "#       ))\n",
    "\n",
    "\n",
    "#     print()\n",
    "#     list_length = features[\"STOCKCODE\"].shape[1]\n",
    "#     user_embedding_repeated = tf.repeat(\n",
    "#         tf.expand_dims(user_embeddings, 1), [list_length], axis=1)\n",
    "\n",
    "#     concatenated_embeddings = tf.concat(\n",
    "#         [user_embedding_repeated, item_embeddings], 2)\n",
    "\n",
    "#     return self.score_model(concatenated_embeddings)\n",
    "\n",
    "#   def compute_loss(self, features, training=False):\n",
    "#     labels = features.pop(\"RATING\")\n",
    "\n",
    "#     scores = self(features)\n",
    "\n",
    "#     return self.task(\n",
    "#         labels=labels,\n",
    "#         predictions=tf.squeeze(scores, axis=-1),\n",
    "#     )"
   ]
  },
  {
   "cell_type": "code",
   "execution_count": 20,
   "metadata": {},
   "outputs": [],
   "source": [
    "# import sys\n",
    "\n",
    "# sys.exit()"
   ]
  },
  {
   "cell_type": "code",
   "execution_count": 32,
   "metadata": {},
   "outputs": [],
   "source": [
    "class RankingModel_trad_v2(tfrs.Model):\n",
    "\n",
    "  def __init__(self, portfolios, loss):\n",
    "    super().__init__()\n",
    "\n",
    "    embedding_dimension = 32,\n",
    "    self.loss = loss\n",
    "    \n",
    "    self.portfolios = portfolios\n",
    "\n",
    "    self.items_ids = self.portfolios.batch(10000).map(lambda x: x[\"STOCKCODE\"])\n",
    "    self.unique_item_ids = np.unique(np.concatenate(list(self.items_ids)))\n",
    "\n",
    "    self.item_GICS = self.portfolios.batch(10000).map(lambda x: x[\"GICS\"])\n",
    "    self.unique_item_gics = np.unique(np.concatenate(list(self.item_GICS)))\n",
    "\n",
    "    self.item_names = portfolios.batch(10000).map(lambda x: x[\"STOCKNAME\"])\n",
    "    self.unique_item_names = np.unique(np.concatenate(list(item_names)))\n",
    "    \n",
    "    self.user_ids = self.portfolios.batch(10000).map(lambda x: x[\"CDSACCNO\"])\n",
    "    self.unique_user_ids = np.unique(np.concatenate(list(self.user_ids)))\n",
    "\n",
    "\n",
    "    # Compute embeddings for users.\n",
    "    self.user_embeddings = UserModel(\n",
    "        unique_user_ids = self.unique_user_ids\n",
    "    )\n",
    "\n",
    "    # self.item_embeddings = ItemModel(\n",
    "    #     unique_item_ids = unique_movie_titles\n",
    "    # )\n",
    "\n",
    "    self.item_embeddings = ItemModel(\n",
    "        unique_item_ids = self.unique_item_ids,\n",
    "        unique_item_gics = self.unique_item_gics,\n",
    "        # unique_item_names = self.unique_item_names\n",
    "    )\n",
    "\n",
    "    self.score_model = tf.keras.Sequential([\n",
    "      tf.keras.layers.Dense(256, activation=\"relu\"),\n",
    "      tf.keras.layers.Dense(64, activation=\"relu\"),\n",
    "      tf.keras.layers.Dense(1)\n",
    "    ])\n",
    "\n",
    "    self.task = tfrs.tasks.Ranking(\n",
    "      loss=loss,\n",
    "      metrics=[\n",
    "        tfr.keras.metrics.NDCGMetric(name=\"ndcg_metric\"),\n",
    "        tf.keras.metrics.RootMeanSquaredError()\n",
    "      ]\n",
    "    )\n",
    "\n",
    "  def call(self, features):\n",
    "\n",
    "    user_embeddings = self.user_embeddings(features[\"CDSACCNO\"])\n",
    "\n",
    "    item_embeddings = self.item_embeddings((features[\"STOCKCODE\"], features['GICS'])) #, features['STOCKNAME']\n",
    "\n",
    "    print(user_embeddings.shape,' | ' ,item_embeddings.shape)\n",
    "    list_length = features[\"STOCKCODE\"].shape[1]\n",
    "    user_embedding_repeated = tf.repeat(\n",
    "        tf.expand_dims(user_embeddings, 1), [list_length], axis=1)\n",
    "\n",
    "    print(user_embedding_repeated.shape,' | ' ,item_embeddings.shape)\n",
    "    concatenated_embeddings = tf.concat(\n",
    "        [user_embedding_repeated, item_embeddings], 2)\n",
    "\n",
    "    return self.score_model(concatenated_embeddings)\n",
    "\n",
    "  def compute_loss(self, features, training=False):\n",
    "    labels = features.pop(\"RATING\")\n",
    "\n",
    "    scores = self(features)\n",
    "\n",
    "    return self.task(\n",
    "        labels=labels,\n",
    "        predictions=tf.squeeze(scores, axis=-1),\n",
    "    )"
   ]
  },
  {
   "cell_type": "code",
   "execution_count": 33,
   "metadata": {},
   "outputs": [
    {
     "name": "stdout",
     "output_type": "stream",
     "text": [
      "Epoch 1/5\n",
      "(None, 32)  |  (None, 5, 48)\n",
      "(None, 5, 32)  |  (None, 5, 48)\n",
      "(None, 32)  |  (None, 5, 48)\n",
      "(None, 5, 32)  |  (None, 5, 48)\n",
      "55/55 [==============================] - 2s 3ms/step - ndcg_metric: 0.8600 - root_mean_squared_error: 1.2120 - loss: 1.4518 - regularization_loss: 0.0000e+00 - total_loss: 1.4518\n",
      "Epoch 2/5\n",
      "55/55 [==============================] - 0s 3ms/step - ndcg_metric: 0.8867 - root_mean_squared_error: 0.9682 - loss: 0.9331 - regularization_loss: 0.0000e+00 - total_loss: 0.9331\n",
      "Epoch 3/5\n",
      "55/55 [==============================] - 0s 3ms/step - ndcg_metric: 0.8914 - root_mean_squared_error: 0.9427 - loss: 0.8847 - regularization_loss: 0.0000e+00 - total_loss: 0.8847\n",
      "Epoch 4/5\n",
      "55/55 [==============================] - 0s 3ms/step - ndcg_metric: 0.8935 - root_mean_squared_error: 0.9318 - loss: 0.8642 - regularization_loss: 0.0000e+00 - total_loss: 0.8642\n",
      "Epoch 5/5\n",
      "55/55 [==============================] - 0s 3ms/step - ndcg_metric: 0.8961 - root_mean_squared_error: 0.9200 - loss: 0.8420 - regularization_loss: 0.0000e+00 - total_loss: 0.8420\n"
     ]
    },
    {
     "data": {
      "text/plain": [
       "<keras.callbacks.History at 0x23cfa80b2b0>"
      ]
     },
     "execution_count": 33,
     "metadata": {},
     "output_type": "execute_result"
    }
   ],
   "source": [
    "epochs = 5\n",
    "\n",
    "cached_train_trad = train_list_ds.shuffle(100_000).batch(128).cache()\n",
    "cached_test_trad = test_list_ds.batch(128).cache()\n",
    "trad_model = RankingModel_trad_v2(\n",
    "    portfolios = portfolios,\n",
    "    loss = tf.keras.losses.MeanSquaredError()\n",
    "    )\n",
    "trad_model.compile(optimizer=tf.keras.optimizers.Adagrad(0.1))\n",
    "trad_model.fit(cached_train_trad, epochs= 5 , verbose=1)"
   ]
  },
  {
   "cell_type": "code",
   "execution_count": 233,
   "metadata": {},
   "outputs": [],
   "source": [
    "class RankingModel_trad_v3(tfrs.Model):\n",
    "\n",
    "  def __init__(self, portfolios, loss):\n",
    "    super().__init__()\n",
    "\n",
    "    embedding_dimension = 32,\n",
    "    self.loss = loss\n",
    "    \n",
    "    self.portfolios = portfolios\n",
    "\n",
    "    self.items_ids = self.portfolios.batch(10000).map(lambda x: x[\"STOCKCODE\"])\n",
    "    self.unique_item_ids = np.unique(np.concatenate(list(self.items_ids)))\n",
    "\n",
    "    self.item_GICS = self.portfolios.batch(10000).map(lambda x: x[\"GICS\"])\n",
    "    self.unique_item_gics = np.unique(np.concatenate(list(self.item_GICS)))\n",
    "\n",
    "    self.item_names = portfolios.batch(10000).map(lambda x: x[\"STOCKNAME\"])\n",
    "    self.unique_item_names = np.unique(np.concatenate(list(item_names)))\n",
    "    \n",
    "    self.user_ids = self.portfolios.batch(10000).map(lambda x: x[\"CDSACCNO\"])\n",
    "    self.unique_user_ids = np.unique(np.concatenate(list(self.user_ids)))\n",
    "\n",
    "\n",
    "    # Compute embeddings for users.\n",
    "    self.user_embeddings = UserModel(\n",
    "        unique_user_ids = self.unique_user_ids\n",
    "    )\n",
    "\n",
    "    # self.item_embeddings = ItemModel(\n",
    "    #     unique_item_ids = unique_movie_titles\n",
    "    # )\n",
    "\n",
    "    self.item_embeddings = ItemModel_v2(\n",
    "        unique_item_ids = self.unique_item_ids,\n",
    "        unique_item_gics = self.unique_item_gics,\n",
    "        unique_item_names = self.unique_item_names\n",
    "    )\n",
    "\n",
    "    self.score_model = tf.keras.Sequential([\n",
    "      tf.keras.layers.Dense(256, activation=\"relu\"),\n",
    "      tf.keras.layers.Dense(64, activation=\"relu\"),\n",
    "      tf.keras.layers.Dense(1)\n",
    "    ])\n",
    "\n",
    "    self.task = tfrs.tasks.Ranking(\n",
    "      loss=loss,\n",
    "      metrics=[\n",
    "        tfr.keras.metrics.NDCGMetric(name=\"ndcg_metric\"),\n",
    "        tf.keras.metrics.RootMeanSquaredError()\n",
    "      ]\n",
    "    )\n",
    "\n",
    "  def call(self, features):\n",
    "\n",
    "    user_embeddings = self.user_embeddings(features[\"CDSACCNO\"])\n",
    "\n",
    "    item_embeddings = self.item_embeddings((features[\"STOCKCODE\"], features['GICS'], features['STOCKNAME'])) #, features['STOCKNAME']\n",
    "\n",
    "    list_length = features[\"STOCKCODE\"].shape[1]\n",
    "    user_embedding_repeated = tf.repeat(\n",
    "        tf.expand_dims(user_embeddings, 1), [list_length], axis=1)\n",
    "\n",
    "    print(user_embedding_repeated.shape,' | ' ,item_embeddings.shape)\n",
    "    concatenated_embeddings = tf.concat(\n",
    "        [user_embedding_repeated, item_embeddings], 2)\n",
    "\n",
    "    return self.score_model(concatenated_embeddings)\n",
    "\n",
    "  def compute_loss(self, features, training=False):\n",
    "    labels = features.pop(\"RATING\")\n",
    "\n",
    "    scores = self(features)\n",
    "\n",
    "    return self.task(\n",
    "        labels=labels,\n",
    "        predictions=tf.squeeze(scores, axis=-1),\n",
    "    )"
   ]
  },
  {
   "cell_type": "code",
   "execution_count": 234,
   "metadata": {},
   "outputs": [
    {
     "name": "stdout",
     "output_type": "stream",
     "text": [
      "Epoch 1/5\n",
      "(None, 5, 32)  |  (None, 5, 64)\n",
      "(None, 5, 32)  |  (None, 5, 64)\n",
      "55/55 [==============================] - 1s 4ms/step - ndcg_metric: 0.8584 - root_mean_squared_error: 1.2186 - loss: 1.4685 - regularization_loss: 0.0000e+00 - total_loss: 1.4685\n",
      "Epoch 2/5\n",
      "55/55 [==============================] - 0s 4ms/step - ndcg_metric: 0.8858 - root_mean_squared_error: 0.9808 - loss: 0.9589 - regularization_loss: 0.0000e+00 - total_loss: 0.9589\n",
      "Epoch 3/5\n",
      "55/55 [==============================] - 0s 4ms/step - ndcg_metric: 0.8904 - root_mean_squared_error: 0.9462 - loss: 0.8931 - regularization_loss: 0.0000e+00 - total_loss: 0.8931\n",
      "Epoch 4/5\n",
      "55/55 [==============================] - 0s 5ms/step - ndcg_metric: 0.8933 - root_mean_squared_error: 0.9362 - loss: 0.8742 - regularization_loss: 0.0000e+00 - total_loss: 0.8742\n",
      "Epoch 5/5\n",
      "55/55 [==============================] - 0s 5ms/step - ndcg_metric: 0.8956 - root_mean_squared_error: 0.9263 - loss: 0.8558 - regularization_loss: 0.0000e+00 - total_loss: 0.8558\n"
     ]
    },
    {
     "data": {
      "text/plain": [
       "<keras.callbacks.History at 0x23cfd0688b0>"
      ]
     },
     "execution_count": 234,
     "metadata": {},
     "output_type": "execute_result"
    }
   ],
   "source": [
    "epochs = 5\n",
    "\n",
    "cached_train_trad = train_list_ds.shuffle(100_000).batch(128).cache()\n",
    "cached_test_trad = test_list_ds.batch(128).cache()\n",
    "trad_model = RankingModel_trad_v3(\n",
    "    portfolios = portfolios,\n",
    "    loss = tf.keras.losses.MeanSquaredError()\n",
    "    )\n",
    "trad_model.compile(optimizer=tf.keras.optimizers.Adagrad(0.1))\n",
    "trad_model.fit(cached_train_trad, epochs= 5 , verbose=1)"
   ]
  },
  {
   "cell_type": "markdown",
   "metadata": {},
   "source": [
    "#  Sandbox"
   ]
  },
  {
   "cell_type": "code",
   "execution_count": 104,
   "metadata": {},
   "outputs": [
    {
     "data": {
      "text/plain": [
       "{'CDSACCNO': <tf.Tensor: shape=(2,), dtype=string, numpy=array([b'RPS-23479-LI/00', b'RPS-23479-LI/00'], dtype=object)>,\n",
       " 'GICS': <tf.Tensor: shape=(2, 5), dtype=string, numpy=\n",
       " array([[b'Materials', b'Health Care Equipment & Services',\n",
       "         b'Food Beverage & Tobacco', b'Consumer Durables & Apparel',\n",
       "         b'Capital Goods'],\n",
       "        [b'Capital Goods', b'Food Beverage & Tobacco',\n",
       "         b'Diversified Financials', b'Real Estate', b'Utilities']],\n",
       "       dtype=object)>,\n",
       " 'STOCKCODE': <tf.Tensor: shape=(2, 5), dtype=string, numpy=\n",
       " array([[b'CIC', b'AMSL', b'RAL', b'REG', b'AEL'],\n",
       "        [b'RICH', b'TAFL', b'ASIY', b'MHDL', b'HPWR']], dtype=object)>,\n",
       " 'RATING': <tf.Tensor: shape=(2, 5), dtype=float32, numpy=\n",
       " array([[4., 2., 5., 5., 2.],\n",
       "        [3., 3., 2., 2., 3.]], dtype=float32)>,\n",
       " 'UNIX_TS': <tf.Tensor: shape=(2, 5), dtype=float32, numpy=\n",
       " array([[1.6475418e+09, 1.6681050e+09, 1.7100954e+09, 1.7030970e+09,\n",
       "         1.6655994e+09],\n",
       "        [1.6782138e+09, 1.6695738e+09, 1.6511706e+09, 1.6678458e+09,\n",
       "         1.6801146e+09]], dtype=float32)>,\n",
       " 'STOCKNAME': <tf.Tensor: shape=(2, 5), dtype=string, numpy=\n",
       " array([[b'C I C HOLDINGS PLC', b'ASIRI SURGICAL HOSPITAL PLC',\n",
       "         b'RENUKA AGRI FOODS PLC', b'REGNIS (LANKA) PLC',\n",
       "         b'ACCESS ENGINEERING PLC'],\n",
       "        [b'RICHARD PIERIS AND COMPANY PLC', b'THREE ACRE FARMS PLC',\n",
       "         b'ASIA SIYAKA COMMODITIES LIMITED',\n",
       "         b'MILLENNIUM HOUSING DEVELOPERS PLC', b'RESUS ENERGY PLC']],\n",
       "       dtype=object)>}"
      ]
     },
     "execution_count": 104,
     "metadata": {},
     "output_type": "execute_result"
    }
   ],
   "source": [
    "test_batch = next(iter(train_list_ds.batch(2)))\n",
    "test_batch"
   ]
  },
  {
   "cell_type": "code",
   "execution_count": 105,
   "metadata": {},
   "outputs": [
    {
     "data": {
      "text/plain": [
       "<tf.Tensor: shape=(2, 5), dtype=string, numpy=\n",
       "array([[b'C I C HOLDINGS PLC', b'ASIRI SURGICAL HOSPITAL PLC',\n",
       "        b'RENUKA AGRI FOODS PLC', b'REGNIS (LANKA) PLC',\n",
       "        b'ACCESS ENGINEERING PLC'],\n",
       "       [b'RICHARD PIERIS AND COMPANY PLC', b'THREE ACRE FARMS PLC',\n",
       "        b'ASIA SIYAKA COMMODITIES LIMITED',\n",
       "        b'MILLENNIUM HOUSING DEVELOPERS PLC', b'RESUS ENERGY PLC']],\n",
       "      dtype=object)>"
      ]
     },
     "execution_count": 105,
     "metadata": {},
     "output_type": "execute_result"
    }
   ],
   "source": [
    "test_names = test_batch['STOCKNAME']\n",
    "test_names"
   ]
  },
  {
   "cell_type": "code",
   "execution_count": 123,
   "metadata": {},
   "outputs": [
    {
     "data": {
      "text/plain": [
       "<tf.Tensor: shape=(2, 5, 1), dtype=string, numpy=\n",
       "array([[[b'C I C HOLDINGS PLC'],\n",
       "        [b'ASIRI SURGICAL HOSPITAL PLC'],\n",
       "        [b'RENUKA AGRI FOODS PLC'],\n",
       "        [b'REGNIS (LANKA) PLC'],\n",
       "        [b'ACCESS ENGINEERING PLC']],\n",
       "\n",
       "       [[b'RICHARD PIERIS AND COMPANY PLC'],\n",
       "        [b'THREE ACRE FARMS PLC'],\n",
       "        [b'ASIA SIYAKA COMMODITIES LIMITED'],\n",
       "        [b'MILLENNIUM HOUSING DEVELOPERS PLC'],\n",
       "        [b'RESUS ENERGY PLC']]], dtype=object)>"
      ]
     },
     "execution_count": 123,
     "metadata": {},
     "output_type": "execute_result"
    }
   ],
   "source": [
    "x1 = tf.keras.layers.Lambda(reshaper)(test_names)\n",
    "x1"
   ]
  },
  {
   "cell_type": "code",
   "execution_count": 121,
   "metadata": {},
   "outputs": [],
   "source": [
    "\n",
    "item_names = portfolios.batch(10000).map(lambda x: x[\"STOCKNAME\"])\n",
    "\n",
    "unique_item_names = np.unique(np.concatenate(list(item_names)))\n",
    "\n",
    "textvectorizer = tf.keras.layers.TextVectorization(max_tokens = 10000)\n",
    "textvectorizer.adapt(unique_item_names)"
   ]
  },
  {
   "cell_type": "code",
   "execution_count": 124,
   "metadata": {},
   "outputs": [
    {
     "data": {
      "text/plain": [
       "<tf.Tensor: shape=(2, 5, 5), dtype=int64, numpy=\n",
       "array([[[ 15,  81,  15,   6,   2],\n",
       "        [ 97, 132,  83,   2,   0],\n",
       "        [ 21, 348,  22,   2,   0],\n",
       "        [156,   3,   2,   0,   0],\n",
       "        [352,  34,   2,   0,   0]],\n",
       "\n",
       "       [[ 63,  67,  18,   8,   2],\n",
       "        [123, 350,  89,   2,   0],\n",
       "        [ 23, 139, 299, 213,   0],\n",
       "        [196,  82, 289,   2,   0],\n",
       "        [153,  50,   2,   0,   0]]], dtype=int64)>"
      ]
     },
     "execution_count": 124,
     "metadata": {},
     "output_type": "execute_result"
    }
   ],
   "source": [
    "x2 = textvectorizer(x1)\n",
    "x2"
   ]
  },
  {
   "cell_type": "code",
   "execution_count": 127,
   "metadata": {},
   "outputs": [
    {
     "data": {
      "text/plain": [
       "-0.0031707748519999987"
      ]
     },
     "execution_count": 127,
     "metadata": {},
     "output_type": "execute_result"
    }
   ],
   "source": [
    "(2.07468607e-02 + -3.57418135e-03 + 2.07468607e-02 + -7.21329451e-03 + -4.65601198e-02)/5"
   ]
  },
  {
   "cell_type": "code",
   "execution_count": 182,
   "metadata": {},
   "outputs": [],
   "source": [
    "from tensorflow.keras.utils import set_random_seed\n",
    "\n",
    "seed_value = 123\n",
    "set_random_seed(seed_value)"
   ]
  },
  {
   "cell_type": "code",
   "execution_count": 196,
   "metadata": {},
   "outputs": [],
   "source": [
    "tf.random.set_seed(1234)"
   ]
  },
  {
   "cell_type": "code",
   "execution_count": 227,
   "metadata": {},
   "outputs": [
    {
     "data": {
      "text/plain": [
       "<tf.Tensor: shape=(2, 5, 5, 32), dtype=float32, numpy=\n",
       "array([[[[ 0.04647887,  0.01380355,  0.0191029 , ...,  0.04463607,\n",
       "          -0.01402754,  0.04014876],\n",
       "         [-0.02963115, -0.00749248,  0.04200221, ...,  0.03177402,\n",
       "           0.02745868, -0.02750083],\n",
       "         [ 0.04647887,  0.01380355,  0.0191029 , ...,  0.04463607,\n",
       "          -0.01402754,  0.04014876],\n",
       "         [ 0.03557892,  0.00042997,  0.03149417, ..., -0.02142387,\n",
       "          -0.01747759,  0.03523878],\n",
       "         [ 0.04741463, -0.0119987 , -0.00853122, ...,  0.01016723,\n",
       "          -0.01890842, -0.04851372]],\n",
       "\n",
       "        [[ 0.01256475, -0.02138459, -0.00165056, ..., -0.03795421,\n",
       "          -0.02191701,  0.0158107 ],\n",
       "         [-0.03303277,  0.04009474, -0.01997585, ...,  0.02339408,\n",
       "           0.02161757, -0.02798464],\n",
       "         [ 0.04065387, -0.03330387, -0.03906216, ...,  0.0360481 ,\n",
       "           0.02510151, -0.02937832],\n",
       "         [ 0.04741463, -0.0119987 , -0.00853122, ...,  0.01016723,\n",
       "          -0.01890842, -0.04851372],\n",
       "         [-0.01411787,  0.02510467,  0.01619205, ..., -0.00523045,\n",
       "          -0.03552663, -0.01054175]],\n",
       "\n",
       "        [[ 0.0329388 , -0.0137925 , -0.04550852, ...,  0.03898144,\n",
       "          -0.00490203, -0.04268868],\n",
       "         [ 0.02662821,  0.04690483,  0.00327154, ...,  0.02256682,\n",
       "           0.01078917,  0.01221961],\n",
       "         [ 0.04368487,  0.0253019 , -0.04641286, ..., -0.02054583,\n",
       "          -0.02571102, -0.02728705],\n",
       "         [ 0.04741463, -0.0119987 , -0.00853122, ...,  0.01016723,\n",
       "          -0.01890842, -0.04851372],\n",
       "         [-0.01411787,  0.02510467,  0.01619205, ..., -0.00523045,\n",
       "          -0.03552663, -0.01054175]],\n",
       "\n",
       "        [[ 0.03526007, -0.03163221,  0.03824944, ...,  0.02314608,\n",
       "          -0.02015429, -0.0066929 ],\n",
       "         [-0.03632963, -0.03152716, -0.01033773, ..., -0.02942754,\n",
       "          -0.02245735, -0.01975061],\n",
       "         [ 0.04741463, -0.0119987 , -0.00853122, ...,  0.01016723,\n",
       "          -0.01890842, -0.04851372],\n",
       "         [-0.01411787,  0.02510467,  0.01619205, ..., -0.00523045,\n",
       "          -0.03552663, -0.01054175],\n",
       "         [-0.01411787,  0.02510467,  0.01619205, ..., -0.00523045,\n",
       "          -0.03552663, -0.01054175]],\n",
       "\n",
       "        [[ 0.00576911, -0.0180283 , -0.01849752, ..., -0.03702624,\n",
       "          -0.00762966,  0.01798782],\n",
       "         [ 0.04329849, -0.02965721,  0.03792225, ...,  0.01488021,\n",
       "           0.00052521, -0.02497937],\n",
       "         [ 0.04741463, -0.0119987 , -0.00853122, ...,  0.01016723,\n",
       "          -0.01890842, -0.04851372],\n",
       "         [-0.01411787,  0.02510467,  0.01619205, ..., -0.00523045,\n",
       "          -0.03552663, -0.01054175],\n",
       "         [-0.01411787,  0.02510467,  0.01619205, ..., -0.00523045,\n",
       "          -0.03552663, -0.01054175]]],\n",
       "\n",
       "\n",
       "       [[[ 0.01509322,  0.00305641, -0.04243288, ..., -0.01160125,\n",
       "           0.0023752 ,  0.03965234],\n",
       "         [ 0.01654334,  0.01853198,  0.01740519, ...,  0.0365826 ,\n",
       "          -0.03702073, -0.01247499],\n",
       "         [ 0.04339225, -0.028567  , -0.01949309, ...,  0.03198454,\n",
       "           0.00910209,  0.04802257],\n",
       "         [-0.03307866,  0.0408101 , -0.04727679, ..., -0.04598714,\n",
       "          -0.03296878, -0.02878862],\n",
       "         [ 0.04741463, -0.0119987 , -0.00853122, ...,  0.01016723,\n",
       "          -0.01890842, -0.04851372]],\n",
       "\n",
       "        [[ 0.02979252,  0.02141204,  0.047343  , ...,  0.01240378,\n",
       "           0.04068783, -0.03854824],\n",
       "         [-0.03669267,  0.01917857,  0.02370406, ..., -0.04150395,\n",
       "           0.00918397,  0.02669631],\n",
       "         [-0.04289808, -0.04279488,  0.02922354, ..., -0.00979248,\n",
       "          -0.03273965,  0.01294357],\n",
       "         [ 0.04741463, -0.0119987 , -0.00853122, ...,  0.01016723,\n",
       "          -0.01890842, -0.04851372],\n",
       "         [-0.01411787,  0.02510467,  0.01619205, ..., -0.00523045,\n",
       "          -0.03552663, -0.01054175]],\n",
       "\n",
       "        [[ 0.03029725, -0.04062197, -0.03402779, ..., -0.03395903,\n",
       "           0.00905117, -0.01560072],\n",
       "         [-0.03779272, -0.04227337,  0.03127375, ...,  0.03275539,\n",
       "           0.02121744, -0.01445626],\n",
       "         [ 0.0285326 ,  0.01157062,  0.01004012, ..., -0.00657716,\n",
       "          -0.00132312,  0.00062271],\n",
       "         [ 0.04155985, -0.02085713, -0.00459739, ...,  0.01996057,\n",
       "          -0.01710514, -0.04767374],\n",
       "         [-0.01411787,  0.02510467,  0.01619205, ..., -0.00523045,\n",
       "          -0.03552663, -0.01054175]],\n",
       "\n",
       "        [[-0.0086936 ,  0.02662978, -0.04132234, ...,  0.00399386,\n",
       "           0.00135465,  0.00051582],\n",
       "         [-0.00173372,  0.00877997,  0.01527223, ..., -0.01497909,\n",
       "           0.04969658, -0.01224585],\n",
       "         [ 0.02029661, -0.04148402,  0.01000289, ...,  0.01673811,\n",
       "          -0.0320127 ,  0.03973314],\n",
       "         [ 0.04741463, -0.0119987 , -0.00853122, ...,  0.01016723,\n",
       "          -0.01890842, -0.04851372],\n",
       "         [-0.01411787,  0.02510467,  0.01619205, ..., -0.00523045,\n",
       "          -0.03552663, -0.01054175]],\n",
       "\n",
       "        [[ 0.01238582,  0.01817596,  0.04523701, ...,  0.04861047,\n",
       "          -0.0371102 ,  0.03017007],\n",
       "         [ 0.02657049,  0.0316077 , -0.04155214, ..., -0.02789978,\n",
       "           0.00074637, -0.04711537],\n",
       "         [ 0.04741463, -0.0119987 , -0.00853122, ...,  0.01016723,\n",
       "          -0.01890842, -0.04851372],\n",
       "         [-0.01411787,  0.02510467,  0.01619205, ..., -0.00523045,\n",
       "          -0.03552663, -0.01054175],\n",
       "         [-0.01411787,  0.02510467,  0.01619205, ..., -0.00523045,\n",
       "          -0.03552663, -0.01054175]]]], dtype=float32)>"
      ]
     },
     "execution_count": 227,
     "metadata": {},
     "output_type": "execute_result"
    }
   ],
   "source": [
    "x3 = tf.keras.layers.Embedding(\n",
    "                \n",
    "                input_dim = 10000,\n",
    "                output_dim = 32,\n",
    "                mask_zero = True\n",
    "            )(x2)\n",
    "x3"
   ]
  },
  {
   "cell_type": "code",
   "execution_count": 228,
   "metadata": {},
   "outputs": [
    {
     "data": {
      "text/plain": [
       "<tf.Tensor: shape=(2, 5, 32), dtype=float32, numpy=\n",
       "array([[[ 0.02926403,  0.00170917,  0.02063419,  0.00716705,\n",
       "          0.00048582,  0.00328937, -0.00435741, -0.00167292,\n",
       "         -0.00647552, -0.01260974,  0.00584995, -0.02642995,\n",
       "         -0.00546757, -0.01581376, -0.02787273, -0.00899226,\n",
       "          0.01918392,  0.02188797,  0.00063136, -0.0173961 ,\n",
       "         -0.02518235,  0.02134777, -0.0014424 ,  0.03179277,\n",
       "          0.00770793,  0.0169559 , -0.01282751,  0.01455733,\n",
       "          0.01220166,  0.02195791, -0.00739648,  0.00790435],\n",
       "        [ 0.01069652, -0.00029755, -0.01060555, -0.00251505,\n",
       "          0.00764672, -0.0084525 ,  0.01172255,  0.00454845,\n",
       "         -0.00674037,  0.01325659, -0.0049839 ,  0.00029466,\n",
       "          0.00998067, -0.0057143 , -0.00938127,  0.00261642,\n",
       "          0.01537797, -0.00765257, -0.01713399,  0.00169834,\n",
       "          0.01726803, -0.00675656,  0.00477711, -0.00860311,\n",
       "         -0.0077878 ,  0.00031102, -0.00901622,  0.01927438,\n",
       "          0.00833847,  0.00528495, -0.0059266 , -0.02012155],\n",
       "        [ 0.02730973,  0.01430404, -0.0161978 , -0.01149817,\n",
       "          0.02813601, -0.00465138, -0.00968666,  0.00405999,\n",
       "          0.00915901,  0.00339318, -0.01089191,  0.00449507,\n",
       "         -0.01288507, -0.00059377,  0.0085253 , -0.01286578,\n",
       "         -0.00532239,  0.01170617, -0.02164672,  0.00529425,\n",
       "         -0.00510911, -0.00691306, -0.00122117,  0.00652904,\n",
       "          0.01791264,  0.01722194, -0.01220005,  0.00179413,\n",
       "          0.02467814,  0.00918784, -0.01485179, -0.02336232],\n",
       "        [ 0.00362187, -0.00498975,  0.01035292, -0.01058331,\n",
       "          0.01548587, -0.01565526, -0.00524931, -0.01167032,\n",
       "          0.01256048,  0.01538221,  0.00783705, -0.0020061 ,\n",
       "         -0.00709   , -0.0017814 ,  0.00841366,  0.00239008,\n",
       "          0.01236631,  0.00237116, -0.00370185, -0.00891198,\n",
       "          0.01029255, -0.00510451, -0.00991314, -0.01225685,\n",
       "          0.02422721,  0.00460686, -0.01167914,  0.02034766,\n",
       "          0.01701098, -0.00131503, -0.02651466, -0.01920814],\n",
       "        [ 0.0136493 , -0.00189497,  0.00865552, -0.00709668,\n",
       "          0.03499344, -0.01720766,  0.01158988, -0.01425862,\n",
       "          0.01111153,  0.01843099, -0.01505179, -0.0128662 ,\n",
       "         -0.021708  , -0.01776479,  0.00771902, -0.00927846,\n",
       "          0.00104277, -0.00939653,  0.00201705,  0.00538034,\n",
       "          0.00969105, -0.00255464, -0.0093231 , -0.01027217,\n",
       "          0.0089879 ,  0.01622525, -0.00052781,  0.00347984,\n",
       "          0.01015243, -0.00448794, -0.01941323, -0.01531775]],\n",
       "\n",
       "       [[ 0.01787296,  0.00436656, -0.02006576,  0.01659526,\n",
       "          0.02990356, -0.01774185, -0.00873995, -0.00185156,\n",
       "          0.00883682, -0.02030535, -0.00354512, -0.02234258,\n",
       "          0.01651511, -0.02220254, -0.00512039, -0.00313586,\n",
       "          0.012591  , -0.00061938, -0.00947091, -0.01548222,\n",
       "          0.0205957 ,  0.00183435, -0.00843337, -0.02044692,\n",
       "          0.00793314,  0.01169226, -0.00117004,  0.0041984 ,\n",
       "          0.00227803,  0.0042292 , -0.01548413, -0.00042048],\n",
       "        [-0.00330029,  0.00218034,  0.02158628, -0.00036468,\n",
       "          0.0021553 , -0.00595772, -0.00397495,  0.00558789,\n",
       "         -0.01803089,  0.01021226,  0.00853935, -0.01620219,\n",
       "         -0.0040618 , -0.01710349,  0.00987822, -0.00783219,\n",
       "          0.0065301 ,  0.00808259,  0.01791842, -0.00867593,\n",
       "          0.00990021,  0.01281898, -0.00127385, -0.00195716,\n",
       "         -0.01259964,  0.00998321, -0.00552418,  0.00046454,\n",
       "          0.01431359, -0.00679118, -0.00746058, -0.01159277],\n",
       "        [ 0.00969582, -0.01341544,  0.00377615, -0.01412772,\n",
       "          0.00854645, -0.01995068,  0.00217481, -0.00494282,\n",
       "          0.00367859,  0.01217685,  0.01423841,  0.01383195,\n",
       "         -0.02791084, -0.01579962,  0.00463836,  0.0073279 ,\n",
       "          0.00447758, -0.01832657,  0.00886569,  0.00606055,\n",
       "         -0.00730957, -0.00184914, -0.00689236,  0.00301961,\n",
       "         -0.0041996 , -0.01713511,  0.0161112 ,  0.00047442,\n",
       "         -0.0007496 ,  0.00138986, -0.00473726, -0.01752995],\n",
       "        [ 0.00863321,  0.00140634, -0.00167728,  0.00645917,\n",
       "          0.02036753,  0.00121685, -0.01913031, -0.00819657,\n",
       "         -0.01406516,  0.00797232,  0.00650671, -0.00242357,\n",
       "         -0.01566045, -0.00881755, -0.0046019 , -0.01845575,\n",
       "          0.00859039, -0.00650141, -0.00283176, -0.00796868,\n",
       "          0.01288985,  0.00533746,  0.00324989, -0.01260213,\n",
       "          0.00454162,  0.00793623, -0.01459947, -0.00345653,\n",
       "          0.01403862,  0.00213793, -0.00707931, -0.00621047],\n",
       "        [ 0.01162704,  0.01759886,  0.00550755, -0.00467957,\n",
       "          0.03605161,  0.0098599 ,  0.01108131,  0.0018698 ,\n",
       "         -0.00419762,  0.01598134, -0.01124338,  0.00748364,\n",
       "         -0.00966504, -0.02249211,  0.00156305, -0.00696603,\n",
       "         -0.00055922,  0.00230809,  0.00597401, -0.00592843,\n",
       "          0.00911252, -0.00011499, -0.00918705, -0.00461438,\n",
       "          0.00350717,  0.0040325 , -0.0023418 ,  0.03081058,\n",
       "          0.00733284,  0.00408341, -0.0252651 , -0.01730851]]],\n",
       "      dtype=float32)>"
      ]
     },
     "execution_count": 228,
     "metadata": {},
     "output_type": "execute_result"
    }
   ],
   "source": [
    "tf.keras.layers.Lambda(global_average_mean)(x3)"
   ]
  },
  {
   "cell_type": "code",
   "execution_count": 129,
   "metadata": {},
   "outputs": [],
   "source": [
    "name_embedder = trad_model.item_embeddings.embed_item_name"
   ]
  },
  {
   "cell_type": "code",
   "execution_count": 130,
   "metadata": {},
   "outputs": [
    {
     "data": {
      "text/plain": [
       "<tf.Tensor: shape=(2, 5, 32), dtype=float32, numpy=\n",
       "array([[[ 2.61454694e-02,  2.93889251e-02,  6.16274029e-03,\n",
       "         -8.10009614e-03, -1.29013360e-02,  9.73228365e-03,\n",
       "         -2.33040601e-02, -1.70757677e-02,  1.50211472e-02,\n",
       "          6.73760986e-03, -7.71821011e-03,  1.32497596e-02,\n",
       "          2.42977520e-03, -6.09293487e-03,  3.43111897e-04,\n",
       "         -1.14609338e-02, -1.04145287e-02, -1.73679721e-02,\n",
       "          2.68269032e-02, -7.20136147e-03, -1.33724418e-02,\n",
       "         -2.52336939e-03, -1.24337226e-02,  2.14219075e-02,\n",
       "          1.95146650e-02,  4.64443117e-03, -1.65033098e-02,\n",
       "         -6.60325680e-03,  5.74517623e-03, -4.78223723e-04,\n",
       "          1.84162650e-02,  2.57913526e-02],\n",
       "        [-5.38586813e-04, -6.52092416e-03,  6.44294196e-04,\n",
       "         -6.73938636e-03, -1.04875378e-02, -3.52804619e-03,\n",
       "          3.01169907e-03,  1.57165024e-02, -1.24798827e-02,\n",
       "          1.38406828e-03, -8.65799654e-03, -9.68982372e-03,\n",
       "          2.74600722e-02,  1.32546853e-02,  5.60571346e-03,\n",
       "         -6.01992523e-03,  3.61729716e-03,  1.26219988e-02,\n",
       "          1.78011581e-02,  2.93797022e-03, -1.77167170e-02,\n",
       "          1.50308358e-02, -2.35824492e-02, -4.79196897e-03,\n",
       "          1.61971711e-02,  2.53183842e-02, -1.19152311e-02,\n",
       "         -1.00179566e-02, -8.93511996e-03,  5.15601132e-03,\n",
       "         -3.07808444e-03, -4.70827101e-03],\n",
       "        [-4.55977395e-03,  9.19418037e-03,  3.60975182e-03,\n",
       "         -8.65253992e-03, -2.63935812e-02, -4.16232692e-03,\n",
       "          6.81381067e-03, -6.24076044e-03, -2.83634895e-03,\n",
       "         -8.06066114e-03, -6.59248605e-03,  3.05079971e-03,\n",
       "          1.87867489e-02, -3.00530274e-03,  1.67010073e-02,\n",
       "          1.31090330e-02,  3.08055314e-03, -5.94577845e-03,\n",
       "          2.75653955e-02, -2.77872314e-03, -1.33819524e-02,\n",
       "         -5.08657750e-03, -1.28800003e-02,  1.58633925e-02,\n",
       "          1.33114923e-02,  2.19121724e-02,  8.24975409e-03,\n",
       "         -3.77006450e-04, -5.19915158e-03,  6.18645828e-03,\n",
       "         -2.20728125e-02,  1.41010415e-02],\n",
       "        [ 4.30268329e-03,  1.05057154e-02, -1.64858811e-02,\n",
       "          1.23379249e-02, -4.14559841e-02, -1.62072126e-02,\n",
       "          4.88024671e-03,  8.32597353e-03,  2.03268193e-02,\n",
       "         -9.69560258e-03, -7.21595297e-03,  1.50892735e-02,\n",
       "          1.74995810e-02,  3.81205743e-03,  4.81920084e-03,\n",
       "          2.81910587e-04, -5.48556454e-05,  1.34634975e-04,\n",
       "          1.98630486e-02,  1.34796202e-02, -1.22694969e-02,\n",
       "          1.15143610e-02, -2.97609083e-02,  1.68558508e-02,\n",
       "          5.51040238e-03,  2.06966940e-02,  1.03817638e-02,\n",
       "         -1.04056671e-02,  1.21618826e-02,  2.29493584e-02,\n",
       "         -1.75744109e-02, -2.07529101e-03],\n",
       "        [ 1.96050741e-02,  5.50316321e-03, -6.41252089e-04,\n",
       "          2.28883186e-03, -2.59997603e-02, -9.05769877e-03,\n",
       "         -1.63160078e-02,  1.11568989e-02,  1.23200957e-02,\n",
       "          7.55525520e-03, -7.69880926e-03,  1.47099304e-03,\n",
       "          1.37868430e-02,  6.11655414e-04,  1.19069386e-02,\n",
       "          1.50308190e-02,  1.44153496e-03, -1.09911319e-02,\n",
       "          2.43302621e-02, -1.34839443e-02, -9.92833357e-03,\n",
       "          1.73121337e-02, -3.19921263e-02,  1.53384134e-02,\n",
       "          4.89387987e-03,  2.22864989e-02,  1.00190528e-02,\n",
       "          1.34882925e-03,  2.82303756e-03,  1.14703514e-02,\n",
       "         -1.91171691e-02,  1.32686866e-03]],\n",
       "\n",
       "       [[-1.60190987e-03,  8.03679135e-03,  4.55224508e-04,\n",
       "         -1.68898012e-02, -2.37841485e-03, -2.55091494e-04,\n",
       "          1.78853776e-02,  4.37718444e-03, -2.65740864e-02,\n",
       "          1.00498023e-02,  1.37967314e-03,  1.49239302e-02,\n",
       "         -3.48947640e-03,  5.01968479e-03,  7.16488063e-03,\n",
       "         -1.15260687e-02, -1.42498985e-02,  1.12681929e-02,\n",
       "          1.91180669e-02,  1.75264385e-02,  1.14999842e-02,\n",
       "         -5.62967453e-03,  1.62189524e-03, -2.65782718e-02,\n",
       "          2.48682834e-02, -1.04940720e-02, -4.20734240e-03,\n",
       "         -6.37023884e-04, -1.06425362e-03, -4.25422942e-04,\n",
       "          4.17899355e-05, -1.84354316e-02],\n",
       "        [ 1.13580527e-03, -2.18570642e-02,  2.96422833e-04,\n",
       "          8.98052193e-03, -2.28231102e-02, -7.78163609e-04,\n",
       "         -2.14274563e-02,  1.09314080e-02, -1.83627079e-03,\n",
       "         -1.57300066e-02, -2.49974499e-03, -1.70342978e-02,\n",
       "          5.88087970e-03,  1.39260786e-02,  1.01974234e-02,\n",
       "          4.62460797e-03, -4.97360528e-03, -9.83006554e-04,\n",
       "          1.26995044e-02,  8.63109343e-03,  2.31556222e-03,\n",
       "          5.50770992e-03, -1.23884100e-02,  8.38537421e-03,\n",
       "          1.33725326e-03, -8.85799155e-03,  1.39284935e-02,\n",
       "          1.41637269e-02,  1.05375787e-02,  1.82979666e-02,\n",
       "          5.46676689e-04,  3.60723655e-03],\n",
       "        [-4.54431539e-03, -1.74844749e-02, -2.36519519e-02,\n",
       "          1.31729990e-02,  1.90910848e-03,  3.87253496e-03,\n",
       "         -1.39661608e-02, -1.45513071e-02,  1.43432226e-02,\n",
       "          1.84248167e-03, -8.55223462e-03, -7.71129271e-03,\n",
       "          8.22671875e-03, -1.20266676e-02,  2.69848797e-02,\n",
       "          6.53804187e-03, -6.28426392e-03, -1.16064772e-03,\n",
       "         -9.42936912e-03,  4.77646431e-03, -3.84297711e-03,\n",
       "         -1.16132610e-02, -2.02579889e-02, -2.24144687e-03,\n",
       "         -1.25866057e-02,  3.02538238e-02,  3.45834121e-02,\n",
       "          2.30624573e-03,  1.29251480e-02, -2.70786579e-03,\n",
       "         -2.61530047e-03,  6.88376790e-03],\n",
       "        [ 8.67346674e-03,  1.30542498e-02, -8.54283012e-03,\n",
       "          9.77386907e-03, -9.56105255e-03, -8.98951292e-03,\n",
       "          2.17070198e-03,  1.51920719e-02, -1.01530440e-02,\n",
       "         -1.11894365e-02,  1.51067553e-02,  9.73715819e-03,\n",
       "         -2.33329833e-04, -2.49627605e-03,  3.07769096e-03,\n",
       "          7.52197299e-03,  6.33754861e-03, -1.66764925e-03,\n",
       "          2.24830583e-02, -4.10231715e-03,  6.85192645e-05,\n",
       "         -4.71444521e-03, -1.04841143e-02, -8.70967284e-03,\n",
       "          8.05851817e-03,  2.00287662e-02, -7.24385167e-03,\n",
       "          1.26708746e-02,  2.37736339e-03,  1.17283072e-02,\n",
       "         -1.99838188e-02,  1.70677304e-02],\n",
       "        [-9.30363662e-04, -1.21230353e-02, -2.03895308e-02,\n",
       "          2.36655232e-02, -1.13008507e-02, -2.70037204e-02,\n",
       "         -2.56927814e-02,  1.25867743e-02,  5.94581943e-03,\n",
       "         -1.21595394e-02,  5.76460455e-03,  1.79336462e-02,\n",
       "          1.57336146e-02,  1.88604984e-02,  2.20889598e-02,\n",
       "          2.55780704e-02, -7.73384888e-03,  6.31219661e-03,\n",
       "          1.99300852e-02,  2.95411795e-04, -9.30881500e-03,\n",
       "         -4.19730833e-03, -3.30835246e-02,  2.85164337e-03,\n",
       "          3.75485490e-03,  3.08088847e-02,  8.74170009e-03,\n",
       "         -1.34351256e-03,  7.18262047e-03,  1.09874485e-02,\n",
       "         -1.06090475e-02, -5.13749849e-03]]], dtype=float32)>"
      ]
     },
     "execution_count": 130,
     "metadata": {},
     "output_type": "execute_result"
    }
   ],
   "source": [
    "name_embedder(test_names)"
   ]
  },
  {
   "cell_type": "code",
   "execution_count": 111,
   "metadata": {},
   "outputs": [
    {
     "data": {
      "text/plain": [
       "<tf.Tensor: shape=(2, 5, 1), dtype=string, numpy=\n",
       "array([[[b'C I C HOLDINGS PLC'],\n",
       "        [b'ASIRI SURGICAL HOSPITAL PLC'],\n",
       "        [b'RENUKA AGRI FOODS PLC'],\n",
       "        [b'REGNIS (LANKA) PLC'],\n",
       "        [b'ACCESS ENGINEERING PLC']],\n",
       "\n",
       "       [[b'RICHARD PIERIS AND COMPANY PLC'],\n",
       "        [b'THREE ACRE FARMS PLC'],\n",
       "        [b'ASIA SIYAKA COMMODITIES LIMITED'],\n",
       "        [b'MILLENNIUM HOUSING DEVELOPERS PLC'],\n",
       "        [b'RESUS ENERGY PLC']]], dtype=object)>"
      ]
     },
     "execution_count": 111,
     "metadata": {},
     "output_type": "execute_result"
    }
   ],
   "source": [
    "reshaper = tf.keras.layers.Reshape((-1,5,1))\n",
    "tf.reshape(test_names, (-1,5,1))"
   ]
  },
  {
   "cell_type": "code",
   "execution_count": 110,
   "metadata": {},
   "outputs": [
    {
     "data": {
      "text/plain": [
       "<tf.Tensor: shape=(2, 1, 5, 1), dtype=string, numpy=\n",
       "array([[[[b'C I C HOLDINGS PLC'],\n",
       "         [b'ASIRI SURGICAL HOSPITAL PLC'],\n",
       "         [b'RENUKA AGRI FOODS PLC'],\n",
       "         [b'REGNIS (LANKA) PLC'],\n",
       "         [b'ACCESS ENGINEERING PLC']]],\n",
       "\n",
       "\n",
       "       [[[b'RICHARD PIERIS AND COMPANY PLC'],\n",
       "         [b'THREE ACRE FARMS PLC'],\n",
       "         [b'ASIA SIYAKA COMMODITIES LIMITED'],\n",
       "         [b'MILLENNIUM HOUSING DEVELOPERS PLC'],\n",
       "         [b'RESUS ENERGY PLC']]]], dtype=object)>"
      ]
     },
     "execution_count": 110,
     "metadata": {},
     "output_type": "execute_result"
    }
   ],
   "source": [
    "reshaper(test_names)"
   ]
  },
  {
   "cell_type": "code",
   "execution_count": 64,
   "metadata": {},
   "outputs": [],
   "source": [
    "items_ids = portfolios.batch(10000).map(lambda x: x[\"STOCKCODE\"])\n",
    "item_names = portfolios.batch(10000).map(lambda x: x[\"STOCKNAME\"])\n",
    "item_GICS = portfolios.batch(10000).map(lambda x: x[\"GICS\"])\n",
    "\n",
    "user_ids = portfolios.batch(10000).map(lambda x: x[\"CDSACCNO\"])\n",
    "\n",
    "unique_item_ids = np.unique(np.concatenate(list(items_ids)))\n",
    "unique_item_names = np.unique(np.concatenate(list(item_names)))\n",
    "unique_item_gics = np.unique(np.concatenate(list(item_GICS)))\n",
    "\n",
    "unique_user_ids = np.unique(np.concatenate(list(user_ids)))\n",
    "\n",
    "test_model = ItemModel_v2(\n",
    "    unique_item_ids,\n",
    "    unique_item_gics,\n",
    "    unique_item_names\n",
    ")"
   ]
  },
  {
   "cell_type": "code",
   "execution_count": 65,
   "metadata": {},
   "outputs": [],
   "source": [
    "embed_name = test_model.embed_item_name\n",
    "embed_id = test_model.embed_item_id"
   ]
  },
  {
   "cell_type": "code",
   "execution_count": 66,
   "metadata": {},
   "outputs": [],
   "source": [
    "test_batch_2 = next(iter(train_list_ds.batch(2)))"
   ]
  },
  {
   "cell_type": "code",
   "execution_count": 67,
   "metadata": {},
   "outputs": [
    {
     "data": {
      "text/plain": [
       "TensorShape([2, 5, 16])"
      ]
     },
     "execution_count": 67,
     "metadata": {},
     "output_type": "execute_result"
    }
   ],
   "source": [
    "embed_id(test_batch_2['STOCKCODE']).shape"
   ]
  },
  {
   "cell_type": "code",
   "execution_count": 68,
   "metadata": {},
   "outputs": [
    {
     "data": {
      "text/plain": [
       "<tf.Tensor: shape=(2, 5), dtype=string, numpy=\n",
       "array([[b'C I C HOLDINGS PLC', b'ASIRI SURGICAL HOSPITAL PLC',\n",
       "        b'RENUKA AGRI FOODS PLC', b'REGNIS (LANKA) PLC',\n",
       "        b'ACCESS ENGINEERING PLC'],\n",
       "       [b'RICHARD PIERIS AND COMPANY PLC', b'THREE ACRE FARMS PLC',\n",
       "        b'ASIA SIYAKA COMMODITIES LIMITED',\n",
       "        b'MILLENNIUM HOUSING DEVELOPERS PLC', b'RESUS ENERGY PLC']],\n",
       "      dtype=object)>"
      ]
     },
     "execution_count": 68,
     "metadata": {},
     "output_type": "execute_result"
    }
   ],
   "source": [
    "test_names = test_batch_2['STOCKNAME']\n",
    "test_names"
   ]
  },
  {
   "cell_type": "code",
   "execution_count": 69,
   "metadata": {},
   "outputs": [
    {
     "data": {
      "text/plain": [
       "<tf.Tensor: shape=(2, 5, 1), dtype=string, numpy=\n",
       "array([[[b'C I C HOLDINGS PLC'],\n",
       "        [b'ASIRI SURGICAL HOSPITAL PLC'],\n",
       "        [b'RENUKA AGRI FOODS PLC'],\n",
       "        [b'REGNIS (LANKA) PLC'],\n",
       "        [b'ACCESS ENGINEERING PLC']],\n",
       "\n",
       "       [[b'RICHARD PIERIS AND COMPANY PLC'],\n",
       "        [b'THREE ACRE FARMS PLC'],\n",
       "        [b'ASIA SIYAKA COMMODITIES LIMITED'],\n",
       "        [b'MILLENNIUM HOUSING DEVELOPERS PLC'],\n",
       "        [b'RESUS ENERGY PLC']]], dtype=object)>"
      ]
     },
     "execution_count": 69,
     "metadata": {},
     "output_type": "execute_result"
    }
   ],
   "source": [
    "tf.reshape(test_names, (-1,5,1))"
   ]
  },
  {
   "cell_type": "code",
   "execution_count": 70,
   "metadata": {},
   "outputs": [],
   "source": [
    "textvectorizer = tf.keras.layers.TextVectorization(max_tokens = 500)\n",
    "textvectorizer.adapt(unique_item_names)"
   ]
  },
  {
   "cell_type": "code",
   "execution_count": 116,
   "metadata": {},
   "outputs": [
    {
     "data": {
      "text/plain": [
       "<tf.Tensor: shape=(2, 5, 5), dtype=int64, numpy=\n",
       "array([[[ 15,  81,  15,   6,   2],\n",
       "        [ 97, 132,  83,   2,   0],\n",
       "        [ 21, 348,  22,   2,   0],\n",
       "        [156,   3,   2,   0,   0],\n",
       "        [352,  34,   2,   0,   0]],\n",
       "\n",
       "       [[ 63,  67,  18,   8,   2],\n",
       "        [123, 350,  89,   2,   0],\n",
       "        [ 23, 139, 299, 213,   0],\n",
       "        [196,  82, 289,   2,   0],\n",
       "        [153,  50,   2,   0,   0]]], dtype=int64)>"
      ]
     },
     "execution_count": 116,
     "metadata": {},
     "output_type": "execute_result"
    }
   ],
   "source": [
    "vectors = textvectorizer(tf.reshape(test_names, (-1,5,1)))\n",
    "vectors"
   ]
  },
  {
   "cell_type": "code",
   "execution_count": 118,
   "metadata": {},
   "outputs": [
    {
     "data": {
      "text/plain": [
       "-0.024117986"
      ]
     },
     "execution_count": 118,
     "metadata": {},
     "output_type": "execute_result"
    }
   ],
   "source": [
    "(-0.03526639 + -0.0114462 + -0.03526639 + 0.00864266 + -0.04725361)/5"
   ]
  },
  {
   "cell_type": "code",
   "execution_count": 117,
   "metadata": {},
   "outputs": [
    {
     "data": {
      "text/plain": [
       "<tf.Tensor: shape=(2, 5, 5, 32), dtype=float32, numpy=\n",
       "array([[[[-0.03526639,  0.0063043 ,  0.0020691 , ..., -0.0284256 ,\n",
       "          -0.03538778, -0.02623254],\n",
       "         [-0.0114462 , -0.01860519,  0.00267724, ...,  0.03415303,\n",
       "           0.03719492,  0.03268776],\n",
       "         [-0.03526639,  0.0063043 ,  0.0020691 , ..., -0.0284256 ,\n",
       "          -0.03538778, -0.02623254],\n",
       "         [ 0.00864266,  0.02571342, -0.00659993, ..., -0.01677393,\n",
       "          -0.01116262, -0.04866154],\n",
       "         [-0.04725361,  0.04160712,  0.04662491, ...,  0.04618387,\n",
       "           0.00121211, -0.01943322]],\n",
       "\n",
       "        [[-0.01647447, -0.01326246,  0.03902424, ..., -0.03844554,\n",
       "           0.03941436, -0.04744345],\n",
       "         [ 0.03146467, -0.04312798,  0.01367838, ...,  0.02890309,\n",
       "          -0.01371483,  0.00424818],\n",
       "         [ 0.01097937, -0.03166606, -0.01123408, ..., -0.04804216,\n",
       "          -0.04659515, -0.04653599],\n",
       "         [-0.04725361,  0.04160712,  0.04662491, ...,  0.04618387,\n",
       "           0.00121211, -0.01943322],\n",
       "         [ 0.03996947,  0.01441822, -0.02879183, ...,  0.01717309,\n",
       "           0.02520735,  0.03462585]],\n",
       "\n",
       "        [[ 0.02941955,  0.00140343, -0.04282134, ...,  0.02181235,\n",
       "          -0.01041501,  0.04334686],\n",
       "         [-0.02714179, -0.03078104, -0.03778299, ..., -0.02116476,\n",
       "          -0.00466194, -0.03867066],\n",
       "         [ 0.04192111, -0.0114079 , -0.01570784, ...,  0.02040824,\n",
       "          -0.0203529 ,  0.01467128],\n",
       "         [-0.04725361,  0.04160712,  0.04662491, ...,  0.04618387,\n",
       "           0.00121211, -0.01943322],\n",
       "         [ 0.03996947,  0.01441822, -0.02879183, ...,  0.01717309,\n",
       "           0.02520735,  0.03462585]],\n",
       "\n",
       "        [[-0.00539335,  0.04898964,  0.02129605, ..., -0.00974125,\n",
       "          -0.04874276, -0.01204063],\n",
       "         [ 0.01259034,  0.03360976,  0.0258037 , ...,  0.0271938 ,\n",
       "           0.02806324, -0.01164328],\n",
       "         [-0.04725361,  0.04160712,  0.04662491, ...,  0.04618387,\n",
       "           0.00121211, -0.01943322],\n",
       "         [ 0.03996947,  0.01441822, -0.02879183, ...,  0.01717309,\n",
       "           0.02520735,  0.03462585],\n",
       "         [ 0.03996947,  0.01441822, -0.02879183, ...,  0.01717309,\n",
       "           0.02520735,  0.03462585]],\n",
       "\n",
       "        [[ 0.04363136, -0.0153101 , -0.01574444, ...,  0.03235492,\n",
       "           0.00938831,  0.00055873],\n",
       "         [ 0.04058011, -0.03835586,  0.04991041, ..., -0.02958756,\n",
       "          -0.02881749, -0.02885202],\n",
       "         [-0.04725361,  0.04160712,  0.04662491, ...,  0.04618387,\n",
       "           0.00121211, -0.01943322],\n",
       "         [ 0.03996947,  0.01441822, -0.02879183, ...,  0.01717309,\n",
       "           0.02520735,  0.03462585],\n",
       "         [ 0.03996947,  0.01441822, -0.02879183, ...,  0.01717309,\n",
       "           0.02520735,  0.03462585]]],\n",
       "\n",
       "\n",
       "       [[[-0.02444533, -0.00208359,  0.04987599, ..., -0.00815221,\n",
       "           0.01177933,  0.0425135 ],\n",
       "         [-0.04613172, -0.0376892 , -0.01687519, ..., -0.04126521,\n",
       "           0.04263947,  0.03570645],\n",
       "         [ 0.00991716, -0.02271025, -0.03450312, ..., -0.00612236,\n",
       "          -0.04229065, -0.02888666],\n",
       "         [ 0.00486486, -0.03578392,  0.03669954, ..., -0.00592105,\n",
       "           0.03843976,  0.01414994],\n",
       "         [-0.04725361,  0.04160712,  0.04662491, ...,  0.04618387,\n",
       "           0.00121211, -0.01943322]],\n",
       "\n",
       "        [[-0.01974673, -0.01065447, -0.03065071, ...,  0.00541783,\n",
       "           0.04205627,  0.03680808],\n",
       "         [ 0.00929756,  0.04176049, -0.03227546, ..., -0.03453831,\n",
       "           0.01071716,  0.02706653],\n",
       "         [-0.02549131, -0.03784532,  0.01051294, ..., -0.02976016,\n",
       "           0.04336771,  0.00351411],\n",
       "         [-0.04725361,  0.04160712,  0.04662491, ...,  0.04618387,\n",
       "           0.00121211, -0.01943322],\n",
       "         [ 0.03996947,  0.01441822, -0.02879183, ...,  0.01717309,\n",
       "           0.02520735,  0.03462585]],\n",
       "\n",
       "        [[-0.04917898,  0.04726681,  0.01617775, ...,  0.00875466,\n",
       "          -0.04904523, -0.04750477],\n",
       "         [-0.00812387,  0.01423578, -0.01575072, ...,  0.03360789,\n",
       "           0.01423513, -0.025894  ],\n",
       "         [-0.01019818, -0.01707174, -0.03381525, ...,  0.00669833,\n",
       "          -0.04558716,  0.01840684],\n",
       "         [-0.02141147,  0.00263961,  0.0484436 , ...,  0.02060175,\n",
       "           0.01649383,  0.02200128],\n",
       "         [ 0.03996947,  0.01441822, -0.02879183, ...,  0.01717309,\n",
       "           0.02520735,  0.03462585]],\n",
       "\n",
       "        [[-0.0401669 ,  0.03480697, -0.04686675, ...,  0.01329744,\n",
       "          -0.04561711, -0.01590301],\n",
       "         [-0.01892902, -0.01778866,  0.01155205, ...,  0.03570824,\n",
       "          -0.04638916, -0.04844918],\n",
       "         [ 0.03889063, -0.0219488 ,  0.04905795, ...,  0.01295835,\n",
       "          -0.01967267, -0.01847661],\n",
       "         [-0.04725361,  0.04160712,  0.04662491, ...,  0.04618387,\n",
       "           0.00121211, -0.01943322],\n",
       "         [ 0.03996947,  0.01441822, -0.02879183, ...,  0.01717309,\n",
       "           0.02520735,  0.03462585]],\n",
       "\n",
       "        [[ 0.03376256, -0.03867007,  0.02306614, ..., -0.0397985 ,\n",
       "           0.0212895 ,  0.00304644],\n",
       "         [-0.03488101, -0.02747307, -0.04242679, ...,  0.01638875,\n",
       "          -0.02108268, -0.03430486],\n",
       "         [-0.04725361,  0.04160712,  0.04662491, ...,  0.04618387,\n",
       "           0.00121211, -0.01943322],\n",
       "         [ 0.03996947,  0.01441822, -0.02879183, ...,  0.01717309,\n",
       "           0.02520735,  0.03462585],\n",
       "         [ 0.03996947,  0.01441822, -0.02879183, ...,  0.01717309,\n",
       "           0.02520735,  0.03462585]]]], dtype=float32)>"
      ]
     },
     "execution_count": 117,
     "metadata": {},
     "output_type": "execute_result"
    }
   ],
   "source": [
    "embedder = tf.keras.layers.Embedding(\n",
    "                input_dim = 500,\n",
    "                output_dim = 32,\n",
    "                mask_zero = True\n",
    "            )\n",
    "embeddings = embedder(vectors)\n",
    "embeddings"
   ]
  },
  {
   "cell_type": "code",
   "execution_count": 73,
   "metadata": {},
   "outputs": [
    {
     "name": "stdout",
     "output_type": "stream",
     "text": [
      "(2, 5, 32)\n"
     ]
    }
   ],
   "source": [
    "import tensorflow as tf\n",
    "from tensorflow.keras import layers\n",
    "\n",
    "def global_average_mean(x):\n",
    "  \"\"\"Custom layer to perform global average mean pooling.\"\"\"\n",
    "  axis = -2  # Reduce mean along the last dimension\n",
    "  return tf.reduce_mean(x, axis=axis)\n",
    "\n",
    "# data = tf.random.normal(shape=(2, 5, 5, 32))\n",
    "\n",
    "pooling_layer = layers.Lambda(global_average_mean)\n",
    "\n",
    "pooled_output = pooling_layer(embeddings)\n",
    "\n",
    "print(pooled_output.shape)\n"
   ]
  },
  {
   "cell_type": "code",
   "execution_count": 74,
   "metadata": {},
   "outputs": [
    {
     "data": {
      "text/plain": [
       "<tf.Tensor: shape=(2, 5, 32), dtype=float32, numpy=\n",
       "array([[[ 0.0044423 , -0.0336897 ,  0.01354054, -0.00931381,\n",
       "          0.00549586,  0.01362762, -0.03901863, -0.01187994,\n",
       "          0.02129803, -0.00613534,  0.00781265, -0.01290489,\n",
       "         -0.01340685, -0.00717874,  0.01737031, -0.00609877,\n",
       "         -0.01554356, -0.01132214, -0.01526339,  0.01019208,\n",
       "          0.0088367 , -0.00601292,  0.00354197, -0.00140394,\n",
       "          0.01031147,  0.01117107,  0.01016952,  0.03967675,\n",
       "         -0.01369134, -0.00948287, -0.01087032,  0.01436354],\n",
       "        [-0.00204879, -0.00146163, -0.00058674,  0.02167712,\n",
       "          0.02092775,  0.00589011,  0.00998723,  0.01519163,\n",
       "          0.00787401,  0.0090885 ,  0.00409649, -0.00570285,\n",
       "          0.00550621,  0.00910141,  0.00170779, -0.01646154,\n",
       "         -0.01633897, -0.00600685,  0.02351312,  0.00239507,\n",
       "          0.00744135,  0.00674596, -0.00980858,  0.00904744,\n",
       "         -0.03092899, -0.01030598, -0.01142093, -0.00435836,\n",
       "          0.00885344,  0.0201718 ,  0.01062875,  0.00358205],\n",
       "        [-0.01429044, -0.00243616, -0.00806279,  0.00618649,\n",
       "         -0.00475108,  0.01359971,  0.00882119,  0.00865026,\n",
       "          0.01059431,  0.00909079, -0.00256636, -0.00844402,\n",
       "          0.03279611, -0.01262   , -0.00762628, -0.02154653,\n",
       "         -0.01143505,  0.01233855,  0.01969353, -0.01339031,\n",
       "          0.00053938, -0.00035357, -0.00945742,  0.0123235 ,\n",
       "         -0.0185331 , -0.0060499 , -0.00505884,  0.00279736,\n",
       "         -0.01565799,  0.0148908 ,  0.01747884, -0.01492038],\n",
       "        [-0.02086301, -0.02011757,  0.02177271,  0.01510751,\n",
       "          0.01279965,  0.02189382,  0.01315692,  0.01400291,\n",
       "          0.00728592,  0.00779959, -0.01260422, -0.00579422,\n",
       "          0.02631254,  0.00062136,  0.01600239, -0.00555583,\n",
       "         -0.01696607, -0.00410032,  0.02627557, -0.00483523,\n",
       "          0.01432233, -0.00037742, -0.01168603,  0.00148286,\n",
       "         -0.01340436, -0.01162778, -0.01156963,  0.00195334,\n",
       "         -0.00683561,  0.02848014,  0.00939299,  0.01275158],\n",
       "        [-0.01629805, -0.01143319, -0.00785986,  0.02434994,\n",
       "          0.01581738,  0.01100392,  0.008621  ,  0.00096271,\n",
       "          0.00497418,  0.00780026, -0.00094072, -0.01695739,\n",
       "          0.02179679, -0.01053785,  0.03607616,  0.00509155,\n",
       "         -0.02536107,  0.0140704 ,  0.02549718, -0.00431118,\n",
       "          0.01338206, -0.01054882, -0.00660141, -0.00057344,\n",
       "         -0.01693937, -0.00286126, -0.01160891,  0.00068855,\n",
       "         -0.00344222,  0.01600717,  0.01405278, -0.00132914]],\n",
       "\n",
       "       [[ 0.00780245, -0.01839214, -0.00236388,  0.00779341,\n",
       "          0.00268378,  0.00346909, -0.02053962, -0.01391111,\n",
       "          0.00017285, -0.00611651, -0.004996  , -0.00437307,\n",
       "         -0.00237395, -0.01216879, -0.01551774,  0.01134201,\n",
       "          0.00560066,  0.0013636 ,  0.01211683, -0.00170766,\n",
       "          0.00953755,  0.00057593, -0.0105426 ,  0.01381881,\n",
       "          0.00505699,  0.03383107,  0.01107759,  0.02579777,\n",
       "          0.00769943, -0.00205922,  0.01276088,  0.01856648],\n",
       "        [-0.00264997, -0.01244621,  0.00171519, -0.00823289,\n",
       "         -0.00360011,  0.02421092, -0.00554465, -0.01752873,\n",
       "         -0.01064605,  0.00690489, -0.01561606, -0.0072448 ,\n",
       "          0.00604205, -0.00504283,  0.01889999, -0.01232347,\n",
       "         -0.00930795, -0.00774818,  0.02269648, -0.01022083,\n",
       "          0.01757663, -0.01295705, -0.02546408,  0.00449359,\n",
       "         -0.00940863, -0.01675676, -0.01083788,  0.00012422,\n",
       "         -0.00431628,  0.00905629,  0.00887936,  0.00507346],\n",
       "        [ 0.00751813,  0.01817136,  0.00928211,  0.02116844,\n",
       "          0.00991556, -0.00092999,  0.00396307,  0.01104063,\n",
       "          0.00560988,  0.01406681, -0.00047617,  0.01373686,\n",
       "          0.02942278, -0.01602969, -0.01381351, -0.00561495,\n",
       "         -0.01950026, -0.00029278, -0.00031714,  0.00958829,\n",
       "          0.0081994 , -0.0026219 ,  0.00027012,  0.00226004,\n",
       "         -0.01384489, -0.00211769, -0.00514024,  0.00236354,\n",
       "         -0.01872729,  0.0110215 ,  0.00096591,  0.00325098],\n",
       "        [-0.01002263, -0.01590621,  0.01756849,  0.02202335,\n",
       "          0.02286658,  0.00131752,  0.00646983,  0.02764905,\n",
       "          0.01012893,  0.00372673, -0.01334703,  0.0016825 ,\n",
       "          0.00124971, -0.00246379,  0.03064221,  0.01862276,\n",
       "         -0.01161908, -0.00288802, -0.00548265, -0.00069728,\n",
       "          0.01704552, -0.00529172, -0.00954494, -0.0052786 ,\n",
       "         -0.01463666,  0.00371481, -0.01657287,  0.00367396,\n",
       "         -0.01479356,  0.01078751, -0.01737835,  0.01215317],\n",
       "        [-0.00715979,  0.00147469, -0.00764456, -0.00261349,\n",
       "         -0.00851655,  0.00816252,  0.00243563,  0.00084565,\n",
       "         -0.00460636,  0.01170511,  0.00407298, -0.01386539,\n",
       "          0.02114799, -0.00330339,  0.00589118, -0.00762539,\n",
       "         -0.02978292, -0.00107743,  0.03085591, -0.00835342,\n",
       "          0.01368192, -0.00436946, -0.0199785 , -0.00737018,\n",
       "         -0.00917405, -0.01194229,  0.00727837,  0.00329069,\n",
       "          0.00653571,  0.02787216,  0.01443657,  0.00648843]]],\n",
       "      dtype=float32)>"
      ]
     },
     "execution_count": 74,
     "metadata": {},
     "output_type": "execute_result"
    }
   ],
   "source": [
    "pooled_output"
   ]
  },
  {
   "cell_type": "code",
   "execution_count": 235,
   "metadata": {},
   "outputs": [],
   "source": [
    "# embed_name(test_names) #tf.reshape(test_names, (-1, 5, 1))"
   ]
  },
  {
   "cell_type": "code",
   "execution_count": null,
   "metadata": {},
   "outputs": [],
   "source": []
  },
  {
   "cell_type": "code",
   "execution_count": null,
   "metadata": {},
   "outputs": [],
   "source": []
  }
 ],
 "metadata": {
  "kernelspec": {
   "display_name": "atrad_cars_v2",
   "language": "python",
   "name": "python3"
  },
  "language_info": {
   "codemirror_mode": {
    "name": "ipython",
    "version": 3
   },
   "file_extension": ".py",
   "mimetype": "text/x-python",
   "name": "python",
   "nbconvert_exporter": "python",
   "pygments_lexer": "ipython3",
   "version": "3.9.19"
  }
 },
 "nbformat": 4,
 "nbformat_minor": 2
}
