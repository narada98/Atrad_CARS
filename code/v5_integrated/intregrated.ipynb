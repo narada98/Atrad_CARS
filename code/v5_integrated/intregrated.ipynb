{
 "cells": [
  {
   "cell_type": "code",
   "execution_count": 1,
   "metadata": {},
   "outputs": [],
   "source": [
    "import tensorflow as tf\n",
    "import tensorflow_recommenders as tfrs\n",
    "\n",
    "import numpy as np\n",
    "import pandas as pd"
   ]
  },
  {
   "cell_type": "code",
   "execution_count": 2,
   "metadata": {},
   "outputs": [
    {
     "data": {
      "text/plain": [
       "'2.10.1'"
      ]
     },
     "execution_count": 2,
     "metadata": {},
     "output_type": "execute_result"
    }
   ],
   "source": [
    "tf.__version__"
   ]
  },
  {
   "cell_type": "code",
   "execution_count": 3,
   "metadata": {},
   "outputs": [
    {
     "name": "stderr",
     "output_type": "stream",
     "text": [
      "c:\\Users\\bpadmin\\anaconda3\\envs\\atrad_cars_v2\\lib\\site-packages\\tqdm\\auto.py:21: TqdmWarning: IProgress not found. Please update jupyter and ipywidgets. See https://ipywidgets.readthedocs.io/en/stable/user_install.html\n",
      "  from .autonotebook import tqdm as notebook_tqdm\n"
     ]
    }
   ],
   "source": [
    "from tqdm.keras import TqdmCallback"
   ]
  },
  {
   "cell_type": "code",
   "execution_count": 4,
   "metadata": {},
   "outputs": [],
   "source": [
    "test_ds = tf.data.Dataset.load(r\"D:\\dev work\\recommender systems\\Atrad_CARS\\data\\portfolios_v2\\retriver_test\").cache()\n",
    "\n",
    "portfolios = tf.data.Dataset.load(\"D:/dev work/recommender systems/Atrad_CARS/data/portfolios_v2/portfolios\").cache()\n",
    "\n",
    "items_ids = portfolios.batch(10000).map(lambda x: x[\"STOCKCODE\"])\n",
    "item_names = portfolios.batch(10000).map(lambda x: x[\"STOCKNAME\"])\n",
    "item_GICS = portfolios.batch(10000).map(lambda x: x[\"GICS\"])\n",
    "\n",
    "user_ids = portfolios.batch(10000).map(lambda x: x[\"CDSACCNO\"])\n",
    "\n",
    "unique_item_ids = np.unique(np.concatenate(list(items_ids)))\n",
    "unique_item_names = np.unique(np.concatenate(list(item_names)))\n",
    "unique_item_gics = np.unique(np.concatenate(list(item_GICS)))\n",
    "\n",
    "unique_user_ids = np.unique(np.concatenate(list(user_ids)))\n",
    "\n",
    "# need these to initialize timestamp embedding layers in future steps\n",
    "\n",
    "timestamps = np.concatenate(list(portfolios.map(lambda x: x[\"UNIX_TS\"]).batch(100)))\n",
    "max_timestamp = timestamps.max()\n",
    "min_timestamp = timestamps.min()\n",
    "\n",
    "timestamp_buckets = np.linspace(\n",
    "    min_timestamp, max_timestamp, num=1000,\n",
    ")"
   ]
  },
  {
   "cell_type": "code",
   "execution_count": 5,
   "metadata": {},
   "outputs": [
    {
     "data": {
      "text/plain": [
       "157854"
      ]
     },
     "execution_count": 5,
     "metadata": {},
     "output_type": "execute_result"
    }
   ],
   "source": [
    "len(portfolios)"
   ]
  },
  {
   "cell_type": "code",
   "execution_count": 6,
   "metadata": {},
   "outputs": [],
   "source": [
    "from retrieval_recommender import Retriever\n",
    "\n",
    "retriever = Retriever(\n",
    "    use_timestamp = True,\n",
    "    portfolios = portfolios\n",
    ")\n",
    "\n",
    "retriever.load_weights(r\"D:\\dev work\\recommender systems\\Atrad_CARS\\model_weights\\2024_05_27\\retriever_port_v2\")\n",
    "\n",
    "retriever.compile(optimizer=tf.keras.optimizers.Adagrad(learning_rate=0.1))\n"
   ]
  },
  {
   "cell_type": "code",
   "execution_count": 7,
   "metadata": {},
   "outputs": [],
   "source": [
    "from ranker_recommender import Ranker\n",
    "\n",
    "ranker = Ranker(\n",
    "    loss = tf.keras.losses.MeanSquaredError(),\n",
    "    portfolios = portfolios\n",
    ")\n",
    "\n",
    "ranker.load_weights(r\"D:\\dev work\\recommender systems\\Atrad_CARS\\model_weights\\2024_05_27\\tf_listwise_ranking_2024_05_27_11_20\")\n",
    "ranker.compile(optimizer=tf.keras.optimizers.Adagrad(learning_rate=0.1))\n"
   ]
  },
  {
   "cell_type": "code",
   "execution_count": 8,
   "metadata": {},
   "outputs": [
    {
     "name": "stdout",
     "output_type": "stream",
     "text": [
      "items data shape :: (280, 3)\n"
     ]
    }
   ],
   "source": [
    "stock_info = pd.read_excel('../../data/stock_data.xlsx')\n",
    "stock_info = stock_info.drop(['Unnamed: 0','buisnesssummary'],axis = 1)\n",
    "stock_info = stock_info.rename(columns = {\n",
    "    'symbol':'STOCKCODE',\n",
    "    'name' : 'STOCKNAME',\n",
    "    'gics_code' : 'GICS'\n",
    "})\n",
    "stock_info = stock_info[~stock_info['GICS'].isna()]\n",
    "\n",
    "stock_info.shape\n",
    "print(\"items data shape :: {}\".format(stock_info.shape))\n",
    "\n",
    "items_ds = tf.data.Dataset.from_tensor_slices(stock_info.to_dict(orient= 'list'))"
   ]
  },
  {
   "cell_type": "markdown",
   "metadata": {},
   "source": [
    "# Retriever function"
   ]
  },
  {
   "cell_type": "code",
   "execution_count": 9,
   "metadata": {},
   "outputs": [
    {
     "data": {
      "text/plain": [
       "TensorShape([280])"
      ]
     },
     "execution_count": 9,
     "metadata": {},
     "output_type": "execute_result"
    }
   ],
   "source": [
    "items_identiifiers = items_ds.map(lambda x: x[\"STOCKCODE\"])\n",
    "items_identiifiers = next(iter(items_identiifiers.batch(len(items_identiifiers))))\n",
    "items_identiifiers.shape"
   ]
  },
  {
   "cell_type": "code",
   "execution_count": 10,
   "metadata": {},
   "outputs": [
    {
     "data": {
      "text/plain": [
       "<tensorflow_recommenders.layers.factorized_top_k.BruteForce at 0x1c0873b7430>"
      ]
     },
     "execution_count": 10,
     "metadata": {},
     "output_type": "execute_result"
    }
   ],
   "source": [
    "index = tfrs.layers.factorized_top_k.BruteForce(retriever.user_model)\n",
    "retriever_item_model = retriever.item_model\n",
    "mapped_items = items_ds.batch(len(items_ds)).map(lambda x : retriever_item_model(x, map_ = True))\n",
    "\n",
    "mapped_items_tensor = next(iter(mapped_items))\n",
    "index.index(mapped_items_tensor, items_identiifiers)"
   ]
  },
  {
   "cell_type": "code",
   "execution_count": 11,
   "metadata": {},
   "outputs": [
    {
     "data": {
      "text/plain": [
       "{'UNIX_TS': <tf.Tensor: shape=(), dtype=float32, numpy=1663266600.0>,\n",
       " 'RATING': <tf.Tensor: shape=(), dtype=float32, numpy=2.0>,\n",
       " 'GICS': <tf.Tensor: shape=(), dtype=string, numpy=b'Real Estate'>,\n",
       " 'STOCKCODE': <tf.Tensor: shape=(), dtype=string, numpy=b'OSEA'>,\n",
       " 'STOCKNAME': <tf.Tensor: shape=(), dtype=string, numpy=b'OVERSEAS REALTY (CEYLON) PLC'>,\n",
       " 'CDSACCNO': <tf.Tensor: shape=(), dtype=string, numpy=b'HDF-40956-LI/00'>}"
      ]
     },
     "execution_count": 11,
     "metadata": {},
     "output_type": "execute_result"
    }
   ],
   "source": [
    "next(iter(test_ds))"
   ]
  },
  {
   "cell_type": "code",
   "execution_count": 12,
   "metadata": {},
   "outputs": [],
   "source": [
    "# a test user ID & timestamp examples\n",
    "\n",
    "test_user = str('RPS-797423181-VN/00')\n",
    "test_timestamp = 1664821800.0"
   ]
  },
  {
   "cell_type": "code",
   "execution_count": 13,
   "metadata": {},
   "outputs": [
    {
     "name": "stdout",
     "output_type": "stream",
     "text": [
      "Recommendations for user RPS-797423181-VN/00: ['BBH', 'HSIG', 'MAL', 'JKL', 'SIGV', 'TAJ', 'LIOC', 'BALA', 'CARS', 'HOPL']\n"
     ]
    }
   ],
   "source": [
    "_, recommendations = index(\n",
    "    (\n",
    "        tf.constant([test_user]),\n",
    "        tf.constant([test_timestamp])\n",
    "        )\n",
    "    )\n",
    "\n",
    "recommendations = [reco.decode('utf-8') for reco in recommendations.numpy().flatten()]\n",
    "print(f\"Recommendations for user %s: {recommendations}\" %(test_user))\n",
    "# titles[0]"
   ]
  },
  {
   "cell_type": "markdown",
   "metadata": {},
   "source": [
    "# Ranker function"
   ]
  },
  {
   "cell_type": "code",
   "execution_count": 14,
   "metadata": {},
   "outputs": [
    {
     "data": {
      "text/html": [
       "<div>\n",
       "<style scoped>\n",
       "    .dataframe tbody tr th:only-of-type {\n",
       "        vertical-align: middle;\n",
       "    }\n",
       "\n",
       "    .dataframe tbody tr th {\n",
       "        vertical-align: top;\n",
       "    }\n",
       "\n",
       "    .dataframe thead th {\n",
       "        text-align: right;\n",
       "    }\n",
       "</style>\n",
       "<table border=\"1\" class=\"dataframe\">\n",
       "  <thead>\n",
       "    <tr style=\"text-align: right;\">\n",
       "      <th></th>\n",
       "      <th>STOCKCODE</th>\n",
       "      <th>STOCKNAME</th>\n",
       "      <th>GICS</th>\n",
       "    </tr>\n",
       "  </thead>\n",
       "  <tbody>\n",
       "    <tr>\n",
       "      <th>0</th>\n",
       "      <td>HBS</td>\n",
       "      <td>hSenid Business Solutions PLC</td>\n",
       "      <td>45103010 - Application Software</td>\n",
       "    </tr>\n",
       "    <tr>\n",
       "      <th>1</th>\n",
       "      <td>TYRE</td>\n",
       "      <td>KELANI TYRES PLC</td>\n",
       "      <td>Automobiles &amp; Components</td>\n",
       "    </tr>\n",
       "  </tbody>\n",
       "</table>\n",
       "</div>"
      ],
      "text/plain": [
       "  STOCKCODE                      STOCKNAME                             GICS\n",
       "0       HBS  hSenid Business Solutions PLC  45103010 - Application Software\n",
       "1      TYRE               KELANI TYRES PLC         Automobiles & Components"
      ]
     },
     "execution_count": 14,
     "metadata": {},
     "output_type": "execute_result"
    }
   ],
   "source": [
    "stock_info.head(2)"
   ]
  },
  {
   "cell_type": "code",
   "execution_count": 15,
   "metadata": {},
   "outputs": [],
   "source": [
    "code2name = dict(zip(stock_info.STOCKCODE, stock_info.STOCKNAME))\n",
    "code2gics = dict(zip(stock_info.STOCKCODE, stock_info.GICS))"
   ]
  },
  {
   "cell_type": "code",
   "execution_count": 16,
   "metadata": {},
   "outputs": [],
   "source": [
    "names = np.array([code2name[code] for code in recommendations])\n",
    "gics = np.array([code2gics[code] for code in recommendations])"
   ]
  },
  {
   "cell_type": "code",
   "execution_count": 17,
   "metadata": {},
   "outputs": [
    {
     "data": {
      "text/plain": [
       "array(['BROWNS BEACH HOTELS PLC', 'HOTEL SIGIRIYA PLC',\n",
       "       'MALWATTE VALLEY PLANTATION PLC', 'JOHN KEELLS PLC',\n",
       "       'SIGIRIYA VILLAGE HOTELS PLC', 'TAL LANKA HOTELS PLC',\n",
       "       'LANKA IOC PLC', 'BALANGODA  PLANTATIONS  PLC',\n",
       "       'CARSON CUMBERBATCH PLC', 'HORANA PLANTATIONS PLC'], dtype='<U30')"
      ]
     },
     "execution_count": 17,
     "metadata": {},
     "output_type": "execute_result"
    }
   ],
   "source": [
    "names"
   ]
  },
  {
   "cell_type": "code",
   "execution_count": 18,
   "metadata": {},
   "outputs": [],
   "source": [
    "user = {\n",
    "    'CDSACCNO' : np.array([test_user]),\n",
    "    'STOCKCODE' : np.array(recommendations).reshape(-1,10),\n",
    "    'GICS' : gics.reshape(-1,10),\n",
    "    'STOCKNAME' : names.reshape(-1,10)\n",
    "    }"
   ]
  },
  {
   "cell_type": "code",
   "execution_count": 19,
   "metadata": {},
   "outputs": [
    {
     "data": {
      "text/plain": [
       "array([['BROWNS BEACH HOTELS PLC', 'HOTEL SIGIRIYA PLC',\n",
       "        'MALWATTE VALLEY PLANTATION PLC', 'JOHN KEELLS PLC',\n",
       "        'SIGIRIYA VILLAGE HOTELS PLC', 'TAL LANKA HOTELS PLC',\n",
       "        'LANKA IOC PLC', 'BALANGODA  PLANTATIONS  PLC',\n",
       "        'CARSON CUMBERBATCH PLC', 'HORANA PLANTATIONS PLC']], dtype='<U30')"
      ]
     },
     "execution_count": 19,
     "metadata": {},
     "output_type": "execute_result"
    }
   ],
   "source": [
    "user['STOCKNAME']"
   ]
  },
  {
   "cell_type": "code",
   "execution_count": 20,
   "metadata": {},
   "outputs": [
    {
     "data": {
      "text/plain": [
       "array([0.99589384, 1.8489531 , 2.004943  , 2.0225039 , 5.455021  ,\n",
       "       1.3958615 , 2.3344648 , 2.0428324 , 1.4689542 , 2.0648806 ],\n",
       "      dtype=float32)"
      ]
     },
     "execution_count": 20,
     "metadata": {},
     "output_type": "execute_result"
    }
   ],
   "source": [
    "pred_ratings = ranker(user)\n",
    "pred_ratings.numpy().flatten()"
   ]
  },
  {
   "cell_type": "code",
   "execution_count": 21,
   "metadata": {},
   "outputs": [
    {
     "data": {
      "text/html": [
       "<div>\n",
       "<style scoped>\n",
       "    .dataframe tbody tr th:only-of-type {\n",
       "        vertical-align: middle;\n",
       "    }\n",
       "\n",
       "    .dataframe tbody tr th {\n",
       "        vertical-align: top;\n",
       "    }\n",
       "\n",
       "    .dataframe thead th {\n",
       "        text-align: right;\n",
       "    }\n",
       "</style>\n",
       "<table border=\"1\" class=\"dataframe\">\n",
       "  <thead>\n",
       "    <tr style=\"text-align: right;\">\n",
       "      <th></th>\n",
       "      <th>STOCKCODE</th>\n",
       "      <th>PRED_RATING</th>\n",
       "    </tr>\n",
       "  </thead>\n",
       "  <tbody>\n",
       "    <tr>\n",
       "      <th>4</th>\n",
       "      <td>SIGV</td>\n",
       "      <td>5.455021</td>\n",
       "    </tr>\n",
       "    <tr>\n",
       "      <th>6</th>\n",
       "      <td>LIOC</td>\n",
       "      <td>2.334465</td>\n",
       "    </tr>\n",
       "    <tr>\n",
       "      <th>9</th>\n",
       "      <td>HOPL</td>\n",
       "      <td>2.064881</td>\n",
       "    </tr>\n",
       "    <tr>\n",
       "      <th>7</th>\n",
       "      <td>BALA</td>\n",
       "      <td>2.042832</td>\n",
       "    </tr>\n",
       "    <tr>\n",
       "      <th>3</th>\n",
       "      <td>JKL</td>\n",
       "      <td>2.022504</td>\n",
       "    </tr>\n",
       "    <tr>\n",
       "      <th>2</th>\n",
       "      <td>MAL</td>\n",
       "      <td>2.004943</td>\n",
       "    </tr>\n",
       "    <tr>\n",
       "      <th>1</th>\n",
       "      <td>HSIG</td>\n",
       "      <td>1.848953</td>\n",
       "    </tr>\n",
       "    <tr>\n",
       "      <th>8</th>\n",
       "      <td>CARS</td>\n",
       "      <td>1.468954</td>\n",
       "    </tr>\n",
       "    <tr>\n",
       "      <th>5</th>\n",
       "      <td>TAJ</td>\n",
       "      <td>1.395862</td>\n",
       "    </tr>\n",
       "    <tr>\n",
       "      <th>0</th>\n",
       "      <td>BBH</td>\n",
       "      <td>0.995894</td>\n",
       "    </tr>\n",
       "  </tbody>\n",
       "</table>\n",
       "</div>"
      ],
      "text/plain": [
       "  STOCKCODE  PRED_RATING\n",
       "4      SIGV     5.455021\n",
       "6      LIOC     2.334465\n",
       "9      HOPL     2.064881\n",
       "7      BALA     2.042832\n",
       "3       JKL     2.022504\n",
       "2       MAL     2.004943\n",
       "1      HSIG     1.848953\n",
       "8      CARS     1.468954\n",
       "5       TAJ     1.395862\n",
       "0       BBH     0.995894"
      ]
     },
     "execution_count": 21,
     "metadata": {},
     "output_type": "execute_result"
    }
   ],
   "source": [
    "recommendations_w_ratings = pd.DataFrame()\n",
    "recommendations_w_ratings['STOCKCODE'] = recommendations\n",
    "recommendations_w_ratings['PRED_RATING'] = pred_ratings.numpy().flatten()\n",
    "recommendations_w_ratings = recommendations_w_ratings.sort_values( by = ['PRED_RATING'], ascending= False)\n",
    "recommendations_w_ratings"
   ]
  },
  {
   "cell_type": "markdown",
   "metadata": {},
   "source": [
    "# complete recommender function"
   ]
  },
  {
   "cell_type": "code",
   "execution_count": 22,
   "metadata": {},
   "outputs": [],
   "source": [
    "def recommend_(CDSACCNO, timestamp = 1664821800.0):\n",
    "    _, recommendations = index(\n",
    "    (\n",
    "        tf.constant([CDSACCNO]),\n",
    "        tf.constant([timestamp])\n",
    "        )\n",
    "    )\n",
    "\n",
    "    recommendations = [reco.decode('utf-8') for reco in recommendations.numpy().flatten()]\n",
    "    # print(f\"Recommendations for user %s: {recommendations}\" %(test_user))\n",
    "\n",
    "    user = {\n",
    "    'CDSACCNO' : np.array([CDSACCNO]),\n",
    "    'STOCKCODE' : np.array(recommendations).reshape(-1,10),\n",
    "    'GICS' : gics.reshape(-1,10),\n",
    "    'STOCKNAME' : names.reshape(-1,10)\n",
    "    }\n",
    "\n",
    "    pred_ratings = ranker(user)\n",
    "\n",
    "    recommendations_w_ratings = pd.DataFrame()\n",
    "    recommendations_w_ratings['STOCKCODE'] = recommendations\n",
    "    recommendations_w_ratings['PRED_RATING'] = pred_ratings.numpy().flatten()\n",
    "    recommendations_w_ratings = recommendations_w_ratings.sort_values( by = ['PRED_RATING'], ascending= False)\n",
    "    return recommendations_w_ratings"
   ]
  },
  {
   "cell_type": "code",
   "execution_count": 23,
   "metadata": {},
   "outputs": [
    {
     "data": {
      "text/html": [
       "<div>\n",
       "<style scoped>\n",
       "    .dataframe tbody tr th:only-of-type {\n",
       "        vertical-align: middle;\n",
       "    }\n",
       "\n",
       "    .dataframe tbody tr th {\n",
       "        vertical-align: top;\n",
       "    }\n",
       "\n",
       "    .dataframe thead th {\n",
       "        text-align: right;\n",
       "    }\n",
       "</style>\n",
       "<table border=\"1\" class=\"dataframe\">\n",
       "  <thead>\n",
       "    <tr style=\"text-align: right;\">\n",
       "      <th></th>\n",
       "      <th>STOCKCODE</th>\n",
       "      <th>PRED_RATING</th>\n",
       "    </tr>\n",
       "  </thead>\n",
       "  <tbody>\n",
       "    <tr>\n",
       "      <th>4</th>\n",
       "      <td>SIGV</td>\n",
       "      <td>5.455021</td>\n",
       "    </tr>\n",
       "    <tr>\n",
       "      <th>6</th>\n",
       "      <td>LIOC</td>\n",
       "      <td>2.334465</td>\n",
       "    </tr>\n",
       "    <tr>\n",
       "      <th>9</th>\n",
       "      <td>HOPL</td>\n",
       "      <td>2.064881</td>\n",
       "    </tr>\n",
       "    <tr>\n",
       "      <th>7</th>\n",
       "      <td>BALA</td>\n",
       "      <td>2.042832</td>\n",
       "    </tr>\n",
       "    <tr>\n",
       "      <th>3</th>\n",
       "      <td>JKL</td>\n",
       "      <td>2.022504</td>\n",
       "    </tr>\n",
       "    <tr>\n",
       "      <th>2</th>\n",
       "      <td>MAL</td>\n",
       "      <td>2.004943</td>\n",
       "    </tr>\n",
       "    <tr>\n",
       "      <th>1</th>\n",
       "      <td>HSIG</td>\n",
       "      <td>1.848953</td>\n",
       "    </tr>\n",
       "    <tr>\n",
       "      <th>8</th>\n",
       "      <td>CARS</td>\n",
       "      <td>1.468954</td>\n",
       "    </tr>\n",
       "    <tr>\n",
       "      <th>5</th>\n",
       "      <td>TAJ</td>\n",
       "      <td>1.395862</td>\n",
       "    </tr>\n",
       "    <tr>\n",
       "      <th>0</th>\n",
       "      <td>BBH</td>\n",
       "      <td>0.995894</td>\n",
       "    </tr>\n",
       "  </tbody>\n",
       "</table>\n",
       "</div>"
      ],
      "text/plain": [
       "  STOCKCODE  PRED_RATING\n",
       "4      SIGV     5.455021\n",
       "6      LIOC     2.334465\n",
       "9      HOPL     2.064881\n",
       "7      BALA     2.042832\n",
       "3       JKL     2.022504\n",
       "2       MAL     2.004943\n",
       "1      HSIG     1.848953\n",
       "8      CARS     1.468954\n",
       "5       TAJ     1.395862\n",
       "0       BBH     0.995894"
      ]
     },
     "execution_count": 23,
     "metadata": {},
     "output_type": "execute_result"
    }
   ],
   "source": [
    "test_user = str('RPS-797423181-VN/00')\n",
    "test_timestamp = 1664821800.0\n",
    "\n",
    "recommend_(test_user, test_timestamp)"
   ]
  },
  {
   "cell_type": "code",
   "execution_count": 24,
   "metadata": {},
   "outputs": [
    {
     "data": {
      "text/plain": [
       "31570"
      ]
     },
     "execution_count": 24,
     "metadata": {},
     "output_type": "execute_result"
    }
   ],
   "source": [
    "len(test_ds)"
   ]
  },
  {
   "cell_type": "code",
   "execution_count": 25,
   "metadata": {},
   "outputs": [],
   "source": [
    "train_ds = tf.data.Dataset.load(r\"D:\\dev work\\recommender systems\\Atrad_CARS\\data\\portfolios_v2\\retriver_train\").cache()"
   ]
  },
  {
   "cell_type": "code",
   "execution_count": 26,
   "metadata": {},
   "outputs": [],
   "source": [
    "train_ds_1 = train_ds.batch(len(train_ds))\n",
    "test_ds_1 = test_ds.batch(len(test_ds))"
   ]
  },
  {
   "cell_type": "code",
   "execution_count": 27,
   "metadata": {},
   "outputs": [],
   "source": [
    "train_ds_dict = next(iter(train_ds_1))\n",
    "test_ds_dict = next(iter(test_ds_1))"
   ]
  },
  {
   "cell_type": "code",
   "execution_count": 28,
   "metadata": {},
   "outputs": [],
   "source": [
    "#test\n",
    "data_dict = {\n",
    "    'CDSACCNO': test_ds_dict['CDSACCNO'].numpy(),\n",
    "    'STOCKCODE': test_ds_dict['STOCKCODE'].numpy(),\n",
    "    'STOCKNAME': test_ds_dict['STOCKNAME'].numpy(),\n",
    "    'GICS': test_ds_dict['GICS'].numpy(),\n",
    "    'UNIX_TS': test_ds_dict['UNIX_TS'].numpy(),\n",
    "    'RATING': test_ds_dict['RATING'].numpy(),\n",
    "}\n",
    "\n",
    "test_df = pd.DataFrame.from_dict(data_dict)\n",
    "\n",
    "test_df = test_df.astype(\n",
    "    {\n",
    "        'CDSACCNO' : 'str',\n",
    "        'STOCKCODE' : 'str',\n",
    "        'STOCKNAME' : 'str',\n",
    "        'GICS' : 'str'\n",
    "        })\n",
    "\n",
    "#train\n",
    "data_dict = {\n",
    "    'CDSACCNO': train_ds_dict['CDSACCNO'].numpy(),\n",
    "    'STOCKCODE': train_ds_dict['STOCKCODE'].numpy(),\n",
    "    'STOCKNAME': train_ds_dict['STOCKNAME'].numpy(),\n",
    "    'GICS': train_ds_dict['GICS'].numpy(),\n",
    "    'UNIX_TS': train_ds_dict['UNIX_TS'].numpy(),\n",
    "    'RATING': train_ds_dict['RATING'].numpy(),\n",
    "}\n",
    "\n",
    "train_df = pd.DataFrame.from_dict(data_dict)\n",
    "\n",
    "train_df = train_df.astype(\n",
    "    {\n",
    "        'CDSACCNO' : 'str',\n",
    "        'STOCKCODE' : 'str',\n",
    "        'STOCKNAME' : 'str',\n",
    "        'GICS' : 'str'\n",
    "        })"
   ]
  },
  {
   "cell_type": "code",
   "execution_count": 29,
   "metadata": {},
   "outputs": [
    {
     "data": {
      "text/plain": [
       "CDSACCNO      object\n",
       "STOCKCODE     object\n",
       "STOCKNAME     object\n",
       "GICS          object\n",
       "UNIX_TS      float32\n",
       "RATING       float32\n",
       "dtype: object"
      ]
     },
     "execution_count": 29,
     "metadata": {},
     "output_type": "execute_result"
    }
   ],
   "source": [
    "test_df.dtypes"
   ]
  },
  {
   "cell_type": "code",
   "execution_count": 30,
   "metadata": {},
   "outputs": [
    {
     "data": {
      "text/html": [
       "<div>\n",
       "<style scoped>\n",
       "    .dataframe tbody tr th:only-of-type {\n",
       "        vertical-align: middle;\n",
       "    }\n",
       "\n",
       "    .dataframe tbody tr th {\n",
       "        vertical-align: top;\n",
       "    }\n",
       "\n",
       "    .dataframe thead th {\n",
       "        text-align: right;\n",
       "    }\n",
       "</style>\n",
       "<table border=\"1\" class=\"dataframe\">\n",
       "  <thead>\n",
       "    <tr style=\"text-align: right;\">\n",
       "      <th></th>\n",
       "      <th>CDSACCNO</th>\n",
       "      <th>STOCKCODE</th>\n",
       "      <th>STOCKNAME</th>\n",
       "      <th>GICS</th>\n",
       "      <th>UNIX_TS</th>\n",
       "      <th>RATING</th>\n",
       "    </tr>\n",
       "  </thead>\n",
       "  <tbody>\n",
       "    <tr>\n",
       "      <th>0</th>\n",
       "      <td>HDF-40956-LI/00</td>\n",
       "      <td>OSEA</td>\n",
       "      <td>OVERSEAS REALTY (CEYLON) PLC</td>\n",
       "      <td>Real Estate</td>\n",
       "      <td>1.663267e+09</td>\n",
       "      <td>2.0</td>\n",
       "    </tr>\n",
       "    <tr>\n",
       "      <th>1</th>\n",
       "      <td>BMS-921630085-VN/00</td>\n",
       "      <td>EDEN</td>\n",
       "      <td>EDEN HOTEL LANKA PLC</td>\n",
       "      <td>Consumer Services</td>\n",
       "      <td>1.707849e+09</td>\n",
       "      <td>1.0</td>\n",
       "    </tr>\n",
       "    <tr>\n",
       "      <th>2</th>\n",
       "      <td>BMS-54136-LI/00</td>\n",
       "      <td>HNB</td>\n",
       "      <td>HATTON NATIONAL BANK PLC</td>\n",
       "      <td>Banks</td>\n",
       "      <td>1.654108e+09</td>\n",
       "      <td>2.0</td>\n",
       "    </tr>\n",
       "    <tr>\n",
       "      <th>3</th>\n",
       "      <td>BMS-902032762-VN/00</td>\n",
       "      <td>RCL</td>\n",
       "      <td>ROYAL CERAMICS LANKA PLC</td>\n",
       "      <td>Capital Goods</td>\n",
       "      <td>1.643222e+09</td>\n",
       "      <td>3.0</td>\n",
       "    </tr>\n",
       "    <tr>\n",
       "      <th>4</th>\n",
       "      <td>SBL-762412608-VN/00</td>\n",
       "      <td>CINS</td>\n",
       "      <td>CEYLINCO INSURANCE PLC</td>\n",
       "      <td>Insurance</td>\n",
       "      <td>1.704911e+09</td>\n",
       "      <td>3.0</td>\n",
       "    </tr>\n",
       "  </tbody>\n",
       "</table>\n",
       "</div>"
      ],
      "text/plain": [
       "              CDSACCNO STOCKCODE                     STOCKNAME  \\\n",
       "0      HDF-40956-LI/00      OSEA  OVERSEAS REALTY (CEYLON) PLC   \n",
       "1  BMS-921630085-VN/00      EDEN          EDEN HOTEL LANKA PLC   \n",
       "2      BMS-54136-LI/00       HNB      HATTON NATIONAL BANK PLC   \n",
       "3  BMS-902032762-VN/00       RCL      ROYAL CERAMICS LANKA PLC   \n",
       "4  SBL-762412608-VN/00      CINS        CEYLINCO INSURANCE PLC   \n",
       "\n",
       "                GICS       UNIX_TS  RATING  \n",
       "0        Real Estate  1.663267e+09     2.0  \n",
       "1  Consumer Services  1.707849e+09     1.0  \n",
       "2              Banks  1.654108e+09     2.0  \n",
       "3      Capital Goods  1.643222e+09     3.0  \n",
       "4          Insurance  1.704911e+09     3.0  "
      ]
     },
     "execution_count": 30,
     "metadata": {},
     "output_type": "execute_result"
    }
   ],
   "source": [
    "test_df.head()"
   ]
  },
  {
   "cell_type": "code",
   "execution_count": 31,
   "metadata": {},
   "outputs": [],
   "source": [
    "test_tfds = tf.data.Dataset.from_tensor_slices(test_ds_dict)"
   ]
  },
  {
   "cell_type": "code",
   "execution_count": 32,
   "metadata": {},
   "outputs": [
    {
     "data": {
      "text/plain": [
       "(tensorflow.python.data.ops.dataset_ops.TensorSliceDataset,\n",
       " tensorflow.python.data.ops.dataset_ops.CacheDataset)"
      ]
     },
     "execution_count": 32,
     "metadata": {},
     "output_type": "execute_result"
    }
   ],
   "source": [
    "type(test_tfds), type(test_ds)"
   ]
  },
  {
   "cell_type": "code",
   "execution_count": 33,
   "metadata": {},
   "outputs": [
    {
     "data": {
      "text/plain": [
       "'2.10.1'"
      ]
     },
     "execution_count": 33,
     "metadata": {},
     "output_type": "execute_result"
    }
   ],
   "source": [
    "import tensorflow as tf\n",
    "\n",
    "tf.__version__"
   ]
  },
  {
   "cell_type": "code",
   "execution_count": 34,
   "metadata": {},
   "outputs": [],
   "source": [
    "# import tensorflow_datasets as tfds\n",
    "\n",
    "# tfds.__version__\n",
    "# test_tfds.as_dataframe(test_tfds)"
   ]
  },
  {
   "cell_type": "code",
   "execution_count": 35,
   "metadata": {},
   "outputs": [],
   "source": [
    "test_users_ = test_df.groupby('CDSACCNO')\n",
    "train_users_ = train_df.groupby('CDSACCNO')"
   ]
  },
  {
   "cell_type": "code",
   "execution_count": 36,
   "metadata": {},
   "outputs": [],
   "source": [
    "name = 'SBL-762412608-VN/00'"
   ]
  },
  {
   "cell_type": "code",
   "execution_count": 37,
   "metadata": {},
   "outputs": [
    {
     "data": {
      "text/html": [
       "<div>\n",
       "<style scoped>\n",
       "    .dataframe tbody tr th:only-of-type {\n",
       "        vertical-align: middle;\n",
       "    }\n",
       "\n",
       "    .dataframe tbody tr th {\n",
       "        vertical-align: top;\n",
       "    }\n",
       "\n",
       "    .dataframe thead th {\n",
       "        text-align: right;\n",
       "    }\n",
       "</style>\n",
       "<table border=\"1\" class=\"dataframe\">\n",
       "  <thead>\n",
       "    <tr style=\"text-align: right;\">\n",
       "      <th></th>\n",
       "      <th>CDSACCNO</th>\n",
       "      <th>STOCKCODE</th>\n",
       "      <th>STOCKNAME</th>\n",
       "      <th>GICS</th>\n",
       "      <th>UNIX_TS</th>\n",
       "      <th>RATING</th>\n",
       "    </tr>\n",
       "  </thead>\n",
       "  <tbody>\n",
       "    <tr>\n",
       "      <th>4</th>\n",
       "      <td>SBL-762412608-VN/00</td>\n",
       "      <td>CINS</td>\n",
       "      <td>CEYLINCO INSURANCE PLC</td>\n",
       "      <td>Insurance</td>\n",
       "      <td>1.704911e+09</td>\n",
       "      <td>3.0</td>\n",
       "    </tr>\n",
       "    <tr>\n",
       "      <th>2594</th>\n",
       "      <td>SBL-762412608-VN/00</td>\n",
       "      <td>LIOC</td>\n",
       "      <td>LANKA IOC PLC</td>\n",
       "      <td>Energy</td>\n",
       "      <td>1.692729e+09</td>\n",
       "      <td>4.0</td>\n",
       "    </tr>\n",
       "    <tr>\n",
       "      <th>14747</th>\n",
       "      <td>SBL-762412608-VN/00</td>\n",
       "      <td>HHL</td>\n",
       "      <td>HEMAS HOLDINGS PLC</td>\n",
       "      <td>Capital Goods</td>\n",
       "      <td>1.686595e+09</td>\n",
       "      <td>3.0</td>\n",
       "    </tr>\n",
       "    <tr>\n",
       "      <th>15204</th>\n",
       "      <td>SBL-762412608-VN/00</td>\n",
       "      <td>TJL</td>\n",
       "      <td>TEEJAY LANKA PLC</td>\n",
       "      <td>Consumer Durables &amp; Apparel</td>\n",
       "      <td>1.683830e+09</td>\n",
       "      <td>2.0</td>\n",
       "    </tr>\n",
       "  </tbody>\n",
       "</table>\n",
       "</div>"
      ],
      "text/plain": [
       "                  CDSACCNO STOCKCODE               STOCKNAME  \\\n",
       "4      SBL-762412608-VN/00      CINS  CEYLINCO INSURANCE PLC   \n",
       "2594   SBL-762412608-VN/00      LIOC           LANKA IOC PLC   \n",
       "14747  SBL-762412608-VN/00       HHL      HEMAS HOLDINGS PLC   \n",
       "15204  SBL-762412608-VN/00       TJL        TEEJAY LANKA PLC   \n",
       "\n",
       "                              GICS       UNIX_TS  RATING  \n",
       "4                        Insurance  1.704911e+09     3.0  \n",
       "2594                        Energy  1.692729e+09     4.0  \n",
       "14747                Capital Goods  1.686595e+09     3.0  \n",
       "15204  Consumer Durables & Apparel  1.683830e+09     2.0  "
      ]
     },
     "execution_count": 37,
     "metadata": {},
     "output_type": "execute_result"
    }
   ],
   "source": [
    "test_df.iloc[test_users_.groups[name]]"
   ]
  },
  {
   "cell_type": "code",
   "execution_count": 41,
   "metadata": {},
   "outputs": [
    {
     "data": {
      "text/html": [
       "<div>\n",
       "<style scoped>\n",
       "    .dataframe tbody tr th:only-of-type {\n",
       "        vertical-align: middle;\n",
       "    }\n",
       "\n",
       "    .dataframe tbody tr th {\n",
       "        vertical-align: top;\n",
       "    }\n",
       "\n",
       "    .dataframe thead th {\n",
       "        text-align: right;\n",
       "    }\n",
       "</style>\n",
       "<table border=\"1\" class=\"dataframe\">\n",
       "  <thead>\n",
       "    <tr style=\"text-align: right;\">\n",
       "      <th></th>\n",
       "      <th>CDSACCNO</th>\n",
       "      <th>STOCKCODE</th>\n",
       "      <th>STOCKNAME</th>\n",
       "      <th>GICS</th>\n",
       "      <th>UNIX_TS</th>\n",
       "      <th>RATING</th>\n",
       "    </tr>\n",
       "  </thead>\n",
       "  <tbody>\n",
       "    <tr>\n",
       "      <th>34707</th>\n",
       "      <td>SBL-762412608-VN/00</td>\n",
       "      <td>SAMP</td>\n",
       "      <td>SAMPATH BANK PLC</td>\n",
       "      <td>Banks</td>\n",
       "      <td>1.706553e+09</td>\n",
       "      <td>5.0</td>\n",
       "    </tr>\n",
       "    <tr>\n",
       "      <th>45541</th>\n",
       "      <td>SBL-762412608-VN/00</td>\n",
       "      <td>GRAN</td>\n",
       "      <td>CEYLON GRAIN ELEVATORS PLC</td>\n",
       "      <td>FOOD BEVERAGE &amp; TOBACCO</td>\n",
       "      <td>1.684348e+09</td>\n",
       "      <td>5.0</td>\n",
       "    </tr>\n",
       "    <tr>\n",
       "      <th>12661</th>\n",
       "      <td>SBL-762412608-VN/00</td>\n",
       "      <td>JKH</td>\n",
       "      <td>JOHN KEELLS HOLDINGS PLC</td>\n",
       "      <td>Capital Goods</td>\n",
       "      <td>1.681929e+09</td>\n",
       "      <td>4.0</td>\n",
       "    </tr>\n",
       "    <tr>\n",
       "      <th>109756</th>\n",
       "      <td>SBL-762412608-VN/00</td>\n",
       "      <td>MELS</td>\n",
       "      <td>MELSTACORP PLC</td>\n",
       "      <td>Food Beverage &amp; Tobacco</td>\n",
       "      <td>1.694025e+09</td>\n",
       "      <td>4.0</td>\n",
       "    </tr>\n",
       "    <tr>\n",
       "      <th>47129</th>\n",
       "      <td>SBL-762412608-VN/00</td>\n",
       "      <td>LFIN</td>\n",
       "      <td>LB FINANCE PLC</td>\n",
       "      <td>Diversified Financials</td>\n",
       "      <td>1.706812e+09</td>\n",
       "      <td>3.0</td>\n",
       "    </tr>\n",
       "    <tr>\n",
       "      <th>59395</th>\n",
       "      <td>SBL-762412608-VN/00</td>\n",
       "      <td>HNB</td>\n",
       "      <td>HATTON NATIONAL BANK PLC</td>\n",
       "      <td>Banks</td>\n",
       "      <td>1.687113e+09</td>\n",
       "      <td>3.0</td>\n",
       "    </tr>\n",
       "    <tr>\n",
       "      <th>23159</th>\n",
       "      <td>SBL-762412608-VN/00</td>\n",
       "      <td>ELPL</td>\n",
       "      <td>ELPITIYA PLANTATIONS PLC</td>\n",
       "      <td>Food Beverage &amp; Tobacco</td>\n",
       "      <td>1.683743e+09</td>\n",
       "      <td>1.0</td>\n",
       "    </tr>\n",
       "  </tbody>\n",
       "</table>\n",
       "</div>"
      ],
      "text/plain": [
       "                   CDSACCNO STOCKCODE                   STOCKNAME  \\\n",
       "34707   SBL-762412608-VN/00      SAMP            SAMPATH BANK PLC   \n",
       "45541   SBL-762412608-VN/00      GRAN  CEYLON GRAIN ELEVATORS PLC   \n",
       "12661   SBL-762412608-VN/00       JKH    JOHN KEELLS HOLDINGS PLC   \n",
       "109756  SBL-762412608-VN/00      MELS              MELSTACORP PLC   \n",
       "47129   SBL-762412608-VN/00      LFIN              LB FINANCE PLC   \n",
       "59395   SBL-762412608-VN/00       HNB    HATTON NATIONAL BANK PLC   \n",
       "23159   SBL-762412608-VN/00      ELPL    ELPITIYA PLANTATIONS PLC   \n",
       "\n",
       "                           GICS       UNIX_TS  RATING  \n",
       "34707                     Banks  1.706553e+09     5.0  \n",
       "45541   FOOD BEVERAGE & TOBACCO  1.684348e+09     5.0  \n",
       "12661             Capital Goods  1.681929e+09     4.0  \n",
       "109756  Food Beverage & Tobacco  1.694025e+09     4.0  \n",
       "47129    Diversified Financials  1.706812e+09     3.0  \n",
       "59395                     Banks  1.687113e+09     3.0  \n",
       "23159   Food Beverage & Tobacco  1.683743e+09     1.0  "
      ]
     },
     "execution_count": 41,
     "metadata": {},
     "output_type": "execute_result"
    }
   ],
   "source": [
    "user_test_port_ = train_df.iloc[train_users_.groups[name]].sort_values('RATING', ascending = False)\n",
    "user_test_port_"
   ]
  },
  {
   "cell_type": "code",
   "execution_count": 40,
   "metadata": {},
   "outputs": [
    {
     "data": {
      "text/html": [
       "<div>\n",
       "<style scoped>\n",
       "    .dataframe tbody tr th:only-of-type {\n",
       "        vertical-align: middle;\n",
       "    }\n",
       "\n",
       "    .dataframe tbody tr th {\n",
       "        vertical-align: top;\n",
       "    }\n",
       "\n",
       "    .dataframe thead th {\n",
       "        text-align: right;\n",
       "    }\n",
       "</style>\n",
       "<table border=\"1\" class=\"dataframe\">\n",
       "  <thead>\n",
       "    <tr style=\"text-align: right;\">\n",
       "      <th></th>\n",
       "      <th>STOCKCODE</th>\n",
       "      <th>PRED_RATING</th>\n",
       "    </tr>\n",
       "  </thead>\n",
       "  <tbody>\n",
       "    <tr>\n",
       "      <th>6</th>\n",
       "      <td>HNB</td>\n",
       "      <td>5.361472</td>\n",
       "    </tr>\n",
       "    <tr>\n",
       "      <th>4</th>\n",
       "      <td>JKH</td>\n",
       "      <td>4.698636</td>\n",
       "    </tr>\n",
       "    <tr>\n",
       "      <th>8</th>\n",
       "      <td>GRAN</td>\n",
       "      <td>3.024870</td>\n",
       "    </tr>\n",
       "    <tr>\n",
       "      <th>0</th>\n",
       "      <td>NEST</td>\n",
       "      <td>2.528221</td>\n",
       "    </tr>\n",
       "    <tr>\n",
       "      <th>5</th>\n",
       "      <td>LWL</td>\n",
       "      <td>2.344155</td>\n",
       "    </tr>\n",
       "    <tr>\n",
       "      <th>2</th>\n",
       "      <td>KGAL</td>\n",
       "      <td>2.207677</td>\n",
       "    </tr>\n",
       "    <tr>\n",
       "      <th>9</th>\n",
       "      <td>LFIN</td>\n",
       "      <td>2.179858</td>\n",
       "    </tr>\n",
       "    <tr>\n",
       "      <th>3</th>\n",
       "      <td>LLUB</td>\n",
       "      <td>1.733934</td>\n",
       "    </tr>\n",
       "    <tr>\n",
       "      <th>1</th>\n",
       "      <td>MELS</td>\n",
       "      <td>1.650706</td>\n",
       "    </tr>\n",
       "    <tr>\n",
       "      <th>7</th>\n",
       "      <td>LCEY</td>\n",
       "      <td>1.099964</td>\n",
       "    </tr>\n",
       "  </tbody>\n",
       "</table>\n",
       "</div>"
      ],
      "text/plain": [
       "  STOCKCODE  PRED_RATING\n",
       "6       HNB     5.361472\n",
       "4       JKH     4.698636\n",
       "8      GRAN     3.024870\n",
       "0      NEST     2.528221\n",
       "5       LWL     2.344155\n",
       "2      KGAL     2.207677\n",
       "9      LFIN     2.179858\n",
       "3      LLUB     1.733934\n",
       "1      MELS     1.650706\n",
       "7      LCEY     1.099964"
      ]
     },
     "execution_count": 40,
     "metadata": {},
     "output_type": "execute_result"
    }
   ],
   "source": [
    "recommendations_ = recommend_(name, test_timestamp)\n",
    "recommendations_"
   ]
  },
  {
   "cell_type": "code",
   "execution_count": 53,
   "metadata": {},
   "outputs": [
    {
     "data": {
      "text/plain": [
       "STOCKCODE          KGAL\n",
       "PRED_RATING    2.207677\n",
       "Name: 2, dtype: object"
      ]
     },
     "execution_count": 53,
     "metadata": {},
     "output_type": "execute_result"
    }
   ],
   "source": [
    "recommendations_.iloc[5]"
   ]
  },
  {
   "cell_type": "code",
   "execution_count": 56,
   "metadata": {},
   "outputs": [
    {
     "data": {
      "text/plain": [
       "0"
      ]
     },
     "execution_count": 56,
     "metadata": {},
     "output_type": "execute_result"
    }
   ],
   "source": [
    "len(user_test_port_[user_test_port_.STOCKCODE == recommendations_.iloc[5]['STOCKCODE']].RATING)"
   ]
  },
  {
   "cell_type": "code",
   "execution_count": 50,
   "metadata": {},
   "outputs": [
    {
     "ename": "ValueError",
     "evalue": "can only convert an array of size 1 to a Python scalar",
     "output_type": "error",
     "traceback": [
      "\u001b[1;31m---------------------------------------------------------------------------\u001b[0m",
      "\u001b[1;31mValueError\u001b[0m                                Traceback (most recent call last)",
      "Cell \u001b[1;32mIn[50], line 1\u001b[0m\n\u001b[1;32m----> 1\u001b[0m recommendations_[\u001b[38;5;124m'\u001b[39m\u001b[38;5;124mACT_RATING\u001b[39m\u001b[38;5;124m'\u001b[39m] \u001b[38;5;241m=\u001b[39m \u001b[43mrecommendations_\u001b[49m\u001b[38;5;241;43m.\u001b[39;49m\u001b[43mapply\u001b[49m\u001b[43m(\u001b[49m\u001b[38;5;28;43;01mlambda\u001b[39;49;00m\u001b[43m \u001b[49m\u001b[43mx\u001b[49m\u001b[43m:\u001b[49m\u001b[43m \u001b[49m\u001b[43muser_test_port_\u001b[49m\u001b[43m[\u001b[49m\u001b[43muser_test_port_\u001b[49m\u001b[38;5;241;43m.\u001b[39;49m\u001b[43mSTOCKCODE\u001b[49m\u001b[43m \u001b[49m\u001b[38;5;241;43m==\u001b[39;49m\u001b[43m \u001b[49m\u001b[43mx\u001b[49m\u001b[43m[\u001b[49m\u001b[38;5;124;43m'\u001b[39;49m\u001b[38;5;124;43mSTOCKCODE\u001b[39;49m\u001b[38;5;124;43m'\u001b[39;49m\u001b[43m]\u001b[49m\u001b[43m]\u001b[49m\u001b[38;5;241;43m.\u001b[39;49m\u001b[43mRATING\u001b[49m\u001b[38;5;241;43m.\u001b[39;49m\u001b[43mitem\u001b[49m\u001b[43m(\u001b[49m\u001b[43m)\u001b[49m\u001b[43m,\u001b[49m\u001b[43m \u001b[49m\u001b[43maxis\u001b[49m\u001b[43m \u001b[49m\u001b[38;5;241;43m=\u001b[39;49m\u001b[43m \u001b[49m\u001b[38;5;241;43m1\u001b[39;49m\u001b[43m)\u001b[49m\n\u001b[0;32m      2\u001b[0m recommendations_\n",
      "File \u001b[1;32mc:\\Users\\bpadmin\\anaconda3\\envs\\atrad_cars_v2\\lib\\site-packages\\pandas\\core\\frame.py:10374\u001b[0m, in \u001b[0;36mDataFrame.apply\u001b[1;34m(self, func, axis, raw, result_type, args, by_row, engine, engine_kwargs, **kwargs)\u001b[0m\n\u001b[0;32m  10360\u001b[0m \u001b[38;5;28;01mfrom\u001b[39;00m \u001b[38;5;21;01mpandas\u001b[39;00m\u001b[38;5;21;01m.\u001b[39;00m\u001b[38;5;21;01mcore\u001b[39;00m\u001b[38;5;21;01m.\u001b[39;00m\u001b[38;5;21;01mapply\u001b[39;00m \u001b[38;5;28;01mimport\u001b[39;00m frame_apply\n\u001b[0;32m  10362\u001b[0m op \u001b[38;5;241m=\u001b[39m frame_apply(\n\u001b[0;32m  10363\u001b[0m     \u001b[38;5;28mself\u001b[39m,\n\u001b[0;32m  10364\u001b[0m     func\u001b[38;5;241m=\u001b[39mfunc,\n\u001b[1;32m   (...)\u001b[0m\n\u001b[0;32m  10372\u001b[0m     kwargs\u001b[38;5;241m=\u001b[39mkwargs,\n\u001b[0;32m  10373\u001b[0m )\n\u001b[1;32m> 10374\u001b[0m \u001b[38;5;28;01mreturn\u001b[39;00m \u001b[43mop\u001b[49m\u001b[38;5;241;43m.\u001b[39;49m\u001b[43mapply\u001b[49m\u001b[43m(\u001b[49m\u001b[43m)\u001b[49m\u001b[38;5;241m.\u001b[39m__finalize__(\u001b[38;5;28mself\u001b[39m, method\u001b[38;5;241m=\u001b[39m\u001b[38;5;124m\"\u001b[39m\u001b[38;5;124mapply\u001b[39m\u001b[38;5;124m\"\u001b[39m)\n",
      "File \u001b[1;32mc:\\Users\\bpadmin\\anaconda3\\envs\\atrad_cars_v2\\lib\\site-packages\\pandas\\core\\apply.py:916\u001b[0m, in \u001b[0;36mFrameApply.apply\u001b[1;34m(self)\u001b[0m\n\u001b[0;32m    913\u001b[0m \u001b[38;5;28;01melif\u001b[39;00m \u001b[38;5;28mself\u001b[39m\u001b[38;5;241m.\u001b[39mraw:\n\u001b[0;32m    914\u001b[0m     \u001b[38;5;28;01mreturn\u001b[39;00m \u001b[38;5;28mself\u001b[39m\u001b[38;5;241m.\u001b[39mapply_raw(engine\u001b[38;5;241m=\u001b[39m\u001b[38;5;28mself\u001b[39m\u001b[38;5;241m.\u001b[39mengine, engine_kwargs\u001b[38;5;241m=\u001b[39m\u001b[38;5;28mself\u001b[39m\u001b[38;5;241m.\u001b[39mengine_kwargs)\n\u001b[1;32m--> 916\u001b[0m \u001b[38;5;28;01mreturn\u001b[39;00m \u001b[38;5;28;43mself\u001b[39;49m\u001b[38;5;241;43m.\u001b[39;49m\u001b[43mapply_standard\u001b[49m\u001b[43m(\u001b[49m\u001b[43m)\u001b[49m\n",
      "File \u001b[1;32mc:\\Users\\bpadmin\\anaconda3\\envs\\atrad_cars_v2\\lib\\site-packages\\pandas\\core\\apply.py:1063\u001b[0m, in \u001b[0;36mFrameApply.apply_standard\u001b[1;34m(self)\u001b[0m\n\u001b[0;32m   1061\u001b[0m \u001b[38;5;28;01mdef\u001b[39;00m \u001b[38;5;21mapply_standard\u001b[39m(\u001b[38;5;28mself\u001b[39m):\n\u001b[0;32m   1062\u001b[0m     \u001b[38;5;28;01mif\u001b[39;00m \u001b[38;5;28mself\u001b[39m\u001b[38;5;241m.\u001b[39mengine \u001b[38;5;241m==\u001b[39m \u001b[38;5;124m\"\u001b[39m\u001b[38;5;124mpython\u001b[39m\u001b[38;5;124m\"\u001b[39m:\n\u001b[1;32m-> 1063\u001b[0m         results, res_index \u001b[38;5;241m=\u001b[39m \u001b[38;5;28;43mself\u001b[39;49m\u001b[38;5;241;43m.\u001b[39;49m\u001b[43mapply_series_generator\u001b[49m\u001b[43m(\u001b[49m\u001b[43m)\u001b[49m\n\u001b[0;32m   1064\u001b[0m     \u001b[38;5;28;01melse\u001b[39;00m:\n\u001b[0;32m   1065\u001b[0m         results, res_index \u001b[38;5;241m=\u001b[39m \u001b[38;5;28mself\u001b[39m\u001b[38;5;241m.\u001b[39mapply_series_numba()\n",
      "File \u001b[1;32mc:\\Users\\bpadmin\\anaconda3\\envs\\atrad_cars_v2\\lib\\site-packages\\pandas\\core\\apply.py:1081\u001b[0m, in \u001b[0;36mFrameApply.apply_series_generator\u001b[1;34m(self)\u001b[0m\n\u001b[0;32m   1078\u001b[0m \u001b[38;5;28;01mwith\u001b[39;00m option_context(\u001b[38;5;124m\"\u001b[39m\u001b[38;5;124mmode.chained_assignment\u001b[39m\u001b[38;5;124m\"\u001b[39m, \u001b[38;5;28;01mNone\u001b[39;00m):\n\u001b[0;32m   1079\u001b[0m     \u001b[38;5;28;01mfor\u001b[39;00m i, v \u001b[38;5;129;01min\u001b[39;00m \u001b[38;5;28menumerate\u001b[39m(series_gen):\n\u001b[0;32m   1080\u001b[0m         \u001b[38;5;66;03m# ignore SettingWithCopy here in case the user mutates\u001b[39;00m\n\u001b[1;32m-> 1081\u001b[0m         results[i] \u001b[38;5;241m=\u001b[39m \u001b[38;5;28mself\u001b[39m\u001b[38;5;241m.\u001b[39mfunc(v, \u001b[38;5;241m*\u001b[39m\u001b[38;5;28mself\u001b[39m\u001b[38;5;241m.\u001b[39margs, \u001b[38;5;241m*\u001b[39m\u001b[38;5;241m*\u001b[39m\u001b[38;5;28mself\u001b[39m\u001b[38;5;241m.\u001b[39mkwargs)\n\u001b[0;32m   1082\u001b[0m         \u001b[38;5;28;01mif\u001b[39;00m \u001b[38;5;28misinstance\u001b[39m(results[i], ABCSeries):\n\u001b[0;32m   1083\u001b[0m             \u001b[38;5;66;03m# If we have a view on v, we need to make a copy because\u001b[39;00m\n\u001b[0;32m   1084\u001b[0m             \u001b[38;5;66;03m#  series_generator will swap out the underlying data\u001b[39;00m\n\u001b[0;32m   1085\u001b[0m             results[i] \u001b[38;5;241m=\u001b[39m results[i]\u001b[38;5;241m.\u001b[39mcopy(deep\u001b[38;5;241m=\u001b[39m\u001b[38;5;28;01mFalse\u001b[39;00m)\n",
      "Cell \u001b[1;32mIn[50], line 1\u001b[0m, in \u001b[0;36m<lambda>\u001b[1;34m(x)\u001b[0m\n\u001b[1;32m----> 1\u001b[0m recommendations_[\u001b[38;5;124m'\u001b[39m\u001b[38;5;124mACT_RATING\u001b[39m\u001b[38;5;124m'\u001b[39m] \u001b[38;5;241m=\u001b[39m recommendations_\u001b[38;5;241m.\u001b[39mapply(\u001b[38;5;28;01mlambda\u001b[39;00m x: \u001b[43muser_test_port_\u001b[49m\u001b[43m[\u001b[49m\u001b[43muser_test_port_\u001b[49m\u001b[38;5;241;43m.\u001b[39;49m\u001b[43mSTOCKCODE\u001b[49m\u001b[43m \u001b[49m\u001b[38;5;241;43m==\u001b[39;49m\u001b[43m \u001b[49m\u001b[43mx\u001b[49m\u001b[43m[\u001b[49m\u001b[38;5;124;43m'\u001b[39;49m\u001b[38;5;124;43mSTOCKCODE\u001b[39;49m\u001b[38;5;124;43m'\u001b[39;49m\u001b[43m]\u001b[49m\u001b[43m]\u001b[49m\u001b[38;5;241;43m.\u001b[39;49m\u001b[43mRATING\u001b[49m\u001b[38;5;241;43m.\u001b[39;49m\u001b[43mitem\u001b[49m\u001b[43m(\u001b[49m\u001b[43m)\u001b[49m, axis \u001b[38;5;241m=\u001b[39m \u001b[38;5;241m1\u001b[39m)\n\u001b[0;32m      2\u001b[0m recommendations_\n",
      "File \u001b[1;32mc:\\Users\\bpadmin\\anaconda3\\envs\\atrad_cars_v2\\lib\\site-packages\\pandas\\core\\base.py:418\u001b[0m, in \u001b[0;36mIndexOpsMixin.item\u001b[1;34m(self)\u001b[0m\n\u001b[0;32m    416\u001b[0m \u001b[38;5;28;01mif\u001b[39;00m \u001b[38;5;28mlen\u001b[39m(\u001b[38;5;28mself\u001b[39m) \u001b[38;5;241m==\u001b[39m \u001b[38;5;241m1\u001b[39m:\n\u001b[0;32m    417\u001b[0m     \u001b[38;5;28;01mreturn\u001b[39;00m \u001b[38;5;28mnext\u001b[39m(\u001b[38;5;28miter\u001b[39m(\u001b[38;5;28mself\u001b[39m))\n\u001b[1;32m--> 418\u001b[0m \u001b[38;5;28;01mraise\u001b[39;00m \u001b[38;5;167;01mValueError\u001b[39;00m(\u001b[38;5;124m\"\u001b[39m\u001b[38;5;124mcan only convert an array of size 1 to a Python scalar\u001b[39m\u001b[38;5;124m\"\u001b[39m)\n",
      "\u001b[1;31mValueError\u001b[0m: can only convert an array of size 1 to a Python scalar"
     ]
    }
   ],
   "source": [
    "recommendations_['ACT_RATING'] = recommendations_.apply(lambda x: user_test_port_[user_test_port_.STOCKCODE == x['STOCKCODE']].RATING.item(), axis = 1)\n",
    "recommendations_"
   ]
  },
  {
   "cell_type": "code",
   "execution_count": null,
   "metadata": {},
   "outputs": [],
   "source": []
  }
 ],
 "metadata": {
  "kernelspec": {
   "display_name": "atrad_cars_v2",
   "language": "python",
   "name": "python3"
  },
  "language_info": {
   "codemirror_mode": {
    "name": "ipython",
    "version": 3
   },
   "file_extension": ".py",
   "mimetype": "text/x-python",
   "name": "python",
   "nbconvert_exporter": "python",
   "pygments_lexer": "ipython3",
   "version": "3.9.19"
  }
 },
 "nbformat": 4,
 "nbformat_minor": 2
}
