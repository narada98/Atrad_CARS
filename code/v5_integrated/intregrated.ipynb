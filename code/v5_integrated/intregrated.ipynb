{
 "cells": [
  {
   "cell_type": "code",
   "execution_count": 1,
   "metadata": {},
   "outputs": [],
   "source": [
    "import tensorflow as tf\n",
    "import tensorflow_recommenders as tfrs\n",
    "\n",
    "import numpy as np\n",
    "import pandas as pd"
   ]
  },
  {
   "cell_type": "code",
   "execution_count": 2,
   "metadata": {},
   "outputs": [
    {
     "data": {
      "text/plain": [
       "'2.10.1'"
      ]
     },
     "execution_count": 2,
     "metadata": {},
     "output_type": "execute_result"
    }
   ],
   "source": [
    "tf.__version__"
   ]
  },
  {
   "cell_type": "code",
   "execution_count": 3,
   "metadata": {},
   "outputs": [
    {
     "name": "stderr",
     "output_type": "stream",
     "text": [
      "c:\\Users\\bpadmin\\anaconda3\\envs\\atrad_cars_v2\\lib\\site-packages\\tqdm\\auto.py:21: TqdmWarning: IProgress not found. Please update jupyter and ipywidgets. See https://ipywidgets.readthedocs.io/en/stable/user_install.html\n",
      "  from .autonotebook import tqdm as notebook_tqdm\n"
     ]
    }
   ],
   "source": [
    "from tqdm.keras import TqdmCallback"
   ]
  },
  {
   "cell_type": "code",
   "execution_count": 4,
   "metadata": {},
   "outputs": [
    {
     "ename": "KeyboardInterrupt",
     "evalue": "",
     "output_type": "error",
     "traceback": [
      "\u001b[1;31m---------------------------------------------------------------------------\u001b[0m",
      "\u001b[1;31mKeyboardInterrupt\u001b[0m                         Traceback (most recent call last)",
      "Cell \u001b[1;32mIn[4], line 16\u001b[0m\n\u001b[0;32m     12\u001b[0m item_GICS \u001b[38;5;241m=\u001b[39m portfolios\u001b[38;5;241m.\u001b[39mbatch(\u001b[38;5;241m10000\u001b[39m)\u001b[38;5;241m.\u001b[39mmap(\u001b[38;5;28;01mlambda\u001b[39;00m x: x[\u001b[38;5;124m\"\u001b[39m\u001b[38;5;124mGICS\u001b[39m\u001b[38;5;124m\"\u001b[39m])\n\u001b[0;32m     14\u001b[0m user_ids \u001b[38;5;241m=\u001b[39m portfolios\u001b[38;5;241m.\u001b[39mbatch(\u001b[38;5;241m10000\u001b[39m)\u001b[38;5;241m.\u001b[39mmap(\u001b[38;5;28;01mlambda\u001b[39;00m x: x[\u001b[38;5;124m\"\u001b[39m\u001b[38;5;124mCDSACCNO\u001b[39m\u001b[38;5;124m\"\u001b[39m])\n\u001b[1;32m---> 16\u001b[0m unique_item_ids \u001b[38;5;241m=\u001b[39m np\u001b[38;5;241m.\u001b[39munique(np\u001b[38;5;241m.\u001b[39mconcatenate(\u001b[38;5;28;43mlist\u001b[39;49m\u001b[43m(\u001b[49m\u001b[43mitems_ids\u001b[49m\u001b[43m)\u001b[49m))\n\u001b[0;32m     17\u001b[0m unique_item_names \u001b[38;5;241m=\u001b[39m np\u001b[38;5;241m.\u001b[39munique(np\u001b[38;5;241m.\u001b[39mconcatenate(\u001b[38;5;28mlist\u001b[39m(item_names)))\n\u001b[0;32m     18\u001b[0m unique_item_gics \u001b[38;5;241m=\u001b[39m np\u001b[38;5;241m.\u001b[39munique(np\u001b[38;5;241m.\u001b[39mconcatenate(\u001b[38;5;28mlist\u001b[39m(item_GICS)))\n",
      "File \u001b[1;32mc:\\Users\\bpadmin\\anaconda3\\envs\\atrad_cars_v2\\lib\\site-packages\\tensorflow\\python\\data\\ops\\iterator_ops.py:766\u001b[0m, in \u001b[0;36mOwnedIterator.__next__\u001b[1;34m(self)\u001b[0m\n\u001b[0;32m    764\u001b[0m \u001b[38;5;28;01mdef\u001b[39;00m \u001b[38;5;21m__next__\u001b[39m(\u001b[38;5;28mself\u001b[39m):\n\u001b[0;32m    765\u001b[0m   \u001b[38;5;28;01mtry\u001b[39;00m:\n\u001b[1;32m--> 766\u001b[0m     \u001b[38;5;28;01mreturn\u001b[39;00m \u001b[38;5;28;43mself\u001b[39;49m\u001b[38;5;241;43m.\u001b[39;49m\u001b[43m_next_internal\u001b[49m\u001b[43m(\u001b[49m\u001b[43m)\u001b[49m\n\u001b[0;32m    767\u001b[0m   \u001b[38;5;28;01mexcept\u001b[39;00m errors\u001b[38;5;241m.\u001b[39mOutOfRangeError:\n\u001b[0;32m    768\u001b[0m     \u001b[38;5;28;01mraise\u001b[39;00m \u001b[38;5;167;01mStopIteration\u001b[39;00m\n",
      "File \u001b[1;32mc:\\Users\\bpadmin\\anaconda3\\envs\\atrad_cars_v2\\lib\\site-packages\\tensorflow\\python\\data\\ops\\iterator_ops.py:749\u001b[0m, in \u001b[0;36mOwnedIterator._next_internal\u001b[1;34m(self)\u001b[0m\n\u001b[0;32m    746\u001b[0m \u001b[38;5;66;03m# TODO(b/77291417): This runs in sync mode as iterators use an error status\u001b[39;00m\n\u001b[0;32m    747\u001b[0m \u001b[38;5;66;03m# to communicate that there is no more data to iterate over.\u001b[39;00m\n\u001b[0;32m    748\u001b[0m \u001b[38;5;28;01mwith\u001b[39;00m context\u001b[38;5;241m.\u001b[39mexecution_mode(context\u001b[38;5;241m.\u001b[39mSYNC):\n\u001b[1;32m--> 749\u001b[0m   ret \u001b[38;5;241m=\u001b[39m \u001b[43mgen_dataset_ops\u001b[49m\u001b[38;5;241;43m.\u001b[39;49m\u001b[43miterator_get_next\u001b[49m\u001b[43m(\u001b[49m\n\u001b[0;32m    750\u001b[0m \u001b[43m      \u001b[49m\u001b[38;5;28;43mself\u001b[39;49m\u001b[38;5;241;43m.\u001b[39;49m\u001b[43m_iterator_resource\u001b[49m\u001b[43m,\u001b[49m\n\u001b[0;32m    751\u001b[0m \u001b[43m      \u001b[49m\u001b[43moutput_types\u001b[49m\u001b[38;5;241;43m=\u001b[39;49m\u001b[38;5;28;43mself\u001b[39;49m\u001b[38;5;241;43m.\u001b[39;49m\u001b[43m_flat_output_types\u001b[49m\u001b[43m,\u001b[49m\n\u001b[0;32m    752\u001b[0m \u001b[43m      \u001b[49m\u001b[43moutput_shapes\u001b[49m\u001b[38;5;241;43m=\u001b[39;49m\u001b[38;5;28;43mself\u001b[39;49m\u001b[38;5;241;43m.\u001b[39;49m\u001b[43m_flat_output_shapes\u001b[49m\u001b[43m)\u001b[49m\n\u001b[0;32m    754\u001b[0m   \u001b[38;5;28;01mtry\u001b[39;00m:\n\u001b[0;32m    755\u001b[0m     \u001b[38;5;66;03m# Fast path for the case `self._structure` is not a nested structure.\u001b[39;00m\n\u001b[0;32m    756\u001b[0m     \u001b[38;5;28;01mreturn\u001b[39;00m \u001b[38;5;28mself\u001b[39m\u001b[38;5;241m.\u001b[39m_element_spec\u001b[38;5;241m.\u001b[39m_from_compatible_tensor_list(ret)  \u001b[38;5;66;03m# pylint: disable=protected-access\u001b[39;00m\n",
      "File \u001b[1;32mc:\\Users\\bpadmin\\anaconda3\\envs\\atrad_cars_v2\\lib\\site-packages\\tensorflow\\python\\ops\\gen_dataset_ops.py:3011\u001b[0m, in \u001b[0;36miterator_get_next\u001b[1;34m(iterator, output_types, output_shapes, name)\u001b[0m\n\u001b[0;32m   3009\u001b[0m \u001b[38;5;28;01mif\u001b[39;00m tld\u001b[38;5;241m.\u001b[39mis_eager:\n\u001b[0;32m   3010\u001b[0m   \u001b[38;5;28;01mtry\u001b[39;00m:\n\u001b[1;32m-> 3011\u001b[0m     _result \u001b[38;5;241m=\u001b[39m \u001b[43mpywrap_tfe\u001b[49m\u001b[38;5;241;43m.\u001b[39;49m\u001b[43mTFE_Py_FastPathExecute\u001b[49m\u001b[43m(\u001b[49m\n\u001b[0;32m   3012\u001b[0m \u001b[43m      \u001b[49m\u001b[43m_ctx\u001b[49m\u001b[43m,\u001b[49m\u001b[43m \u001b[49m\u001b[38;5;124;43m\"\u001b[39;49m\u001b[38;5;124;43mIteratorGetNext\u001b[39;49m\u001b[38;5;124;43m\"\u001b[39;49m\u001b[43m,\u001b[49m\u001b[43m \u001b[49m\u001b[43mname\u001b[49m\u001b[43m,\u001b[49m\u001b[43m \u001b[49m\u001b[43miterator\u001b[49m\u001b[43m,\u001b[49m\u001b[43m \u001b[49m\u001b[38;5;124;43m\"\u001b[39;49m\u001b[38;5;124;43moutput_types\u001b[39;49m\u001b[38;5;124;43m\"\u001b[39;49m\u001b[43m,\u001b[49m\u001b[43m \u001b[49m\u001b[43moutput_types\u001b[49m\u001b[43m,\u001b[49m\n\u001b[0;32m   3013\u001b[0m \u001b[43m      \u001b[49m\u001b[38;5;124;43m\"\u001b[39;49m\u001b[38;5;124;43moutput_shapes\u001b[39;49m\u001b[38;5;124;43m\"\u001b[39;49m\u001b[43m,\u001b[49m\u001b[43m \u001b[49m\u001b[43moutput_shapes\u001b[49m\u001b[43m)\u001b[49m\n\u001b[0;32m   3014\u001b[0m     \u001b[38;5;28;01mreturn\u001b[39;00m _result\n\u001b[0;32m   3015\u001b[0m   \u001b[38;5;28;01mexcept\u001b[39;00m _core\u001b[38;5;241m.\u001b[39m_NotOkStatusException \u001b[38;5;28;01mas\u001b[39;00m e:\n",
      "\u001b[1;31mKeyboardInterrupt\u001b[0m: "
     ]
    }
   ],
   "source": [
    "test_ds = tf.data.Dataset.load(r\"D:\\dev work\\recommender systems\\Atrad_CARS\\data\\portfolios_v2\\retriver_test\").cache()\n",
    "\n",
    "train_ds = tf.data.Dataset.load(r\"D:\\dev work\\recommender systems\\Atrad_CARS\\data\\portfolios_v2\\retriver_train\").cache()\n",
    "\n",
    "train_ds_1 = train_ds.batch(len(train_ds))\n",
    "test_ds_1 = test_ds.batch(len(test_ds))\n",
    "\n",
    "portfolios = tf.data.Dataset.load(\"D:/dev work/recommender systems/Atrad_CARS/data/portfolios_v2/portfolios\").cache()\n",
    "\n",
    "items_ids = portfolios.batch(10000).map(lambda x: x[\"STOCKCODE\"])\n",
    "item_names = portfolios.batch(10000).map(lambda x: x[\"STOCKNAME\"])\n",
    "item_GICS = portfolios.batch(10000).map(lambda x: x[\"GICS\"])\n",
    "\n",
    "user_ids = portfolios.batch(10000).map(lambda x: x[\"CDSACCNO\"])\n",
    "\n",
    "unique_item_ids = np.unique(np.concatenate(list(items_ids)))\n",
    "unique_item_names = np.unique(np.concatenate(list(item_names)))\n",
    "unique_item_gics = np.unique(np.concatenate(list(item_GICS)))\n",
    "\n",
    "unique_user_ids = np.unique(np.concatenate(list(user_ids)))\n",
    "\n",
    "# need these to initialize timestamp embedding layers in future steps\n",
    "\n",
    "timestamps = np.concatenate(list(portfolios.map(lambda x: x[\"UNIX_TS\"]).batch(100)))\n",
    "max_timestamp = timestamps.max()\n",
    "min_timestamp = timestamps.min()\n",
    "\n",
    "timestamp_buckets = np.linspace(\n",
    "    min_timestamp, max_timestamp, num=1000,\n",
    ")"
   ]
  },
  {
   "cell_type": "code",
   "execution_count": null,
   "metadata": {},
   "outputs": [],
   "source": [
    "train_ds_dict = next(iter(train_ds_1))\n",
    "test_ds_dict = next(iter(test_ds_1))\n",
    "#test\n",
    "data_dict = {\n",
    "    'CDSACCNO': test_ds_dict['CDSACCNO'].numpy(),\n",
    "    'STOCKCODE': test_ds_dict['STOCKCODE'].numpy(),\n",
    "    'STOCKNAME': test_ds_dict['STOCKNAME'].numpy(),\n",
    "    'GICS': test_ds_dict['GICS'].numpy(),\n",
    "    'UNIX_TS': test_ds_dict['UNIX_TS'].numpy(),\n",
    "    'RATING': test_ds_dict['RATING'].numpy(),\n",
    "}\n",
    "\n",
    "test_df = pd.DataFrame.from_dict(data_dict)\n",
    "\n",
    "test_df = test_df.astype(\n",
    "    {\n",
    "        'CDSACCNO' : 'str',\n",
    "        'STOCKCODE' : 'str',\n",
    "        'STOCKNAME' : 'str',\n",
    "        'GICS' : 'str'\n",
    "        })\n",
    "\n",
    "#train\n",
    "data_dict = {\n",
    "    'CDSACCNO': train_ds_dict['CDSACCNO'].numpy(),\n",
    "    'STOCKCODE': train_ds_dict['STOCKCODE'].numpy(),\n",
    "    'STOCKNAME': train_ds_dict['STOCKNAME'].numpy(),\n",
    "    'GICS': train_ds_dict['GICS'].numpy(),\n",
    "    'UNIX_TS': train_ds_dict['UNIX_TS'].numpy(),\n",
    "    'RATING': train_ds_dict['RATING'].numpy(),\n",
    "}\n",
    "\n",
    "train_df = pd.DataFrame.from_dict(data_dict)\n",
    "\n",
    "train_df = train_df.astype(\n",
    "    {\n",
    "        'CDSACCNO' : 'str',\n",
    "        'STOCKCODE' : 'str',\n",
    "        'STOCKNAME' : 'str',\n",
    "        'GICS' : 'str'\n",
    "        })"
   ]
  },
  {
   "cell_type": "code",
   "execution_count": null,
   "metadata": {},
   "outputs": [
    {
     "data": {
      "text/plain": [
       "157854"
      ]
     },
     "execution_count": 274,
     "metadata": {},
     "output_type": "execute_result"
    }
   ],
   "source": [
    "len(portfolios)"
   ]
  },
  {
   "cell_type": "code",
   "execution_count": null,
   "metadata": {},
   "outputs": [],
   "source": [
    "from retrieval_recommender import Retriever\n",
    "\n",
    "retriever = Retriever(\n",
    "    use_timestamp = True,\n",
    "    portfolios = portfolios\n",
    ")\n",
    "\n",
    "retriever.load_weights(r\"D:\\dev work\\recommender systems\\Atrad_CARS\\model_weights\\2024_05_27\\retriever_port_v2\")\n",
    "\n",
    "retriever.compile(optimizer=tf.keras.optimizers.Adagrad(learning_rate=0.1))\n"
   ]
  },
  {
   "cell_type": "code",
   "execution_count": null,
   "metadata": {},
   "outputs": [
    {
     "name": "stdout",
     "output_type": "stream",
     "text": [
      "WARNING:tensorflow:Detecting that an object or model or tf.train.Checkpoint is being deleted with unrestored values. See the following logs for the specific values in question. To silence these warnings, use `status.expect_partial()`. See https://www.tensorflow.org/api_docs/python/tf/train/Checkpoint#restorefor details about the status object returned by the restore function.\n",
      "WARNING:tensorflow:Value in checkpoint could not be found in the restored object: (root).optimizer.iter\n",
      "WARNING:tensorflow:Value in checkpoint could not be found in the restored object: (root).optimizer.decay\n",
      "WARNING:tensorflow:Value in checkpoint could not be found in the restored object: (root).optimizer.learning_rate\n"
     ]
    }
   ],
   "source": [
    "from ranker_recommender import Ranker\n",
    "\n",
    "ranker = Ranker(\n",
    "    loss = tf.keras.losses.MeanSquaredError(),\n",
    "    portfolios = portfolios\n",
    ")\n",
    "\n",
    "ranker.load_weights(r\"D:\\dev work\\recommender systems\\Atrad_CARS\\model_weights\\2024_05_27\\tf_listwise_ranking_2024_05_27_11_20\")\n",
    "ranker.compile(optimizer=tf.keras.optimizers.Adagrad(learning_rate=0.1))\n"
   ]
  },
  {
   "cell_type": "code",
   "execution_count": null,
   "metadata": {},
   "outputs": [],
   "source": [
    "stock_info_loc = r\"D:\\dev work\\recommender systems\\Atrad_CARS\\data\\stock_data.xlsx\""
   ]
  },
  {
   "cell_type": "code",
   "execution_count": null,
   "metadata": {},
   "outputs": [
    {
     "name": "stdout",
     "output_type": "stream",
     "text": [
      "items data shape :: (280, 3)\n"
     ]
    }
   ],
   "source": [
    "stock_info = pd.read_excel(stock_info_loc)\n",
    "stock_info = stock_info.drop(['Unnamed: 0','buisnesssummary'],axis = 1)\n",
    "stock_info = stock_info.rename(columns = {\n",
    "    'symbol':'STOCKCODE',\n",
    "    'name' : 'STOCKNAME',\n",
    "    'gics_code' : 'GICS'\n",
    "})\n",
    "stock_info = stock_info[~stock_info['GICS'].isna()]\n",
    "\n",
    "stock_info.shape\n",
    "print(\"items data shape :: {}\".format(stock_info.shape))\n",
    "\n",
    "items_ds = tf.data.Dataset.from_tensor_slices(stock_info.to_dict(orient= 'list'))"
   ]
  },
  {
   "cell_type": "markdown",
   "metadata": {},
   "source": [
    "# Retriever function"
   ]
  },
  {
   "cell_type": "code",
   "execution_count": null,
   "metadata": {},
   "outputs": [
    {
     "data": {
      "text/plain": [
       "TensorShape([280])"
      ]
     },
     "execution_count": 9,
     "metadata": {},
     "output_type": "execute_result"
    }
   ],
   "source": [
    "items_identiifiers = items_ds.map(lambda x: x[\"STOCKCODE\"])\n",
    "items_identiifiers = next(iter(items_identiifiers.batch(len(items_identiifiers))))\n",
    "items_identiifiers.shape"
   ]
  },
  {
   "cell_type": "code",
   "execution_count": null,
   "metadata": {},
   "outputs": [
    {
     "data": {
      "text/plain": [
       "<tensorflow_recommenders.layers.factorized_top_k.BruteForce at 0x26268c54a90>"
      ]
     },
     "execution_count": 54,
     "metadata": {},
     "output_type": "execute_result"
    }
   ],
   "source": [
    "index = tfrs.layers.factorized_top_k.BruteForce(\n",
    "    query_model = retriever.user_model,\n",
    "    k = 10)\n",
    "    \n",
    "retriever_item_model = retriever.item_model\n",
    "mapped_items = items_ds.batch(len(items_ds)).map(lambda x : retriever_item_model(x, map_ = True))\n",
    "\n",
    "mapped_items_tensor = next(iter(mapped_items))\n",
    "index.index(mapped_items_tensor, items_identiifiers)"
   ]
  },
  {
   "cell_type": "code",
   "execution_count": null,
   "metadata": {},
   "outputs": [
    {
     "data": {
      "text/plain": [
       "{'STOCKCODE': <tf.Tensor: shape=(), dtype=string, numpy=b'OSEA'>,\n",
       " 'CDSACCNO': <tf.Tensor: shape=(), dtype=string, numpy=b'HDF-40956-LI/00'>,\n",
       " 'RATING': <tf.Tensor: shape=(), dtype=float32, numpy=2.0>,\n",
       " 'STOCKNAME': <tf.Tensor: shape=(), dtype=string, numpy=b'OVERSEAS REALTY (CEYLON) PLC'>,\n",
       " 'GICS': <tf.Tensor: shape=(), dtype=string, numpy=b'Real Estate'>,\n",
       " 'UNIX_TS': <tf.Tensor: shape=(), dtype=float32, numpy=1663266600.0>}"
      ]
     },
     "execution_count": 55,
     "metadata": {},
     "output_type": "execute_result"
    }
   ],
   "source": [
    "next(iter(test_ds))"
   ]
  },
  {
   "cell_type": "code",
   "execution_count": null,
   "metadata": {},
   "outputs": [],
   "source": [
    "# a test user ID & timestamp examples\n",
    "\n",
    "test_user = str('RPS-797423181-VN/00')\n",
    "test_timestamp = 1664821800.0"
   ]
  },
  {
   "cell_type": "code",
   "execution_count": null,
   "metadata": {},
   "outputs": [
    {
     "data": {
      "text/plain": [
       "array([['HSIG', 'CARS', 'LMF', 'ASIR', 'HNBF', 'TJL', 'TAFL', 'RICH',\n",
       "        'RCL', 'LDEV', 'SIGV', 'CALT', 'AHUN', 'CIC', 'LFIN', 'DIPD',\n",
       "        'SHOT', 'LIOC', 'JKH', 'BIL', 'CONN', 'SHL', 'CHOT', 'MAL',\n",
       "        'COMB', 'SIRA', 'CITH', 'EDEN', 'AGST', 'HAYL', 'CTBL', 'RHTL',\n",
       "        'JINS', 'SAMP', 'TILE', 'SEYB', 'SINS', 'HOPL', 'KHL', 'ACL',\n",
       "        'MGT', 'DIST', 'FCT', 'PEG', 'EXPO', 'SCAP', 'CFVF', 'TRAN',\n",
       "        'HNB', 'KFP', 'JKL']], dtype=object)"
      ]
     },
     "execution_count": 78,
     "metadata": {},
     "output_type": "execute_result"
    }
   ],
   "source": [
    "seen_items = train_df.loc[train_df.CDSACCNO == test_user].STOCKCODE.values.reshape(1, -1)\n",
    "seen_items"
   ]
  },
  {
   "cell_type": "code",
   "execution_count": null,
   "metadata": {},
   "outputs": [
    {
     "name": "stdout",
     "output_type": "stream",
     "text": [
      "Recommendations for user RPS-797423181-VN/00: ['BBH', 'HSIG', 'MAL', 'JKL', 'SIGV', 'TAJ', 'LIOC', 'BALA', 'CARS', 'HOPL']\n"
     ]
    }
   ],
   "source": [
    "# including previously seen queries\n",
    "\n",
    "_, recommendations = index(\n",
    "    (\n",
    "        tf.constant([test_user]),\n",
    "        tf.constant([test_timestamp])\n",
    "        )\n",
    "    )\n",
    "\n",
    "recommendations = [reco.decode('utf-8') for reco in recommendations.numpy().flatten()]\n",
    "print(f\"Recommendations for user %s: {recommendations}\" %(test_user))\n",
    "# titles[0]"
   ]
  },
  {
   "cell_type": "code",
   "execution_count": null,
   "metadata": {},
   "outputs": [
    {
     "name": "stdout",
     "output_type": "stream",
     "text": [
      "Recommendations for user RPS-797423181-VN/00: ['BBH', 'TAJ', 'BALA', 'CABO', 'ABAN', 'DOCK', 'HAPU', 'STAF', 'MASK', 'CTLD']\n"
     ]
    }
   ],
   "source": [
    "# excluding previously seen items\n",
    "\n",
    "_, recommendations = index.query_with_exclusions(\n",
    "    queries = (\n",
    "        tf.constant([test_user]),\n",
    "        tf.constant([test_timestamp])\n",
    "        ),\n",
    "    exclusions = seen_items\n",
    "    )\n",
    "\n",
    "recommendations = [reco.decode('utf-8') for reco in recommendations.numpy().flatten()]\n",
    "print(f\"Recommendations for user %s: {recommendations}\" %(test_user))\n",
    "# titles[0]"
   ]
  },
  {
   "cell_type": "markdown",
   "metadata": {},
   "source": [
    "# Ranker function"
   ]
  },
  {
   "cell_type": "code",
   "execution_count": null,
   "metadata": {},
   "outputs": [
    {
     "data": {
      "text/html": [
       "<div>\n",
       "<style scoped>\n",
       "    .dataframe tbody tr th:only-of-type {\n",
       "        vertical-align: middle;\n",
       "    }\n",
       "\n",
       "    .dataframe tbody tr th {\n",
       "        vertical-align: top;\n",
       "    }\n",
       "\n",
       "    .dataframe thead th {\n",
       "        text-align: right;\n",
       "    }\n",
       "</style>\n",
       "<table border=\"1\" class=\"dataframe\">\n",
       "  <thead>\n",
       "    <tr style=\"text-align: right;\">\n",
       "      <th></th>\n",
       "      <th>STOCKCODE</th>\n",
       "      <th>STOCKNAME</th>\n",
       "      <th>GICS</th>\n",
       "    </tr>\n",
       "  </thead>\n",
       "  <tbody>\n",
       "    <tr>\n",
       "      <th>0</th>\n",
       "      <td>HBS</td>\n",
       "      <td>hSenid Business Solutions PLC</td>\n",
       "      <td>45103010 - Application Software</td>\n",
       "    </tr>\n",
       "    <tr>\n",
       "      <th>1</th>\n",
       "      <td>TYRE</td>\n",
       "      <td>KELANI TYRES PLC</td>\n",
       "      <td>Automobiles &amp; Components</td>\n",
       "    </tr>\n",
       "  </tbody>\n",
       "</table>\n",
       "</div>"
      ],
      "text/plain": [
       "  STOCKCODE                      STOCKNAME                             GICS\n",
       "0       HBS  hSenid Business Solutions PLC  45103010 - Application Software\n",
       "1      TYRE               KELANI TYRES PLC         Automobiles & Components"
      ]
     },
     "execution_count": 80,
     "metadata": {},
     "output_type": "execute_result"
    }
   ],
   "source": [
    "stock_info.head(2)"
   ]
  },
  {
   "cell_type": "code",
   "execution_count": null,
   "metadata": {},
   "outputs": [],
   "source": [
    "code2name = dict(zip(stock_info.STOCKCODE, stock_info.STOCKNAME))\n",
    "code2gics = dict(zip(stock_info.STOCKCODE, stock_info.GICS))"
   ]
  },
  {
   "cell_type": "code",
   "execution_count": null,
   "metadata": {},
   "outputs": [],
   "source": [
    "names = np.array([code2name[code] for code in recommendations])\n",
    "gics = np.array([code2gics[code] for code in recommendations])"
   ]
  },
  {
   "cell_type": "code",
   "execution_count": null,
   "metadata": {},
   "outputs": [],
   "source": [
    "user = {\n",
    "    'CDSACCNO' : np.array([test_user]),\n",
    "    'STOCKCODE' : np.array(recommendations).reshape(-1,10),\n",
    "    'GICS' : gics.reshape(-1,10),\n",
    "    'STOCKNAME' : names.reshape(-1,10)\n",
    "    }"
   ]
  },
  {
   "cell_type": "code",
   "execution_count": null,
   "metadata": {},
   "outputs": [
    {
     "data": {
      "text/plain": [
       "array([1.0077842, 1.3442278, 1.9428025, 0.9984654, 3.0367675, 2.330201 ,\n",
       "       0.9909103, 1.8309041, 2.17702  , 1.4371008], dtype=float32)"
      ]
     },
     "execution_count": 86,
     "metadata": {},
     "output_type": "execute_result"
    }
   ],
   "source": [
    "pred_ratings = ranker(user)\n",
    "pred_ratings.numpy().flatten()"
   ]
  },
  {
   "cell_type": "code",
   "execution_count": null,
   "metadata": {},
   "outputs": [
    {
     "data": {
      "text/html": [
       "<div>\n",
       "<style scoped>\n",
       "    .dataframe tbody tr th:only-of-type {\n",
       "        vertical-align: middle;\n",
       "    }\n",
       "\n",
       "    .dataframe tbody tr th {\n",
       "        vertical-align: top;\n",
       "    }\n",
       "\n",
       "    .dataframe thead th {\n",
       "        text-align: right;\n",
       "    }\n",
       "</style>\n",
       "<table border=\"1\" class=\"dataframe\">\n",
       "  <thead>\n",
       "    <tr style=\"text-align: right;\">\n",
       "      <th></th>\n",
       "      <th>STOCKCODE</th>\n",
       "      <th>PRED_RATING</th>\n",
       "    </tr>\n",
       "  </thead>\n",
       "  <tbody>\n",
       "    <tr>\n",
       "      <th>4</th>\n",
       "      <td>ABAN</td>\n",
       "      <td>3.036767</td>\n",
       "    </tr>\n",
       "    <tr>\n",
       "      <th>5</th>\n",
       "      <td>DOCK</td>\n",
       "      <td>2.330201</td>\n",
       "    </tr>\n",
       "    <tr>\n",
       "      <th>8</th>\n",
       "      <td>MASK</td>\n",
       "      <td>2.177020</td>\n",
       "    </tr>\n",
       "    <tr>\n",
       "      <th>2</th>\n",
       "      <td>BALA</td>\n",
       "      <td>1.942803</td>\n",
       "    </tr>\n",
       "    <tr>\n",
       "      <th>7</th>\n",
       "      <td>STAF</td>\n",
       "      <td>1.830904</td>\n",
       "    </tr>\n",
       "    <tr>\n",
       "      <th>9</th>\n",
       "      <td>CTLD</td>\n",
       "      <td>1.437101</td>\n",
       "    </tr>\n",
       "    <tr>\n",
       "      <th>1</th>\n",
       "      <td>TAJ</td>\n",
       "      <td>1.344228</td>\n",
       "    </tr>\n",
       "    <tr>\n",
       "      <th>0</th>\n",
       "      <td>BBH</td>\n",
       "      <td>1.007784</td>\n",
       "    </tr>\n",
       "    <tr>\n",
       "      <th>3</th>\n",
       "      <td>CABO</td>\n",
       "      <td>0.998465</td>\n",
       "    </tr>\n",
       "    <tr>\n",
       "      <th>6</th>\n",
       "      <td>HAPU</td>\n",
       "      <td>0.990910</td>\n",
       "    </tr>\n",
       "  </tbody>\n",
       "</table>\n",
       "</div>"
      ],
      "text/plain": [
       "  STOCKCODE  PRED_RATING\n",
       "4      ABAN     3.036767\n",
       "5      DOCK     2.330201\n",
       "8      MASK     2.177020\n",
       "2      BALA     1.942803\n",
       "7      STAF     1.830904\n",
       "9      CTLD     1.437101\n",
       "1       TAJ     1.344228\n",
       "0       BBH     1.007784\n",
       "3      CABO     0.998465\n",
       "6      HAPU     0.990910"
      ]
     },
     "execution_count": 87,
     "metadata": {},
     "output_type": "execute_result"
    }
   ],
   "source": [
    "recommendations_w_ratings = pd.DataFrame()\n",
    "recommendations_w_ratings['STOCKCODE'] = recommendations\n",
    "recommendations_w_ratings['PRED_RATING'] = pred_ratings.numpy().flatten()\n",
    "recommendations_w_ratings = recommendations_w_ratings.sort_values( by = ['PRED_RATING'], ascending= False)\n",
    "recommendations_w_ratings"
   ]
  },
  {
   "cell_type": "markdown",
   "metadata": {},
   "source": [
    "# complete recommender function"
   ]
  },
  {
   "cell_type": "code",
   "execution_count": null,
   "metadata": {},
   "outputs": [],
   "source": [
    "def recommend_(CDSACCNO, timestamp = 1664821800.0):\n",
    "\n",
    "    seen_items = train_df.loc[train_df.CDSACCNO == CDSACCNO].STOCKCODE.values.reshape(1, -1)\n",
    "\n",
    "    \n",
    "    _, recommendations = index.query_with_exclusions(\n",
    "    queries = (\n",
    "        tf.constant([CDSACCNO]),\n",
    "        tf.constant([timestamp])\n",
    "        ),\n",
    "    exclusions = seen_items\n",
    "    )\n",
    "\n",
    "    recommendations = [reco.decode('utf-8') for reco in recommendations.numpy().flatten()]\n",
    "    # print(f\"Recommendations for user %s: {recommendations}\" %(test_user))\n",
    "\n",
    "    user = {\n",
    "    'CDSACCNO' : np.array([CDSACCNO]),\n",
    "    'STOCKCODE' : np.array(recommendations).reshape(-1,10),\n",
    "    'GICS' : gics.reshape(-1,10),\n",
    "    'STOCKNAME' : names.reshape(-1,10)\n",
    "    }\n",
    "\n",
    "    pred_ratings = ranker(user)\n",
    "\n",
    "    recommendations_w_ratings = pd.DataFrame()\n",
    "    recommendations_w_ratings['STOCKCODE'] = recommendations\n",
    "    recommendations_w_ratings['PRED_RATING'] = pred_ratings.numpy().flatten()\n",
    "    recommendations_w_ratings = recommendations_w_ratings.sort_values( by = ['PRED_RATING'], ascending= False).reset_index(drop = True)\n",
    "\n",
    "    user_test_port_ = test_df.iloc[test_users_.groups[CDSACCNO]].sort_values('RATING', ascending = False)\n",
    "    recommendations_w_ratings = recommendations_w_ratings.join(user_test_port_.set_index('STOCKCODE'), on = 'STOCKCODE')[['STOCKCODE','PRED_RATING','RATING']]\n",
    "    \n",
    "    return recommendations_w_ratings\n"
   ]
  },
  {
   "cell_type": "code",
   "execution_count": null,
   "metadata": {},
   "outputs": [
    {
     "name": "stdout",
     "output_type": "stream",
     "text": [
      "HDF-811281298-VN/00\n"
     ]
    },
    {
     "ename": "KeyError",
     "evalue": "'HDF-811281298-VN/00'",
     "output_type": "error",
     "traceback": [
      "\u001b[1;31m---------------------------------------------------------------------------\u001b[0m",
      "\u001b[1;31mKeyError\u001b[0m                                  Traceback (most recent call last)",
      "Cell \u001b[1;32mIn[268], line 6\u001b[0m\n\u001b[0;32m      4\u001b[0m test_timestamp \u001b[38;5;241m=\u001b[39m \u001b[38;5;241m1664821800.0\u001b[39m\n\u001b[0;32m      5\u001b[0m \u001b[38;5;28mprint\u001b[39m(test_user)\n\u001b[1;32m----> 6\u001b[0m \u001b[43mrecommend_\u001b[49m\u001b[43m(\u001b[49m\u001b[43mtest_user\u001b[49m\u001b[43m,\u001b[49m\u001b[43m \u001b[49m\u001b[43mtest_timestamp\u001b[49m\u001b[43m)\u001b[49m\n",
      "Cell \u001b[1;32mIn[234], line 31\u001b[0m, in \u001b[0;36mrecommend_\u001b[1;34m(CDSACCNO, timestamp)\u001b[0m\n\u001b[0;32m     28\u001b[0m recommendations_w_ratings[\u001b[38;5;124m'\u001b[39m\u001b[38;5;124mPRED_RATING\u001b[39m\u001b[38;5;124m'\u001b[39m] \u001b[38;5;241m=\u001b[39m pred_ratings\u001b[38;5;241m.\u001b[39mnumpy()\u001b[38;5;241m.\u001b[39mflatten()\n\u001b[0;32m     29\u001b[0m recommendations_w_ratings \u001b[38;5;241m=\u001b[39m recommendations_w_ratings\u001b[38;5;241m.\u001b[39msort_values( by \u001b[38;5;241m=\u001b[39m [\u001b[38;5;124m'\u001b[39m\u001b[38;5;124mPRED_RATING\u001b[39m\u001b[38;5;124m'\u001b[39m], ascending\u001b[38;5;241m=\u001b[39m \u001b[38;5;28;01mFalse\u001b[39;00m)\u001b[38;5;241m.\u001b[39mreset_index(drop \u001b[38;5;241m=\u001b[39m \u001b[38;5;28;01mTrue\u001b[39;00m)\n\u001b[1;32m---> 31\u001b[0m user_test_port_ \u001b[38;5;241m=\u001b[39m test_df\u001b[38;5;241m.\u001b[39miloc[\u001b[43mtest_users_\u001b[49m\u001b[38;5;241;43m.\u001b[39;49m\u001b[43mgroups\u001b[49m\u001b[43m[\u001b[49m\u001b[43mCDSACCNO\u001b[49m\u001b[43m]\u001b[49m]\u001b[38;5;241m.\u001b[39msort_values(\u001b[38;5;124m'\u001b[39m\u001b[38;5;124mRATING\u001b[39m\u001b[38;5;124m'\u001b[39m, ascending \u001b[38;5;241m=\u001b[39m \u001b[38;5;28;01mFalse\u001b[39;00m)\n\u001b[0;32m     32\u001b[0m recommendations_w_ratings \u001b[38;5;241m=\u001b[39m recommendations_w_ratings\u001b[38;5;241m.\u001b[39mjoin(user_test_port_\u001b[38;5;241m.\u001b[39mset_index(\u001b[38;5;124m'\u001b[39m\u001b[38;5;124mSTOCKCODE\u001b[39m\u001b[38;5;124m'\u001b[39m), on \u001b[38;5;241m=\u001b[39m \u001b[38;5;124m'\u001b[39m\u001b[38;5;124mSTOCKCODE\u001b[39m\u001b[38;5;124m'\u001b[39m)[[\u001b[38;5;124m'\u001b[39m\u001b[38;5;124mSTOCKCODE\u001b[39m\u001b[38;5;124m'\u001b[39m,\u001b[38;5;124m'\u001b[39m\u001b[38;5;124mPRED_RATING\u001b[39m\u001b[38;5;124m'\u001b[39m,\u001b[38;5;124m'\u001b[39m\u001b[38;5;124mRATING\u001b[39m\u001b[38;5;124m'\u001b[39m]]\n\u001b[0;32m     34\u001b[0m \u001b[38;5;28;01mreturn\u001b[39;00m recommendations_w_ratings\n",
      "\u001b[1;31mKeyError\u001b[0m: 'HDF-811281298-VN/00'"
     ]
    }
   ],
   "source": [
    "import random\n",
    "\n",
    "test_user = random.choice(train_df.CDSACCNO.unique())\n",
    "test_timestamp = 1664821800.0\n",
    "print(test_user)\n",
    "recommend_(test_user, test_timestamp)"
   ]
  },
  {
   "cell_type": "code",
   "execution_count": null,
   "metadata": {},
   "outputs": [],
   "source": [
    "test_users_ = test_df.groupby('CDSACCNO')\n",
    "train_users_ = train_df.groupby('CDSACCNO')"
   ]
  },
  {
   "cell_type": "code",
   "execution_count": null,
   "metadata": {},
   "outputs": [],
   "source": [
    "name = 'SBL-762412608-VN/00'"
   ]
  },
  {
   "cell_type": "code",
   "execution_count": null,
   "metadata": {},
   "outputs": [
    {
     "data": {
      "text/html": [
       "<div>\n",
       "<style scoped>\n",
       "    .dataframe tbody tr th:only-of-type {\n",
       "        vertical-align: middle;\n",
       "    }\n",
       "\n",
       "    .dataframe tbody tr th {\n",
       "        vertical-align: top;\n",
       "    }\n",
       "\n",
       "    .dataframe thead th {\n",
       "        text-align: right;\n",
       "    }\n",
       "</style>\n",
       "<table border=\"1\" class=\"dataframe\">\n",
       "  <thead>\n",
       "    <tr style=\"text-align: right;\">\n",
       "      <th></th>\n",
       "      <th>CDSACCNO</th>\n",
       "      <th>STOCKCODE</th>\n",
       "      <th>STOCKNAME</th>\n",
       "      <th>GICS</th>\n",
       "      <th>UNIX_TS</th>\n",
       "      <th>RATING</th>\n",
       "    </tr>\n",
       "  </thead>\n",
       "  <tbody>\n",
       "    <tr>\n",
       "      <th>2594</th>\n",
       "      <td>SBL-762412608-VN/00</td>\n",
       "      <td>LIOC</td>\n",
       "      <td>LANKA IOC PLC</td>\n",
       "      <td>Energy</td>\n",
       "      <td>1.692729e+09</td>\n",
       "      <td>4.0</td>\n",
       "    </tr>\n",
       "    <tr>\n",
       "      <th>4</th>\n",
       "      <td>SBL-762412608-VN/00</td>\n",
       "      <td>CINS</td>\n",
       "      <td>CEYLINCO INSURANCE PLC</td>\n",
       "      <td>Insurance</td>\n",
       "      <td>1.704911e+09</td>\n",
       "      <td>3.0</td>\n",
       "    </tr>\n",
       "    <tr>\n",
       "      <th>14747</th>\n",
       "      <td>SBL-762412608-VN/00</td>\n",
       "      <td>HHL</td>\n",
       "      <td>HEMAS HOLDINGS PLC</td>\n",
       "      <td>Capital Goods</td>\n",
       "      <td>1.686595e+09</td>\n",
       "      <td>3.0</td>\n",
       "    </tr>\n",
       "    <tr>\n",
       "      <th>15204</th>\n",
       "      <td>SBL-762412608-VN/00</td>\n",
       "      <td>TJL</td>\n",
       "      <td>TEEJAY LANKA PLC</td>\n",
       "      <td>Consumer Durables &amp; Apparel</td>\n",
       "      <td>1.683830e+09</td>\n",
       "      <td>2.0</td>\n",
       "    </tr>\n",
       "  </tbody>\n",
       "</table>\n",
       "</div>"
      ],
      "text/plain": [
       "                  CDSACCNO STOCKCODE               STOCKNAME  \\\n",
       "2594   SBL-762412608-VN/00      LIOC           LANKA IOC PLC   \n",
       "4      SBL-762412608-VN/00      CINS  CEYLINCO INSURANCE PLC   \n",
       "14747  SBL-762412608-VN/00       HHL      HEMAS HOLDINGS PLC   \n",
       "15204  SBL-762412608-VN/00       TJL        TEEJAY LANKA PLC   \n",
       "\n",
       "                              GICS       UNIX_TS  RATING  \n",
       "2594                        Energy  1.692729e+09     4.0  \n",
       "4                        Insurance  1.704911e+09     3.0  \n",
       "14747                Capital Goods  1.686595e+09     3.0  \n",
       "15204  Consumer Durables & Apparel  1.683830e+09     2.0  "
      ]
     },
     "execution_count": 124,
     "metadata": {},
     "output_type": "execute_result"
    }
   ],
   "source": [
    "user_test_port_ = test_df.iloc[test_users_.groups[name]].sort_values('RATING', ascending = False)\n",
    "user_test_port_"
   ]
  },
  {
   "cell_type": "code",
   "execution_count": null,
   "metadata": {},
   "outputs": [],
   "source": [
    "user_train_port_ = train_df.iloc[train_users_.groups[name]].sort_values('RATING', ascending = False)\n",
    "# user_train_port_"
   ]
  },
  {
   "cell_type": "code",
   "execution_count": null,
   "metadata": {},
   "outputs": [
    {
     "data": {
      "text/html": [
       "<div>\n",
       "<style scoped>\n",
       "    .dataframe tbody tr th:only-of-type {\n",
       "        vertical-align: middle;\n",
       "    }\n",
       "\n",
       "    .dataframe tbody tr th {\n",
       "        vertical-align: top;\n",
       "    }\n",
       "\n",
       "    .dataframe thead th {\n",
       "        text-align: right;\n",
       "    }\n",
       "</style>\n",
       "<table border=\"1\" class=\"dataframe\">\n",
       "  <thead>\n",
       "    <tr style=\"text-align: right;\">\n",
       "      <th></th>\n",
       "      <th>STOCKCODE</th>\n",
       "      <th>PRED_RATING</th>\n",
       "    </tr>\n",
       "  </thead>\n",
       "  <tbody>\n",
       "    <tr>\n",
       "      <th>8</th>\n",
       "      <td>CWM</td>\n",
       "      <td>3.386832</td>\n",
       "    </tr>\n",
       "    <tr>\n",
       "      <th>0</th>\n",
       "      <td>NEST</td>\n",
       "      <td>2.693880</td>\n",
       "    </tr>\n",
       "    <tr>\n",
       "      <th>7</th>\n",
       "      <td>TAFL</td>\n",
       "      <td>2.606198</td>\n",
       "    </tr>\n",
       "    <tr>\n",
       "      <th>6</th>\n",
       "      <td>CTC</td>\n",
       "      <td>2.532045</td>\n",
       "    </tr>\n",
       "    <tr>\n",
       "      <th>2</th>\n",
       "      <td>LLUB</td>\n",
       "      <td>2.517207</td>\n",
       "    </tr>\n",
       "    <tr>\n",
       "      <th>5</th>\n",
       "      <td>UCAR</td>\n",
       "      <td>2.477804</td>\n",
       "    </tr>\n",
       "    <tr>\n",
       "      <th>9</th>\n",
       "      <td>CARE</td>\n",
       "      <td>2.232112</td>\n",
       "    </tr>\n",
       "    <tr>\n",
       "      <th>1</th>\n",
       "      <td>KGAL</td>\n",
       "      <td>1.959322</td>\n",
       "    </tr>\n",
       "    <tr>\n",
       "      <th>3</th>\n",
       "      <td>LWL</td>\n",
       "      <td>1.746278</td>\n",
       "    </tr>\n",
       "    <tr>\n",
       "      <th>4</th>\n",
       "      <td>LCEY</td>\n",
       "      <td>1.658396</td>\n",
       "    </tr>\n",
       "  </tbody>\n",
       "</table>\n",
       "</div>"
      ],
      "text/plain": [
       "  STOCKCODE  PRED_RATING\n",
       "8       CWM     3.386832\n",
       "0      NEST     2.693880\n",
       "7      TAFL     2.606198\n",
       "6       CTC     2.532045\n",
       "2      LLUB     2.517207\n",
       "5      UCAR     2.477804\n",
       "9      CARE     2.232112\n",
       "1      KGAL     1.959322\n",
       "3       LWL     1.746278\n",
       "4      LCEY     1.658396"
      ]
     },
     "execution_count": 115,
     "metadata": {},
     "output_type": "execute_result"
    }
   ],
   "source": [
    "recommendations_ = recommend_(name, test_timestamp)\n",
    "recommendations_"
   ]
  },
  {
   "cell_type": "code",
   "execution_count": null,
   "metadata": {},
   "outputs": [
    {
     "data": {
      "text/plain": [
       "STOCKCODE          UCAR\n",
       "PRED_RATING    2.477804\n",
       "Name: 5, dtype: object"
      ]
     },
     "execution_count": 116,
     "metadata": {},
     "output_type": "execute_result"
    }
   ],
   "source": [
    "recommendations_.iloc[5]"
   ]
  },
  {
   "cell_type": "code",
   "execution_count": null,
   "metadata": {},
   "outputs": [
    {
     "data": {
      "text/html": [
       "<div>\n",
       "<style scoped>\n",
       "    .dataframe tbody tr th:only-of-type {\n",
       "        vertical-align: middle;\n",
       "    }\n",
       "\n",
       "    .dataframe tbody tr th {\n",
       "        vertical-align: top;\n",
       "    }\n",
       "\n",
       "    .dataframe thead th {\n",
       "        text-align: right;\n",
       "    }\n",
       "</style>\n",
       "<table border=\"1\" class=\"dataframe\">\n",
       "  <thead>\n",
       "    <tr style=\"text-align: right;\">\n",
       "      <th></th>\n",
       "      <th>STOCKCODE</th>\n",
       "      <th>PRED_RATING</th>\n",
       "      <th>CDSACCNO</th>\n",
       "      <th>STOCKNAME</th>\n",
       "      <th>GICS</th>\n",
       "      <th>UNIX_TS</th>\n",
       "      <th>RATING</th>\n",
       "    </tr>\n",
       "  </thead>\n",
       "  <tbody>\n",
       "    <tr>\n",
       "      <th>8</th>\n",
       "      <td>CWM</td>\n",
       "      <td>3.386832</td>\n",
       "      <td>NaN</td>\n",
       "      <td>NaN</td>\n",
       "      <td>NaN</td>\n",
       "      <td>NaN</td>\n",
       "      <td>NaN</td>\n",
       "    </tr>\n",
       "    <tr>\n",
       "      <th>0</th>\n",
       "      <td>NEST</td>\n",
       "      <td>2.693880</td>\n",
       "      <td>NaN</td>\n",
       "      <td>NaN</td>\n",
       "      <td>NaN</td>\n",
       "      <td>NaN</td>\n",
       "      <td>NaN</td>\n",
       "    </tr>\n",
       "    <tr>\n",
       "      <th>7</th>\n",
       "      <td>TAFL</td>\n",
       "      <td>2.606198</td>\n",
       "      <td>NaN</td>\n",
       "      <td>NaN</td>\n",
       "      <td>NaN</td>\n",
       "      <td>NaN</td>\n",
       "      <td>NaN</td>\n",
       "    </tr>\n",
       "    <tr>\n",
       "      <th>6</th>\n",
       "      <td>CTC</td>\n",
       "      <td>2.532045</td>\n",
       "      <td>NaN</td>\n",
       "      <td>NaN</td>\n",
       "      <td>NaN</td>\n",
       "      <td>NaN</td>\n",
       "      <td>NaN</td>\n",
       "    </tr>\n",
       "    <tr>\n",
       "      <th>2</th>\n",
       "      <td>LLUB</td>\n",
       "      <td>2.517207</td>\n",
       "      <td>NaN</td>\n",
       "      <td>NaN</td>\n",
       "      <td>NaN</td>\n",
       "      <td>NaN</td>\n",
       "      <td>NaN</td>\n",
       "    </tr>\n",
       "    <tr>\n",
       "      <th>5</th>\n",
       "      <td>UCAR</td>\n",
       "      <td>2.477804</td>\n",
       "      <td>NaN</td>\n",
       "      <td>NaN</td>\n",
       "      <td>NaN</td>\n",
       "      <td>NaN</td>\n",
       "      <td>NaN</td>\n",
       "    </tr>\n",
       "    <tr>\n",
       "      <th>9</th>\n",
       "      <td>CARE</td>\n",
       "      <td>2.232112</td>\n",
       "      <td>NaN</td>\n",
       "      <td>NaN</td>\n",
       "      <td>NaN</td>\n",
       "      <td>NaN</td>\n",
       "      <td>NaN</td>\n",
       "    </tr>\n",
       "    <tr>\n",
       "      <th>1</th>\n",
       "      <td>KGAL</td>\n",
       "      <td>1.959322</td>\n",
       "      <td>NaN</td>\n",
       "      <td>NaN</td>\n",
       "      <td>NaN</td>\n",
       "      <td>NaN</td>\n",
       "      <td>NaN</td>\n",
       "    </tr>\n",
       "    <tr>\n",
       "      <th>3</th>\n",
       "      <td>LWL</td>\n",
       "      <td>1.746278</td>\n",
       "      <td>NaN</td>\n",
       "      <td>NaN</td>\n",
       "      <td>NaN</td>\n",
       "      <td>NaN</td>\n",
       "      <td>NaN</td>\n",
       "    </tr>\n",
       "    <tr>\n",
       "      <th>4</th>\n",
       "      <td>LCEY</td>\n",
       "      <td>1.658396</td>\n",
       "      <td>NaN</td>\n",
       "      <td>NaN</td>\n",
       "      <td>NaN</td>\n",
       "      <td>NaN</td>\n",
       "      <td>NaN</td>\n",
       "    </tr>\n",
       "  </tbody>\n",
       "</table>\n",
       "</div>"
      ],
      "text/plain": [
       "  STOCKCODE  PRED_RATING CDSACCNO STOCKNAME GICS  UNIX_TS  RATING\n",
       "8       CWM     3.386832      NaN       NaN  NaN      NaN     NaN\n",
       "0      NEST     2.693880      NaN       NaN  NaN      NaN     NaN\n",
       "7      TAFL     2.606198      NaN       NaN  NaN      NaN     NaN\n",
       "6       CTC     2.532045      NaN       NaN  NaN      NaN     NaN\n",
       "2      LLUB     2.517207      NaN       NaN  NaN      NaN     NaN\n",
       "5      UCAR     2.477804      NaN       NaN  NaN      NaN     NaN\n",
       "9      CARE     2.232112      NaN       NaN  NaN      NaN     NaN\n",
       "1      KGAL     1.959322      NaN       NaN  NaN      NaN     NaN\n",
       "3       LWL     1.746278      NaN       NaN  NaN      NaN     NaN\n",
       "4      LCEY     1.658396      NaN       NaN  NaN      NaN     NaN"
      ]
     },
     "execution_count": 123,
     "metadata": {},
     "output_type": "execute_result"
    }
   ],
   "source": [
    "recommendations_.join(user_test_port_.set_index('STOCKCODE'), on = 'STOCKCODE')"
   ]
  },
  {
   "cell_type": "code",
   "execution_count": null,
   "metadata": {},
   "outputs": [],
   "source": []
  }
 ],
 "metadata": {
  "kernelspec": {
   "display_name": "atrad_cars_v2",
   "language": "python",
   "name": "python3"
  },
  "language_info": {
   "codemirror_mode": {
    "name": "ipython",
    "version": 3
   },
   "file_extension": ".py",
   "mimetype": "text/x-python",
   "name": "python",
   "nbconvert_exporter": "python",
   "pygments_lexer": "ipython3",
   "version": "3.9.19"
  }
 },
 "nbformat": 4,
 "nbformat_minor": 2
}
